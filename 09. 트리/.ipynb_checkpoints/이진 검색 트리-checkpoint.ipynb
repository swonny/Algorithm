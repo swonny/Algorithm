{
 "cells": [
  {
   "cell_type": "markdown",
   "id": "13098ee2",
   "metadata": {},
   "source": [
    "# 이진 검색 트리"
   ]
  },
  {
   "cell_type": "markdown",
   "id": "e01bf9f2",
   "metadata": {},
   "source": [
    "### 이진 검색 트리 구현\n",
    "\n",
    "**[구현 기능]**\n",
    "1. 노드 클래스\n",
    "2. 트리 클래스\n",
    "3. search() 함수\n",
    "4. add() 함수\n",
    "5. remove() 함수\n",
    "6. dump() 함수 (모든 노드 출력)"
   ]
  },
  {
   "cell_type": "markdown",
   "id": "9736a2e6",
   "metadata": {},
   "source": [
    "### 노드 구성 요소\n",
    "- key\n",
    "- value\n",
    "- left : 왼쪽 자식\n",
    "- right : 오른쪽 자식"
   ]
  },
  {
   "cell_type": "code",
   "execution_count": 2,
   "id": "a6652437",
   "metadata": {},
   "outputs": [],
   "source": [
    "# 책 방식\n",
    "\n",
    "class Node:\n",
    "    \"\"\"노드\"\"\"\n",
    "    def __init__(self, key, value, left, right):\n",
    "        self.key = key\n",
    "        self.value = value\n",
    "        self.left = left\n",
    "        self.right = right\n",
    "\n",
    "class BinarySearchTree:\n",
    "    \"\"\"이진 검색 트리\"\"\"\n",
    "    def __init__(self):\n",
    "        self.root = None\n",
    "        self.n = 0 # 노드 개수"
   ]
  },
  {
   "cell_type": "code",
   "execution_count": 3,
   "id": "9ba3adb9",
   "metadata": {},
   "outputs": [],
   "source": [
    "# 내 방식\n",
    "\n",
    "class Node:\n",
    "    \"\"\"노드\"\"\"\n",
    "    def __init__(self, key, value):\n",
    "        self.key = key\n",
    "        self.value = value\n",
    "        self.left = None\n",
    "        self.right = None\n",
    "\n",
    "class BinarySearchTree:\n",
    "    \"\"\"이진 검색 트리\"\"\"\n",
    "    def __init__(self):\n",
    "        self.root = None\n",
    "        self.n = 0 # 노드 개수"
   ]
  },
  {
   "cell_type": "markdown",
   "id": "cf22606e",
   "metadata": {},
   "source": [
    "### search() 함수"
   ]
  },
  {
   "cell_type": "markdown",
   "id": "45156eb1",
   "metadata": {},
   "source": [
    "**[알고리즘]**<br/>\n",
    "이진 탐색과 유사하다. 중간값을 기준으로 양 옆으로 데이터가 분산되어 있기 때문이다.\n",
    "\n",
    "1. root부터 시작한다.\n",
    "2. root보다 작으면 왼쪽으로, 크면 오른쪽으로 이동하여 찾는다."
   ]
  },
  {
   "cell_type": "code",
   "execution_count": 5,
   "id": "027d9489",
   "metadata": {},
   "outputs": [],
   "source": [
    "class Node:\n",
    "    \"\"\"노드\"\"\"\n",
    "    def __init__(self, key, value):\n",
    "        self.key = key\n",
    "        self.value = value\n",
    "        self.left = None\n",
    "        self.right = None\n",
    "\n",
    "class BinarySearchTree:\n",
    "    \"\"\"이진 검색 트리\"\"\"\n",
    "    def __init__(self):\n",
    "        self.root = None\n",
    "        self.n = 0 # 노드 개수\n",
    "        \n",
    "    \"\"\"추가된 부분 ↓\"\"\"        \n",
    "    def search(key: int):\n",
    "        \"\"\"key 값을 찾는 원소\"\"\"\n",
    "        cur = self.root\n",
    "        while True:\n",
    "            if cur == None:\n",
    "                return None\n",
    "            if cur.value == key:\n",
    "                return cur.key\n",
    "            cur = cur.right if cur.value > key else cur.left"
   ]
  },
  {
   "cell_type": "markdown",
   "id": "5f7190fe",
   "metadata": {},
   "source": [
    "### add() 함수\n",
    "\n",
    "**[알고리즘]**<br/>\n",
    "1. 삽입하는 노드를 root 위치에 삽입한다.\n",
    "2. 루트부터 시작하여 알맞은 위치로 이동시킨다."
   ]
  },
  {
   "cell_type": "code",
   "execution_count": 35,
   "id": "08f9addf",
   "metadata": {},
   "outputs": [],
   "source": [
    "class Node:\n",
    "    \"\"\"노드\"\"\"\n",
    "    def __init__(self, value):\n",
    "#         self.key = key\n",
    "        self.value = value\n",
    "        self.left = None\n",
    "        self.right = None\n",
    "\n",
    "class BinarySearchTree:\n",
    "    \"\"\"이진 검색 트리\"\"\"\n",
    "    def __init__(self):\n",
    "        self.root = None\n",
    "        self.n = 0 # 노드 개수\n",
    "        \n",
    "    def search(key: int):\n",
    "        \"\"\"key 값을 찾는 원소\"\"\"\n",
    "        cur = self.root\n",
    "        while True:\n",
    "            if cur == None:\n",
    "                return None\n",
    "            if cur.value == key:\n",
    "                return cur.key\n",
    "            cur = cur.right if cur.value > key else cur.left\n",
    "            \n",
    "    \"\"\"추가된 부분 ↓\"\"\"      \n",
    "    def add(self, value: int):\n",
    "        \n",
    "        def add_node(node, value) -> None:\n",
    "            if key == node.key:\n",
    "                return False\n",
    "            elif key < node.key:\n",
    "                if node.left is None:\n",
    "                    node.left = Node(value)\n",
    "                else:\n",
    "                    add_node(node.left, value)\n",
    "            else:\n",
    "                if node.right is None:\n",
    "                    node.right = Node(value, None)\n",
    "                else:\n",
    "                    add_node(node.right, value)\n",
    "            return True\n",
    "        if self.root is None:\n",
    "            self.root = Node(value)\n",
    "            return True\n",
    "        else:\n",
    "            return add_node(self.root, value)"
   ]
  },
  {
   "cell_type": "markdown",
   "id": "ed2e78d1",
   "metadata": {},
   "source": [
    "### 노드를 삭제하는 remove() 함수\n",
    "\n",
    "노드를 삭제하는 세 가지 경우<br/>\n",
    "```1. 자식 노드가 없는 노드를 삭제하는 경우```<br/>\n",
    "```2. 자식 노드가 1개인 노드를 삭제하는 경우```<br/>\n",
    "```3. 자식 노드가 2개인 노드를 삭제하는 경우```<br/>\n",
    "\n",
    "\n",
    "#### 1. 자식 노드가 없는 노드를 삭제하는 경우\n",
    "그냥 삭제를 진행하면 된다. 이때 노드의 삭제는 삭제할 노드의 부모 노드가 가리키는 자식 포인터를 None으로 업데이트하면 된다.\n",
    "\n",
    "#### 2. 자식 노드가 1개인 노드를 삭제하는 경우\n",
    "부모 노드가 삭제할 노드의 자식노드를 가리키도록 포인터를 연결하면 된다.\n",
    "\n",
    "#### 3. 자식 노드가 2개인 노드를 삭제하는 경우\n",
    "1. 삭제할 노드의 왼쪽 서브트리에서 키값이 가장 큰 노드를 검색한다.\n",
    "    - 루트를 기준으로 왼쪽 서브트리 중에서는 가장 크고, 오른쪽 서브트리 중에서는 가장 작아야하는 조건에 딱 맞기 때문이다.\n",
    "2. 검색한 노드를 삭제할 노드의 위치로 옮긴다. (즉, 검색한 노드의 값을 삭제할 노드의 위치의 값에 복사한다.)\n",
    "3. 원래 검색한 노드의 위치에 있는 노드를 삭제한다.\n",
    "    - 만약 노드의 자식이 없다면 노드 삭제 세 가지 경우 중 1번과 같은 방법으로 삭제한다.\n",
    "    - 자식이 1개라면 노드 삭제 세 가지 경우 중  2번과 같은 방법으로 삭제한다."
   ]
  },
  {
   "cell_type": "code",
   "execution_count": null,
   "id": "9ef3c602",
   "metadata": {},
   "outputs": [],
   "source": []
  }
 ],
 "metadata": {
  "kernelspec": {
   "display_name": "Python 3 (ipykernel)",
   "language": "python",
   "name": "python3"
  },
  "language_info": {
   "codemirror_mode": {
    "name": "ipython",
    "version": 3
   },
   "file_extension": ".py",
   "mimetype": "text/x-python",
   "name": "python",
   "nbconvert_exporter": "python",
   "pygments_lexer": "ipython3",
   "version": "3.10.3"
  }
 },
 "nbformat": 4,
 "nbformat_minor": 5
}
