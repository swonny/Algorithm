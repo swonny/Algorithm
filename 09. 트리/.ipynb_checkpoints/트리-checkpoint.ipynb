{
 "cells": [
  {
   "cell_type": "markdown",
   "id": "e67105b6",
   "metadata": {},
   "source": [
    "# 트리"
   ]
  },
  {
   "cell_type": "markdown",
   "id": "61659111",
   "metadata": {},
   "source": [
    "### 트리 구조와 관련 용어"
   ]
  },
  {
   "cell_type": "markdown",
   "id": "7428cda8",
   "metadata": {},
   "source": [
    "<img src=\"https://w.namu.la/s/4e342ca78778a1a6535ea8b3a1ae70f4443274ebec244a4f803a07ff127a3550cf1df777537736ce4edca3f71f8f11c6cd02e883e8e4b652ae3144e54d4866e7801bf94dbac0265b1e1f41553b6e89959da3789d88b8b28e6e74cdbdffb61d74cba5a43abe8b7045b09e662332bfd9ff\" width=\"500\" height=\"500\" />\n",
    "<center>[트리 구조]</center>"
   ]
  },
  {
   "cell_type": "markdown",
   "id": "2f2acc3d",
   "metadata": {},
   "source": [
    "#### 루트\n",
    "트리의 가장 위쪽에 있는 노드를 루트라고 한다.\n",
    "\n",
    "#### 리프 (단말 노드 / 외부 노드)\n",
    "자식 노드가 없는 노드, 즉 뻗어나갈 수 없는 마지막에 노드가 있다는 뜻이다.\n",
    "\n",
    "#### 비단말 노드 (내부 노드)\n",
    "리프를 제외한 노드이다.\n",
    "\n",
    "#### 자식\n",
    "어떤 노드와 가지가 연결되었을 때 아래쪽 노드를 자식이라고 한다.\n",
    "\n",
    "#### 부모\n",
    "자식 노드와 가지로 연결된 위쪽 노드이다.\n",
    "\n",
    "#### 형제\n",
    "부모가 같으며, 같은 레벨에 있는 노드를 형제 노드라고 한다.\n",
    "\n",
    "#### 조상\n",
    "어떤 노드 위쪽으로 가지를 따라가면 만나는 모든 노드를 조상이라고 한다.\n",
    "\n",
    "#### 자손\n",
    "어떤 노드에서 아래쪽으로 가지를 따라가면 만나는 모든 노드를 자손이라고 한다.\n",
    "\n",
    "#### 레벨\n",
    "루트에서 얼마나 멀리 떨어져 있는지를 나타내는 것을 레벨이라고 한다. 따라서 루트의 레벨은 0이고, 루트의 자식부터 레벨이 1씩 증가한다.\n",
    "\n",
    "#### 차수\n",
    "각 노드가 갖는 자식의 수를 차수라고 한다.<br/>\n",
    "또한 노의 차수가 n 이하인 트리를 n진 트리라고 한다. 따라서 자식이 2개 이하이면 이진 트리이다.\n",
    "\n",
    "#### 높이\n",
    "루트에서 가장 멀리 있는 리프까지의 거리, 곧 리프 레벨의 최댓값을 높이라고 한다.\n",
    "\n",
    "#### 서브트리\n",
    "어떤 노드를 루트로 하고 그 자손으로 구성된 트리를 서브트리라고 한다.\n",
    "\n",
    "#### 빈 트리\n",
    "노드와 가지가 전혀 없는 트리이다."
   ]
  },
  {
   "cell_type": "markdown",
   "id": "a84fef47",
   "metadata": {},
   "source": [
    "## 순서 트리의 검색"
   ]
  },
  {
   "cell_type": "markdown",
   "id": "ece7ef83",
   "metadata": {},
   "source": [
    "### 너비 우선 검색 (BFS)\n",
    "\n",
    "너비 우선 검색은 폭 우선 검색, 가로 검색, 수평 검색이라고도 한다.<br/>\n",
    "탐색 순서는 ```0 → 1 → 2 → 3 → 4 → 5 → 6```순이다.\n",
    "<img src=\"https://velog.velcdn.com/images%2Fsukong%2Fpost%2F103fbeed-3f70-4074-9a7d-76915a7764f2%2FBFS.png\" width=\"400\" height=\"400\" />\n",
    "<center>[BFS 방식]</center>"
   ]
  },
  {
   "cell_type": "markdown",
   "id": "c41026bb",
   "metadata": {},
   "source": [
    "### 깊이 우선 탐색 (DFS)\n",
    "\n",
    "깊이 우선 탐색은 세로 검색, 수직 검색이라고도 한다. 루트에서 시작하여 리프를 만날 때까지 검색하고, 그 다음 더이상 검색할 노드가 없을 때 다시 부모 노드로 돌아가 다음 자식 노드로 내려간다.\n",
    "탐색 순서는 ```0 → 1 → 3 → 4 → 2 → 5 → 6```순이다.\n",
    "<img src=\"https://encrypted-tbn0.gstatic.com/images?q=tbn:ANd9GcTyM0WnMgbI5-TGFWTCHXQbXLYNjYxzDwZdhA&usqp=CAU\" width=\"400\" height=\"400\" />\n",
    "<center>[DFS 방식]</center>\n",
    "\n",
    "이때 깊이 우선 탐색을 진행하면 0번 노드를 다음과 같이 세 번 지나가게 된다.<br/>\n",
    "1. 1로 내려가기 직전에,<br/>\n",
    "2. 1에서 2로 지나가는 도중에,<br/>\n",
    "3. 2에서 0으로 돌아올 때 지나간다.\n",
    "\n",
    "이때 지나가는 것은 방문하는 것이 아니라는 것에 주의해야 한다."
   ]
  },
  {
   "cell_type": "markdown",
   "id": "0169da2f",
   "metadata": {},
   "source": [
    "### DFS 탐색에는 다음과 같은 세 가지 방법이 있다.\n",
    "\n",
    "### 전위 순회 방법\n",
    "전위 순회는 다음과 같은 순서로 스캔한다.\n",
    "\n",
    "```노드 방문 → 왼쪽 자식 → 오른쪽 자식```\n",
    "\n",
    "### 중위 순회 방법\n",
    "중위 순회는 다음과 같은 순서로 스캔한다.\n",
    "\n",
    "```왼쪽 자식 → 노드 방문 → 오른쪽 자식```\n",
    "\n",
    "### 후위 순회 방법\n",
    "중위 순회는 다음과 같은 순서로 스캔한다.\n",
    "\n",
    "```왼쪽 자식 → 노드 방문 → 오른쪽 자식```"
   ]
  },
  {
   "cell_type": "markdown",
   "id": "ba0994f0",
   "metadata": {},
   "source": [
    "## 이진 트리와 이진 검색 트리"
   ]
  },
  {
   "cell_type": "markdown",
   "id": "6f726131",
   "metadata": {},
   "source": [
    "### 이진 트리\n",
    "\n",
    "한 노드당 왼쪽 자식과 오른쪽 자식, 최대 2개의 자식 노드만 가질 수 있다. 이때 노드는 자식을 가지고 있지 않거나 왼쪽 또는 오른쪽 자식 노드 중 하나만 가지고 있어도 된다.\n",
    "\n",
    "<img src=\"https://t1.daumcdn.net/cfile/tistory/99500A485BDD40070F\" width=\"400\" height=\"400\" />\n",
    "<center>[이진 트리]</center>"
   ]
  },
  {
   "cell_type": "markdown",
   "id": "aba479a2",
   "metadata": {},
   "source": [
    "### 완전 이진 트리\n",
    "한 노드당 최대 2개의 자식 노드만 가질 수 있다는 것은 동일하지만, 반드시 왼쪽 → 오른쪽의 순서로 자식을 채울 수 있다는 점이 다르다. 따라서 완전 이진 트리는 마지막 레벨을 제외하고는 모두 왼쪽, 오른쪽 자식 노드를 갖는다. 마지막 레벨에서는 왼쪽부터 마지막 노드까지 모두 채워져 있어야 하지만, 반드시 끝까지 채울 필요는 없다.\n",
    "\n",
    "<img src=\"https://pscheol.github.io/2020/06/17/6-1-binary-tree/tree1.png\" width=\"400\" height=\"400\" />\n",
    "<center>[완전 이진 트리]</center>\n"
   ]
  },
  {
   "cell_type": "markdown",
   "id": "47c71381",
   "metadata": {},
   "source": [
    "### 이진 검색 트리\n",
    "\n",
    "**이진 검색 트리는 다음과 같은 조건을 만족해야 한다.**\n",
    "1. 왼쪽 서브트리 노드의 키값은 자신의 노드 키값보다 작아야 한다.\n",
    "2. 오른쪽 서브트리 노드의 키값은 자신의 노드 키값보다 커야 한다.\n",
    "\n",
    "\n",
    "**이진 검색 트리의 장점**\n",
    "1. 구조가 단순하다.\n",
    "2. 중위 순회의 깊이 우선 탐색을 통해 노드값의 오름차순 결과를 얻을 수 있다.\n",
    "3. 이진 검색과 비슷한 방식으로 아주 빠르게 검색할 수 있다.\n",
    "4. 노드를 삽입하기 쉽다.\n",
    "\n",
    "<img src=\"https://t1.daumcdn.net/cfile/tistory/2321CB4951A467AC0B\" width=\"400\" height=\"400\" />\n",
    "<center>[완전 이진 트리]</center>\n",
    "\n"
   ]
  },
  {
   "cell_type": "markdown",
   "id": "5d61138d",
   "metadata": {},
   "source": [
    "#### 🔴 균형 검색 트리 (나중에 알아보자!)\n",
    "\n",
    "**[이진 균형 검색 트리]**\n",
    "- AVL 트리\n",
    "- 레드 블랙 트리\n",
    "\n",
    "**[이진이 아닌 균형 검색 트리]**\n",
    "- B 트리\n",
    "- 2-3트리"
   ]
  }
 ],
 "metadata": {
  "kernelspec": {
   "display_name": "Python 3 (ipykernel)",
   "language": "python",
   "name": "python3"
  },
  "language_info": {
   "codemirror_mode": {
    "name": "ipython",
    "version": 3
   },
   "file_extension": ".py",
   "mimetype": "text/x-python",
   "name": "python",
   "nbconvert_exporter": "python",
   "pygments_lexer": "ipython3",
   "version": "3.10.3"
  }
 },
 "nbformat": 4,
 "nbformat_minor": 5
}
