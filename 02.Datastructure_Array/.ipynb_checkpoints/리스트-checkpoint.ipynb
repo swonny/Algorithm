{
 "cells": [
  {
   "cell_type": "markdown",
   "id": "21b24ca6",
   "metadata": {},
   "source": [
    "# List\n",
    "\n",
    "### 리스트와 튜플\n",
    "- 리스트\n",
    "    - 원소를 변경할 수 있는 <code style=\"background-color: #FBEFF2\">mutable</code>객체이다.\n",
    "    - list()를 사용하여 다양한 객체를 원소로 하는 리스트를 생성할 수 있다.\n",
    "    - 리스트의 원소 개수는 리스트를 만들기 전에 반드시 결정해야 한다. <br/>\n",
    "      하지만 원솟값을 정하지 않으면서 원소의 개수를 정하는 리스트는 <code style=\"background-color: #FBEFF2\">list01 = [None] * 5</code>와 같이 나타낼 수 있다.\n",
    "\n",
    "- 튜플\n",
    "    - 튜플은 원소를 변경할 수 없는 <code style=\"background-color: #FBEFF2\">immutable</code>객체이다.\n",
    "    - 튜플을 생성할 때는 결합 연산자 ()를 생략하여 <code style=\"background-color: #fbeff2\">tuple1 = 1,</code>와 같이 나타낼 수 있다."
   ]
  },
  {
   "cell_type": "code",
   "execution_count": 11,
   "id": "9c490bfc",
   "metadata": {},
   "outputs": [
    {
     "name": "stdout",
     "output_type": "stream",
     "text": [
      "(1, 2, 3)\n",
      "(1, 2, 3)\n",
      "('a', 'b', 'c')\n",
      "()\n",
      "(1,)\n",
      "(1,)\n"
     ]
    }
   ],
   "source": [
    "# 튜플\n",
    "tuple1 = 1, 2, 3\n",
    "tuple2 = (1, 2, 3)\n",
    "tuple3 = 'a', 'b', 'c'\n",
    "tuple4 = ()\n",
    "tuple5 = (1, ) # 원소가 한 개인 경우 반드시 쉼표를 입력해야 한다. 쉼표가 없으면 단순 변수로 인식한다.\n",
    "tuple6 = 1,\n",
    "\n",
    "print(tuple1)\n",
    "print(tuple2)\n",
    "print(tuple3)\n",
    "print(tuple4)\n",
    "print(tuple5)\n",
    "print(tuple6)"
   ]
  },
  {
   "cell_type": "code",
   "execution_count": 13,
   "id": "447012ee",
   "metadata": {},
   "outputs": [
    {
     "name": "stdout",
     "output_type": "stream",
     "text": [
      "(0, 1, 2, 3, 4, 5, 6)\n",
      "('A', 'B', 'C')\n",
      "(1, 2, 3)\n",
      "(1, 2, 3)\n"
     ]
    }
   ],
   "source": [
    "# 튜플 [예제2]\n",
    "\n",
    "tuple7 = tuple(range(7))\n",
    "tuple8 = tuple('ABC')\n",
    "tuple9 = tuple([1, 2, 3])\n",
    "tuple10 = tuple({1, 2, 3})\n",
    "\n",
    "print(tuple7)\n",
    "print(tuple8)\n",
    "print(tuple9)\n",
    "print(tuple10)"
   ]
  },
  {
   "cell_type": "markdown",
   "id": "730e2787",
   "metadata": {},
   "source": [
    "튜플 [예제2]와 같이 리스트나 튜플의 원소값들을 풀어 여러 변수에 대입하는 것을 언팩(unpack)이라고 한다."
   ]
  },
  {
   "cell_type": "code",
   "execution_count": 15,
   "id": "e903decf",
   "metadata": {},
   "outputs": [
    {
     "name": "stdout",
     "output_type": "stream",
     "text": [
      "1\n",
      "2\n",
      "3\n"
     ]
    }
   ],
   "source": [
    "# 언팩\n",
    "\n",
    "x = [1, 2, 3]\n",
    "a, b, c = x # x를 언팩하여 a, b, c에 저장\n",
    "\n",
    "print(a)\n",
    "print(b)\n",
    "print(c)"
   ]
  },
  {
   "cell_type": "code",
   "execution_count": 22,
   "id": "c4a36c23",
   "metadata": {},
   "outputs": [
    {
     "name": "stdout",
     "output_type": "stream",
     "text": [
      "8\n",
      "8\n",
      "0\n",
      "0\n"
     ]
    },
    {
     "ename": "TypeError",
     "evalue": "'range' object does not support item assignment",
     "output_type": "error",
     "traceback": [
      "\u001b[0;31m---------------------------------------------------------------------------\u001b[0m",
      "\u001b[0;31mTypeError\u001b[0m                                 Traceback (most recent call last)",
      "Input \u001b[0;32mIn [22]\u001b[0m, in \u001b[0;36m<cell line: 10>\u001b[0;34m()\u001b[0m\n\u001b[1;32m      7\u001b[0m \u001b[38;5;28mprint\u001b[39m(x[\u001b[38;5;241m0\u001b[39m])\n\u001b[1;32m      8\u001b[0m \u001b[38;5;28mprint\u001b[39m(x[\u001b[38;5;241m-\u001b[39m\u001b[38;5;241m9\u001b[39m]) \u001b[38;5;66;03m# 같은 인덱스를 가리킴\u001b[39;00m\n\u001b[0;32m---> 10\u001b[0m \u001b[43mx\u001b[49m\u001b[43m[\u001b[49m\u001b[38;5;241;43m9\u001b[39;49m\u001b[43m]\u001b[49m \u001b[38;5;241m=\u001b[39m \u001b[38;5;241m3\u001b[39m\n",
      "\u001b[0;31mTypeError\u001b[0m: 'range' object does not support item assignment"
     ]
    }
   ],
   "source": [
    "# 양수 인덱스는 0부터, 음수 인덱스는 -1부터 시작한다.\n",
    "x = range(9)\n",
    "\n",
    "print(x[8])\n",
    "print(x[-1]) # 같은 인덱스를 가리킴\n",
    "\n",
    "print(x[0])\n",
    "print(x[-9]) # 같은 인덱스를 가리킴\n",
    "\n",
    "x[9] = 3 # 오류 : 범위를 넘어가는 인덱스에 추가할 수 없다."
   ]
  },
  {
   "cell_type": "markdown",
   "id": "63501cd6",
   "metadata": {},
   "source": [
    "### 슬라이스식으로 원소에 접근\n",
    "\n",
    "리스트 또는 튜플의 원소 일부를 연속해서 또는 일정한 간격으로 꺼내 새로운 리스트 또는 튜플을 만드는 것을 슬라이스라고 한다.\n",
    "\n",
    "- ```s[i:j]``` : s[i]부터 s[j-1]까지 나열\n",
    "- ```s[i:j:k]``` : s[i]부터 s[j-1]까지 k씩 건너뛰며 나열한다.\n",
    "\n",
    "\n",
    "이때 인덱싱에는 다음과 같은 규칙을 따른다.\n",
    "- i, j가 len(s)보다 크면 len(s)가 지정된 것으로 간주하여 범위를 벗어나는 값을 지정해도 오류가 나지 않는다.\n",
    "- i가 없거나 None이면 0으로 간주한다.\n",
    "- j가 없으면 len(s)로 간주한다.\n",
    "\n",
    "|패턴|설명|\n",
    "|:--:|:--:|\n",
    "|s[:]|모든 원소 출력|\n",
    "|s[:n]|맨 앞부터 n개까지 출력|\n",
    "|s[i:]|i부터 끝까지 출력|\n",
    "|s[-n:]|-n부터 끝까지 출력 (**뒤집어서 출력이 아님을 주의**)\n",
    "|s[::k]|처음부터 끝까지 k개씩 건너 뛰며 출력|\n",
    "|s[::-1]|맨 끝부터 맨 처음까지 거꾸로 출력|"
   ]
  },
  {
   "cell_type": "code",
   "execution_count": 28,
   "id": "e8d5cfe2",
   "metadata": {},
   "outputs": [
    {
     "name": "stdout",
     "output_type": "stream",
     "text": [
      "[11, 22, 33, 44, 55, 66]\n",
      "[11, 22, 33, 44, 55, 66, 77]\n",
      "[11, 33, 55, 77]\n",
      "[44, 66]\n"
     ]
    }
   ],
   "source": [
    "s = [11, 22, 33, 44, 55, 66, 77]\n",
    "print(s[0:6])\n",
    "print(s[0:7])\n",
    "print(s[0:7:2])\n",
    "print(s[-4:-1:2])\n",
    "\n",
    "print(s[3:1]) # 리스트 j의 값이 i 값보다 작지만 오류가 나지 않음에 주의"
   ]
  },
  {
   "cell_type": "markdown",
   "id": "c88fe56f",
   "metadata": {},
   "source": [
    "### 변수 대입\n",
    "```python\n",
    ">>> a, b, c = 1, 2, 3 # a,b,c에 1,2,3을 각각 대입\n",
    "```\n",
    "\n",
    "다음과 같이 나타낼 수도 있다.\n",
    "```python\n",
    ">>> a, b = 6, 2\n",
    ">>> a, b = b + 2, a + 3 # 결과 : a = 4, b = 9\n",
    "```\n",
    "a가 업데이트 되기 전 연산이 수행되기 때문에 ```b+2```에 의해 새로 업데이트된 값이 아닌 기존에 대입한 6과의 연산으로 b에 9가 대입된다.\n",
    "\n",
    "- 파이썬의 대입식은 값 자체가 아니라 참조하는 객체의 식별 번호를 대입한다.\n",
    "- 여러 변수에 한번에 대입할 수 있다.\n",
    "- 좌변에 변수 이름이 처음 나온 경우, 그 변수에 맞는 자료형으로 자동 선언해준다.\n",
    "\n",
    "\n",
    "### 뮤터블/ 이뮤터블\n",
    "```python\n",
    "n = 13\n",
    "print(id(n)) # 결과 : 4340941424\n",
    "\n",
    "n += 1\n",
    "print(id(n)) # 결과 : 4340941456\n",
    "```\n",
    "위와 같이 같은 변수 n에 1을 더한 경우에는 id 자체가 달라진다. 즉, 변수가 담는 값이 아닌 변수가 가리키는 객체가 달라진 것이다.\n",
    "이와 같이 int형과 문자형은 값을 변경할 수 없는 특성을 갖고, 이 특성을 ```이뮤터블```이라고 한다.\n",
    "\n",
    "- 뮤터블 자료형 : 리스트, 딕셔너리, 집합\n",
    "- 이뮤터블 자료형 : 수, 문자열, 튜플\n",
    "\n",
    "### 파이썬의 연산자\n",
    "대입 기호 =는 연산자가 아니다. 따라서 x = 17은 식이 아니다. 따라서 자료형을 확인할 수 없다."
   ]
  },
  {
   "cell_type": "markdown",
   "id": "cb800286",
   "metadata": {},
   "source": [
    "### 리스트와 튜플 사용 방법\n",
    "```x = list(9)```인 경우\n",
    "- len(x) : 리스트의 길이\n",
    "- max(x), min(x) : x 중 가장 큰 값과 가장 작은 값\n",
    "- 빈 배열 판단 :\n",
    "```python\n",
    "if x: # x가 비어있지 않으면 true 실행\n",
    "else: # x가 비어있으면 false 실행\n",
    "```\n",
    "\n",
    "### 등가성 비교와 동일성 비교\n",
    "- 등가성 비교\n",
    "    - 비교 연산자 ```==```를 사용한다.\n",
    "    - 좌변과 우변의 값이 같은지를 비교한다.\n",
    "\n",
    "- 동일성 비교\n",
    "    - ```is```를 사용한다.\n",
    "    - 값은 물론 객체의 식별 번호까지 같은지 비교한다."
   ]
  },
  {
   "cell_type": "code",
   "execution_count": null,
   "id": "d21beb8e",
   "metadata": {},
   "outputs": [],
   "source": []
  }
 ],
 "metadata": {
  "kernelspec": {
   "display_name": "Python 3 (ipykernel)",
   "language": "python",
   "name": "python3"
  },
  "language_info": {
   "codemirror_mode": {
    "name": "ipython",
    "version": 3
   },
   "file_extension": ".py",
   "mimetype": "text/x-python",
   "name": "python",
   "nbconvert_exporter": "python",
   "pygments_lexer": "ipython3",
   "version": "3.10.3"
  }
 },
 "nbformat": 4,
 "nbformat_minor": 5
}
