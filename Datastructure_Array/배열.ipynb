{
 "cells": [
  {
   "cell_type": "markdown",
   "id": "00004764",
   "metadata": {},
   "source": [
    "# 배열"
   ]
  },
  {
   "cell_type": "markdown",
   "id": "1e8778cd",
   "metadata": {},
   "source": [
    "```python\n",
    "def max_of(a):\n",
    "    maximum = a[0]\n",
    "    for i in range(1, len(a)):\n",
    "        if a[i] > maximum :\n",
    "            maximum = a[i]\n",
    "```        \n",
    "\n",
    "위와 같이 원소의 인덱스를 하나씩 증가하며 해당 인덱스의 원소에 주목한다. 이것을 **스캔(scan)**이라고 한다."
   ]
  },
  {
   "cell_type": "code",
   "execution_count": 9,
   "id": "8fb1a921",
   "metadata": {},
   "outputs": [
    {
     "name": "stdout",
     "output_type": "stream",
     "text": [
      "배열의 최댓값을 구합니다.\n",
      "원소 수를 입력하세요: 3\n",
      "x[0]값을 입력하세요:1\n",
      "x[1]값을 입력하세요:4\n",
      "x[2]값을 입력하세요:2\n",
      "최댓값은 4입니다.\n"
     ]
    }
   ],
   "source": [
    "# 시퀀스 원소의 최댓값 출력하기\n",
    "from typing import Any, Sequence\n",
    "\n",
    "def max_of(a: Sequence) -> Any:\n",
    "    \"\"\"시퀀스형 a 원소의 최댓값을 반환\"\"\"\n",
    "    maximum = a[0]\n",
    "    for i in range(1, len(a)):\n",
    "        if a[i] > maximum:\n",
    "            maximum = a[i]\n",
    "    return maximum\n",
    "\n",
    "if __name__ == '__main__': # [참고1]\n",
    "    print('배열의 최댓값을 구합니다.')\n",
    "    num = int(input('원소 수를 입력하세요: '))\n",
    "    x = [None] * num\n",
    "    \n",
    "    for i in range(num):\n",
    "        x[i] = int(input(f'x[{i}]값을 입력하세요:'))\n",
    "    \n",
    "    print(f'최댓값은 {max_of(x)}입니다.')"
   ]
  },
  {
   "cell_type": "markdown",
   "id": "86f43288",
   "metadata": {},
   "source": [
    "- Any는 제약이 없는 임의의 자료형이며, Sequence는 시퀀스형을 의미한다.\n",
    "- Sequence 형에는 리스트형, 바이트 배열형, 문자열형, 튜플형, 바이트열형이 있다.\n",
    "\n",
    "```def max_of(a: Sequence) -> Any:``` 이것은 건네받은 매개변수 a의 자료형은 Sequence이며 반환값의 자료형은 Any임을 의미한다.\n",
    "\n",
    "[참고1]\n",
    "예를 들어 app.py라는 파일이 있을 때 .py를 포함하지 않는 app은 모듈의 이름이다.\n",
    "- 스크립트 프로그램이 실행될 때 __name__은 '__main__'이 된다.\n",
    "- 스크립트 프로그램이 임포트될 때 변수 __name__은 원래의 모듈 이름이 된다.\n",
    "\n",
    "\n",
    "따라서 해당 프로그램을 직접 실행했을 때는 if문이 true가 되지만, 모듈을 import하여 실행하는 경우에는 false가 된다."
   ]
  },
  {
   "cell_type": "code",
   "execution_count": 8,
   "id": "f215fade",
   "metadata": {},
   "outputs": [
    {
     "name": "stdout",
     "output_type": "stream",
     "text": [
      "x[0]값을 입력하세요: 9\n",
      "x[1]값을 입력하세요: 1\n",
      "x[2]값을 입력하세요: End\n",
      "2개를 입력했습니다.\n",
      "최댓값은 9입니다.\n"
     ]
    }
   ],
   "source": [
    "from max import max_of\n",
    "\n",
    "number = 0\n",
    "x = []\n",
    "\n",
    "while True:\n",
    "    s = input(f'x[{number}]값을 입력하세요: ')\n",
    "    if s == 'End':\n",
    "        break\n",
    "    x.append(int(s))\n",
    "    number += 1\n",
    "\n",
    "print(f'{number}개를 입력했습니다.')\n",
    "print(f'최댓값은 {max_of(x)}입니다.') # 이때 스크립트 프로그램이 임포트되었기 때문에 __name__은 max가 되어 if문이 실행되지 않는다."
   ]
  },
  {
   "cell_type": "code",
   "execution_count": 7,
   "id": "a427409c",
   "metadata": {},
   "outputs": [
    {
     "name": "stdout",
     "output_type": "stream",
     "text": [
      "난수의 개수를 입력하세요: 3\n",
      "난수의 최솟값을 입력하세요: 1\n",
      "난수의 최댓값을 입력하세요: 9\n",
      "[8, 5, 4]\n",
      "이 가운데 최댓값은 8입니다.\n"
     ]
    }
   ],
   "source": [
    "# 원소수, 최댓값, 최솟값은 입력받고 나머지 원소는 난수 생성하는 프로그램\n",
    "\n",
    "import random\n",
    "from max import max_of\n",
    "\n",
    "num = int(input('난수의 개수를 입력하세요: '))\n",
    "lo = int(input('난수의 최솟값을 입력하세요: '))\n",
    "hi = int(input('난수의 최댓값을 입력하세요: '))\n",
    "x = [None] * num\n",
    "\n",
    "for i in range(num):\n",
    "    x[i] = random.randint(lo, hi)\n",
    "\n",
    "print(f'{(x)}')\n",
    "print(f'이 가운데 최댓값은 {max_of(x)}입니다.')"
   ]
  },
  {
   "cell_type": "code",
   "execution_count": 11,
   "id": "a1b10654",
   "metadata": {},
   "outputs": [
    {
     "name": "stdout",
     "output_type": "stream",
     "text": [
      "(4, 7, 5.6, 2, 3.2, 1)의 최댓값은 7\n",
      "string의 최댓값은 t\n",
      "['DTS', 'AAC', 'FLAC']의 최댓값은 FLAC\n"
     ]
    }
   ],
   "source": [
    "from max import max_of\n",
    "\n",
    "t = (4, 7, 5.6, 2, 3.2, 1)\n",
    "s = 'string'\n",
    "a = ['DTS', 'AAC', 'FLAC']\n",
    "\n",
    "print(f'{t}의 최댓값은 {max_of(t)}')\n",
    "print(f'{s}의 최댓값은 {max_of(s)}')\n",
    "print(f'{a}의 최댓값은 {max_of(a)}')"
   ]
  },
  {
   "cell_type": "markdown",
   "id": "410cc94a",
   "metadata": {},
   "source": [
    "### 리스트, 튜플의 대입\n",
    "\n",
    "리스트를 2개 선언하여 서로 대입해도 원소 자체가 복사되는 것이아니라 참조하는 곳이 복사된다.\n",
    "<img src=\"data:image/png;base64,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\">"
   ]
  },
  {
   "cell_type": "markdown",
   "id": "301a21aa",
   "metadata": {},
   "source": [
    "따라서 a의 원소값을 바꾸면 b도 같은 객체를 가리키고 있으므로 b의 원소도 변하게 된다."
   ]
  },
  {
   "cell_type": "markdown",
   "id": "655c39e3",
   "metadata": {},
   "source": [
    "## 리스트 스캔 예제\n",
    "\n",
    "* enumerate() 함수 : 인덱스 번호와 컬렉션의 원소를 튜플 형태로 반환한다.\n",
    "(ex)\n",
    "```python\n",
    "x = ['john', 'george', 'paul', 'ringo']\n",
    "for e in enumerate(x):\n",
    "    print(e)\n",
    "```\n",
    "\n",
    "결과<br/>\n",
    "(0, 'john')<br/>\n",
    "(1, 'george')<br/>\n",
    "(2, 'paul')<br/>\n",
    "(3, 'ringo')"
   ]
  },
  {
   "cell_type": "code",
   "execution_count": 12,
   "id": "ae1b87c5",
   "metadata": {},
   "outputs": [
    {
     "name": "stdout",
     "output_type": "stream",
     "text": [
      "x[0] = john\n",
      "x[1] = george\n",
      "x[2] = paul\n",
      "x[3] = ringo\n"
     ]
    }
   ],
   "source": [
    "# 원소 수를 len() 함수로 미리 알아내서 0에서 원소 수-1까지 반복한다.\n",
    "\n",
    "x = ['john', 'george', 'paul', 'ringo']\n",
    "\n",
    "for i in range(len(x)):\n",
    "    print(f'x[{i}] = {x[i]}')"
   ]
  },
  {
   "cell_type": "code",
   "execution_count": 13,
   "id": "8d01bd0a",
   "metadata": {},
   "outputs": [
    {
     "name": "stdout",
     "output_type": "stream",
     "text": [
      "x[0] = john\n",
      "x[1] = george\n",
      "x[2] = paul\n",
      "x[3] = ringo\n"
     ]
    }
   ],
   "source": [
    "# 리스트의 모든 원소를 enumerate() 함수로 스캔\n",
    "\n",
    "x = ['john', 'george', 'paul', 'ringo']\n",
    "\n",
    "for i, name in enumerate(x):\n",
    "    print(f'x[{i}] = {x[i]}')"
   ]
  },
  {
   "cell_type": "code",
   "execution_count": 15,
   "id": "ae82b880",
   "metadata": {},
   "outputs": [
    {
     "name": "stdout",
     "output_type": "stream",
     "text": [
      "1번째 = John\n",
      "2번째 = George\n",
      "3번째 = Paul\n",
      "4번째 = Ringo\n"
     ]
    }
   ],
   "source": [
    "# 리스트의 모든 원소를 enumerate() 함수로 스캔 (1부터 카운트)\n",
    "\n",
    "x = ['John', 'George', 'Paul', 'Ringo']\n",
    "\n",
    "for i, name in enumerate(x, 1):\n",
    "    print(f'{i}번째 = {name}')"
   ]
  },
  {
   "cell_type": "markdown",
   "id": "d263f466",
   "metadata": {},
   "source": [
    "## 튜플의 스캔 예제\n",
    "\n",
    "튜플은 다음과 같이 리스트로 작성한 ```x = []```를 ```x = ()```로 수정하는 것만으로 스캔할 수 있다.\n",
    "```python\n",
    "x = ('John', 'George', 'Paul', 'Ringo')\n",
    "```\n",
    "\n",
    "- 리스트와 튜플의 역순 스캔\n",
    "    - ```reversed(x)```\n",
    "    - ```x[::-1]```"
   ]
  },
  {
   "cell_type": "markdown",
   "id": "acb2d1f6",
   "metadata": {},
   "source": [
    "## 이터러블\n",
    "- 이터러블 자료형 객체\n",
    "    - 문자열\n",
    "    - 리스트\n",
    "    - 튜플\n",
    "    - 집합\n",
    "    - 딕셔너리\n",
    "    \n",
    "\n",
    "- 이터러블 객체를 iter() 내장 함수의 인수로 전달하면 그 객체에 대한 이터레이터를 반환한다."
   ]
  },
  {
   "cell_type": "code",
   "execution_count": 25,
   "id": "415ba6ad",
   "metadata": {},
   "outputs": [
    {
     "data": {
      "text/plain": [
       "'John'"
      ]
     },
     "execution_count": 25,
     "metadata": {},
     "output_type": "execute_result"
    }
   ],
   "source": [
    "x = ['John', 'George', 'Paul', 'Ringo']\n",
    "\n",
    "it = iter(x)\n",
    "it.__next__() # 또는 next(it)"
   ]
  },
  {
   "cell_type": "code",
   "execution_count": 32,
   "id": "88a7cd1b",
   "metadata": {},
   "outputs": [
    {
     "name": "stdout",
     "output_type": "stream",
     "text": [
      "배열 원소를 역순으로 정렬합니다.\n",
      "원소 수를 입력하세요: 5\n",
      "x[0]값을 입력하세요: 1\n",
      "x[1]값을 입력하세요: 3\n",
      "x[2]값을 입력하세요: 9\n",
      "x[3]값을 입력하세요: 2\n",
      "x[4]값을 입력하세요: 4\n",
      "배열 원소를 역순으로 정렬했습니다.\n",
      "x[0] = 4\n",
      "x[1] = 2\n",
      "x[2] = 9\n",
      "x[3] = 3\n",
      "x[4] = 1\n"
     ]
    }
   ],
   "source": [
    "# 뮤터블 시퀀스 원소를 역순으로 정렬\n",
    "\n",
    "from typing import Any, MutableSequence\n",
    "\n",
    "def reverse_array(a: MutableSequence) -> Any:\n",
    "    \"\"\"뮤터블 시퀀스 a의 원소를 역순으로 정렬\"\"\"\n",
    "    n = len(a)\n",
    "    for i in range(n // 2):\n",
    "        a[i], a[n - i - 1] = a[n - i - 1], a[i]\n",
    "\n",
    "if __name__ == '__main__':\n",
    "    print('배열 원소를 역순으로 정렬합니다.')\n",
    "    nx = int(input('원소 수를 입력하세요: '))\n",
    "    x = [None] * nx\n",
    "    \n",
    "    for i in range(nx):\n",
    "        x[i] = int(input(f'x[{i}]값을 입력하세요: '))\n",
    "        \n",
    "    reverse_array(x)\n",
    "    \n",
    "    print('배열 원소를 역순으로 정렬했습니다.')\n",
    "    for i in range(nx):\n",
    "        print(f'x[{i}] = {x[i]}')"
   ]
  },
  {
   "cell_type": "markdown",
   "id": "ac3da04b",
   "metadata": {},
   "source": [
    "### 역순 정렬 함수 reverse()\n",
    "```python\n",
    "x = ['John', 'George', 'Paul', 'Ringo']\n",
    "x.reverse()\n",
    "```\n",
    "x를 역순으로 정렬할 수 있다. 하지만 튜플은 이뮤터블 객체이기 때문에 자기 자신을 역순으로 정렬할 수 없다.\n",
    "\n",
    "reversed(x)는 x의 원소를 역순으로 정렬하는 이터러블 객체를 생성한다. 따라서 리스트 x를 역순으로 정렬하여 y에 대입하려면 다음과 같이 작성할 수 있다.\n",
    "```python\n",
    "y = list(reversed(x))\n",
    "```"
   ]
  },
  {
   "cell_type": "code",
   "execution_count": null,
   "id": "681ad4ca",
   "metadata": {},
   "outputs": [],
   "source": []
  }
 ],
 "metadata": {
  "kernelspec": {
   "display_name": "Python 3 (ipykernel)",
   "language": "python",
   "name": "python3"
  },
  "language_info": {
   "codemirror_mode": {
    "name": "ipython",
    "version": 3
   },
   "file_extension": ".py",
   "mimetype": "text/x-python",
   "name": "python",
   "nbconvert_exporter": "python",
   "pygments_lexer": "ipython3",
   "version": "3.10.3"
  }
 },
 "nbformat": 4,
 "nbformat_minor": 5
}
