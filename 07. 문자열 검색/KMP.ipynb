{
 "cells": [
  {
   "cell_type": "markdown",
   "id": "0a2d6305",
   "metadata": {},
   "source": [
    "# KMP법"
   ]
  },
  {
   "cell_type": "markdown",
   "id": "a686eae7",
   "metadata": {},
   "source": [
    "브루트 포스법은 일치하지 않는 문자열을 발견하면 찾는 문자열의 처음으로 돌아가 다시 모두 검사한다. 이렇게 하면 이미 검사한 문자열에 찾는 문자열과 겹치는 문자열이 존재하더라도 다시 검사를 해야한다.<br/>\n",
    "\n",
    "KMP법은 텍스트와 패턴 안에서 겹치는 문자열을 찾아 다시 시작할 위치를 구하여 패턴의 이동을 되도록 크게 하는 알고리즘이다. 하지만 이동할 때마다 몇 번째 문자를 검사해야할지 계산하는 것은 좋은 효율을 기대할 수 없다. 따라서 '몇 번째 문자부터 다시 검색할지' 값을 표로 만들어서 문제를 해결한다."
   ]
  },
  {
   "cell_type": "code",
   "execution_count": null,
   "id": "eba4c4fe",
   "metadata": {},
   "outputs": [],
   "source": []
  }
 ],
 "metadata": {
  "kernelspec": {
   "display_name": "Python 3 (ipykernel)",
   "language": "python",
   "name": "python3"
  },
  "language_info": {
   "codemirror_mode": {
    "name": "ipython",
    "version": 3
   },
   "file_extension": ".py",
   "mimetype": "text/x-python",
   "name": "python",
   "nbconvert_exporter": "python",
   "pygments_lexer": "ipython3",
   "version": "3.10.3"
  }
 },
 "nbformat": 4,
 "nbformat_minor": 5
}
