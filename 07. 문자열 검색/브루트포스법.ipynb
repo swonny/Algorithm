{
 "cells": [
  {
   "cell_type": "markdown",
   "id": "c4468663",
   "metadata": {},
   "source": [
    "# 문자열 검색"
   ]
  },
  {
   "cell_type": "markdown",
   "id": "2d8c0a86",
   "metadata": {},
   "source": [
    "문자열 검색이란 어떤 문자열 안에 다른 문자열이 포함되어 있는지 검사하고, 만약 포함되어 있다면 어디에 위치하는지 찾아내는 것이다."
   ]
  },
  {
   "cell_type": "markdown",
   "id": "00c3bd0f",
   "metadata": {},
   "source": [
    "# 브루트 포스법"
   ]
  },
  {
   "cell_type": "markdown",
   "id": "16075fd1",
   "metadata": {},
   "source": [
    "브루트 포스법은 단순히 문자열을 선형 검색하는 방법이다. 문자열 A에 찾고자 하는 문자열 패턴 B가 포함되어 있는지 첫 인덱스부터 차례로 검사하는 것이다.\n",
    "\n",
    "**[알고리즘]**\n",
    "1. 문자열 A의 첫 번째 원소와 문자열 B의 첫 번째 원소를 비교한다.\n",
    "2. 같다면 문자열 B의 두 번째 원소와 비교한다 ... 같은 문자열을 찾을 때까지 반복\n",
    "\n",
    "브루트 포스는 이미 검사한 위치를 반복하여 검사하기 때문에 효율이 좋지 않은 알고리즘이다."
   ]
  },
  {
   "cell_type": "code",
   "execution_count": 36,
   "id": "c6b5b5f1",
   "metadata": {},
   "outputs": [
    {
     "name": "stdout",
     "output_type": "stream",
     "text": [
      "13\n"
     ]
    }
   ],
   "source": [
    "# 브루트 포스법으로 문자열 검사하기 - 내가 짠 코드 \n",
    "\n",
    "def bf_match(txt, pat):\n",
    "    nt = len(txt)\n",
    "    np = len(pat)\n",
    "    i = 0\n",
    "    for i in range(nt):\n",
    "        j = 0\n",
    "        while j < np and txt[i] == pat[j]:\n",
    "            i += 1\n",
    "            j += 1\n",
    "        if j == np:\n",
    "            return i - np\n",
    "        j = 0\n",
    "    return 0\n",
    "        \n",
    "txt = 'Helwlwlwlwlsladskf' # 9, 10, 11\n",
    "pat = 'adskf'\n",
    "idx = bf_match(txt, pat)\n",
    "print(idx)"
   ]
  },
  {
   "cell_type": "code",
   "execution_count": 49,
   "id": "4b15c270",
   "metadata": {},
   "outputs": [
    {
     "name": "stdout",
     "output_type": "stream",
     "text": [
      "3\n"
     ]
    }
   ],
   "source": [
    "# 브루트 포스법으로 문자열 검사하기 - 책 코드\n",
    "\n",
    "def bf_match(txt, pat):\n",
    "    pt = 0\n",
    "    pp = 0\n",
    "    nt = len(txt)\n",
    "    np = len(pat)\n",
    "    while pt < nt and pp < np:\n",
    "        if txt[pt] == pat[pp]:\n",
    "            pt += 1\n",
    "            pp += 1\n",
    "        else:\n",
    "            pt = pt - pp + 1\n",
    "            pp = 0\n",
    "    if pp == np:\n",
    "        return pt - pp\n",
    "    return -1\n",
    "\n",
    "txt = 'Helwlwlwlwlsladskf' # 9, 10, 11\n",
    "pat = 'wl'\n",
    "idx = bf_match(txt, pat)\n",
    "print(idx)"
   ]
  },
  {
   "cell_type": "markdown",
   "id": "00c445db",
   "metadata": {},
   "source": [
    "## 멤버십 연산자와 표준 라이브러리를 사용한 문자열 검색"
   ]
  },
  {
   "cell_type": "markdown",
   "id": "5c58e3e6",
   "metadata": {},
   "source": [
    "- ```ptn in txt``` : ptn이 txt에 포함되어 있나?\n",
    "- ```ptn not in txt``` : ptn이 txt에 포함되어 있지 않나?"
   ]
  },
  {
   "cell_type": "markdown",
   "id": "3012b3fe",
   "metadata": {},
   "source": [
    "### find, index 계열 함수로 구현하기"
   ]
  },
  {
   "cell_type": "markdown",
   "id": "933c1acd",
   "metadata": {},
   "source": [
    "|함수명|사용법|설명|\n",
    "|:--:|:---:|:--:|\n",
    "|find()|```str.find(sub[, start[, end]])```|str의 [start:end]에 sub가 포함되면 그 가운데 가장 작은 인덱스를 반환하고, 그렇지 않으면 -1을 반환한다.|\n",
    "|rfind()|```str.rfind(sub[, start [, end]])```|문자열str의 [start:end]에 sub가 포함되면 그 가운데 가장 큰 인덱스를 반환하고, 그렇지 않으면 -1을 반환한다.|\n",
    "|index()|```str.index(sub[, start [, end]])```|find() 함수와 같은 기능을 수행하지만 sub가 발견되지 않으면 ValueError를 내보낸다.|\n",
    "|rindex()|```str.rindex(sub[, start [, end]])```|rfind() 함수와 같은 기능을 수행한다. sub가 발견되지 않으면 ValueError를 내보낸다.|"
   ]
  },
  {
   "cell_type": "code",
   "execution_count": 52,
   "id": "86fc394b",
   "metadata": {},
   "outputs": [
    {
     "name": "stdout",
     "output_type": "stream",
     "text": [
      "3\n"
     ]
    }
   ],
   "source": [
    "# find() 함수 사용법\n",
    "\n",
    "txt = 'Helwlwlwlwlsladskf' # 9, 10, 11\n",
    "pat = 'wl'\n",
    "\n",
    "print(txt.find(pat))"
   ]
  },
  {
   "cell_type": "code",
   "execution_count": 53,
   "id": "0369ee6e",
   "metadata": {},
   "outputs": [
    {
     "name": "stdout",
     "output_type": "stream",
     "text": [
      "9\n"
     ]
    }
   ],
   "source": [
    "# rfind() 함수 사용법\n",
    "print(txt.rfind(pat))"
   ]
  },
  {
   "cell_type": "code",
   "execution_count": 54,
   "id": "09ae3f7f",
   "metadata": {},
   "outputs": [
    {
     "name": "stdout",
     "output_type": "stream",
     "text": [
      "3\n"
     ]
    }
   ],
   "source": [
    "# index() 함수 사용법\n",
    "print(txt.index(pat))"
   ]
  },
  {
   "cell_type": "code",
   "execution_count": 55,
   "id": "b1f9c58a",
   "metadata": {},
   "outputs": [
    {
     "name": "stdout",
     "output_type": "stream",
     "text": [
      "9\n"
     ]
    }
   ],
   "source": [
    "# rindex() 함수 사용법\n",
    "print(txt.rindex(pat))"
   ]
  },
  {
   "cell_type": "markdown",
   "id": "19a815c4",
   "metadata": {},
   "source": [
    "### with 계열 함수로 구현"
   ]
  },
  {
   "cell_type": "markdown",
   "id": "1d6f6807",
   "metadata": {},
   "source": [
    "|함수명|사용법|설명|\n",
    "|:--:|:---:|:--:|\n",
    "|startswith()|```str.startswith(prefix[, start [, end]])```|문자열이 prefix로 시작하면 True, 그렇지 않으면 False를 반환한다.|\n",
    "|endswith()|```str.endswith(suffix[, start [, end]])```|문자열이 suffix로 끝나면 True를, 그렇지 않으면 False를 반환한다.|"
   ]
  },
  {
   "cell_type": "code",
   "execution_count": 57,
   "id": "a40560ff",
   "metadata": {},
   "outputs": [
    {
     "data": {
      "text/plain": [
       "True"
      ]
     },
     "execution_count": 57,
     "metadata": {},
     "output_type": "execute_result"
    }
   ],
   "source": [
    "# startswith() 함수\n",
    "print(txt.startswith('he'))\n",
    "print(txt.startswith('He'))"
   ]
  },
  {
   "cell_type": "code",
   "execution_count": 59,
   "id": "c88dd12c",
   "metadata": {},
   "outputs": [
    {
     "name": "stdout",
     "output_type": "stream",
     "text": [
      "False\n",
      "True\n"
     ]
    }
   ],
   "source": [
    "# endsswith() 함수\n",
    "print(txt.endswith('he'))\n",
    "print(txt.endswith('f'))"
   ]
  }
 ],
 "metadata": {
  "kernelspec": {
   "display_name": "Python 3 (ipykernel)",
   "language": "python",
   "name": "python3"
  },
  "language_info": {
   "codemirror_mode": {
    "name": "ipython",
    "version": 3
   },
   "file_extension": ".py",
   "mimetype": "text/x-python",
   "name": "python",
   "nbconvert_exporter": "python",
   "pygments_lexer": "ipython3",
   "version": "3.10.3"
  }
 },
 "nbformat": 4,
 "nbformat_minor": 5
}
