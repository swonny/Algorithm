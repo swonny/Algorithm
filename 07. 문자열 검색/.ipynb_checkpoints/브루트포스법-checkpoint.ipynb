{
 "cells": [
  {
   "cell_type": "markdown",
   "id": "05e00e66",
   "metadata": {},
   "source": [
    "# 문자열 검색"
   ]
  },
  {
   "cell_type": "markdown",
   "id": "15d28a32",
   "metadata": {},
   "source": [
    "문자열 검색이란 어떤 문자열 안에 다른 문자열이 포함되어 있는지 검사하고, 만약 포함되어 있다면 어디에 위치하는지 찾아내는 것이다."
   ]
  },
  {
   "cell_type": "markdown",
   "id": "f2f5755e",
   "metadata": {},
   "source": [
    "# 브루트 포스법"
   ]
  },
  {
   "cell_type": "markdown",
   "id": "9d3f10e7",
   "metadata": {},
   "source": [
    "브루트 포스법은 단순히 문자열을 선형 검색하는 방법이다. 문자열 A에 찾고자 하는 문자열 패턴 B가 포함되어 있는지 첫 인덱스부터 차례로 검사하는 것이다.\n",
    "\n",
    "**[알고리즘]**\n",
    "1. 문자열 A의 첫 번째 원소와 문자열 B의 첫 번째 원소를 비교한다.\n",
    "2. 같다면 문자열 B의 두 번째 원소와 비교한다 ... 같은 문자열을 찾을 때까지 반복\n",
    "\n",
    "브루트 포스는 이미 검사한 위치를 반복하여 검사하기 때문에 효율이 좋지 않은 알고리즘이다."
   ]
  },
  {
   "cell_type": "code",
   "execution_count": 36,
   "id": "5e4a6056",
   "metadata": {},
   "outputs": [
    {
     "name": "stdout",
     "output_type": "stream",
     "text": [
      "13\n"
     ]
    }
   ],
   "source": [
    "# 브루트 포스법으로 문자열 검사하기 - 내가 짠 코드 \n",
    "\n",
    "def bf_match(txt, pat):\n",
    "    nt = len(txt)\n",
    "    np = len(pat)\n",
    "    i = 0\n",
    "    for i in range(nt):\n",
    "        j = 0\n",
    "        while j < np and txt[i] == pat[j]:\n",
    "            i += 1\n",
    "            j += 1\n",
    "        if j == np:\n",
    "            return i - np\n",
    "        j = 0\n",
    "    return 0\n",
    "        \n",
    "txt = 'Helwlwlwlwlsladskf' # 9, 10, 11\n",
    "pat = 'adskf'\n",
    "idx = bf_match(txt, pat)\n",
    "print(idx)"
   ]
  },
  {
   "cell_type": "code",
   "execution_count": 40,
   "id": "08b22447",
   "metadata": {},
   "outputs": [
    {
     "name": "stdout",
     "output_type": "stream",
     "text": [
      "-1\n"
     ]
    }
   ],
   "source": [
    "# 브루트 포스법으로 문자열 검사하기 - 책 코드\n",
    "\n",
    "def bf_match(txt, pat):\n",
    "    pt = 0\n",
    "    pp = 0\n",
    "    nt = len(txt)\n",
    "    np = len(pat)\n",
    "    while pt < nt and pp < np:\n",
    "        if txt[pt] == pat[pp]:\n",
    "            pt += 1\n",
    "            pp += 1\n",
    "        else:\n",
    "            pt = pt - pp + 1\n",
    "            pp = 0\n",
    "    if pp == np:\n",
    "        return pt - pp\n",
    "    return -1\n",
    "\n",
    "txt = 'Helwlwlwlwlsladskf' # 9, 10, 11\n",
    "pat = 'Hes'\n",
    "idx = bf_match(txt, pat)\n",
    "print(idx)"
   ]
  },
  {
   "cell_type": "markdown",
   "id": "5fde5189",
   "metadata": {},
   "source": [
    "## 멤버십 연산자와 표준 라이브러리를 사용한 문자열 검색"
   ]
  },
  {
   "cell_type": "markdown",
   "id": "550f5d4a",
   "metadata": {},
   "source": [
    "- ```ptn in txt``` : ptn이 txt에 포함되어 있나?\n",
    "- ```ptn not in txt``` : ptn이 txt에 포함되어 있지 않나?"
   ]
  },
  {
   "cell_type": "markdown",
   "id": "75dcdf6e",
   "metadata": {},
   "source": [
    "### find, index 계열 함수로 구현하기"
   ]
  },
  {
   "cell_type": "markdown",
   "id": "eca25071",
   "metadata": {},
   "source": [
    "|함수명|사용법|설명|\n",
    "|:--:|:---:|:--:|\n",
    "|find()|```str.find(sub[, start[, end]])```|str의 [start:end]에 sub가 포함되면 그 가운데 가장 작은 인덱스를 반환하고, 그렇지 않으면 -1을 반환한다.|\n",
    "|rfind()|```str.rfind(sub[, start [, end]])```|문자열str의 [start:end]에 sub가 포함되면 그 가운데 가장 큰 인덱스를 반환하고, 그렇지 않으면 -1을 반환한다.|\n",
    "|index()|```str.index(sub[, start [, end]])```|find() 함수와 같은 기능을 수행하지만 sub가 발견되지 않으면 ValueError를 내보낸다.|\n",
    "|rindex()|```str.rindex(sub[, start [, end]])```|rfind() 함수와 같은 기능을 수행한다. sub가 발견되지 않으면 ValueError를 내보낸다.|"
   ]
  },
  {
   "cell_type": "markdown",
   "id": "3d64d351",
   "metadata": {},
   "source": [
    "### with 계열 함수로 구현"
   ]
  },
  {
   "cell_type": "markdown",
   "id": "15b2da66",
   "metadata": {},
   "source": [
    "|함수명|사용법|설명|\n",
    "|:--:|:---:|:--:|\n",
    "|startswith()|```str.startswith(prefix[, start [, end]])```|문자열이 prefix로 시작하면 True, 그렇지 않으면 False를 반환한다.|\n",
    "|endswith()|```str.endswith(suffix[, start [, end]])```|문자열이 suffix로 끝나면 True를, 그렇지 않으면 False를 반환한다.|"
   ]
  },
  {
   "cell_type": "code",
   "execution_count": null,
   "id": "20b4ca3c",
   "metadata": {},
   "outputs": [],
   "source": []
  }
 ],
 "metadata": {
  "kernelspec": {
   "display_name": "Python 3 (ipykernel)",
   "language": "python",
   "name": "python3"
  },
  "language_info": {
   "codemirror_mode": {
    "name": "ipython",
    "version": 3
   },
   "file_extension": ".py",
   "mimetype": "text/x-python",
   "name": "python",
   "nbconvert_exporter": "python",
   "pygments_lexer": "ipython3",
   "version": "3.10.3"
  }
 },
 "nbformat": 4,
 "nbformat_minor": 5
}
