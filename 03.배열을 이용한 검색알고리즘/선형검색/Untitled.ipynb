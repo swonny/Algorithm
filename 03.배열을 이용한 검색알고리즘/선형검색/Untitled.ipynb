{
 "cells": [
  {
   "cell_type": "markdown",
   "id": "9102a413",
   "metadata": {},
   "source": [
    "# 검색 알고리즘 (배열을 이용한 알고리즘)\n",
    "1. [선형 검색](#선형-검색)\n",
    "2. 이진 검색\n",
    "3. 헤시법"
   ]
  },
  {
   "cell_type": "markdown",
   "id": "2ac1e258",
   "metadata": {},
   "source": [
    "## 선형 검색"
   ]
  },
  {
   "cell_type": "markdown",
   "id": "dea1da70",
   "metadata": {},
   "source": [
    "선형 검색의 검사 조건 두 가지\n",
    "1. idx 끝까지 갔는지 검사\n",
    "2. 원하는 값을 찾았는지 검사"
   ]
  },
  {
   "cell_type": "code",
   "execution_count": 1,
   "id": "e73046f5",
   "metadata": {},
   "outputs": [
    {
     "name": "stdout",
     "output_type": "stream",
     "text": [
      "원소 수를 입력하세요: 3\n",
      "x[0]: 1\n",
      "x[1]: 2\n",
      "x[2]: 3\n",
      "검색할 값을 입력하세요: 3\n",
      "검색값의 인덱스는 2입니다.\n"
     ]
    }
   ],
   "source": [
    "# while문으로 작성한 선형 검색 알고리즘\n",
    "\n",
    "from typing import Any, Sequence\n",
    "\n",
    "def seq_search(a: Sequence, key: Any) -> int:\n",
    "    i = 0\n",
    "    lenA = len(a)\n",
    "    while True:\n",
    "        if i == lenA:\n",
    "            return -1\n",
    "        if a[i] == key:\n",
    "            return i\n",
    "        i += 1\n",
    "\n",
    "if __name__ == '__main__':\n",
    "    num = int(input('원소 수를 입력하세요: '))\n",
    "    x = [None] * num\n",
    "    \n",
    "    for i in range(num):\n",
    "        x[i] = int(input(f'x[{i}]: '))\n",
    "    \n",
    "    ky = int(input('검색할 값을 입력하세요: '))\n",
    "    \n",
    "    idx = seq_search(x, ky)\n",
    "    \n",
    "    if idx == -1:\n",
    "        print('검색값을 갖는 원소가 존재하지 않습니다.')\n",
    "    else:\n",
    "        print(f'검색값의 인덱스는 {idx}입니다.')"
   ]
  },
  {
   "cell_type": "code",
   "execution_count": 2,
   "id": "34b0884b",
   "metadata": {},
   "outputs": [],
   "source": [
    "# for문으로 작성한 선형 검색 알고리즘 (by me)\n",
    "\n",
    "from typing import Any, Sequence\n",
    "\n",
    "def seq_search(a: Sequence, key: Any) -> int:\n",
    "    lenA = len(a)\n",
    "    for idx, val in enumerate(a):\n",
    "        if val == key:\n",
    "            return idx\n",
    "    else:\n",
    "        return -1\n",
    "    "
   ]
  },
  {
   "cell_type": "code",
   "execution_count": 3,
   "id": "b991f2aa",
   "metadata": {},
   "outputs": [],
   "source": [
    "# for문으로 작성한 선형 검색 알고리즘 (책 예제)\n",
    "\n",
    "def seq_search(a, key):\n",
    "    for i in range(len(a)):\n",
    "        if a[i] == key:\n",
    "            return i\n",
    "    else:\n",
    "        return -1"
   ]
  },
  {
   "cell_type": "markdown",
   "id": "2cc1d738",
   "metadata": {},
   "source": [
    "### 다양한 자료형인 시퀀스에서 검색"
   ]
  },
  {
   "cell_type": "markdown",
   "id": "2533e825",
   "metadata": {},
   "source": [
    "시퀀스 자료형\n",
    "- 문자열\n",
    "- 리스트\n",
    "- 튜플\n",
    "\n",
    "모두 시퀀스 자료형에 해당하므로 배열 검색이 모두 가능하다."
   ]
  },
  {
   "cell_type": "markdown",
   "id": "7d2a6b4d",
   "metadata": {},
   "source": [
    "### 보초법"
   ]
  },
  {
   "cell_type": "markdown",
   "id": "744cfe30",
   "metadata": {},
   "source": [
    "보초법은 찾는 Key값을 배열의 마지막에 추가한다. 이렇게 하면 선형 검색의 두 가지 검사 조건문(종료문)을 하나로 줄일 수 있다. <br/>\n",
    "즉, 반환 받은 인덱스가 원래 인덱스 + 1이면 즉, 인덱스가 개수와 같으면 찾지 못한 것으로 간주할 수 있다."
   ]
  },
  {
   "cell_type": "code",
   "execution_count": 18,
   "id": "938aee37",
   "metadata": {},
   "outputs": [
    {
     "name": "stdout",
     "output_type": "stream",
     "text": [
      "몇 개의 원소를 입력할까요? : 3\n",
      "x[0]번째 원소를 입력하세요: 1\n",
      "x[1]번째 원소를 입력하세요: 2\n",
      "x[2]번째 원소를 입력하세요: 3\n",
      "찾는 값을 입력하세요: 0\n",
      "찾는 원소가 존재하지 않습니다\n"
     ]
    }
   ],
   "source": [
    "from typing import Any, Sequence\n",
    "import copy\n",
    "\n",
    "def seq_search(seq: Sequence, key: Any) -> int:\n",
    "    a = copy.deepcopy(seq)\n",
    "    a.append(key)\n",
    "    i = 0\n",
    "    while True:\n",
    "        if a[i] == key:\n",
    "            break\n",
    "        i += 1\n",
    "    return -1 if i == len(seq) else i\n",
    "\n",
    "if __name__ == '__main__':\n",
    "    n = int(input('몇 개의 원소를 입력할까요? : '))\n",
    "    x = [None] * n\n",
    "    \n",
    "    x = [int(input(f'x[{i}]번째 원소를 입력하세요: ')) for i in range(n)]\n",
    "    \n",
    "    ky = int(input('찾는 값을 입력하세요: '))\n",
    "    \n",
    "    idx = seq_search(x, ky)\n",
    "    \n",
    "    print('찾는 원소가 존재하지 않습니다' if idx == -1 else f'찾는 원소가 {idx}번째에 있습니다')\n",
    "\n",
    "# append를 함수에서 실행하므로 자꾸 끝까지 가는 문제가 있었음. -> copy.deepcopy(리스트)로 해결\n",
    "# break가 걸리는 경우는 같은 원소라서, 또는 배열 끝에 추가된 요소와 같아서"
   ]
  },
  {
   "cell_type": "code",
   "execution_count": null,
   "id": "f2c1ba7b",
   "metadata": {},
   "outputs": [],
   "source": []
  }
 ],
 "metadata": {
  "kernelspec": {
   "display_name": "Python 3 (ipykernel)",
   "language": "python",
   "name": "python3"
  },
  "language_info": {
   "codemirror_mode": {
    "name": "ipython",
    "version": 3
   },
   "file_extension": ".py",
   "mimetype": "text/x-python",
   "name": "python",
   "nbconvert_exporter": "python",
   "pygments_lexer": "ipython3",
   "version": "3.10.3"
  }
 },
 "nbformat": 4,
 "nbformat_minor": 5
}
