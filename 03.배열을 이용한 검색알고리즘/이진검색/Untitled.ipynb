{
 "cells": [
  {
   "cell_type": "markdown",
   "id": "ca96876d",
   "metadata": {},
   "source": [
    "# 이진 검색"
   ]
  },
  {
   "cell_type": "markdown",
   "id": "d0a5f770",
   "metadata": {},
   "source": [
    "특징\n",
    "- 이진검색을 사용하기 위해서는 배열이 정렬되어 있어야 한다. \n",
    "- 선형 검색보다 검색 속도가 빠르다.\n",
    "\n",
    "이진 검색 방법\n",
    "- 정렬된 배열의 가운데 원소에 주목한다. (정수의 나눗셈은 소수점 이하를 버리기 때문에 (6+7)/2 = 6이다.)\n",
    "- 주목한 원소를 기준으로 더 크면 검색 범위를 주목한 원소 이후부터로 간주할 수 있다.\n",
    "\n",
    "이진 검색의 종료 조건\n",
    "(pc : 중앙 요소, pl : 맨 왼쪽 요소, pr: 맨 오른쪽 요소)\n",
    "1. a[pc]와 key가 일치하는 경우\n",
    "2. pc와 pl의 순서가 뒤집혀 더이상 검색할 범위가 없는 경우"
   ]
  },
  {
   "cell_type": "markdown",
   "id": "e8b73427",
   "metadata": {},
   "source": [
    "이진 검색 알고리즘\n",
    "\n",
    "반복문 종료 조건\n",
    "1. a[pc]가 key일 때\n",
    "2. pc < pl일 때\n",
    "\n",
    "1. pc, pr, pl 지정\n",
    "2. a[pc]값과 비교 (클 때, 작을 때, 같을 때 각각 처리)"
   ]
  },
  {
   "cell_type": "code",
   "execution_count": 20,
   "id": "f681267c",
   "metadata": {},
   "outputs": [
    {
     "name": "stdout",
     "output_type": "stream",
     "text": [
      "원소 수를 입력하세요: 3\n",
      "배열 데이터를 오름차순으로 입력하세요: \n",
      "x[0]: 4\n",
      "x[1]: 1\n",
      "x[1]: 1\n",
      "x[1]: 5\n",
      "x[2]: 6\n",
      "검색할 값을 입력하세요: 3\n",
      "찾는 숫자가 없습니다.\n"
     ]
    }
   ],
   "source": [
    "from typing import Any, Sequence\n",
    "\n",
    "def bin_search(a: Sequence, key: Any) -> int:\n",
    "    pr = len(a) - 1\n",
    "    pl = 0\n",
    "    while True:\n",
    "        pc = (pr + pl) // 2\n",
    "        if a[pc] == key:\n",
    "            return pc\n",
    "        elif a[pc] > key:\n",
    "            pr = pc - 1\n",
    "        elif a[pc] < key:\n",
    "            pl = pc + 1\n",
    "        if pr < pl:\n",
    "            return -1\n",
    "\n",
    "if __name__ == '__main__':\n",
    "    num = int(input('원소 수를 입력하세요: '))\n",
    "    x = [None] * num\n",
    "    \n",
    "    print('배열 데이터를 오름차순으로 입력하세요: ')\n",
    "    \n",
    "    x[0] = int(input('x[0]: '))\n",
    "    \n",
    "    for i in range(1, num):\n",
    "        while True:\n",
    "            x[i] = int(input(f'x[{i}]: '))\n",
    "            if x[i] >= x[i - 1]:\n",
    "                break\n",
    "        \n",
    "    \n",
    "    ky = int(input('검색할 값을 입력하세요: '))\n",
    "    \n",
    "    idx = bin_search(x, ky)\n",
    "    \n",
    "    print('찾는 숫자가 없습니다.' if idx == -1 else idx)"
   ]
  },
  {
   "cell_type": "markdown",
   "id": "343d10a3",
   "metadata": {},
   "source": [
    "### 파이썬에서의 index() 함수를 이용한 이진 검색\n",
    "\n",
    "리스트 또는 튜플에서 다음과 같이 index() 함수를 수행할 수 있다.\n",
    "```python\n",
    "obj = [1,2,3]\n",
    "obj.index(x, i, j) \n",
    "```\n",
    "\n",
    "- i와 j 사이에 x와 값이 같은 원소가 있으면 그 가운데 가장 작은 인덱스(여러개일 경우 가장 앞에 나오는 인덱스) 반환\n",
    "- x와 값이 같은 원소가 없으면 valueError 발생"
   ]
  },
  {
   "cell_type": "code",
   "execution_count": 22,
   "id": "f07ebfd5",
   "metadata": {},
   "outputs": [
    {
     "name": "stdout",
     "output_type": "stream",
     "text": [
      "1\n"
     ]
    }
   ],
   "source": [
    "obj = [1, 2, 3]\n",
    "print(obj.index(2, 0, 2))"
   ]
  }
 ],
 "metadata": {
  "kernelspec": {
   "display_name": "Python 3 (ipykernel)",
   "language": "python",
   "name": "python3"
  },
  "language_info": {
   "codemirror_mode": {
    "name": "ipython",
    "version": 3
   },
   "file_extension": ".py",
   "mimetype": "text/x-python",
   "name": "python",
   "nbconvert_exporter": "python",
   "pygments_lexer": "ipython3",
   "version": "3.10.3"
  }
 },
 "nbformat": 4,
 "nbformat_minor": 5
}
