{
 "cells": [
  {
   "cell_type": "markdown",
   "id": "95c9c569",
   "metadata": {},
   "source": [
    "# 해시법 (오픈 주소법)"
   ]
  },
  {
   "cell_type": "markdown",
   "id": "ec7b0d1e",
   "metadata": {},
   "source": [
    "오픈 주소법은 충돌이 발생할 때 해결하는 방법으로 재해시를 수행하여 빈 버킷을 찾는 방법이며, 닫힌 해시법이라고도 한다.\n",
    "\n",
    "오픈 주소법은 빈 버킷이 나올 때까지 재해시를 반복하므로 선형탐사법이라고도 한다."
   ]
  },
  {
   "cell_type": "markdown",
   "id": "f1bce708",
   "metadata": {},
   "source": [
    "### 원소 추가하기\n",
    "\n",
    "재해시 함수는 자유롭게 정할 수 있다. 예를 들어 키에 1을 더하여 전체 개수로 나눈 나머지를 사용하는 등의 방법이 있다."
   ]
  },
  {
   "cell_type": "markdown",
   "id": "0f9ac894",
   "metadata": {},
   "source": [
    "### 원소 삭제하기"
   ]
  },
  {
   "cell_type": "markdown",
   "id": "02a608ed",
   "metadata": {},
   "source": [
    "단순히 인덱스에 해당하는 버킷만을 삭제하면 안된다. 해당 인덱스에서 재해시 되었을 수 있기 때문에 단순히 삭제만 한다면 그 인덱스로부터 재해시된 데이터가 있는지 알 수 없다. 따라서 삭제가 되었음을 표시해 둠으로써 원소를 검색할 때 제대로 검색을 완료할 수 있다.\n",
    "\n",
    "(ex)\n",
    "\n",
    "![오픈 주소법](https://user-images.githubusercontent.com/40788586/90313618-e3c1f500-df48-11ea-9528-17bd5d3c9fad.png)"
   ]
  },
  {
   "cell_type": "markdown",
   "id": "5b07bb63",
   "metadata": {},
   "source": [
    "위의 그림과 같이 18을 13으로 나눈 나머지로 해시하면 5가 된다. 이때 value로 5를 갖는 원소가 이미 key 5번에 들어가 있기 때문에 충돌이 발생한다. 따라서 (18+1) % 13으로 해시하여 인덱스 6번을 확인하고, 여기서도 충돌이 발생하여 7번 버킷에 삽입된다. 이렇게 되면 5를 삭제해버리고 18을 검색할 경우 18을 해시한 결과인 5의 원소가 없으므로 18이 버킷에 들어있지 않다고 생각할 수 있다. 따라서 삭제가 되었음을 표시해줌으로써 18을 찾기 위해 재해시를 하도록 유도할 수 있다."
   ]
  },
  {
   "cell_type": "markdown",
   "id": "797f1119",
   "metadata": {},
   "source": [
    "## 오픈 주소법으로 해시 함수 구현"
   ]
  },
  {
   "cell_type": "code",
   "execution_count": 3,
   "id": "93c7166b",
   "metadata": {},
   "outputs": [],
   "source": [
    "# 모듈 import\n",
    "\n",
    "from __future__ import annotations\n",
    "from typing import Any, Type\n",
    "from enum import Enum\n",
    "import hashlib"
   ]
  },
  {
   "cell_type": "code",
   "execution_count": 4,
   "id": "7de1d545",
   "metadata": {},
   "outputs": [],
   "source": [
    "# 버킷의 속성\n",
    "class Status(Enum):\n",
    "    OCCUPIED = 0 # 데이터 저장\n",
    "    EMPTY = 1 # 비어 있음\n",
    "    DELETED = 2 # 삭제 완료"
   ]
  },
  {
   "cell_type": "code",
   "execution_count": 5,
   "id": "f2d6db3a",
   "metadata": {},
   "outputs": [],
   "source": [
    "# 해시를 구성하는 버킷\n",
    "class Bucket:\n",
    "    def __init__(self, key: Any = None, value: Any = None,\n",
    "                        stat: Status = Status.EMPTY)->None:\n",
    "        self.key = key\n",
    "        self.value = value\n",
    "        self.stat = stat\n",
    "    \n",
    "    def set(self, key: Any, value: Any, stat: Status)->None:\n",
    "        self.key = key\n",
    "        self.value = value\n",
    "        self.stat = stat\n",
    "    \n",
    "    def set_status(self, stat: Status)->None:\n",
    "        self.stat = stat\n",
    "    \n",
    "# 오픈 주소법으로 구현하는 해시 클래스\n",
    "class OpenHash:\n",
    "    def __init__(self, capacity: int) -> None:\n",
    "        self.capacity = capacity\n",
    "        self.table = [None] * self.capacity\n",
    "        \n",
    "    def hash_value(self, key: Any) -> int:\n",
    "        \"\"\"해시값을 구함\"\"\"\n",
    "        if isinstance(key, int):\n",
    "            return key % self.capacity\n",
    "        return (int(hashlib.md5(str(key).encode().hexdigest(), 16) % self.capacity))\n",
    "    \n",
    "    def rehash_value(self, key: Any) -> int:\n",
    "        \"\"\"재해시값을 구함\"\"\"\n",
    "        return(self.hash_value(key) + 1) % self.capacity\n",
    "    \n",
    "    def search_node(self, key: Any) -> Any:\n",
    "        hash = self.hash_value(key)\n",
    "        p = self.table[hash]\n",
    "        \n",
    "        for i in range(self.capacity):\n",
    "            if p.stat == Status.EMPTY:\n",
    "                break\n",
    "            elif p.stat == Status.OCCUPIED and p.key == key:\n",
    "                return p\n",
    "            hash = self.rehash_value(hash)\n",
    "            p = self.table[hash]\n",
    "        return None\n",
    "    \n",
    "    def search(self, key: Any)->Any:\n",
    "        p = self.search_node(key)\n",
    "        if p is not None:\n",
    "            return p.value\n",
    "        else:\n",
    "            return None\n",
    "    \n",
    "    def add(self, key: Any, value: Any)->bool:\n",
    "        if self.search(key) is not None:\n",
    "            return False\n",
    "        \n",
    "        hash = self.table[hash]\n",
    "        for i in range(self.capacity):\n",
    "            if p.stat == Status.EMPTY or p.stat == Status.DELETED:\n",
    "                self.table[hash] = Bucket(key, value, Stuatus.OCCUPIED)\n",
    "                return True\n",
    "            hash = self.rehash_value(hash)\n",
    "            p = self.table[hash]\n",
    "        return false\n",
    "    \n",
    "    def remove(self, key: Any)->bool:\n",
    "        p = self.search_node(key)\n",
    "        if p is None:\n",
    "            return False\n",
    "        p.set_status(Status.DELETED)\n",
    "        return True"
   ]
  },
  {
   "cell_type": "code",
   "execution_count": null,
   "id": "f563c204",
   "metadata": {},
   "outputs": [],
   "source": []
  }
 ],
 "metadata": {
  "kernelspec": {
   "display_name": "Python 3 (ipykernel)",
   "language": "python",
   "name": "python3"
  },
  "language_info": {
   "codemirror_mode": {
    "name": "ipython",
    "version": 3
   },
   "file_extension": ".py",
   "mimetype": "text/x-python",
   "name": "python",
   "nbconvert_exporter": "python",
   "pygments_lexer": "ipython3",
   "version": "3.10.3"
  }
 },
 "nbformat": 4,
 "nbformat_minor": 5
}
