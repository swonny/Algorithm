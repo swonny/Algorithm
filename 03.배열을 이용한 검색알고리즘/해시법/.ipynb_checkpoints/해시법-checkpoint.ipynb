{
 "cells": [
  {
   "cell_type": "markdown",
   "id": "629dc357",
   "metadata": {},
   "source": [
    "# 해시법"
   ]
  },
  {
   "cell_type": "markdown",
   "id": "f309af6b",
   "metadata": {},
   "source": [
    "해시법은 검색, 추가, 삭제 모두 효율적으로 수행할 수 있는 검색 방법이다.\n",
    "\n",
    "해시법은 '데이터를 저장할 위치(인덱스)'를 간단한 연산으로 구하는 것이다.<br/>\n",
    "\n",
    "해시법을 사용하면 데이터의 삭제 또는 추가 시 남은 배열을 모두 옮길 필요가 없이, 해시 함수를 통해 나온 인덱스의 위치에 대입하면 되기 때문에 원소를 이동하는 연산을 줄일 수 있다는 장점이 있다. <br/>\n",
    "\n",
    "예를 들어 ```a = [1, 2, 3, 4, 5, 6, 7, 8]```과 같은 배열이 있을 때 원소의 개수인 8로 원소의 값을 나눈 나머지를 계산하면 ```1, 2, 3, 4, 5, 6, 7, 0```의 결과를 얻을 수 있다. 이때 이 나머지 값들이 각 요소의 인덱스가 되고, 이 결과(해시 테이블에서 만들어진 원소)를 버킷이라고 한다."
   ]
  },
  {
   "cell_type": "markdown",
   "id": "ef6f22b1",
   "metadata": {},
   "source": [
    "### 해시 충돌"
   ]
  },
  {
   "cell_type": "markdown",
   "id": "c8ba450d",
   "metadata": {},
   "source": [
    "해시 함수의 키와 해시값은 보통 n:1이다. 따라서 같은 버킷값이 나올 수 있고, 이것을 해시 충돌이라고 한다.<br/>\n",
    "\n",
    "\n",
    "해시 충돌을 해결할 수 있는 방법 두 가지\n",
    "1. 체인법 : 해시값이 같은 원소를 연결 리스트로 관리한다.\n",
    "2. 오픈 주소법 : 빈 버킷을 찾을 때까지 해시를 반복한다."
   ]
  },
  {
   "cell_type": "markdown",
   "id": "06979291",
   "metadata": {},
   "source": [
    "### 체인법\n",
    "\n",
    "체인법은 아래 그림과 같이 각 버킷에 해당하는 해시값을 갖는 요소들을 연결리스트로 연결하여 저장한다.\n",
    "\n",
    "(책에 적힌 표현 : 각 버킷은 '해시값이 같은 노드를 연결한 리스트'의 앞쪽 노드를 참조한다.)<br/>\n",
    "버킷에 연결된 연결리스트가 없거나 연결리스트의 마지막 요소라면 다음 포인터는 None이 된다."
   ]
  },
  {
   "cell_type": "markdown",
   "id": "96653d9c",
   "metadata": {},
   "source": [
    "![체인법](https://encrypted-tbn0.gstatic.com/images?q=tbn:ANd9GcSH5X8rSb3RM2Dg3eK41nydYNMCQo2MiaQusA&usqp=CAU)"
   ]
  },
  {
   "cell_type": "code",
   "execution_count": 31,
   "id": "a54be2f5",
   "metadata": {},
   "outputs": [],
   "source": [
    "# 체인법으로 해시 함수 구현하기\n",
    "\n",
    "from __future__ import annotations\n",
    "from typing import Any, Type\n",
    "import hashlib\n",
    "\n",
    "class Node:\n",
    "    def __init__(self, key: Any, value: Any, next: Node)-> None:\n",
    "        self.key = key\n",
    "        self.value = value\n",
    "        self.next = next"
   ]
  },
  {
   "cell_type": "code",
   "execution_count": 32,
   "id": "9f961377",
   "metadata": {},
   "outputs": [],
   "source": [
    "class ChainedHash:\n",
    "    def __init__(self, capacity: int) -> None:\n",
    "        self.capacity = capacity\n",
    "        self.table = [None] * self.capacity\n",
    "    \n",
    "    def hash_value(self, key: Any)-> int:\n",
    "        if isinstance(key, int):\n",
    "            return key % self.capacity\n",
    "        return (int(hashlib.sha256(str(key)).encode()).hexdigest(), 16) % self.capacity"
   ]
  },
  {
   "cell_type": "markdown",
   "id": "f7805fe9",
   "metadata": {},
   "source": [
    "### 해시 함수 구현 방법 두 가지\n",
    "**1. key가 int형인 경우<br/>**\n",
    "key가 int 형이라면 각 요소를 capacity로 나누어 나머지에 해당하는 버킷에 연결하면 된다. 예를 들어 key가 int형이고 키를 13으로 나눈 나머지가 해시값이 된다.\n",
    "<br/>\n",
    "<br/>\n",
    "<br/>\n",
    "**2. key가 int형이 아닌 경우<br/>**\n",
    "문자열, 리스트, 클래스형의 경우 key를 capacity로 나눌 수 없다. 따라서 다음과 같은 파이썬의 표준 라이브러리를 사용해야 한다.\n",
    "\n",
    "- sha256 알고리즘 : 주어진 바이트 문자열의 해시값을 구하는 해시 알고리즘의 생성자이다.\n",
    "\n",
    "- encode() 함수 : hashlib.sha256에는 바이트 문자열의 인수를 전달해야 한다. 따라서 key를 str형 문자열로 변환한 뒤 그 문자열을 encode() 함수에 전달하여 바이트 문자열을 생성한다.\n",
    "\n",
    "- hexdigest() 함수 : sha256 알고리즘에서 해시값을 16진수 문자열로 꺼낸다.\n",
    "\n",
    "- int() 함수 : hexdigest() 함수로 꺼낸 문자열을 16진수 문자열로 하는 int형으로 변환한다."
   ]
  },
  {
   "cell_type": "markdown",
   "id": "b1426cac",
   "metadata": {},
   "source": [
    "### search(), add() , remove(), dump() 함수의 구현\n",
    "\n",
    "**[search() 함수]**\n",
    "1. 해시 함수를 사용하여 키를 해시값으로 변환한다.\n",
    "2. 키에 해당하는 인덱스로 하는 버킷에 주목한다.\n",
    "3. 주목한 버킷에 연결되어있는 연결리스트를 스캔한다. 만약 None을 참조하는 요소까지 갔는데도 없다면 검색 실패이다.\n",
    "\n",
    "**C와 다른 점**\n",
    "노드를 연결할 때 그냥 대입하면 된다.<br/>\n",
    "Node.next에 이미 만들어진 연결리스트를 대입하고, table[hash]에 새로 연결할 노드를 대입하면 새로 저장한 노드를 연결리스트의 맨 앞에 추가할 수 있다."
   ]
  },
  {
   "cell_type": "code",
   "execution_count": 33,
   "id": "d12c3dc9",
   "metadata": {},
   "outputs": [],
   "source": [
    "# 위의 코드에 연결\n",
    "\n",
    "class ChainedHash:\n",
    "    def __init__(self, capacity: int) -> None:\n",
    "        self.capacity = capacity\n",
    "        self.table = [None] * self.capacity\n",
    "    \n",
    "    def hash_value(self, key: Any)-> int:\n",
    "        if isinstance(key, int):\n",
    "            return key % self.capacity\n",
    "        return (int(hashlib.sha256(str(key)).encode()).hexdigest(), 16) % self.capacity\n",
    "    \n",
    "    def search(self, key: Any)->int:\n",
    "        hash = self.hash_value(key)\n",
    "        curNode = self.table[hash]\n",
    "        while curNode is not None:\n",
    "            if curNode.key == key:\n",
    "                return curNode.value\n",
    "            curNode = curNode.next\n",
    "        \n",
    "        return None\n",
    "    \n",
    "    def add(self, key: Any, value: Any)->bool:\n",
    "        hash = self.hash_value(key)\n",
    "        curNode = self.table[hash]\n",
    "        \n",
    "        while curNode is not None:\n",
    "            if curNode.key == key:\n",
    "                return False\n",
    "            curNode = curNode.next\n",
    "        \n",
    "        tmp = Node(key, value, self.table[hash])\n",
    "        self.table[hash] = tmp\n",
    "        return True  \n",
    "    \n",
    "    def remove(self, key: Any, value: Any)->bool:\n",
    "        hash = self.hash_value(key)\n",
    "        curNode = self.table[hash]\n",
    "        pp = None # 바로 앞 노드\n",
    "        \n",
    "        "
   ]
  },
  {
   "cell_type": "markdown",
   "id": "5d1338f8",
   "metadata": {},
   "source": [
    "**[dump() 함수]**\n",
    "dump() 함수는 해시 테이블의 내용을 모두 출력하는 것이다."
   ]
  },
  {
   "cell_type": "code",
   "execution_count": 34,
   "id": "d8588bfc",
   "metadata": {},
   "outputs": [],
   "source": [
    "# 위의 코드에 연결\n",
    "\n",
    "class ChainedHash:\n",
    "    def __init__(self, capacity: int) -> None:\n",
    "        self.capacity = capacity\n",
    "        self.table = [None] * self.capacity\n",
    "    \n",
    "    def hash_value(self, key: Any)-> int:\n",
    "        if isinstance(key, int):\n",
    "            return key % self.capacity\n",
    "        return (int(hashlib.sha256(str(key)).encode()).hexdigest(), 16) % self.capacity\n",
    "    \n",
    "    def search(self, key: Any)->int:\n",
    "        hash = self.hash_value(key)\n",
    "        curNode = self.table[hash]\n",
    "        while curNode is not None:\n",
    "            if curNode.key == key:\n",
    "                return curNode.value\n",
    "            curNode = curNode.next\n",
    "        \n",
    "        return None\n",
    "    \n",
    "    def add(self, key: Any, value: Any)->bool:\n",
    "        hash = self.hash_value(key)\n",
    "        curNode = self.table[hash]\n",
    "        \n",
    "        while curNode is not None:\n",
    "            if curNode.key == key:\n",
    "                return False\n",
    "            curNode = curNode.next\n",
    "        \n",
    "        tmp = Node(key, value, self.table[hash])\n",
    "        self.table[hash] = tmp\n",
    "        return True  \n",
    "    \n",
    "    def remove(self, key: Any, value: Any)->bool:\n",
    "        hash = self.hash_value(key)\n",
    "        curNode = self.table[hash]\n",
    "        pp = None # 바로 앞 노드\n",
    "        \n",
    "    \n",
    "    def dump(self)->None:\n",
    "        for i in range(self.capacity):\n",
    "            curNode = self.table[i]\n",
    "            while curNode is not None:\n",
    "                print(curNode.value)\n",
    "                curNode = curNode.nesxt\n",
    "            print()\n",
    "        "
   ]
  },
  {
   "cell_type": "code",
   "execution_count": 37,
   "id": "e1d44348",
   "metadata": {},
   "outputs": [
    {
     "name": "stdout",
     "output_type": "stream",
     "text": [
      "(1)추가   (2)삭제   (3)검색   (4)덤프   (5)종료: 1\n",
      "추가할 키를 입력하세요: 0\n",
      "추가할 값을 입력하세요: hello\n",
      "(1)추가   (2)삭제   (3)검색   (4)덤프   (5)종료: 0\n",
      "(1)추가   (2)삭제   (3)검색   (4)덤프   (5)종료: 1\n",
      "추가할 키를 입력하세요: 0\n",
      "추가할 값을 입력하세요: world\n",
      "추가를 실패했습니다.\n",
      "(1)추가   (2)삭제   (3)검색   (4)덤프   (5)종료: 1\n",
      "추가할 키를 입력하세요: 1\n",
      "추가할 값을 입력하세요: helw\n",
      "(1)추가   (2)삭제   (3)검색   (4)덤프   (5)종료: 1\n",
      "추가할 키를 입력하세요: 0\n",
      "추가할 값을 입력하세요: 123\n",
      "추가를 실패했습니다.\n",
      "(1)추가   (2)삭제   (3)검색   (4)덤프   (5)종료: 3\n",
      "검색할 키를 입력하세요: 0\n"
     ]
    },
    {
     "ename": "NameError",
     "evalue": "name 'none' is not defined",
     "output_type": "error",
     "traceback": [
      "\u001b[0;31m---------------------------------------------------------------------------\u001b[0m",
      "\u001b[0;31mNameError\u001b[0m                                 Traceback (most recent call last)",
      "Input \u001b[0;32mIn [37]\u001b[0m, in \u001b[0;36m<cell line: 15>\u001b[0;34m()\u001b[0m\n\u001b[1;32m     25\u001b[0m key \u001b[38;5;241m=\u001b[39m \u001b[38;5;28mint\u001b[39m(\u001b[38;5;28minput\u001b[39m(\u001b[38;5;124m'\u001b[39m\u001b[38;5;124m검색할 키를 입력하세요: \u001b[39m\u001b[38;5;124m'\u001b[39m))\n\u001b[1;32m     26\u001b[0m t \u001b[38;5;241m=\u001b[39m \u001b[38;5;28mhash\u001b[39m\u001b[38;5;241m.\u001b[39msearch(key)\n\u001b[0;32m---> 27\u001b[0m \u001b[38;5;28;01mif\u001b[39;00m t \u001b[38;5;129;01mis\u001b[39;00m \u001b[38;5;129;01mnot\u001b[39;00m \u001b[43mnone\u001b[49m:\n\u001b[1;32m     28\u001b[0m     \u001b[38;5;28mprint\u001b[39m(\u001b[38;5;124mf\u001b[39m\u001b[38;5;124m'\u001b[39m\u001b[38;5;124m검색한 키를 갖는 값은 \u001b[39m\u001b[38;5;132;01m{\u001b[39;00mt\u001b[38;5;132;01m}\u001b[39;00m\u001b[38;5;124m입니다.\u001b[39m\u001b[38;5;124m'\u001b[39m)\n\u001b[1;32m     29\u001b[0m \u001b[38;5;28;01melse\u001b[39;00m:\n",
      "\u001b[0;31mNameError\u001b[0m: name 'none' is not defined"
     ]
    }
   ],
   "source": [
    "from enum import Enum\n",
    "\n",
    "Menu = Enum('Menu', ['추가', '삭제', '검색', '덤프', '종료'])\n",
    "\n",
    "def select_menu()-> Menu:\n",
    "    s = [f'({m.value}){m.name}' for m in Menu]\n",
    "    while True:\n",
    "        print(*s, sep = '   ', end='')\n",
    "        n = int(input(': '))\n",
    "        if 1 <= n <= len(Menu):\n",
    "            return Menu(n)\n",
    "        \n",
    "hash = ChainedHash(13)        \n",
    "\n",
    "while True:\n",
    "    menu = select_menu()\n",
    "    \n",
    "    if menu == Menu.추가:\n",
    "        key = int(input('추가할 키를 입력하세요: '))\n",
    "        val = input('추가할 값을 입력하세요: ')\n",
    "        if not hash.add(key, val):\n",
    "            print('추가를 실패했습니다.')\n",
    "    \n",
    "    elif menu == Menu.검색:\n",
    "        key = int(input('검색할 키를 입력하세요: '))\n",
    "        t = hash.search(key)\n",
    "        if t is not None:\n",
    "            print(f'검색한 키를 갖는 값은 {t}입니다.')\n",
    "        else:\n",
    "            print('검색할 데이터가 없습니다.')\n",
    "    \n",
    "    elif menu == Menu.덤포:\n",
    "        hash.dump()\n",
    "    \n",
    "    else:\n",
    "        break"
   ]
  },
  {
   "cell_type": "code",
   "execution_count": null,
   "id": "2ced0f48",
   "metadata": {},
   "outputs": [],
   "source": []
  },
  {
   "cell_type": "code",
   "execution_count": null,
   "id": "aa9153bf",
   "metadata": {},
   "outputs": [],
   "source": []
  }
 ],
 "metadata": {
  "kernelspec": {
   "display_name": "Python 3 (ipykernel)",
   "language": "python",
   "name": "python3"
  },
  "language_info": {
   "codemirror_mode": {
    "name": "ipython",
    "version": 3
   },
   "file_extension": ".py",
   "mimetype": "text/x-python",
   "name": "python",
   "nbconvert_exporter": "python",
   "pygments_lexer": "ipython3",
   "version": "3.10.3"
  }
 },
 "nbformat": 4,
 "nbformat_minor": 5
}
