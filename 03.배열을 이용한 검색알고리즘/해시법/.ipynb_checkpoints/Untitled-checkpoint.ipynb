{
 "cells": [
  {
   "cell_type": "markdown",
   "id": "2c426ee0",
   "metadata": {},
   "source": [
    "# 해시법 (오픈 주소법)"
   ]
  },
  {
   "cell_type": "markdown",
   "id": "fac30090",
   "metadata": {},
   "source": [
    "오픈 주소법은 충돌이 발생할 때 해결하는 방법으로 재해시를 수행하여 빈 버킷을 찾는 방법이며, 닫힌 해시법이라고도 한다."
   ]
  },
  {
   "cell_type": "markdown",
   "id": "af8ae295",
   "metadata": {},
   "source": [
    "### 원소 추가하기\n",
    "\n",
    "재해시 함수는 자유롭게 정할 수 있다. 예를 들어 키에 1을 더하여 전체 개수로 나눈 나머지를 사용하는 등의 방법이 있다."
   ]
  },
  {
   "cell_type": "markdown",
   "id": "d0c93851",
   "metadata": {},
   "source": [
    "### 원소 삭제하기"
   ]
  },
  {
   "cell_type": "markdown",
   "id": "64300552",
   "metadata": {},
   "source": [
    "단순히 인덱스에 해당하는 버킷만을 삭제하면 안된다. 해당 인덱스에서 재해시 되었을 수 있기 때문에 단순히 삭제만 한다면 그 인덱스로부터 재해시된 데이터가 있는지 알 수 없다. 따라서 삭제가 되었음을 표시해 둠으로써 원소를 검색할 때 제대로 검색을 완료할 수 있다.\n",
    "\n",
    "(ex)\n",
    "\n",
    "![오픈 주소법](https://user-images.githubusercontent.com/40788586/90313618-e3c1f500-df48-11ea-9528-17bd5d3c9fad.png)"
   ]
  },
  {
   "cell_type": "markdown",
   "id": "722a97fb",
   "metadata": {},
   "source": [
    "위의 그림과 같이 18을 13으로 나눈 나머지로 해시하면 5가 된다. 이때 value로 5를 갖는 원소가 이미 key 5번에 들어가 있기 때문에 충돌이 발생한다. 따라서 (18+1) % 13으로 해시하여 인덱스 6번을 확인하고, 여기서도 충돌이 발생하여 "
   ]
  }
 ],
 "metadata": {
  "kernelspec": {
   "display_name": "Python 3 (ipykernel)",
   "language": "python",
   "name": "python3"
  },
  "language_info": {
   "codemirror_mode": {
    "name": "ipython",
    "version": 3
   },
   "file_extension": ".py",
   "mimetype": "text/x-python",
   "name": "python",
   "nbconvert_exporter": "python",
   "pygments_lexer": "ipython3",
   "version": "3.10.3"
  }
 },
 "nbformat": 4,
 "nbformat_minor": 5
}
