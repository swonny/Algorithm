{
 "cells": [
  {
   "cell_type": "markdown",
   "id": "146e4533",
   "metadata": {},
   "source": [
    "# 힙 정렬"
   ]
  },
  {
   "cell_type": "markdown",
   "id": "62a85115",
   "metadata": {},
   "source": [
    "힙은 부모와 자식 간의 대소 관계가 모든 노드에 대해 한 방향인 완전 이진 트리이다.<br/>\n",
    "즉, 다음 두 가지 규칙 중 하나만을 만족하는 트리이다.<br/>\n",
    "1. 부모 노드가 항상 자식 노드보다 크다.\n",
    "2. 부모 노드가 항상 자식 노드보다 작다.\n",
    "\n",
    "힙에서는 부모와 자식 간의 대소 관계만 따지기 때문에 형제 간의 대소 관계는 따지지 않는다. 따라서 힙은 형제의 대소 관계가 정해져 있지 않다는 의미에서 부분 순서 트리라고도 한다."
   ]
  },
  {
   "cell_type": "markdown",
   "id": "ef5c4b3b",
   "metadata": {},
   "source": [
    "### <span style='color: green'>트리</span>\n",
    "\n",
    "- 이진 트리 : 부모가 가질 수 있는 자식 노드의 개수가 최대 2개인 것\n",
    "- 완전 이진 트리 : '완전'은 부모는 왼쪽 자식부터 추가하여 모양을 유지하라는 의미"
   ]
  },
  {
   "cell_type": "markdown",
   "id": "99f9088d",
   "metadata": {},
   "source": [
    "### 힙과 배열의 원소 대응\n",
    "\n",
    "루트부터 시작하여 왼쪽 -> 오른쪽 노드의 순서로 배열에 저장하면 완전 이진 트리 구조를 배열에 저장할 수 있으며 인덱스 규칙은 다음과 같다.<br/>\n",
    "- **부모** : ```a[(i - 1) //2]```\n",
    "- **왼쪽 자식** : ```a[i * 2 + 1]```\n",
    "- **오른쪽 자식** : ```a[i * 2 + 2]```\n",
    "\n"
   ]
  },
  {
   "cell_type": "markdown",
   "id": "3bcb678c",
   "metadata": {},
   "source": [
    "### 루트를 삭제한 힙의 재구성\n",
    "\n",
    "루트를 삭제한 힙을 다시 힙으로 만들기 위해서는 힙의 노드 중 가장 작은 값을 갖는 노드를 루트 노드로 옮긴 뒤 루트에서 알맞은 위치를 찾아가면 된다.<br/>\n",
    "알맞은 위치를 찾기 위해서는 두 자식 노드와 가장 작은 노드에 해당하는 루트 노드를 비교하면서 세 노드 중 가장 큰 값이 부모 노드를 차지하도록 교환하면 된다. 이때 루트 노드가 리프 노드가 되어 더이상 교환할 자식이 없거나 자식 노드 중 자신보다 더 큰 자식 노드가 없다면 이동을 중단한다.\n",
    "\n",
    "**[루트를 삭제한 힙의 재구성]**\n",
    "1. 루트 노드를 삭제한다.\n",
    "2. 가장 마지막에 위치한 가장 작은 원소를 루트 노드로 이동시킨다.\n",
    "3. 루트 노드부터 자식노드와 대소 관계를 따져 알맞은 위치로 이동시킨다.\n",
    "4. 이동한 루트 노드가 리프 노드가 되었거나 자식 노드 중 자신보다 큰 노드가 없다면 이동을 중단한다."
   ]
  },
  {
   "cell_type": "markdown",
   "id": "472f78ad",
   "metadata": {},
   "source": [
    "## 힙 정렬 알고리즘"
   ]
  },
  {
   "cell_type": "markdown",
   "id": "b2d2e238",
   "metadata": {},
   "source": [
    "힙을 이용하여 정렬하는 방법은 다음과 같다.\n",
    "\n",
    "**[알고리즘]**\n",
    "1. 힙에서 가장 큰 값의 노드를 꺼내 배열의 가장 마지막 노드와 교환한다. (노드를 삭제하는 것으로 간주 - 정렬된 영역의 인덱스 관리 필요)\n",
    "2. 마지막 노드를 제외한 나머지 노드로 다시 힙을 재구성한다.\n",
    "3. 힙이 재구성되면 1, 2번을 반복하여 모두 정렬이 완료될 때 종료한다.\n",
    "\n",
    "<br/>\n",
    "\n",
    "$n$ : 배열의 원소 수<br/>\n",
    "$i$ : 배열의 마지막 인덱스<br/>\n",
    "\n",
    "<br/>\n",
    "\n",
    "**while문 시작<br/>**\n",
    "\n",
    "1. $i = n - 1$ 로 지정<br/>\n",
    "2. heap[0] 과 heap[i] 를 교환<br/>\n",
    "3. heap[0] ~ heap[i - 1]까지 힙 재구성\n",
    "4. i가 0이 되면 종료"
   ]
  },
  {
   "cell_type": "markdown",
   "id": "2057af6a",
   "metadata": {},
   "source": [
    "### 배열을 힙으로 만들기\n",
    "\n",
    "힙 정렬 알고리즘은 주어진 배열이 힙이라는 가정 하에 사용할 수 있는 방법이다. 따라서 주어진 배열을 힙으로 만들기 위한 알고리즘은 다음과 같다.\n",
    "\n",
    "**[알고리즘]**\n",
    "1. 가장 하단의 서브트리를 힙으로 구성한다. \n",
    "2. 하단의 모든 서브트리를 힙으로 만들면 서브 트리들의 부모 노드를 알맞은 위치로 이동시키는 방식으로 힙을 구성한다."
   ]
  },
  {
   "cell_type": "code",
   "execution_count": 20,
   "id": "e5fc3379",
   "metadata": {
    "scrolled": true
   },
   "outputs": [
    {
     "name": "stdout",
     "output_type": "stream",
     "text": [
      "[10, 9, 5, 8, 3, 2, 4, 6, 7, 1]\n",
      "[9, 8, 5, 7, 3, 2, 4, 6, 1, 10]\n"
     ]
    }
   ],
   "source": [
    "# 힙 정렬 알고리즘 구현하기 - 내가 짠 코드\n",
    "\n",
    "def arr_to_heap(a, left: int, right: int):\n",
    "    \"\"\"정해진 범위의 배열을 힙으로 만들기\"\"\"\n",
    "    parent = left\n",
    "    biggerIdx = -1\n",
    "    while (parent * 2 + 1) <= right:\n",
    "        try:\n",
    "            biggerIdx = (parent * 2 + 1) if a[parent * 2 + 1] > a[parent * 2 + 2] else parent * 2 + 2\n",
    "        except IndexError:\n",
    "            biggerIdx = parent * 2 + 1\n",
    "        if a[biggerIdx] > a[parent]:\n",
    "            a[biggerIdx], a[parent] = a[parent], a[biggerIdx]\n",
    "            parent = biggerIdx\n",
    "        else:\n",
    "            break\n",
    "            \n",
    "def heap_sort(a, left, right):\n",
    "    \"\"\"힙 정렬\"\"\"\n",
    "    a[0], a[right] = a[right], a[0]\n",
    "    right -= 1\n",
    "    arr_to_heap(a, left, right)\n",
    "    print(a)\n",
    "        \n",
    "\n",
    "a = [1, 10, 5, 8, 9, 2, 4, 6, 7, 3]\n",
    "arr_to_heap(a, 0, len(a) - 1)\n",
    "print(a)\n",
    "heap_sort(a, 0, len(a) - 1)\n"
   ]
  },
  {
   "cell_type": "code",
   "execution_count": 40,
   "id": "a02e1505",
   "metadata": {},
   "outputs": [
    {
     "name": "stdout",
     "output_type": "stream",
     "text": [
      "[1, 2, 3, 4, 5, 6, 7, 8, 9, 10]\n"
     ]
    }
   ],
   "source": [
    "# step 1 : 힙으로 구성된 배열로 정렬하기\n",
    "\n",
    "def heap_sort(a, left, right):\n",
    "    \"\"\"힙 정렬\"\"\"\n",
    "    \n",
    "    def arr_to_heap(a, left: int, right: int):\n",
    "        \"\"\"정해진 범위의 배열을 힙으로 만들기\"\"\"\n",
    "        parent = left\n",
    "        biggerIdx = -1\n",
    "        while (parent * 2 + 1) <= right:\n",
    "            if parent * 2 + 2 <= right:\n",
    "                biggerIdx = (parent * 2 + 1) if a[parent * 2 + 1] > a[parent * 2 + 2] else parent * 2 + 2\n",
    "            else:\n",
    "                biggerIdx = parent * 2 + 1\n",
    "            if a[biggerIdx] > a[parent]:\n",
    "                a[biggerIdx], a[parent] = a[parent], a[biggerIdx]\n",
    "                parent = biggerIdx\n",
    "            else:\n",
    "                break\n",
    "    \n",
    "    # 힙 정렬\n",
    "    for i in range(right, - 1, -1):\n",
    "        a[0], a[i] = a[i], a[0]\n",
    "        arr_to_heap(a, 0, i - 1)\n",
    "\n",
    "a = [10, 9, 5, 8, 3, 2, 4, 6, 7, 1]\n",
    "heap_sort(a, 0, len(a) - 1)\n",
    "print(a)"
   ]
  },
  {
   "cell_type": "code",
   "execution_count": 57,
   "id": "3f836a90",
   "metadata": {
    "scrolled": true
   },
   "outputs": [
    {
     "name": "stdout",
     "output_type": "stream",
     "text": [
      "[1, 3, 4, 6, 7, 8, 9]\n"
     ]
    }
   ],
   "source": [
    "# step 2 : 일반 배열을 힙으로 구성 -> 힙 정렬 구현 (구현 완성, 개선 필요)\n",
    "\n",
    "def heap_sort(a, left, right):\n",
    "    \"\"\"힙 정렬\"\"\"\n",
    "    \n",
    "    def arr_to_heap(a, left: int, right: int):\n",
    "        \"\"\"정해진 범위의 배열을 힙으로 만들기\"\"\"\n",
    "        parent = left\n",
    "        \n",
    "        biggerIdx = -1\n",
    "        while (parent * 2 + 1) <= right:\n",
    "            if parent * 2 + 2 <= right:\n",
    "                biggerIdx = (parent * 2 + 1) if a[parent * 2 + 1] > a[parent * 2 + 2] else parent * 2 + 2\n",
    "            else:\n",
    "                biggerIdx = parent * 2 + 1\n",
    "            if a[biggerIdx] > a[parent]:\n",
    "                a[biggerIdx], a[parent] = a[parent], a[biggerIdx]\n",
    "                parent = biggerIdx\n",
    "            else:\n",
    "                break\n",
    "    # 힙 구성\n",
    "    p = (right - 1) // 2 if right % 2 == 0 else right // 2\n",
    "    for i in range(p, -1, -1):\n",
    "        tmp = i * 2 + 2 if right % 2 == 0 else i * 2 + 1\n",
    "        arr_to_heap(a, i, tmp)\n",
    "    \n",
    "    # 힙 정렬\n",
    "    for i in range(right, -1, -1):\n",
    "        a[0], a[i] = a[i], a[0]\n",
    "        arr_to_heap(a, 0, i - 1)\n",
    "\n",
    "a = [6, 4, 3, 7, 1, 9, 8]\n",
    "heap_sort(a, 0, len(a) - 1)\n",
    "print(a)"
   ]
  },
  {
   "cell_type": "markdown",
   "id": "f6329349",
   "metadata": {},
   "source": [
    "### 개선 필요\n",
    "\n",
    "1. 인덱스 개선 필요\n",
    "2. 변수명 개선 필요\n"
   ]
  },
  {
   "cell_type": "code",
   "execution_count": 64,
   "id": "7e309c8e",
   "metadata": {},
   "outputs": [
    {
     "name": "stdout",
     "output_type": "stream",
     "text": [
      "[1, 3, 4, 6, 7, 8, 9]\n"
     ]
    }
   ],
   "source": [
    "# step 2 : 일반 배열을 힙으로 구성 -> 힙 정렬 구현 2 (개선)\n",
    "\n",
    "def heap_sort(a, left, right):\n",
    "    \"\"\"힙 정렬\"\"\"\n",
    "    \n",
    "    def arr_to_heap(a, left: int, right: int):\n",
    "        \"\"\"정해진 범위의 배열을 힙으로 만들기\"\"\"\n",
    "        parent = left\n",
    "        \n",
    "        biggerIdx = -1\n",
    "        while parent < (right + 1) // 2: # 1. 부모 인덱스의 마지막까지만\n",
    "            cl = parent * 2 + 1\n",
    "            cr = parent * 2 + 2\n",
    "            child = cr if cr <= right and a[cr] > a[cl] else cl    \n",
    "            if a[parent] >= a[child]:\n",
    "                break\n",
    "            a[parent], a[child] = a[child], a[parent]\n",
    "            parent = child\n",
    "    \n",
    "    n = len(a)\n",
    "    # 힙 구성\n",
    "    for i in range((n - 1) // 2, -1, -1):\n",
    "        arr_to_heap(a, i, n - 1) # ??\n",
    "    \n",
    "    # 힙 정렬\n",
    "    for i in range(right, 0, -1): # 0까지 가면 a[0] 빼고 모두 정렬되어 있는 것이므로 정렬하지 않아도 된다.\n",
    "        a[0], a[i] = a[i], a[0] \n",
    "        arr_to_heap(a, 0, i - 1)\n",
    "\n",
    "a = [6, 4, 3, 7, 1, 9, 8]\n",
    "heap_sort(a, 0, len(a) - 1)\n",
    "print(a)"
   ]
  },
  {
   "cell_type": "code",
   "execution_count": 61,
   "id": "3844d9c6",
   "metadata": {},
   "outputs": [
    {
     "name": "stdout",
     "output_type": "stream",
     "text": [
      "[1, 2, 3, 4, 5, 6, 7, 8, 9, 10]\n"
     ]
    }
   ],
   "source": [
    "def heap_sort(a):\n",
    "    \n",
    "    \n",
    "    def down_heap(a, left, right):\n",
    "        temp = a[left]\n",
    "        \n",
    "        parent = left\n",
    "        while parent < (right + 1) // 2:\n",
    "            cl = parent  * 2 + 1\n",
    "            cr = cl + 1\n",
    "            child = cr if cr <= right and a[cr] > a[cl] else cl\n",
    "            if temp >= a[child]:\n",
    "                break\n",
    "            a[parent] = a[child]\n",
    "            parent = child\n",
    "        a[parent] = temp\n",
    "    \n",
    "    n = len(a)\n",
    "    \n",
    "    for i in range((n - 1) // 2, -1, -1):\n",
    "        down_heap(a, i, n - 1)\n",
    "        \n",
    "    for i in range(n - 1, 0, -1):\n",
    "        a[0], a[i] = a[i], a[0]\n",
    "        down_heap(a, 0, i - 1)\n",
    "        \n",
    "# a = [6, 4, 3, 7, 1, 9, 8]\n",
    "a = [10, 9, 5, 8, 3, 2, 4, 6, 7, 1]\n",
    "heap_sort(a)\n",
    "print(a)   \n"
   ]
  },
  {
   "cell_type": "markdown",
   "id": "3bccc511",
   "metadata": {},
   "source": [
    "## heapq 모듈을 사용하는 힙 정렬\n",
    "\n",
    "파이썬에서 제공하는 heapq 모듈로 heappush() 함수와 heappop() 함수를 사용하여 원소를 추가하고 제거할 수 있다. 이때 푸시와 팝을 수행하면 힙의 조건을 유지하며 수행한다."
   ]
  },
  {
   "cell_type": "code",
   "execution_count": 65,
   "id": "f084b058",
   "metadata": {},
   "outputs": [
    {
     "name": "stdout",
     "output_type": "stream",
     "text": [
      "[1, 2, 3, 4, 5, 6, 7, 8, 9, 10]\n"
     ]
    }
   ],
   "source": [
    "import heapq\n",
    "\n",
    "def heap_sort(a):\n",
    "    heap = []\n",
    "    for i in a:\n",
    "        heapq.heappush(heap, i)\n",
    "    \n",
    "    for i in range(len(a)):\n",
    "        a[i] = heapq.heappop(heap)\n",
    "        \n",
    "a = [10, 9, 5, 8, 3, 2, 4, 6, 7, 1]\n",
    "heap_sort(a)\n",
    "print(a)   "
   ]
  },
  {
   "cell_type": "code",
   "execution_count": null,
   "id": "1ac63abc",
   "metadata": {},
   "outputs": [],
   "source": []
  }
 ],
 "metadata": {
  "kernelspec": {
   "display_name": "Python 3.10.3 64-bit",
   "language": "python",
   "name": "python3"
  },
  "language_info": {
   "codemirror_mode": {
    "name": "ipython",
    "version": 3
   },
   "file_extension": ".py",
   "mimetype": "text/x-python",
   "name": "python",
   "nbconvert_exporter": "python",
   "pygments_lexer": "ipython3",
   "version": "3.10.3"
  },
  "vscode": {
   "interpreter": {
    "hash": "aee8b7b246df8f9039afb4144a1f6fd8d2ca17a180786b69acc140d282b71a49"
   }
  }
 },
 "nbformat": 4,
 "nbformat_minor": 5
}
