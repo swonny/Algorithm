{
 "cells": [
  {
   "cell_type": "markdown",
   "id": "bce37901",
   "metadata": {},
   "source": [
    "# 병합 정렬"
   ]
  },
  {
   "cell_type": "markdown",
   "id": "669f0d84",
   "metadata": {},
   "source": [
    "병합 정렬이란 배열을 a, b 두 그룹으로 나눠 정렬한 뒤 새로운 배열 c에다가 a,b 중 작은 원소부터 c에 저장하여 병합하는 방식으로 정렬하는 것이다."
   ]
  },
  {
   "cell_type": "code",
   "execution_count": 4,
   "id": "af0d3acd",
   "metadata": {},
   "outputs": [
    {
     "name": "stdout",
     "output_type": "stream",
     "text": [
      "[1, 2, 2, 3, 4, 4, 6, 8, 9, 11, 13, 16, 21]\n"
     ]
    }
   ],
   "source": [
    "# 정렬을 마친 두 배열 merge하기 - 내가 짠 코드(다름) : 책은 파이썬의 슬라이스 기능 등을 이용하지 않고 풀었다. 다시해보자!\n",
    "\n",
    "from typing import Sequence, MutableSequence\n",
    "\n",
    "def merge_sort_list(a: Sequence, b: Sequence, c):\n",
    "    pa, pb, pc = 0, 0, 0\n",
    "    na, nb = len(a), len(b)\n",
    "    nc = na + nb\n",
    "    \n",
    "    for i in range(nc):\n",
    "        if pa == na:\n",
    "            c[pc:] = b[pb:]\n",
    "            break\n",
    "        if pb == nb:\n",
    "            c[pc:] = a[pa:]\n",
    "            break\n",
    "        if(a[pa] < b[pb]):\n",
    "            c[pc] = a[pa]\n",
    "            pa += 1\n",
    "        else:\n",
    "            c[pc] = b[pb]\n",
    "            pb += 1\n",
    "        pc += 1\n",
    "            \n",
    "a = [2, 4, 6, 8, 11, 13]\n",
    "b = [1, 2, 3, 4, 9, 16, 21]\n",
    "c = [None] * (len(a) + len(b))\n",
    "merge_sort_list(a, b, c)\n",
    "print(c)"
   ]
  },
  {
   "cell_type": "code",
   "execution_count": 8,
   "id": "78f0e612",
   "metadata": {},
   "outputs": [
    {
     "name": "stdout",
     "output_type": "stream",
     "text": [
      "[1, 2, 2, 3, 4, 4, 6, 8, 9, 11, 13, 16, 21]\n"
     ]
    }
   ],
   "source": [
    "# 정렬을 마친 두 배열 merge하기 - 내가 짠 코드 2 (책 코드와 동일) : 파이썬의 슬라이스 기능을 이용하지 않고 해보기\n",
    "\n",
    "def merge_sort_list(a, b, c):\n",
    "    pa, pb, pc = 0, 0, 0\n",
    "    na, nb, nc = len(a), len(b), len(c)\n",
    "    \n",
    "    while pa < na and pb < nb: # 둘 중 하나라도 false인 경우 하나의 배열에 나머지 다 대입하면 됨\n",
    "        if a[pa] < b[pb]:\n",
    "            c[pc] = a[pa]\n",
    "            pa += 1\n",
    "        else:\n",
    "            c[pc] = b[pb]\n",
    "            pb += 1\n",
    "        pc += 1\n",
    "        \n",
    "    while pa < na:\n",
    "        c[pc] = a[pa]\n",
    "        pc += 1\n",
    "        pa += 1\n",
    "    \n",
    "    while pb < nb:\n",
    "        c[pc] = b[pb]\n",
    "        pc += 1\n",
    "        pb += 1\n",
    "        \n",
    "a = [2, 4, 6, 8, 11, 13]\n",
    "b = [1, 2, 3, 4, 9, 16, 21]\n",
    "c = [None] * (len(a) + len(b))\n",
    "merge_sort_list(a, b, c)\n",
    "print(c)    "
   ]
  },
  {
   "cell_type": "markdown",
   "id": "8c46a933",
   "metadata": {},
   "source": [
    "### sorted() 함수를 사용한 병합 정렬\n",
    "<br/>\n",
    "\n",
    "```python\n",
    "c = list(sorted(a + b)) # a와 b를 연결하여 오름차순으로 정렬\n",
    "```\n",
    "- 장점 : a와 b가 모두 정렬을 마친 상태가 아니어도 병합할 수 있다.\n",
    "- 단점 : 시간이 느리다."
   ]
  },
  {
   "cell_type": "markdown",
   "id": "1e135be4",
   "metadata": {},
   "source": [
    "### heapq의 merge()를 사용한 병합 정렬"
   ]
  },
  {
   "cell_type": "code",
   "execution_count": 11,
   "id": "c9d5e33a",
   "metadata": {},
   "outputs": [
    {
     "name": "stdout",
     "output_type": "stream",
     "text": [
      "[1, 2, 2, 3, 4, 4, 6, 8, 9, 11, 13, 16, 21]\n"
     ]
    }
   ],
   "source": [
    "import heapq\n",
    "\n",
    "a = [2, 4, 6, 8, 11, 13]\n",
    "b = [1, 2, 3, 4, 9, 16, 21]\n",
    "c = list(heapq.merge(a, b))\n",
    "\n",
    "print(c)"
   ]
  },
  {
   "cell_type": "markdown",
   "id": "71fd7339",
   "metadata": {},
   "source": [
    "## 🔴 분할 정복법에 따라 정렬하는 알고리즘 - 병합 정렬 만들기 다시"
   ]
  },
  {
   "cell_type": "markdown",
   "id": "c6a433a7",
   "metadata": {},
   "source": [
    "병합 정렬은 배열을 앞 부분과 뒷 부분으로 나누어 정렬을 진행한 후 합치는 정렬 방식이다. 이때 나눈 배열도 마찬가지로 병합 정렬 방식을 사용하여 정렬한다."
   ]
  },
  {
   "cell_type": "markdown",
   "id": "852b2ff1",
   "metadata": {},
   "source": [
    "[알고리즘]<br/>\n",
    "배열을 분할하여 정렬하려면 원소가 두 개 이상이어야 한다.\n",
    "1. 배열의 앞 부분을 정렬한다.\n",
    "2. 배열의 뒷 부분을 정렬한다.\n",
    "3. 배열의 앞 부분과 뒷 부분을 병합한다."
   ]
  },
  {
   "cell_type": "code",
   "execution_count": null,
   "id": "95653b02",
   "metadata": {},
   "outputs": [],
   "source": [
    "def merge_sort(a):\n",
    "    n = len(a)\n",
    "    "
   ]
  },
  {
   "cell_type": "markdown",
   "id": "05686441",
   "metadata": {},
   "source": [
    "목표 : 재귀적으로 구현한 병합 정렬\n",
    "\n",
    "[병합 정렬 알고리즘]<br/>\n",
    "배열의 크기 > 2를 만족한다면,\n",
    "1. 배열을 앞 부분과 뒷 부분으로 나눈다. (n//2)\n",
    "2. 배열의 앞 부분을 정렬한다.\n",
    "3. 배열의 뒷 부분을 정렬한다.\n",
    "4. 배열의 앞 부분과 뒷 부분을 병합한다.\n",
    "\n",
    "<앞부분의 원소를 몇 개까지 남겨둔 채로 정렬을 할 것인가를 생각해야 함>\n",
    "- 재귀적인 구현이 들어가야 하는 부분 : 2번, 3번 왜냐하면 앞 부분을 정렬하기 위해 또 다시 앞, 뒤로 나누어야하기 때문이다.\n",
    "- 위에서 만약 배열의 크기 == 2라면\n",
    "    - 두 개 원소를 비교해서 정렬해야 함.\n",
    "        - 두 원소 중 작은 원소를 앞으로 붙이면 됨. (굳이 새로운 배열에 추가해야되나?)\n",
    "- 만약 배열의 크기 == 1이라면\n",
    "    - 그냥 배열에 넣기\n",
    "\n",
    "결국 배열의 앞 부분부터 재귀적으로 모두 나누면 앞부분부터 원소가 1개 또는 2개씩 남은 원소들을 정렬해가면서 뒤로 간다."
   ]
  },
  {
   "cell_type": "code",
   "execution_count": 18,
   "id": "d7a6659e",
   "metadata": {},
   "outputs": [
    {
     "name": "stdout",
     "output_type": "stream",
     "text": [
      "[1, 2, 3, 3, 4, 5, 6, 6, 7, 8, 11, 12]\n"
     ]
    }
   ],
   "source": [
    "# 병합 정렬 알고리즘 구현하기\n",
    "\n",
    "from typing import MutableSequence\n",
    "\n",
    "def merge_sort(a: MutableSequence) -> None:\n",
    "    \"\"\"병합 정렬\"\"\"\n",
    "    def _merge_sort(a: MutableSequence, left: int, right: int) -> None:\n",
    "        \"\"\"a[left] ~ a[right]를 재귀적으로 병합 정렬\"\"\"\n",
    "        if left < right:\n",
    "            center = (left + right) // 2\n",
    "            \n",
    "            _merge_sort(a, left, center)\n",
    "            _merge_sort(a, center + 1, right)\n",
    "            \n",
    "            p = j = 0\n",
    "            i = k = left\n",
    "            \n",
    "            while i <= center:\n",
    "                buff[p] = a[i]\n",
    "                p += 1\n",
    "                i += 1\n",
    "                \n",
    "            while i <= right and j < p:\n",
    "                if buff[j] <= a[i]:\n",
    "                    a[k] = buff[j]\n",
    "                    j += 1\n",
    "                else:\n",
    "                    a[k] = a[i]\n",
    "                    i += 1\n",
    "                k += 1\n",
    "                \n",
    "            while j < p:\n",
    "                a[k] = buff[j]\n",
    "                k += 1\n",
    "                j += 1\n",
    "                \n",
    "    n = len(a)\n",
    "    buff = [None] * n\n",
    "    _merge_sort(a, 0, n - 1)\n",
    "    del buff\n",
    "    \n",
    "x = [1, 3, 12, 6, 4, 11, 8, 7, 3, 2, 6, 5]\n",
    "merge_sort(x)\n",
    "print(x)"
   ]
  },
  {
   "cell_type": "code",
   "execution_count": null,
   "id": "5221a705",
   "metadata": {},
   "outputs": [],
   "source": []
  }
 ],
 "metadata": {
  "kernelspec": {
   "display_name": "Python 3 (ipykernel)",
   "language": "python",
   "name": "python3"
  },
  "language_info": {
   "codemirror_mode": {
    "name": "ipython",
    "version": 3
   },
   "file_extension": ".py",
   "mimetype": "text/x-python",
   "name": "python",
   "nbconvert_exporter": "python",
   "pygments_lexer": "ipython3",
   "version": "3.10.3"
  }
 },
 "nbformat": 4,
 "nbformat_minor": 5
}
