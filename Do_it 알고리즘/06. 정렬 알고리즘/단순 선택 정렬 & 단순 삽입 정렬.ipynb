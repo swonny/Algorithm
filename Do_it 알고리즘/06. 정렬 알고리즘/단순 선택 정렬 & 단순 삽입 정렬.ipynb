{
 "cells": [
  {
   "cell_type": "markdown",
   "id": "40e724b2",
   "metadata": {},
   "source": [
    "# 단순 선택 정렬\n",
    "\n",
    "가장 작은 원소를 선택해 정렬되지 않은 영역 중 가장 작은 인덱스와 교환하는 방식의 정렬이다.<br/>\n",
    "이웃하지 않은 원소끼리 비교를 진행하므로 **안정적이지 않은 정렬**이다."
   ]
  },
  {
   "cell_type": "code",
   "execution_count": 5,
   "id": "984cf94f",
   "metadata": {},
   "outputs": [
    {
     "name": "stdout",
     "output_type": "stream",
     "text": [
      "[1, 3, 4, 6, 7, 8, 9]\n"
     ]
    }
   ],
   "source": [
    "# 단순 선택 정렬 - 내가 짠 코드 (min index 찾기 직접 구현)\n",
    "\n",
    "def selection_sort(a):\n",
    "    n = len(a)\n",
    "    # 정렬\n",
    "    for i in range(n - 1):\n",
    "        # min index 찾기\n",
    "        min = i\n",
    "        for j in range(i, n):\n",
    "            if a[min] > a[j]:\n",
    "                min = j\n",
    "        \n",
    "        a[i], a[min] = a[min], a[i]\n",
    "\n",
    "a = [6, 4, 8, 3, 1, 9, 7]\n",
    "selection_sort(a)\n",
    "print(a)"
   ]
  },
  {
   "cell_type": "code",
   "execution_count": 7,
   "id": "a40c30b7",
   "metadata": {},
   "outputs": [
    {
     "name": "stdout",
     "output_type": "stream",
     "text": [
      "[1, 3, 4, 6, 7, 8, 9]\n"
     ]
    }
   ],
   "source": [
    "def selection_sort(a):\n",
    "    n = len(a)\n",
    "    for i in range(n - 1):\n",
    "        min = i\n",
    "        for j in range(i + 1, n):\n",
    "            if a[j] < a[min]:\n",
    "                min = j\n",
    "        a[i], a[min] = a[min], a[i]\n",
    "\n",
    "a = [6, 4, 8, 3, 1, 9, 7]\n",
    "selection_sort(a)\n",
    "print(a)"
   ]
  },
  {
   "cell_type": "markdown",
   "id": "5fd0ad3e",
   "metadata": {},
   "source": [
    "# 단순 삽입 정렬\n",
    "\n",
    "- 주목한 원소보다 더 앞쪽에서 알맞은 위치로 삽입하여 정렬하는 알고리즘이다. 카드를 한 줄로 늘어놓을 때 사용하는 방법과 비슷한 알고리즘이다.<br/>\n",
    "    - 단순 선택 정렬과 비슷해보이지만, 가장 작은 원소를 골라서 정렬하지 않는다는 점이 다르다.<br/><br/>\n",
    "- 단순 삽입 정렬은 두 번째 원소, 즉 정렬되지 않은 영역의 첫 번째 원소부터 주목하여 진행한다.<br/>\n",
    "    - 첫 번째 원소는 정렬되었다고 가정하여 시작하기 때문이다."
   ]
  },
  {
   "cell_type": "code",
   "execution_count": 8,
   "id": "b9d63a2b",
   "metadata": {},
   "outputs": [
    {
     "name": "stdout",
     "output_type": "stream",
     "text": [
      "[1, 3, 4, 6, 7, 8, 9]\n"
     ]
    }
   ],
   "source": [
    "# 삽입 정렬 - 내가 짠 코드 \n",
    "\n",
    "# n-1번 반복하기 때문에 1부터 n-1까지로 범위를 지정했다. 만약 index가 0부터 시작하면 range(n-1)까지 반복했을 때 n-1번 반복이다.\n",
    "# 하지만 1부터 시작하여 n-1번 반복하기 위해서는 범위를 range(1, n)과 같이 지정해야 한다.\n",
    "\n",
    "def insertion_sort(a):\n",
    "    n = len(a)\n",
    "    for unsorted in range(1, n):\n",
    "        for j in range(unsorted):\n",
    "            if a[j] > a[unsorted]:\n",
    "                a[j], a[j + 1:unsorted + 1] = a[unsorted], a[j:unsorted]\n",
    "    \n",
    "a = [6, 4, 3, 7, 1, 9, 8]        \n",
    "insertion_sort(a)\n",
    "print(a)"
   ]
  },
  {
   "cell_type": "markdown",
   "id": "6ead56a7",
   "metadata": {},
   "source": [
    "**내가 짠 코드의 개선**<br/>\n",
    "<br/>\n",
    "내가 짠 코드는 비교를 n번 수행하고, 또 자리를 옮기면서 다시 n번 반복문을 수행해야 한다. 따라서 비효율적이다. 비교하면서 바로 교환을 수행하면 한꺼번에 n-1개를 뒤로 미룰 필요가 없다."
   ]
  },
  {
   "cell_type": "code",
   "execution_count": 12,
   "id": "94932b23",
   "metadata": {},
   "outputs": [
    {
     "name": "stdout",
     "output_type": "stream",
     "text": [
      "[1, 3, 4, 6, 7, 8, 9]\n"
     ]
    }
   ],
   "source": [
    "# 삽입 정렬 - 내가 짠 코드 개선\n",
    "\n",
    "def insertion_sort(a):\n",
    "    n = len(a)\n",
    "    for u in range(1, n):\n",
    "        tmp = a[u]\n",
    "        i = u - 1\n",
    "        while tmp < a[i] and i >= 0:\n",
    "            a[i + 1] = a[i]\n",
    "            i -= 1\n",
    "        a[i + 1] = tmp\n",
    "            \n",
    "a = [6, 4, 3, 7, 1, 9, 8]        \n",
    "insertion_sort(a)\n",
    "print(a)"
   ]
  },
  {
   "cell_type": "markdown",
   "id": "eafb0875",
   "metadata": {},
   "source": [
    "**내가 짠 코드의 개선 2**<br/>\n",
    "<br/>\n",
    "인덱스에 신경써서 코드를 짜면 보수가 수월해진다. 인덱스에 신경써서 다시 짜기\n",
    "\n",
    "특히 반복문을 돌릴 때 내가 필요한 게 개수/횟수인지 또는 인덱스인지를 잘 생각해보기"
   ]
  },
  {
   "cell_type": "code",
   "execution_count": null,
   "id": "decc8873",
   "metadata": {},
   "outputs": [],
   "source": [
    "# 삽입 정렬 - 내가 짠 코드 개선 2\n",
    "\n",
    "def insertion_sort(a):\n",
    "    n = len(a)\n",
    "    for u in range(1, n):\n",
    "        tmp = a[u]\n",
    "        i = u - 1\n",
    "        while tmp < a[i] and i >= 0:\n",
    "            a[i + 1] = a[i]\n",
    "            i -= 1\n",
    "        a[i + 1] = tmp\n",
    "            \n",
    "a = [6, 4, 3, 7, 1, 9, 8]        \n",
    "insertion_sort(a)\n",
    "print(a)"
   ]
  },
  {
   "cell_type": "code",
   "execution_count": 9,
   "id": "04942934",
   "metadata": {
    "scrolled": true
   },
   "outputs": [
    {
     "name": "stdout",
     "output_type": "stream",
     "text": [
      "[1, 3, 4, 6, 7, 8, 9]\n"
     ]
    }
   ],
   "source": [
    "# 삽입 정렬\n",
    "\n",
    "def insertion_sort(a):\n",
    "    n = len(a)\n",
    "    for i in range(1, n):\n",
    "        j = i\n",
    "        tmp = a[i]\n",
    "        while j > 0 and a[j - 1] > tmp:\n",
    "            a[j] = a[j - 1]\n",
    "            j -= 1\n",
    "        a[j] = tmp\n",
    "\n",
    "a = [6, 4, 3, 7, 1, 9, 8]        \n",
    "insertion_sort(a)\n",
    "print(a)"
   ]
  },
  {
   "cell_type": "markdown",
   "id": "904609c5",
   "metadata": {},
   "source": [
    "### 버블 정렬, 단순 선택 정렬, 단순 삽입 정렬은 모두 $O(n^2)$의 시간 복잡도를 갖는다."
   ]
  },
  {
   "cell_type": "markdown",
   "id": "f3fe5fcc",
   "metadata": {},
   "source": [
    "# 이진 삽입 정렬\n",
    "\n",
    "삽입 정렬은 앞에 정렬된 영역이 늘어나고, 또 정렬된 영역 내에서 정렬되지 않은 원소의 위치를 찾아야 한다. 따라서 정렬된 영역에서의 검색을 이진 검색 방법을 사용하여 검색하면 정렬된 영역의 검색 시간을 줄일 수 있다.\n",
    "\n",
    "단순 삽입 정렬은 배열 원소 수가 많아지면 원소 삽입에 필요한 비교, 교환 비용이 커진다. 그러나 이진 검색법을 사용하여 삽 정렬을 하면 이미 정렬을 마친 배열을 제외하고 원소를 삽입해야 할 위치를 검사하므로 비용을 줄일 수 있다."
   ]
  },
  {
   "cell_type": "code",
   "execution_count": 24,
   "id": "bf7b9a7c",
   "metadata": {
    "scrolled": true
   },
   "outputs": [
    {
     "name": "stdout",
     "output_type": "stream",
     "text": [
      "[1, 3, 4, 6, 7, 8, 9]\n"
     ]
    }
   ],
   "source": [
    "# 이진 삽입 정렬 알고리즘 - 내가 짠 코드\n",
    "\n",
    "def binary_insertion_sort(a):\n",
    "    n = len(a)\n",
    "    for i in range(1, n):\n",
    "        j = i # 0 ~ i - 1까지는 sorted 영역\n",
    "        tmp = a[i] # unsorted 영역의 첫 번째 원소\n",
    "        \n",
    "        pl = 0\n",
    "        pr = i - 1\n",
    "        while True:\n",
    "            pc = (pl + pr) // 2\n",
    "            if a[pc] < tmp:\n",
    "                pl = pc + 1\n",
    "            elif a[pc] > tmp:\n",
    "                pr = pc - 1\n",
    "            elif a[pc] == tmp:\n",
    "                break\n",
    "            if pr < pl:\n",
    "                break\n",
    "                \n",
    "        pd = pc + 1 if pl <= pr else pr + 1\n",
    "        \n",
    "        for j in range(i, pd, -1):\n",
    "            a[j] = a[j - 1]\n",
    "        a[pd] = tmp\n",
    "        \n",
    "arr = [6, 4, 3, 7, 1, 9, 8]\n",
    "binary_insertion_sort(arr)\n",
    "print(arr)"
   ]
  },
  {
   "cell_type": "code",
   "execution_count": 8,
   "id": "a7d5dd1d",
   "metadata": {},
   "outputs": [
    {
     "name": "stdout",
     "output_type": "stream",
     "text": [
      "[1, 3, 4, 6, 7, 8, 9]\n"
     ]
    }
   ],
   "source": [
    "# 이진 삽입 정렬 알고리즘 구현하기\n",
    "\n",
    "def binary_insertion_sort(a):\n",
    "    n = len(a)\n",
    "    for i in range(1, n):\n",
    "        key = a[i]\n",
    "        pl = 0\n",
    "        pr = i - 1\n",
    "    \n",
    "        while True:\n",
    "            pc = (pl + pr) // 2\n",
    "            if a[pc] == key:\n",
    "                break\n",
    "            elif a[pc] < key:\n",
    "                pl = pc + 1\n",
    "            else:\n",
    "                pr = pc - 1\n",
    "            if pl > pr:\n",
    "                break\n",
    "        pd = pc + 1 if pl <= pr else pr + 1\n",
    "    \n",
    "        for j in range(i, pd, -1):\n",
    "            a[j] = a[j - 1]\n",
    "        a[pd] = key\n",
    "\n",
    "arr = [6, 4, 3, 7, 1, 9, 8]\n",
    "binary_insertion_sort(arr)\n",
    "\n",
    "print(arr)"
   ]
  },
  {
   "cell_type": "markdown",
   "id": "2c4558c9",
   "metadata": {},
   "source": [
    "### 파이썬 단순 삽입 정렬 라이브러리 : bisect 모듈의 insort()"
   ]
  },
  {
   "cell_type": "markdown",
   "id": "562a859a",
   "metadata": {},
   "source": [
    "```python\n",
    "import bisect\n",
    "\n",
    "bisect.insort(a, x, low, high)\n",
    "```\n",
    "\n",
    "```bisect()``` 함수를 호출하면 ```a```가 이미 정렬된 상태를 유지하면서 ```a[low] ~ a[high]``` 사이에 x를 삽입한다. 만약 a안에 x와 같은 값을 갖는 원소가 여러개 존재하면 가장 오른쪽에 삽입한다."
   ]
  },
  {
   "cell_type": "code",
   "execution_count": 26,
   "id": "6ffd9374",
   "metadata": {},
   "outputs": [
    {
     "name": "stdout",
     "output_type": "stream",
     "text": [
      "[1, 3, 4, 6, 7, 8, 9]\n"
     ]
    }
   ],
   "source": [
    "import bisect\n",
    "\n",
    "def binary_insertion_sort(a):\n",
    "    for i in range(1, len(a)):\n",
    "        bisect.insort(a, a.pop(i), 0, i)\n",
    "\n",
    "arr = [6, 4, 3, 7, 1, 9, 8]\n",
    "binary_insertion_sort(arr)\n",
    "\n",
    "print(arr)"
   ]
  },
  {
   "cell_type": "code",
   "execution_count": null,
   "id": "bc8ca80d",
   "metadata": {},
   "outputs": [],
   "source": []
  }
 ],
 "metadata": {
  "kernelspec": {
   "display_name": "Python 3 (ipykernel)",
   "language": "python",
   "name": "python3"
  },
  "language_info": {
   "codemirror_mode": {
    "name": "ipython",
    "version": 3
   },
   "file_extension": ".py",
   "mimetype": "text/x-python",
   "name": "python",
   "nbconvert_exporter": "python",
   "pygments_lexer": "ipython3",
   "version": "3.10.3"
  }
 },
 "nbformat": 4,
 "nbformat_minor": 5
}
