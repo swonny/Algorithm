{
 "cells": [
  {
   "cell_type": "markdown",
   "id": "65defae9",
   "metadata": {},
   "source": [
    "# 하노이의 탑"
   ]
  },
  {
   "cell_type": "markdown",
   "id": "8a54f9d3",
   "metadata": {},
   "source": [
    "세 개의 원반을 옮기기 위해서는 먼저 위에 두 개를 옮기는 과정에 마지막 한 개를 옮기는 과정을 추가하면 되고, 네 개의 원반을 옮기기 위해서는 위에 세 개의 원반을 옮기고 마지막 원반을 옮기면 된다. 즉, 네 개의 원반을 옮기기 위해서는 위의 세 개의 원반을 옮겨야 하고, 세 개의 원반을 옮기기 위해서는 위의 두 개의 원반을 옮겨야 한다. 따라서 재귀 알고리즘의 구조를 가지고 있다."
   ]
  },
  {
   "cell_type": "markdown",
   "id": "f51532c3",
   "metadata": {},
   "source": [
    "### 알게된 것\n",
    "\n",
    "기둥이 세 개일 때 두 기둥을 알고 있다면 나머지 하나 기둥을 알 수 있다.<br/>\n",
    "만약 기둥 숫자의 합이 6(= 1 + 2 + 3)이라면 기둥의 합에 시작 기둥과 마지막 기둥을 뺀 숫자를 경유한다고 생각하면 된다.\n",
    "\n",
    "🔴 고민을 많이 해서 풀긴 했지만 완전히 이해가 되지 않은 것 같다."
   ]
  },
  {
   "cell_type": "code",
   "execution_count": 15,
   "id": "f7746ac7",
   "metadata": {},
   "outputs": [
    {
     "name": "stdout",
     "output_type": "stream",
     "text": [
      "원반 [1]을 1기둥에서 3로 옮깁니다.\n",
      "원반 [2]을 1기둥에서 2로 옮깁니다.\n",
      "원반 [1]을 3기둥에서 2로 옮깁니다.\n",
      "원반 [3]을 1기둥에서 3로 옮깁니다.\n",
      "원반 [1]을 2기둥에서 1로 옮깁니다.\n",
      "원반 [2]을 2기둥에서 3로 옮깁니다.\n",
      "원반 [1]을 1기둥에서 3로 옮깁니다.\n"
     ]
    }
   ],
   "source": [
    "def hanoi(n, start, dest):\n",
    "    if n > 1:\n",
    "        hanoi(n - 1, start, 3 - start - dest)\n",
    "    \n",
    "    print(f'원반 [{n}]을 {start+1}기둥에서 {dest+1}로 옮깁니다.')\n",
    "    \n",
    "    if n > 1:\n",
    "        hanoi(n - 1, 3 - start - dest, dest)\n",
    "        \n",
    "hanoi(3, 0, 2)\n",
    "    "
   ]
  },
  {
   "cell_type": "code",
   "execution_count": null,
   "id": "828c0dc9",
   "metadata": {},
   "outputs": [],
   "source": []
  }
 ],
 "metadata": {
  "kernelspec": {
   "display_name": "Python 3 (ipykernel)",
   "language": "python",
   "name": "python3"
  },
  "language_info": {
   "codemirror_mode": {
    "name": "ipython",
    "version": 3
   },
   "file_extension": ".py",
   "mimetype": "text/x-python",
   "name": "python",
   "nbconvert_exporter": "python",
   "pygments_lexer": "ipython3",
   "version": "3.10.3"
  }
 },
 "nbformat": 4,
 "nbformat_minor": 5
}
