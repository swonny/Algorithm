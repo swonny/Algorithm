{
 "cells": [
  {
   "cell_type": "markdown",
   "id": "d967df1f",
   "metadata": {},
   "source": [
    "# 재귀 알고리즘"
   ]
  },
  {
   "cell_type": "markdown",
   "id": "78e71800",
   "metadata": {},
   "source": [
    "## 팩토리얼\n",
    "\n",
    "예를 들어 10!은 10 * 9!로 구할 수 있고, 9!은 9* 8!로 구할 수 있다. 이와 같은 구조는 재귀함수로 구현할 수 있다."
   ]
  },
  {
   "cell_type": "code",
   "execution_count": 2,
   "id": "83610713",
   "metadata": {},
   "outputs": [
    {
     "name": "stdout",
     "output_type": "stream",
     "text": [
      "n을 입력하세요: 4\n",
      "24\n"
     ]
    }
   ],
   "source": [
    "# 팩토리얼 구하기\n",
    "\n",
    "def factorial(n):\n",
    "    if n > 0:\n",
    "        return n * factorial(n-1)\n",
    "    else:\n",
    "        return 1\n",
    "\n",
    "if __name__ == '__main__':\n",
    "    n = int(input('n을 입력하세요: '))\n",
    "    print(factorial(n))"
   ]
  },
  {
   "cell_type": "markdown",
   "id": "38bab8e8",
   "metadata": {},
   "source": [
    "### math.factorial() 함수\n",
    "\n",
    "math.factorial(x) 는 정수 x의 팩토리얼값을 반환한다."
   ]
  },
  {
   "cell_type": "markdown",
   "id": "362efc88",
   "metadata": {},
   "source": [
    "## 직접 재귀와 간접 재귀"
   ]
  },
  {
   "cell_type": "markdown",
   "id": "ec1d5254",
   "metadata": {},
   "source": [
    "- 직접 재귀 : 자신과 똑같은 함수를 호출하는 방식\n",
    "- 간접 재귀 : a() 함수가 b() 함수를 호출하고 다시 b() 함수가 a() 함수를 호출하는 구조\n",
    "\n",
    "![직간접재귀](https://velog.velcdn.com/images/kwang-sub/post/ce9eb8f9-fd2d-4848-b1b3-64f6dc03f515/image.png)"
   ]
  },
  {
   "cell_type": "markdown",
   "id": "061822a3",
   "metadata": {},
   "source": [
    "## 🔴 유클리드 호제법"
   ]
  },
  {
   "cell_type": "markdown",
   "id": "5690c4d3",
   "metadata": {},
   "source": [
    "### 두 정수값의 최대 공약수를 재귀적으로 구하는 방법\n",
    "\n",
    "직사각형 안에 정사각형을 여러 개로 채워나가 정사각형 중 가장 작은 정사각형의 변의 길이가 두 정수값의 최대 공약수이다.\n",
    "![유클리드호제법](https://velog.velcdn.com/images/from-minju/post/349fe18f-0334-47aa-abfa-8f56d3694af4/image.png)"
   ]
  },
  {
   "cell_type": "code",
   "execution_count": 4,
   "id": "cb616ec0",
   "metadata": {},
   "outputs": [
    {
     "name": "stdout",
     "output_type": "stream",
     "text": [
      "첫 번째 정수값을 입력하세요: 22\n",
      "두 번째 정수값을 입력하세요: 8\n",
      "최대 공약수는 2입니다.\n"
     ]
    }
   ],
   "source": [
    "# 유클리드 호제법으로 최대 공약수 구하기\n",
    "\n",
    "def gcd(x, y):\n",
    "    if y == 0:\n",
    "        return x\n",
    "    else:\n",
    "        return gcd(y, x % y)\n",
    "    \n",
    "x = int(input('첫 번째 정수값을 입력하세요: '))\n",
    "y = int(input('두 번째 정수값을 입력하세요: '))\n",
    "\n",
    "print(f'최대 공약수는 {gcd(x, y)}입니다.')"
   ]
  },
  {
   "cell_type": "markdown",
   "id": "1e8b9685",
   "metadata": {},
   "source": [
    "### math.gcd() 함수\n",
    "\n",
    "최대 공약수를 반환하는 라이브러리"
   ]
  },
  {
   "cell_type": "markdown",
   "id": "0bfd1e69",
   "metadata": {},
   "source": [
    "## 재귀 알고리즘 분석"
   ]
  },
  {
   "cell_type": "markdown",
   "id": "7b4ebf88",
   "metadata": {},
   "source": [
    "### 하향식 분석\n",
    "\n",
    "![재귀하향식분석](https://lh3.googleusercontent.com/pw/ACtC-3dOcyhPkWx4mHqj--oNcjz8cizwEozNeZ_5tcxz5a_8J4_dwp8ajvpjXwKEMYNogbB3KfVUR8WVnBbn_czzavzmTBnHq5akmFYPJmLF_5bhNJWGb8bx4q6StZRZH9D5-EWbJIKhZyRfoy8KmwztkCRE=w1235-h440-no?authuser=0)"
   ]
  },
  {
   "cell_type": "markdown",
   "id": "8e749373",
   "metadata": {},
   "source": [
    "하향식 분석은 위와 같이 왼쪽 화살표를 따라가 가장 아래있는 함수를 실행한 뒤 -를 만나 되돌아와 주황색 박스를 실행하고 다시 오른쪽을 실행하는 것을 한 단계로 한다. 따라서 가장 위쪽의 4를 출력하기 위해서는 왼쪽의 모든 과정을 거쳐야 한다는 것을 알 수 있다. 하지만 하향식 분석에서는 recur(1), 2, recur(0)과 같이 여러번 겹치는 부분이 있기 때문에 하향식이 항상 효율적이라고 할 수는 없다."
   ]
  },
  {
   "cell_type": "markdown",
   "id": "d7043510",
   "metadata": {},
   "source": [
    "### 상향식 분석"
   ]
  },
  {
   "cell_type": "markdown",
   "id": "71a1ae63",
   "metadata": {},
   "source": [
    "아래쪽부터 쌓아올리는 방식이다. \n",
    "\n",
    "**recur() 함수는 양수일 때만 실행하기 때문에 recur(1)이 어떻게 되는지 살펴보면 다음과 같다.<br/>**\n",
    "\n",
    "1. recur(0)을 실행한다.\n",
    "2. print(1)을 실행한다.\n",
    "3. recur(-1)을 실행한다.\n",
    "\n",
    "결국 recur(0)과 recur(-1)은 아무것도 하지 않으므로 recur(1)은 print(1)만을 수행한다.\n",
    "<br/>\n",
    "<br/>\n",
    "**recur(2)가 실행되는 과정은 다음과 같다.**\n",
    "1. recur(1)이 실행된다.\n",
    "2. 2를 출력한다.\n",
    "3. recur(0)이 실행된다.\n",
    "\n",
    "따라서 recur(2)는 recur(1)을 실행하고, 즉 1을 출력하고, print(2)를 실행하여 1과 2를 출력한다.\n",
    "\n",
    "이와 같이 recur(1)부터 recur(4)까지 실행되는 것들을 하나씩 쌓아가면 다음 그림과 같은 출력을 얻게 된다."
   ]
  },
  {
   "cell_type": "markdown",
   "id": "17af541c",
   "metadata": {},
   "source": [
    "**recur(-1), recur(0)은 아무것도 하지 않음**\n",
    "![상향식](https://velog.velcdn.com/images%2Fjimmy48%2Fpost%2F8cd6a335-30b7-46c1-8435-a3d11c26321c%2F%EC%83%81%ED%96%A5%EC%8B%9D%20%EC%9E%AC%EA%B7%80%20%EC%95%8C%EA%B3%A0%EB%A6%AC%EC%A6%98%20%EB%B6%84%EC%84%9D.PNG)\n",
    "\n"
   ]
  },
  {
   "cell_type": "markdown",
   "id": "6dab4eb2",
   "metadata": {},
   "source": [
    "## 재귀 알고리즘의 비재귀적 표현"
   ]
  },
  {
   "cell_type": "markdown",
   "id": "77dabba7",
   "metadata": {},
   "source": [
    "```python\n",
    "# [코드1] 재귀 알고리즘 예제\n",
    "def recur(n):\n",
    "    if n > 0:\n",
    "        recur(n - 1)\n",
    "        print(n)\n",
    "        recur(n - 2)\n",
    "```\n",
    "\n",
    "[코드1]과 같은 재귀함수가 있다고 했을 때 print 뒤에 나오는 재귀를 꼬리재귀라고 표현할 수 있다. 그리고 이 꼬리재귀의 실행 동작은 다음과 같다.<br/>\n",
    "<span style=\"background-color: lightgray\">n을 (n-2)로 업데이트하여 다시 recur(n)을 호출한다(= 함수의 시작 지점으로 돌아간다.)</span>\n",
    "\n",
    "따라서 다음 [코드2]와 같이 while문으로 대체할 수 있다.\n",
    "\n",
    "```python\n",
    "# [코드2] 꼬리 재귀 -> 비재귀 구현\n",
    "def recur(n):\n",
    "    while n > 0:\n",
    "        recur(n - 1)\n",
    "        print(n)\n",
    "        n = n - 2\n",
    "```\n",
    "\n",
    "\n",
    "하지만 맨 앞의 재귀 함수를 실행하려면 단순히 n을 update시킬 수 없다. 왜냐하면 recur() 재귀호출이 끝난 이후에 다시 n을 가지고 출력을 해야하기 때문에 n을 임시로 저장해야 하기 때문이다. 이때 n을 임시로 저장하기 위해 스택을 사용하면 된다. 스택을 사용하는 이유는 스택의 LIFO구조 때문이다. 재귀 호출을 할 때 반환 값은 가장 최근에 호출된 함수에게 돌아가야 한다. 가장 최근에 호출된 함수와 그 인자를 저장하기 적합한 구조이므로 스택을 사용할 수 있다."
   ]
  },
  {
   "cell_type": "code",
   "execution_count": 17,
   "id": "6f7c59a8",
   "metadata": {},
   "outputs": [
    {
     "name": "stdout",
     "output_type": "stream",
     "text": [
      "1\n",
      "2\n",
      "3\n",
      "1\n",
      "4\n",
      "1\n",
      "2\n",
      "5\n",
      "1\n",
      "2\n",
      "3\n",
      "1\n"
     ]
    }
   ],
   "source": [
    "def recur(n):\n",
    "    if n > 0:\n",
    "        recur(n - 1)\n",
    "        print(n)\n",
    "        recur(n - 2)\n",
    "\n",
    "recur(5)"
   ]
  },
  {
   "cell_type": "code",
   "execution_count": 7,
   "id": "29e0e48c",
   "metadata": {},
   "outputs": [],
   "source": [
    "from collections import deque\n",
    "\n",
    "class Stack:\n",
    "    def __init__(self):\n",
    "        self.top = 0\n",
    "        self.stk = deque([])\n",
    "    \n",
    "    def is_empty(self):\n",
    "        if self.top == 0:\n",
    "            return True\n",
    "    \n",
    "    def push(self, value):\n",
    "        self.stk.append(value)\n",
    "        self.top += 1\n",
    "    \n",
    "    def pop(self):\n",
    "        if not self.is_empty():\n",
    "            self.top -= 1\n",
    "            return self.stk.pop()"
   ]
  },
  {
   "cell_type": "code",
   "execution_count": 16,
   "id": "23541f81",
   "metadata": {},
   "outputs": [
    {
     "name": "stdout",
     "output_type": "stream",
     "text": [
      "1\n",
      "2\n",
      "3\n",
      "1\n",
      "4\n",
      "1\n",
      "2\n",
      "5\n",
      "1\n",
      "2\n",
      "3\n",
      "1\n"
     ]
    }
   ],
   "source": [
    "# 재귀호출 스택을 이용하여 비재귀적 함수로 구현하기 - 직접 짠 코드\n",
    "\n",
    "# 바깥쪽 while문의 종료조건을 구하는 게 부족했음. & continue를 이용하면 while문을 두 번 쓰지 않아도 됨. if에 해당하는 것은 재귀 앞 부분이니까.\n",
    "\n",
    "stk = Stack()\n",
    "\n",
    "def recur(n):\n",
    "    cnt = 0\n",
    "    while cnt < 100:\n",
    "        cnt += 1\n",
    "        if n > 0:\n",
    "            stk.push(n)\n",
    "            n = n -1\n",
    "        else:\n",
    "            while not stk.is_empty():\n",
    "                n = stk.pop()\n",
    "                print(n)\n",
    "                n = n - 2\n",
    "                break\n",
    "        \n",
    "recur(5)        "
   ]
  },
  {
   "cell_type": "markdown",
   "id": "373a70a8",
   "metadata": {},
   "source": [
    "### 직접 구현한 스택을 가지고 배운 것\n",
    "\n",
    "1. 재귀함수를 직접 구현할 때 스택을 사용하면 구조적으로 동일하기에 적절하다.<br/>\n",
    "2. 재귀의 앞 부분과 꼬리 부분을 나눌 때 while문을 여러개 사용할 필요 없이 조건에 해당하면 실행하고 continue문으로 while문의 앞 부분으로 돌아가도록 하면 파트를 나눌 수 있다."
   ]
  },
  {
   "cell_type": "code",
   "execution_count": 19,
   "id": "f8cb1fe0",
   "metadata": {},
   "outputs": [
    {
     "name": "stdout",
     "output_type": "stream",
     "text": [
      "1\n",
      "2\n",
      "3\n",
      "1\n"
     ]
    }
   ],
   "source": [
    "stk = Stack()\n",
    "\n",
    "def recur(n):\n",
    "    while True:\n",
    "        if n > 0:\n",
    "            stk.push(n)\n",
    "            n = n -1\n",
    "            continue\n",
    "        if not stk.is_empty():\n",
    "            n = stk.pop()\n",
    "            print(n)\n",
    "            n = n - 2\n",
    "            continue\n",
    "        break\n",
    "\n",
    "recur(3)"
   ]
  },
  {
   "cell_type": "code",
   "execution_count": null,
   "id": "06efcae6",
   "metadata": {},
   "outputs": [],
   "source": []
  }
 ],
 "metadata": {
  "kernelspec": {
   "display_name": "Python 3 (ipykernel)",
   "language": "python",
   "name": "python3"
  },
  "language_info": {
   "codemirror_mode": {
    "name": "ipython",
    "version": 3
   },
   "file_extension": ".py",
   "mimetype": "text/x-python",
   "name": "python",
   "nbconvert_exporter": "python",
   "pygments_lexer": "ipython3",
   "version": "3.10.3"
  }
 },
 "nbformat": 4,
 "nbformat_minor": 5
}
