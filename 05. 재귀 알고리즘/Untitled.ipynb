{
 "cells": [
  {
   "cell_type": "markdown",
   "id": "15435cd6",
   "metadata": {},
   "source": [
    "# 재귀 알고리즘"
   ]
  },
  {
   "cell_type": "code",
   "execution_count": null,
   "id": "2ef0c4ac",
   "metadata": {},
   "outputs": [],
   "source": []
  }
 ],
 "metadata": {
  "kernelspec": {
   "display_name": "Python 3 (ipykernel)",
   "language": "python",
   "name": "python3"
  },
  "language_info": {
   "codemirror_mode": {
    "name": "ipython",
    "version": 3
   },
   "file_extension": ".py",
   "mimetype": "text/x-python",
   "name": "python",
   "nbconvert_exporter": "python",
   "pygments_lexer": "ipython3",
   "version": "3.10.3"
  }
 },
 "nbformat": 4,
 "nbformat_minor": 5
}
