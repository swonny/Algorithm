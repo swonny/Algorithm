{
 "cells": [
  {
   "cell_type": "markdown",
   "id": "b392ab2f",
   "metadata": {},
   "source": [
    "# 04. 구현"
   ]
  },
  {
   "cell_type": "markdown",
   "id": "8d499997",
   "metadata": {},
   "source": [
    "#### 완전 탐색\n",
    "모든 경우의 수를 주저 없이 다 계산하는 방법\n",
    "\n",
    "#### 시뮬레이션\n",
    "문제에서 제시한 알고리즘을 한 단계씩 차례대로 직접 수행해야 하는 문제"
   ]
  },
  {
   "cell_type": "markdown",
   "id": "2f052a73",
   "metadata": {},
   "source": [
    "구현 문제를 풀기 위해서는 파이썬의 자료형이 메모리를 얼만큼 차지하는지, 파이썬의 연산 속도 등을 계산할 수 있는 것이 유리하다.\n",
    "\n",
    "### 메모리 크기\n",
    "\n",
    "1Byte = 8bit<br/>\n",
    "1KB = 약 1,000byte (1024 Byte)<br/>\n",
    "1MB = 약 1,000KB<br/>\n",
    "1GB = 약 1,000MB<br/>\n",
    "1TB = 약 1,000GB<br/>\n",
    "\n",
    "### 파이썬의 연산 횟수\n",
    "- 파이썬은 1초에 2,000만 번의 연산을 수행한다.\n",
    "- 시간 제한이 1초이고, 데이터의 개수가 100만 개인 문제가 있다면 일반적으로 시간 복잡도 $O(NlogN)$ 이내의 알고리즘을 이용해야 한다. </br>\n",
    "    N = 1,000,000일 때 $Nlog_2N$은 약 20,000,000이기 때문이다.\n",
    "\n"
   ]
  },
  {
   "cell_type": "markdown",
   "id": "b0cc07fd",
   "metadata": {},
   "source": [
    "### 예제 4-1 [상하좌우]\n",
    "\n",
    "(입력 조건)<br/>\n",
    "**제한시간 1초 | 메모리 제한 128MB**\n",
    "1. 공간의 크기를 나타내는 N이 주어진다. (1 $\\leq$ N $\\leq$ 100)\n",
    "2. 여행가 A가 이동할 계획서 내용이 주어진다. (1 $\\leq$ 이동 횟수 $\\leq$ 100)"
   ]
  },
  {
   "cell_type": "markdown",
   "id": "4d1edd16",
   "metadata": {},
   "source": [
    "#### 해결 방법\n",
    "\n",
    "- 가장 먼저 떠오르는 방법은 하나씩 해보는 것.\n",
    "- 이동할 횟수가 이동 계획서만큼 이동하고 비교해도 이동 횟수가 최대 100을 넘지 않기 때문에 제한 시간 내에 충분히 연산이 가능하다.\n",
    "- 여기서 완전히 쉽지 않은 이유는 공간 밖은 무시해야 하기 때문이다."
   ]
  },
  {
   "cell_type": "code",
   "execution_count": 6,
   "id": "375036a0",
   "metadata": {
    "scrolled": true
   },
   "outputs": [
    {
     "name": "stdout",
     "output_type": "stream",
     "text": [
      "4\n",
      "R R D\n",
      "2 3\n"
     ]
    }
   ],
   "source": [
    "# 예제 4-1 상하좌우 - my first\n",
    "\n",
    "n = int(input())\n",
    "plans = list(input().split())\n",
    "current = [1, 1]\n",
    "\n",
    "for plan in plans:\n",
    "    if plan == 'R':\n",
    "        current[1] += 1 if current[1] < 5 else 0\n",
    "    elif plan == 'L':\n",
    "        current[1] -= 1 if current[1] > 1 else 0\n",
    "    elif plan == 'U':\n",
    "        current[0] -= 1 if current[0] > 1 else 0\n",
    "    elif plan == 'D':\n",
    "        current[0] += 1 if current[0] < 5 else 0\n",
    "        \n",
    "print(current[0], current[1])"
   ]
  },
  {
   "cell_type": "markdown",
   "id": "bcca25b9",
   "metadata": {},
   "source": [
    "내가 짠 코드는 짧지만 가독성이 좋지는 않다. 직관적이지는 않은 것 같다. 즉, 이를 활용하여 더 긴 코드를 짤 때 무조건 수정이 필요하게 될 것이다."
   ]
  },
  {
   "cell_type": "code",
   "execution_count": 7,
   "id": "2db044bd",
   "metadata": {},
   "outputs": [
    {
     "name": "stdout",
     "output_type": "stream",
     "text": [
      "5\n",
      "R R R U D D\n",
      "3 4\n"
     ]
    }
   ],
   "source": [
    "# 예제 4-1 책을 참고한 개선\n",
    "\n",
    "n = int(input())\n",
    "plans = list(input().split())\n",
    "x, y = 1, 1\n",
    "\n",
    "dx = [0, 0, -1, 1]\n",
    "dy = [-1, 1, 0, 0]\n",
    "move_types = ['L', 'R', 'U', 'D']\n",
    "\n",
    "for plan in plans:\n",
    "    for i in range(len(move_types)):\n",
    "        if plan == move_types[i]:\n",
    "            nx = x + dx[i]\n",
    "            ny = y + dy[i]\n",
    "    if nx < 1 or nx > n or ny < 1 or ny > n:\n",
    "        continue\n",
    "    x, y = nx, ny\n",
    "    \n",
    "print(x, y)"
   ]
  },
  {
   "cell_type": "markdown",
   "id": "c9f6f793",
   "metadata": {},
   "source": [
    "### 예제 4-2 [시각]\n",
    "\n",
    "**제한시간 2초 | 메모리 제한 128MB**\n",
    "\n",
    "(입력 조건)\n",
    "1. 첫째 줄에 정수 N이 입력된다. (0 $\\leq$ N $\\leq$ 23)\n",
    "\n",
    "(출력 조건)\n",
    "1. 00시 00분 00초부터 N시 59분 59초까지의 모든 시각 중 3이 하나라도 포함되는 모든 경우의 수를 출력한다."
   ]
  },
  {
   "cell_type": "code",
   "execution_count": 35,
   "id": "d14cca41",
   "metadata": {},
   "outputs": [
    {
     "name": "stdout",
     "output_type": "stream",
     "text": [
      "5\n",
      "11475\n"
     ]
    }
   ],
   "source": [
    "# 예제 4-2 시각 - my first\n",
    "\n",
    "n = int(input())\n",
    "count = 0\n",
    "for h in range(n + 1):\n",
    "    for m in range(60):\n",
    "        for s in range(60):\n",
    "            time = str(h) + str(m) + str(s)\n",
    "            count += 1 if '3' in time else 0\n",
    "            \n",
    "print(count)"
   ]
  },
  {
   "cell_type": "markdown",
   "id": "b5eb869a",
   "metadata": {},
   "source": [
    "#### 완전 탐색이 적절한 경우\n",
    "\n",
    "- 위의 코드처럼 모든 경우의 수를 하나씩 확인해 조건에 부합하는지 확인해보는 방법을 ```완전 탐색```이라고 한다. 완전 탐색이 가능한지 알아보기 위해서는 탐색 해야 하는 전체 데이터의 수가 100만 개 이하일 때 완전 탐색을 사용하면 적절하다.\n",
    "\n",
    "- 여기서 하루는 86,400(24 * 60 * 60)초이다. 따라서 3중 for문을 사용하여 모든 경우의 수를 확인해도 100만 개보다 충분히 적은 수이기 때문에 완전 탐색이 적절한 해결 방법이 될 수 있다."
   ]
  },
  {
   "cell_type": "markdown",
   "id": "0e265ddd",
   "metadata": {},
   "source": [
    "## 실전 문제"
   ]
  },
  {
   "cell_type": "markdown",
   "id": "d8970037",
   "metadata": {},
   "source": [
    "### 실전 문제 2 [왕실의 나이트]"
   ]
  },
  {
   "cell_type": "code",
   "execution_count": 54,
   "id": "7f5b1350",
   "metadata": {},
   "outputs": [
    {
     "name": "stdout",
     "output_type": "stream",
     "text": [
      "c2\n",
      "6\n"
     ]
    }
   ],
   "source": [
    "# 실전 문제 1 왕실의 나이트 - my first\n",
    "\n",
    "cols = [' ', 'a', 'b', 'c', 'd', 'e', 'f', 'g', 'h']\n",
    "location = input()\n",
    "x, y = int(location[1]), cols.index(location[0])\n",
    "dx = [-1, 1, 0, 0]\n",
    "dy = [0, 0, 1, -1]\n",
    "move_types = ['L', 'R', 'D', 'U']\n",
    "cases = ['LLD', 'LLU', 'RRU', 'RRD', 'UUL', 'UUR', 'DDL', 'DDR']\n",
    "\n",
    "count = 0\n",
    "for case in cases:\n",
    "    nx = x\n",
    "    ny = y\n",
    "    for c in case:\n",
    "        for i in range(4):\n",
    "            if c == move_types[i]:\n",
    "                nx += dx[i]\n",
    "                ny += dy[i]\n",
    "    if nx < 1 or nx > 8 or ny < 1 or ny > 8:\n",
    "        continue\n",
    "    count += 1\n",
    "    \n",
    "print(count)"
   ]
  },
  {
   "cell_type": "code",
   "execution_count": 60,
   "id": "fe48fefc",
   "metadata": {},
   "outputs": [
    {
     "name": "stdout",
     "output_type": "stream",
     "text": [
      "a1\n",
      "2\n"
     ]
    }
   ],
   "source": [
    "# 실전 문제 1 왕실의 나이트 - my second\n",
    "\n",
    "steps = [(-2, 1), (-2, -1), (2, 1), (2, -1), (1, -2), (-1,-2), (1, 2), (-1, 2)] # 이동 가능한 방향\n",
    "location = input()\n",
    "x = int(location[1]) # 현재 위치 (행)\n",
    "y = int(ord(location[0])) - int(ord('a')) + 1 # 현재 위치 (열)\n",
    "\n",
    "count = 0\n",
    "for step in steps:\n",
    "    nx = x + step[0]\n",
    "    ny = y + step[1]\n",
    "    if nx < 1 or nx > 8 or ny < 1 or ny > 8:\n",
    "        continue\n",
    "    count += 1\n",
    "    \n",
    "print(count)"
   ]
  },
  {
   "cell_type": "markdown",
   "id": "6b8a4805",
   "metadata": {},
   "source": [
    "### 실전 문제 3 [게임 개발]\n",
    "\n",
    "1. 현재 방향을 기준으로 왼쪽 방향으로 회전한다.\n",
    "2. 왼쪽 방향에 가보지 않았다면 전진하고 가봤다면 1번으로 간다.\n",
    "3. 네 방향 모두 가본 칸이거나 모두 바다로 되어 있는 칸인 경우에는, 바라보는 방향을 유지한 채 한 칸 뒤로 가서 1번으로 간다. 뒤쪽 방향이 바다인 경우에는 이동을 멈춘다."
   ]
  },
  {
   "cell_type": "markdown",
   "id": "f2cc7d66",
   "metadata": {},
   "source": [
    "#### 알고리즘\n",
    "0. 방문 표시 (2)\n",
    "4번 반복\n",
    "1. 왼쪽 방향으로 돌리기\n",
    "2. 왼쪽 방향이 가보지 않은 칸이라면 왼쪽 방향으로 한 칸 가기, 내부 반복문 종료\n",
    "3. 왼쪽 방향이 갈 수 없는 칸이라면 1번으로 가기\n",
    "4. 네 방향 모두 갈 수 없는 칸이라면, 바라본 방향의 뒤 쪽이 바다가 아니라면, 뒤 칸으로 한 칸 이동하여 1번으로 가기\n",
    "5. 뒤 쪽이 바다라면 종료"
   ]
  },
  {
   "cell_type": "code",
   "execution_count": 67,
   "id": "0f6b711f",
   "metadata": {},
   "outputs": [
    {
     "name": "stdout",
     "output_type": "stream",
     "text": [
      "4 4\n",
      "1 1 0\n",
      "1 1 1 1\n",
      "1 0 0 1\n",
      "1 1 0 1\n",
      "1 1 1 1\n",
      "1 2 0\n"
     ]
    }
   ],
   "source": [
    "# 실전 문제 3 [게임 개발] - my first (답은 맞음, 책 힌트 참고, 시간은 두시간 10분 정도 걸림,,)\n",
    "n, m = map(int, input().split())\n",
    "x, y, d = map(int, input().split())\n",
    "maps = [list(map(int, input().split())) for _ in range(n) ]\n",
    "\n",
    "dx = [0, 1, 0, -1] # 북, 동, 남, 서\n",
    "dy = [1, 0, -1, 0] # 북, 동, 남, 서\n",
    "left_d = [3, 0, 1, 2] # 0, 1, 2, 3 에 대한 왼쪽 방향\n",
    "back_d = [2, 3, 0, 1] # 0, 1, 2, 3 에 대한 뒤쪽 방향\n",
    "\n",
    "count = 0\n",
    "while True:\n",
    "    if maps[x][y] == 0:\n",
    "        maps[x][y] = 2 # 방문 표시\n",
    "        count += 1\n",
    "    i = 0\n",
    "    while i < 4:\n",
    "        d = left_d[d] # 왼쪽 방향으로 틀기\n",
    "        nx = x + (dx[d])\n",
    "        ny = y + (dy[d])\n",
    "        if 0 <= nx < n and 0 <= ny < m and maps[nx][ny] == 0: # 방문 가능한 지역인 경우\n",
    "            x = nx\n",
    "            y = ny\n",
    "            break\n",
    "        i += 1\n",
    "        print(x, y, d)\n",
    "    if i >= 4:\n",
    "        b = back_d[d]\n",
    "        bx = x + dx[b]\n",
    "        by = y + dy[b]\n",
    "        if maps[bx][by] == 1:\n",
    "            break\n",
    "        else: # 바다가 아니면 위치 옮긴 뒤 continue\n",
    "            x = bx\n",
    "            y = by\n",
    "\n",
    "print(count)"
   ]
  },
  {
   "cell_type": "code",
   "execution_count": null,
   "id": "3fe05c8b",
   "metadata": {},
   "outputs": [],
   "source": [
    "4 4\n",
    "1 1 0\n",
    "1 1 1 1\n",
    "1 0 0 1\n",
    "1 1 0 1\n",
    "1 1 1 1"
   ]
  },
  {
   "cell_type": "code",
   "execution_count": null,
   "id": "73ad5c10",
   "metadata": {},
   "outputs": [],
   "source": []
  }
 ],
 "metadata": {
  "kernelspec": {
   "display_name": "Python 3 (ipykernel)",
   "language": "python",
   "name": "python3"
  },
  "language_info": {
   "codemirror_mode": {
    "name": "ipython",
    "version": 3
   },
   "file_extension": ".py",
   "mimetype": "text/x-python",
   "name": "python",
   "nbconvert_exporter": "python",
   "pygments_lexer": "ipython3",
   "version": "3.10.3"
  }
 },
 "nbformat": 4,
 "nbformat_minor": 5
}
