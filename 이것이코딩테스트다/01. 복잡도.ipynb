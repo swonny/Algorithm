{
 "cells": [
  {
   "cell_type": "markdown",
   "id": "d8d512b8",
   "metadata": {},
   "source": [
    "# 복잡도"
   ]
  },
  {
   "cell_type": "markdown",
   "id": "bae054ce",
   "metadata": {},
   "source": [
    "## 시간 복잡도 계산"
   ]
  },
  {
   "cell_type": "code",
   "execution_count": 1,
   "id": "a0cf8a01",
   "metadata": {},
   "outputs": [
    {
     "name": "stdout",
     "output_type": "stream",
     "text": [
      "time : 0.00017499923706054688\n"
     ]
    }
   ],
   "source": [
    "import time\n",
    "start_time = time.time() # 측정 시작\n",
    "\n",
    "a = 1 + 2 + 3\n",
    "\n",
    "end_time = time.time() # 측정 종료\n",
    "print(f'time : {end_time - start_time}')"
   ]
  },
  {
   "cell_type": "markdown",
   "id": "875356dd",
   "metadata": {},
   "source": [
    "### 면접 대비"
   ]
  },
  {
   "cell_type": "markdown",
   "id": "2e5c8ce8",
   "metadata": {},
   "source": [
    "정렬 알고리즘의 시간 복잡도를 물어봤다면, '선택 정렬, 삽입 정렬 등은 최악의 경우 $O(n^2)$의 시간이 소요되지만 병합 정렬은 최악이 경우에도 시간 복잡도 $O(NlogN)$을 보장하므로 대부분의 프로그래밍 언어의 라이브러리에서도 $O(NlogN)$을 보장하는 형태로 정렬 기능이 제공되고 있다든지, 경우에 따라서는 계수 정렬과 같은 $O(N + K)$를 보장하는 정렬 알고리즘을 사용할 수 있다든지' 등을 설명할 수 있으면 좋다."
   ]
  },
  {
   "cell_type": "code",
   "execution_count": null,
   "id": "ab8d75ed",
   "metadata": {},
   "outputs": [],
   "source": []
  }
 ],
 "metadata": {
  "kernelspec": {
   "display_name": "Python 3 (ipykernel)",
   "language": "python",
   "name": "python3"
  },
  "language_info": {
   "codemirror_mode": {
    "name": "ipython",
    "version": 3
   },
   "file_extension": ".py",
   "mimetype": "text/x-python",
   "name": "python",
   "nbconvert_exporter": "python",
   "pygments_lexer": "ipython3",
   "version": "3.10.3"
  }
 },
 "nbformat": 4,
 "nbformat_minor": 5
}
