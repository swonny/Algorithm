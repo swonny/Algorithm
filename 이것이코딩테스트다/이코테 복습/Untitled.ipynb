{
 "cells": [
  {
   "cell_type": "markdown",
   "id": "4523df76",
   "metadata": {},
   "source": [
    "### 예제 4-2 [상하좌우]"
   ]
  },
  {
   "cell_type": "code",
   "execution_count": 1,
   "id": "1e10070e",
   "metadata": {},
   "outputs": [
    {
     "name": "stdout",
     "output_type": "stream",
     "text": [
      "5\n",
      "R R R U D D\n",
      "3 4\n"
     ]
    }
   ],
   "source": [
    "n = int(input())\n",
    "plans = list(input().split())\n",
    "\n",
    "dx = [0, 0, -1, 1] # L R U D\n",
    "dy = [-1, 1, 0, 0] # L R U D\n",
    "direction = ['L', 'R', 'U', 'D']\n",
    "x = 1\n",
    "y = 1\n",
    "\n",
    "for plan in plans:\n",
    "    nx = 0\n",
    "    ny = 0\n",
    "    for i in range(4):\n",
    "        if plan == direction[i]:\n",
    "            nx = x + dx[i]\n",
    "            ny = y + dy[i]\n",
    "            break\n",
    "    if nx < 1 or nx > n or ny < 1 or ny > n:\n",
    "        continue\n",
    "    x = nx\n",
    "    y = ny\n",
    "\n",
    "print(x, y)"
   ]
  },
  {
   "cell_type": "markdown",
   "id": "4252648b",
   "metadata": {},
   "source": [
    "어제 풀었던 문제여서 그런지 해결 방법은 금방 생각이 났다. 하지만 역시나 빠르게 해결하진 못했다. 이유는 x와 y의 방향을 헷갈려서 방향 설정을 잘못 했기 때문이다. 난 언제나 이런 작은 논리 문제에서 헤맨다. 극복하기 위해 계속 직면하는 방법밖에 없는 것 같다."
   ]
  },
  {
   "cell_type": "code",
   "execution_count": null,
   "id": "cd7a3561",
   "metadata": {},
   "outputs": [],
   "source": []
  }
 ],
 "metadata": {
  "kernelspec": {
   "display_name": "Python 3.10.3 64-bit",
   "language": "python",
   "name": "python3"
  },
  "language_info": {
   "codemirror_mode": {
    "name": "ipython",
    "version": 3
   },
   "file_extension": ".py",
   "mimetype": "text/x-python",
   "name": "python",
   "nbconvert_exporter": "python",
   "pygments_lexer": "ipython3",
   "version": "3.10.3"
  },
  "vscode": {
   "interpreter": {
    "hash": "aee8b7b246df8f9039afb4144a1f6fd8d2ca17a180786b69acc140d282b71a49"
   }
  }
 },
 "nbformat": 4,
 "nbformat_minor": 5
}
