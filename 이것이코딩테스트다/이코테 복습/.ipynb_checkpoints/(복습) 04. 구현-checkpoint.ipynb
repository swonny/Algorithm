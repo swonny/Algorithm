{
 "cells": [
  {
   "cell_type": "markdown",
   "id": "a4e9efaf",
   "metadata": {},
   "source": [
    "### 예제 4-2 [상하좌우]"
   ]
  },
  {
   "cell_type": "code",
   "execution_count": 1,
   "id": "b52e84b6",
   "metadata": {},
   "outputs": [
    {
     "name": "stdout",
     "output_type": "stream",
     "text": [
      "5\n",
      "R R R U D D\n",
      "3 4\n"
     ]
    }
   ],
   "source": [
    "n = int(input())\n",
    "plans = list(input().split())\n",
    "\n",
    "dx = [0, 0, -1, 1] # L R U D\n",
    "dy = [-1, 1, 0, 0] # L R U D\n",
    "direction = ['L', 'R', 'U', 'D']\n",
    "x = 1\n",
    "y = 1\n",
    "\n",
    "for plan in plans:\n",
    "    nx = 0\n",
    "    ny = 0\n",
    "    for i in range(4):\n",
    "        if plan == direction[i]:\n",
    "            nx = x + dx[i]\n",
    "            ny = y + dy[i]\n",
    "            break\n",
    "    if nx < 1 or nx > n or ny < 1 or ny > n:\n",
    "        continue\n",
    "    x = nx\n",
    "    y = ny\n",
    "\n",
    "print(x, y)"
   ]
  },
  {
   "cell_type": "markdown",
   "id": "c4a3e4f3",
   "metadata": {},
   "source": [
    "어제 풀었던 문제여서 그런지 해결 방법은 금방 생각이 났다. 하지만 역시나 빠르게 해결하진 못했다. 이유는 x와 y의 방향을 헷갈려서 방향 설정을 잘못 했기 때문이다. 난 언제나 이런 작은 논리 문제에서 헤맨다. 극복하기 위해 계속 직면하는 방법밖에 없는 것 같다."
   ]
  },
  {
   "cell_type": "markdown",
   "id": "f04ab18a",
   "metadata": {},
   "source": [
    "### 예제 4-3 [시각]"
   ]
  },
  {
   "cell_type": "code",
   "execution_count": null,
   "id": "5f4c6883",
   "metadata": {},
   "outputs": [],
   "source": [
    "# 3이 하나라도 포함되는지 확인\n",
    "\n",
    "# print(23 * 60 * 60)\n",
    "# 82800번 계산 가능 왜냐하면 파이썬은 1초에 2000만번 연산 가능하니까\n",
    "\n",
    "# 00시 00분 00초 부터 N시 59분 59초까지 3이 포함된 시간의 경우의 수 모두 구하기\n",
    "n = int(input())\n",
    "count = 0\n",
    "for h in range(n + 1):\n",
    "    if '3' in str(h):\n",
    "        count += (60 * 60)\n",
    "    else:\n",
    "        for m in range(60):\n",
    "            if '3' in str(m):\n",
    "                count += 60\n",
    "            else:\n",
    "                for s in range(60):\n",
    "                    if '3' in str(s):\n",
    "                        count += 1\n",
    "                    \n",
    "print(count)"
   ]
  },
  {
   "cell_type": "markdown",
   "id": "8f8dcd04",
   "metadata": {},
   "source": [
    "논리가 정리되지 않은 상태라면 절대로 코드를 시작하지 말자. 경우의 수를 고려하는 작업이 완료되지 않은 상태에서 무작정 돌려보자 라고 생각하니까 더 모르겠다. 논리를 정리해보자.."
   ]
  },
  {
   "cell_type": "markdown",
   "id": "f5196af6",
   "metadata": {},
   "source": [
    "[해결 방법]\n",
    "1. 먼저 파이썬은 1초에 2,000만 번 연산할 수 있다. 따라서 하루인 82800(23 * 60 *60)가지의 경우의 수를 모두 직접 확인해봐도 괜찮다.\n",
    "2. 따라서 삼중 for문을 사용하여 계산한다.\n",
    "    - h 시간에 3이 들어있다면 h시간에 해당하는 00분 00초부터 59분 59초까지 모두 count해야한다. 따라서 해당 경우의 수를 한번에 count 해주었다.\n",
    "    - 마찬가지의 방법으로 m과 s도 해주었다.\n",
    "\n",
    "[지연 원인]\n",
    "1. 경우의 수를 제대로 따져보지 않은 상태로 바로 '코드로 확인해보자'면서 코드를 짠 것.\n",
    "2. 삼중 for문을 만드는 과정에서 위의 코드를 복붙하면서 if문의 m을 s로 바꾸지 않은 것."
   ]
  },
  {
   "cell_type": "markdown",
   "id": "81462c3a",
   "metadata": {},
   "source": [
    "#### 기존에 짠 코드"
   ]
  },
  {
   "cell_type": "code",
   "execution_count": null,
   "id": "95f45c92",
   "metadata": {},
   "outputs": [],
   "source": [
    "# 예제 4-2 시각 - my first\n",
    "\n",
    "n = int(input())\n",
    "count = 0\n",
    "for h in range(n + 1):\n",
    "    for m in range(60):\n",
    "        for s in range(60):\n",
    "            time = str(h) + str(m) + str(s)\n",
    "            count += 1 if '3' in time else 0\n",
    "            \n",
    "print(count)"
   ]
  },
  {
   "cell_type": "markdown",
   "id": "851d56b0",
   "metadata": {},
   "source": [
    "분기문이 줄어들었지만, 그만큼 연산은 더 많이 해야한다. (복습)에서 짠 코드는 3을 포함하는 시, 분을 만났을 때에 해당하는 경우의 수를 한번에 더해주어 반복 횟수는 줄었지만, 그만큼 조건 분기를 자주 해야하기 떄문에 조건문에 해당하는 연산도 무시할 수 없을 것 같다."
   ]
  },
  {
   "cell_type": "markdown",
   "id": "59d8745c",
   "metadata": {},
   "source": [
    "### "
   ]
  }
 ],
 "metadata": {
  "kernelspec": {
   "display_name": "Python 3 (ipykernel)",
   "language": "python",
   "name": "python3"
  },
  "language_info": {
   "codemirror_mode": {
    "name": "ipython",
    "version": 3
   },
   "file_extension": ".py",
   "mimetype": "text/x-python",
   "name": "python",
   "nbconvert_exporter": "python",
   "pygments_lexer": "ipython3",
   "version": "3.10.3"
  }
 },
 "nbformat": 4,
 "nbformat_minor": 5
}
