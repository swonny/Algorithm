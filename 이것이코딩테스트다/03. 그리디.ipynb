{
 "cells": [
  {
   "cell_type": "markdown",
   "id": "6e460a15",
   "metadata": {},
   "source": [
    "# 03. 그리디"
   ]
  },
  {
   "cell_type": "markdown",
   "id": "a8fc362b",
   "metadata": {},
   "source": [
    "- 그리디 알고리즘은 '현재 상황에서 당장 좋은 것만을 고르는 방법'이다. \n",
    "- 단순히 현재 상황에서 가장 좋아 보이는 것만 선택해도 문제를 풀 수 있는지 파악해야 한다.\n",
    "- '가장 큰 순서대로' 또는 '가장 작은 순서대로'와 같이 알게 모르게 기준을 제시해준다.\n",
    "- 정렬 알고리즘과 자주 짝을 이뤄 출제된다."
   ]
  },
  {
   "cell_type": "markdown",
   "id": "8bbef978",
   "metadata": {},
   "source": [
    "### 예제 3-1 [거스름돈]\n",
    "\n",
    "500원, 100원, 50원, 10원으로 손님에게 돈을 거슬러 줘야 할 때, 거슬러 줘야 하는 동전의 최소 개수를 구하는 문제\n",
    "\n",
    "#### 해결 방법\n",
    "'가장 큰 화폐 단위부터' 돈을 거슬러주면 된다. 그리고 큰 화폐로 거슬러 줄 수 없다면 그보다 작은 단위로 거슬러 주면 된다."
   ]
  },
  {
   "cell_type": "code",
   "execution_count": 5,
   "id": "f5853c7d",
   "metadata": {},
   "outputs": [
    {
     "name": "stdout",
     "output_type": "stream",
     "text": [
      "6\n"
     ]
    }
   ],
   "source": [
    "# 3-1 거스름돈\n",
    "\n",
    "n = 1260\n",
    "count = 0\n",
    "coins = [500, 100, 50, 10]\n",
    "\n",
    "for coin in coins:\n",
    "    count += (n // coin)\n",
    "    n %= coin\n",
    "\n",
    "print(count)"
   ]
  },
  {
   "cell_type": "markdown",
   "id": "3b53f1e6",
   "metadata": {},
   "source": [
    "화폐의 종류가 $K$개라고 할 때 위 소스코드의 시간 복잡도는 $O(K)$이다. 즉, 이 알고리즘의 시간 복잡도는 $n$과는 상관 없다는 것을 알 수 있다.\n",
    "\n",
    "- 그리디 알고리즘은 모든 알고리즘의 해결 방법이 될 수 없다. 아래와 같이 그리디 알고리즘을 이용한 경우의 답은 (500 + 100 + 100 + 100)으로 총 4개의 동전을 거슬러 주어야 한다. 하지만 아래 문제의 최적해는 (400 + 400)으로 총 2개의 동전만을 가지고 거슬러 주어야 한다.\n",
    "\n",
    "- 따라서 그리디 알고리즘을 사용하여 문제를 해결한 경우, 왜 그리디 문제로 알고리즘을 해결할 수 있는지 그 이유를 설명할 수 있어야 한다."
   ]
  },
  {
   "cell_type": "code",
   "execution_count": 6,
   "id": "af4b8e26",
   "metadata": {},
   "outputs": [
    {
     "name": "stdout",
     "output_type": "stream",
     "text": [
      "4\n"
     ]
    }
   ],
   "source": [
    "n = 800\n",
    "count = 0\n",
    "coins = [500, 400, 100]\n",
    "\n",
    "for coin in coins:\n",
    "    count += (n // coin)\n",
    "    n %= coin\n",
    "\n",
    "print(count)"
   ]
  },
  {
   "cell_type": "markdown",
   "id": "65e35536",
   "metadata": {},
   "source": [
    "예제 3-1에서 그리디 알고리즘이 문제 해결에 정당한 알고리즘이라고 할 수 있는 이유는 거스름돈으로 사용할 동전 중 큰 단위는 늘 작은 단위의 배수이기 때문에 작은 단위의 동전들을 종합해 다른 해가 나올 수 없기 때문이다. (?)"
   ]
  },
  {
   "cell_type": "markdown",
   "id": "578eadfa",
   "metadata": {},
   "source": [
    "## 실전 문제"
   ]
  },
  {
   "cell_type": "markdown",
   "id": "f0a2107b",
   "metadata": {},
   "source": [
    "### 예제 3-2 [큰 수의 법칙]"
   ]
  },
  {
   "cell_type": "code",
   "execution_count": 34,
   "id": "bd172186",
   "metadata": {},
   "outputs": [
    {
     "name": "stdout",
     "output_type": "stream",
     "text": [
      "5 8 3\n",
      "2 4 5 4 6\n",
      "46\n"
     ]
    }
   ],
   "source": [
    "# 3-2 큰 수의 법칙 - my\n",
    "n, m, k = map(int, input().split())\n",
    "arr = list(map(int, input().split()))\n",
    "\n",
    "arr.sort()\n",
    "big1 = arr[-1]\n",
    "big2 = arr[-2]\n",
    "\n",
    "group = (m // k) * k\n",
    "print((big1 * group) + big2 * (m - group))"
   ]
  },
  {
   "cell_type": "markdown",
   "id": "52e074c6",
   "metadata": {},
   "source": [
    "수열을 생각하여 코드를 짜면 더 논리적으로 위의 코드를 작성할 수 있다.\n",
    "\n",
    "위의 코드에서 가장 큰 수를 6, 두 번째로 큰 수를 5라고 하자. 이때 [6, 6, 6, 5]의 조합이 반복하여 나열되어있는 수열의 합을 구하고 싶다. 따라서 길이가 $k + 1$인 리스트가 총 더해야 하는 길이에 몇 번 포함될 수 있는지를 구하면 된다.\n",
    "\n",
    "```n = 5, m = 8, k = 3```이고, ```array = [2, 4, 5, 4, 6]```일 때 가장 큰 수는 6, 그 다음으로 큰 수는 5이다.<br/>"
   ]
  },
  {
   "cell_type": "code",
   "execution_count": 32,
   "id": "9bc112a4",
   "metadata": {},
   "outputs": [
    {
     "name": "stdout",
     "output_type": "stream",
     "text": [
      "5 8 3\n",
      "2 4 5 4 6\n",
      "46\n"
     ]
    }
   ],
   "source": [
    "# 3-2 개선\n",
    "\n",
    "n, m, k = map(int, input().split())\n",
    "arr = list(map(int, input().split()))\n",
    "\n",
    "arr.sort()\n",
    "big1 = arr[-1]\n",
    "big2 = arr[-2]\n",
    "\n",
    "N = m // (k + 1)\n",
    "print(big1 * (N * k) + big2 * N + big1 * (m % (k + 1)))"
   ]
  },
  {
   "cell_type": "code",
   "execution_count": 33,
   "id": "55bf7090",
   "metadata": {},
   "outputs": [
    {
     "name": "stdout",
     "output_type": "stream",
     "text": [
      "5 8 3\n",
      "2 4 5 4 6\n",
      "46\n"
     ]
    }
   ],
   "source": [
    "# 3-2 책 코드\n",
    "\n",
    "n, m, k = map(int, input().split())\n",
    "arr = list(map(int, input().split()))\n",
    "\n",
    "arr.sort()\n",
    "first = arr[n - 1] \n",
    "second = arr[n - 2]\n",
    "\n",
    "count = int(m / (k + 1)) * k\n",
    "count += m % (k + 1)\n",
    "\n",
    "result = 0\n",
    "result += (count) * first\n",
    "result += (m - count) * second\n",
    "\n",
    "print(result)"
   ]
  },
  {
   "cell_type": "markdown",
   "id": "721da08f",
   "metadata": {},
   "source": [
    "#### 내 코드에서 개선해야 할 점\n",
    "1. 변수명 - first, second와 같이 표현해보자\n",
    "2. count라는 변수와 같이 계속 반복해서 사용되는 코드를 줄여보자\n",
    "3. 1,2번을 지킨다면 가독성 문제가 해결 될 것 같다.\n",
    "4. 파이썬의 문법에서만 사용 가능한 코드 말고, 일반적인 방법을 사용하는 코드를 짜보자 (arr[-1] 대신 arr[n - 1]을 사용할 수 있다.)"
   ]
  },
  {
   "cell_type": "code",
   "execution_count": 35,
   "id": "ff6e1d67",
   "metadata": {},
   "outputs": [
    {
     "name": "stdout",
     "output_type": "stream",
     "text": [
      "5 8 3\n",
      "2 4 5 4 6\n",
      "46\n"
     ]
    }
   ],
   "source": [
    "# 3-2 개선 코드 2\n",
    "\n",
    "n, m, k = map(int, input().split())\n",
    "arr = list(map(int, input().split()))\n",
    "\n",
    "arr.sort()\n",
    "# 첫 번째, 두 번째로 큰 수 저장\n",
    "first = arr[n - 1]\n",
    "second = arr[n - 2]\n",
    "\n",
    "count = (m // (k + 1)) * k \n",
    "count += m % (k + 1) # first의 개수\n",
    "\n",
    "result = (first * count) + (second * (m - count))\n",
    "print(result)"
   ]
  },
  {
   "cell_type": "markdown",
   "id": "f0b23faf",
   "metadata": {},
   "source": [
    "### 예제 3-3 [숫자 카드 게임]"
   ]
  },
  {
   "cell_type": "code",
   "execution_count": 45,
   "id": "3b35fc53",
   "metadata": {},
   "outputs": [
    {
     "name": "stdout",
     "output_type": "stream",
     "text": [
      "3 3\n",
      "3 1 3\n",
      "4 1 4\n",
      "2 2 2\n",
      "2\n"
     ]
    }
   ],
   "source": [
    "# 예제 3-3 숫자 카드 게임 - my first\n",
    "\n",
    "n, m = map(int, input().split())\n",
    "data = [0] * n\n",
    "for i in range(n):\n",
    "    data[i] = list(map(int, input().split()))\n",
    "    data[i].sort()\n",
    "    \n",
    "print(max(data[0][0], data[1][0], data[2][0]))"
   ]
  },
  {
   "cell_type": "markdown",
   "id": "30f23450",
   "metadata": {},
   "source": [
    "내가 짠 코드는 데이터를 입력 받을 때마다 정렬을 해줘야 한다."
   ]
  },
  {
   "cell_type": "code",
   "execution_count": 48,
   "id": "c7bdf4e1",
   "metadata": {},
   "outputs": [
    {
     "name": "stdout",
     "output_type": "stream",
     "text": [
      "3 3\n",
      "3 1 3\n",
      "4 1 4\n",
      "2 2 2\n",
      "2\n"
     ]
    }
   ],
   "source": [
    "# 책 코드 1 - min() 함수를 이용한 예시\n",
    "\n",
    "n, m = map(int, input().split())\n",
    "result = 0\n",
    "for i in range(n):\n",
    "    data = list(map(int, input().split()))\n",
    "    min_val = min(data)\n",
    "    result = max(result, min_val)\n",
    "    \n",
    "print(result)"
   ]
  },
  {
   "cell_type": "code",
   "execution_count": 49,
   "id": "7c5d8b4a",
   "metadata": {},
   "outputs": [
    {
     "name": "stdout",
     "output_type": "stream",
     "text": [
      "3 3\n",
      "3 1 3\n",
      "4 1 4\n",
      "2 2 2\n",
      "2\n"
     ]
    }
   ],
   "source": [
    "# 책 코드 2 - 이중 for문을 이용한 예시\n",
    "\n",
    "n, m = map(int, input().split())\n",
    "result = 0\n",
    "for i in range(n):\n",
    "    data = list(map(int, input().split()))\n",
    "    min_val = 10001\n",
    "    for d in data:\n",
    "        min_val = min(min_val, d)\n",
    "    result = max(result, min_val)\n",
    "    \n",
    "print(result)"
   ]
  },
  {
   "cell_type": "markdown",
   "id": "6d92ef41",
   "metadata": {},
   "source": [
    "### 예제 3-4 [1이 될 때까지]"
   ]
  },
  {
   "cell_type": "code",
   "execution_count": 50,
   "id": "de654fb4",
   "metadata": {},
   "outputs": [
    {
     "name": "stdout",
     "output_type": "stream",
     "text": [
      "25 5\n",
      "2\n"
     ]
    }
   ],
   "source": [
    "# 예제 3-4 1이 될 때까지 - my first\n",
    "\n",
    "n, k = map(int, input().split())\n",
    "count = 0\n",
    "while n != 1:\n",
    "    count += 1\n",
    "    if n % k == 0:\n",
    "        n //= k\n",
    "    else:\n",
    "        n -= 1\n",
    "\n",
    "print(count)"
   ]
  },
  {
   "cell_type": "code",
   "execution_count": null,
   "id": "a49c18b6",
   "metadata": {},
   "outputs": [],
   "source": []
  }
 ],
 "metadata": {
  "kernelspec": {
   "display_name": "Python 3 (ipykernel)",
   "language": "python",
   "name": "python3"
  },
  "language_info": {
   "codemirror_mode": {
    "name": "ipython",
    "version": 3
   },
   "file_extension": ".py",
   "mimetype": "text/x-python",
   "name": "python",
   "nbconvert_exporter": "python",
   "pygments_lexer": "ipython3",
   "version": "3.10.3"
  }
 },
 "nbformat": 4,
 "nbformat_minor": 5
}
