{
 "cells": [
  {
   "cell_type": "markdown",
   "id": "54503b48",
   "metadata": {},
   "source": [
    "# 도수 정렬"
   ]
  },
  {
   "cell_type": "markdown",
   "id": "3425f977",
   "metadata": {},
   "source": [
    "도수 정렬은 대소 관계를 판단하지 않고 빠르게 정렬하는 알고리즘이다.\n",
    "\n"
   ]
  }
 ],
 "metadata": {
  "kernelspec": {
   "display_name": "Python 3 (ipykernel)",
   "language": "python",
   "name": "python3"
  },
  "language_info": {
   "codemirror_mode": {
    "name": "ipython",
    "version": 3
   },
   "file_extension": ".py",
   "mimetype": "text/x-python",
   "name": "python",
   "nbconvert_exporter": "python",
   "pygments_lexer": "ipython3",
   "version": "3.10.3"
  }
 },
 "nbformat": 4,
 "nbformat_minor": 5
}
