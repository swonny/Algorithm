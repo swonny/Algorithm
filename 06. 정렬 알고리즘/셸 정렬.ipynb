{
 "cells": [
  {
   "cell_type": "markdown",
   "id": "691b651f",
   "metadata": {},
   "source": [
    "# 셸 정렬"
   ]
  },
  {
   "cell_type": "markdown",
   "id": "9934bb70",
   "metadata": {},
   "source": [
    "단순 삽입 정렬의 장점은 살리고 단점은 보완하여 더 빠르게 정렬하는 알고리즘\n",
    "\n",
    "단순 삽입 정렬\n",
    "- 장점 : 이미 정렬을 마쳤거나 정렬이 거의 완성된 상태에서는 빠른 알고리즘이다.\n",
    "- 단점 : 삽입해야하는 원소가 멀리 떨어져있다면 원소들의 이동 횟수가 늘어난다."
   ]
  },
  {
   "cell_type": "markdown",
   "id": "05a43bb1",
   "metadata": {},
   "source": [
    "**셸 정렬 알고리즘**\n",
    "\n",
    "단순 삽입 정렬의 단점은 삽입해야하는 원소가 멀리 떨어져있으면 원소들이 이동해야 하는 횟수가 많아진다는 것이었다. 따라서 셸 정렬 알고리즘은 이동 횟수를 줄이기 위해 여러 그룹으로 나눠 정렬을 진행한다.\n",
    "\n",
    "\n",
    "1. 모든 그룹을 정렬할 때는 삽입 정렬 방식을 이용한다.\n",
    "다음과 같은 배열이 있다고 하자.\n",
    "```python\n",
    "[8, 1, 4, 2, 7, 6, 3, 5]\n",
    "```\n",
    "\n",
    "2. ```4-정렬``` : 서로 4칸씩 떨어진 원소를 꺼내 삽입 정렬을 수행한다. 이때 (8, 7), (1, 6), (4, 3), (2, 5)의 각 그룹별로 삽입정렬을 수행한다. 결과는 다음과 같다.\n",
    "```python\n",
    "[7, 1, 3, 2, 8, 6, 4, 5]\n",
    "```\n",
    "\n",
    "3. ```2-정렬``` 서로 2칸씩 떨어진 원소를 꺼내 삽입 정렬을 수행한다. 이때 (7, 3, 8, 4), (1, 2, 6, 5)의 각 그룹별로 삽입정렬을 수행한다. 결과는 다음과 같다.\n",
    "```python\n",
    "[3, 1, 4, 2, 7, 5, 8, 6]\n",
    "```\n",
    "\n",
    "4. ```1-정렬``` 즉, 배열 전체를 대상으로 삽입정렬을 수행한다.\n",
    "\n",
    "이와 같은 방법으로 정렬한다면 정렬 횟수는 늘어나지만 원소의 이동 횟수는 줄어든다."
   ]
  },
  {
   "cell_type": "markdown",
   "id": "20a471ba",
   "metadata": {},
   "source": [
    "알고리즘\n",
    "\n",
    "1. 배열의 길이 % 4에 해당하는 idx만 정렬\n",
    "2. 배열의 길이 % 2에 해당하는 idx만 정렬\n",
    "3. 전체 배열 정렬"
   ]
  },
  {
   "cell_type": "code",
   "execution_count": 51,
   "id": "5d870a67",
   "metadata": {
    "scrolled": false
   },
   "outputs": [
    {
     "name": "stdout",
     "output_type": "stream",
     "text": [
      "[8, 7]\n",
      "[8]\n",
      "[]\n",
      "[7, 1, 4, 2, 8, 6, 3, 5]\n",
      "[7, 4, 8, 3]\n",
      "[7, 4, 8]\n",
      "[7, 4]\n",
      "[7]\n",
      "[]\n",
      "[3, 1, 8, 2, 4, 6, 7, 5]\n",
      "[3, 1, 8, 2, 4, 6, 7, 5]\n",
      "[3, 1, 8, 2, 4, 6, 7]\n",
      "[3, 1, 8, 2, 4, 6]\n",
      "[3, 1, 8, 2, 4]\n",
      "[3, 1, 8, 2]\n",
      "[3, 1, 8]\n",
      "[3, 1]\n",
      "[3]\n",
      "[]\n",
      "[5, 7, 6, 4, 2, 8, 1, 3]\n"
     ]
    }
   ],
   "source": [
    "import bisect\n",
    "\n",
    "def shell_sort(a):\n",
    "    n = len(a)\n",
    "    for step in range(4, -1, -2):\n",
    "        tmp = []\n",
    "        for j in range(0, n, step if step != 0 else 1):\n",
    "            tmp.append(a[j])\n",
    "            \n",
    "        print(tmp)\n",
    "        \n",
    "        for j in range(0, n, step if step != 0 else 1):\n",
    "            a[j] = tmp.pop()\n",
    "            print(tmp)\n",
    "        print(a)\n",
    "\n",
    "a = [8, 1, 4, 2, 7, 6, 3, 5]\n",
    "shell_sort(a)"
   ]
  },
  {
   "cell_type": "code",
   "execution_count": 52,
   "id": "a867153f",
   "metadata": {
    "scrolled": true
   },
   "outputs": [
    {
     "name": "stdout",
     "output_type": "stream",
     "text": [
      "8 7 \n",
      "8 4 7 3 \n",
      "8 1 4 2 7 6 3 5 \n"
     ]
    }
   ],
   "source": [
    "step = 4\n",
    "\n",
    "a = [8, 1, 4, 2, 7, 6, 3, 5]\n",
    "n = len(a)\n",
    "for step in range(4, -1, -2):\n",
    "    for j in range(0, n, step if step != 0 else 1):\n",
    "        print(a[j], end=' ')\n",
    "    print()"
   ]
  },
  {
   "cell_type": "code",
   "execution_count": 53,
   "id": "8ca56bc5",
   "metadata": {},
   "outputs": [
    {
     "name": "stdout",
     "output_type": "stream",
     "text": [
      "4\n",
      "2\n",
      "0\n"
     ]
    }
   ],
   "source": [
    "for step in range(4, -1, -2):\n",
    "    print(step)"
   ]
  },
  {
   "cell_type": "code",
   "execution_count": null,
   "id": "daa69a0a",
   "metadata": {},
   "outputs": [],
   "source": [
    "def shell_sort(a):\n",
    "    n = len(a)\n",
    "    h = n // 2\n",
    "    while h > 0:\n",
    "        for i "
   ]
  }
 ],
 "metadata": {
  "kernelspec": {
   "display_name": "Python 3.10.3 64-bit",
   "language": "python",
   "name": "python3"
  },
  "language_info": {
   "codemirror_mode": {
    "name": "ipython",
    "version": 3
   },
   "file_extension": ".py",
   "mimetype": "text/x-python",
   "name": "python",
   "nbconvert_exporter": "python",
   "pygments_lexer": "ipython3",
   "version": "3.10.3"
  },
  "vscode": {
   "interpreter": {
    "hash": "aee8b7b246df8f9039afb4144a1f6fd8d2ca17a180786b69acc140d282b71a49"
   }
  }
 },
 "nbformat": 4,
 "nbformat_minor": 5
}
