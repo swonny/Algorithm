{
 "cells": [
  {
   "cell_type": "markdown",
   "id": "691b651f",
   "metadata": {},
   "source": [
    "# 셸 정렬"
   ]
  },
  {
   "cell_type": "markdown",
   "id": "9934bb70",
   "metadata": {},
   "source": [
    "단순 삽입 정렬의 장점은 살리고 단점은 보완하여 더 빠르게 정렬하는 알고리즘"
   ]
  }
 ],
 "metadata": {
  "kernelspec": {
   "display_name": "Python 3 (ipykernel)",
   "language": "python",
   "name": "python3"
  },
  "language_info": {
   "codemirror_mode": {
    "name": "ipython",
    "version": 3
   },
   "file_extension": ".py",
   "mimetype": "text/x-python",
   "name": "python",
   "nbconvert_exporter": "python",
   "pygments_lexer": "ipython3",
   "version": "3.10.3"
  }
 },
 "nbformat": 4,
 "nbformat_minor": 5
}
