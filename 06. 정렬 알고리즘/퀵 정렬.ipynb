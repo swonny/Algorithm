{
 "cells": [
  {
   "cell_type": "markdown",
   "id": "640a2beb",
   "metadata": {},
   "source": [
    "# 퀵 정렬"
   ]
  },
  {
   "cell_type": "markdown",
   "id": "620e7736",
   "metadata": {},
   "source": [
    "퀵 정렬은 중심축(pivot)을 기준으로 배열을 중심축보다 작은 그룹, 큰 그룹으로 나눈다. 중심축보다 왼쪽에 있으면서 중심축보다 큰 원소와 중심축보다 오른쪽에 있으면서 중심축보다 작은 원소를 서로 교환하는 방식으로 정렬한다."
   ]
  },
  {
   "cell_type": "markdown",
   "id": "5d9c5341",
   "metadata": {},
   "source": [
    "**알고리즘**\n",
    "1. a[pl] > pivot일 때<br/>\n",
    "    a[pr] < pivot이라면 교환 & pr--, pl++<br/>\n",
    "    a[pr] > pivot이라면 pr--<br/>\n",
    "2. a[pr] < pivot일 때<br/>\n",
    "    a[pl] < pivot이라면 pl++<br/>\n",
    "\n",
    "즉, a[pr] > pivot일 때 a[pl] < pivot일 때는 인덱스를 옮기고, 아니라면 교환한다."
   ]
  },
  {
   "cell_type": "code",
   "execution_count": 9,
   "id": "336b0a6e",
   "metadata": {},
   "outputs": [
    {
     "name": "stdout",
     "output_type": "stream",
     "text": [
      "[1, 3, 2, 4, 5, 7, 6, 8, 9]\n"
     ]
    }
   ],
   "source": [
    "# 배열을 두 그룹으로 나누기 - 내가 짠 코드\n",
    "\n",
    "def partition(a):\n",
    "    n = len(a)\n",
    "    pl = 0\n",
    "    pr = n - 1\n",
    "    pc = (pl + pr) // 2\n",
    "    pivot = a[pc]\n",
    "    while pl < pr:\n",
    "        if a[pl] > pivot and a[pr] < pivot:\n",
    "            a[pl], a[pr] = a[pr], a[pl]\n",
    "        if a[pr] > pivot:\n",
    "            pr -= 1\n",
    "        if a[pl] < pivot:\n",
    "            pl += 1\n",
    "        \n",
    "a = [1, 8, 7, 4, 5, 2, 6, 3, 9]\n",
    "partition(a)\n",
    "print(a)"
   ]
  },
  {
   "cell_type": "code",
   "execution_count": 10,
   "id": "a5911a86",
   "metadata": {},
   "outputs": [
    {
     "name": "stdout",
     "output_type": "stream",
     "text": [
      "[1, 3, 2, 4, 5, 7, 6, 8, 9]\n"
     ]
    }
   ],
   "source": [
    "# 배열을 두 그룹으로 나누기 - 책\n",
    "\n",
    "def partition(a):\n",
    "    n = len(a)\n",
    "    pl = 0\n",
    "    pr = n - 1\n",
    "    x = a[n // 2]\n",
    "    \n",
    "    while pl <= pr:\n",
    "        while a[pl] < x: pl += 1\n",
    "        while a[pr] > x: pr -= 1\n",
    "        if pl <= pr:\n",
    "            a[pl], a[pr] = a[pr], a[pl]\n",
    "            pl += 1\n",
    "            pr -= 1\n",
    "            \n",
    "a = [1, 8, 7, 4, 5, 2, 6, 3, 9]\n",
    "partition(a)\n",
    "print(a)       "
   ]
  },
  {
   "cell_type": "markdown",
   "id": "ae1158a8",
   "metadata": {},
   "source": [
    "### 퀵 정렬 알고리즘 구현"
   ]
  },
  {
   "cell_type": "code",
   "execution_count": 26,
   "id": "a67c327f",
   "metadata": {
    "scrolled": true
   },
   "outputs": [
    {
     "name": "stdout",
     "output_type": "stream",
     "text": [
      "(left, right, x) : (0, 8, 5)\n",
      "if a[pl] < x: (0, 8)\n",
      "\n",
      "if a[pr] > x: (1, 8)\n",
      "\n",
      "before change: [1, 8, 7, 4, 5, 2, 6, 3, 9]\n",
      "after change: [1, 3, 7, 4, 5, 2, 6, 8, 9]\n",
      "\n",
      "if a[pr] > x: (2, 6)\n",
      "\n",
      "before change: [1, 3, 7, 4, 5, 2, 6, 8, 9]\n",
      "after change: [1, 3, 2, 4, 5, 7, 6, 8, 9]\n",
      "\n",
      "if a[pl] < x: (3, 4)\n",
      "\n",
      "before change: [1, 3, 2, 4, 5, 7, 6, 8, 9]\n",
      "after change: [1, 3, 2, 4, 5, 7, 6, 8, 9]\n",
      "\n",
      "(left, right, x) : (0, 3, 3)\n",
      "if a[pl] < x: (0, 3)\n",
      "\n",
      "if a[pr] > x: (1, 3)\n",
      "\n",
      "before change: [1, 3, 2, 4, 5, 7, 6, 8, 9]\n",
      "after change: [1, 2, 3, 4, 5, 7, 6, 8, 9]\n",
      "\n",
      "(left, right, x) : (0, 1, 1)\n",
      "if a[pr] > x: (0, 1)\n",
      "\n",
      "before change: [1, 2, 3, 4, 5, 7, 6, 8, 9]\n",
      "after change: [1, 2, 3, 4, 5, 7, 6, 8, 9]\n",
      "\n",
      "(left, right, x) : (2, 3, 3)\n",
      "if a[pr] > x: (2, 3)\n",
      "\n",
      "before change: [1, 2, 3, 4, 5, 7, 6, 8, 9]\n",
      "after change: [1, 2, 3, 4, 5, 7, 6, 8, 9]\n",
      "\n",
      "(left, right, x) : (5, 8, 6)\n",
      "if a[pr] > x: (5, 8)\n",
      "\n",
      "if a[pr] > x: (5, 7)\n",
      "\n",
      "before change: [1, 2, 3, 4, 5, 7, 6, 8, 9]\n",
      "after change: [1, 2, 3, 4, 5, 6, 7, 8, 9]\n",
      "\n",
      "(left, right, x) : (6, 8, 8)\n",
      "if a[pl] < x: (6, 8)\n",
      "\n",
      "if a[pr] > x: (7, 8)\n",
      "\n",
      "before change: [1, 2, 3, 4, 5, 6, 7, 8, 9]\n",
      "after change: [1, 2, 3, 4, 5, 6, 7, 8, 9]\n",
      "\n",
      "[1, 2, 3, 4, 5, 6, 7, 8, 9]\n"
     ]
    }
   ],
   "source": [
    "# 퀵 정렬 알고리즘 구현하기\n",
    "\n",
    "def qsort(a, left, right):\n",
    "    pl = left\n",
    "    pr = right\n",
    "    x = a[(left + right) // 2]\n",
    "    print(f'(left, right, x) : {left, right, x}')\n",
    "    while pl <= pr:\n",
    "        while a[pl] < x:\n",
    "            print(f'if a[pl] < x: {pl, pr}', end='\\n\\n')\n",
    "            pl += 1\n",
    "        while a[pr] > x:\n",
    "            print(f'if a[pr] > x: {pl, pr}', end='\\n\\n')\n",
    "            pr -= 1\n",
    "        if pl <= pr:\n",
    "            print(f'before change: {a}')\n",
    "            a[pl], a[pr] = a[pr], a[pl]\n",
    "            print(f'after change: {a}', end='\\n\\n')\n",
    "            pl += 1\n",
    "            pr -= 1\n",
    "                \n",
    "    if left < pr:\n",
    "        qsort(a, left, pr)\n",
    "    if right > pl:\n",
    "        qsort(a, pl, right)\n",
    "            \n",
    "a = [1, 8, 7, 4, 5, 2, 6, 3, 9]\n",
    "qsort(a, 0, len(a) - 1)\n",
    "print(a)"
   ]
  },
  {
   "cell_type": "markdown",
   "id": "93bf6d25",
   "metadata": {},
   "source": [
    "### 비재귀적 퀵 정렬 구현"
   ]
  },
  {
   "cell_type": "markdown",
   "id": "77f2977d",
   "metadata": {},
   "source": [
    "내부 while문 두 개를 빠져나오는 경우 세 가지\n",
    "1. a[pl] > x, a[pr] < x일 때<br/>\n",
    "2. a[pl] == x, a[pr] <x일 때<br/>\n",
    "3. a[pr] == x, a[pl] > x일 때<br/>\n",
    "\n",
    "2,3 번의 경우를 위해 pl, pr 비교시 등호가 필요"
   ]
  },
  {
   "cell_type": "markdown",
   "id": "dfc665c6",
   "metadata": {},
   "source": [
    "**비재귀적 퀵 정렬 알고리즘**\n",
    "\n",
    "- left : 가장 왼쪽 원소\n",
    "- right: 가장 오른쪽 원소\n",
    "- x : 피벗\n",
    "- pl : 왼쪽 원소 중 x보다 큰 원소를 찾는 포인터\n",
    "- pr : 오른쪽 원소 중 x보다 작은 원소를 찾는 포인터\n",
    "\n",
    "\n",
    "**<재귀>**\n",
    "1. pl <= pr이라면 while문 반복<br/>\n",
    "    1.1 a[pl] < x라면 pl++<br/>\n",
    "    1.2 a[pr] > x라면 pr--<br/>\n",
    "    1.3 다음과 네 가지 경우 위의 두 while문을 빠져나옴<br/>\n",
    "        - a[pl] > x이고, a[pr] < x<br/>\n",
    "        - a[pl] == x, a[pr] == x이고<br/>\n",
    "        - a[pl] > x이고, a[pr] == x<br/>\n",
    "        - a[pr] < x이고, a[pl] == x<br/>\n",
    "        \n",
    "    1.4 a[pl]과 a[pr]교환\n",
    "    1.5 pl++, pr --\n",
    "    \n",
    "2. a[left] ~ a[pr], x, a[pr] ~ a[right]의 그룹으로 나뉘어짐.<br/>\n",
    "    2.1 left < pr이라면 다시 1번 반복<br/>\n",
    "        left >= pr이라면, 즉 비교할 원소가 하나도 없다면 다음 단계로<br/>\n",
    "    2.2 right > pl이라면 다시 1번 반복<br/>\n",
    "        right <= pl이라면, 즉 비교할 원소가 하나도 없다면 종료<br/>\n",
    "\n",
    "**<2번 -> 비재귀로>**\n",
    "2. a[left] ~ a[pr], x, a[pr] ~ a[right]의 그룹으로 나뉘어짐.<br/>\n",
    "    2.1 left < pr이라면 다시 ~~1번 반복~~ <br/>\n",
    "        stack에 오른쪽 그룹 left, right 저장 후 stk.push() <br/>\n",
    "        -> left, right update <br/>\n",
    "        -> continue? 또는 break?로 외부 while문 반복<br/>\n",
    "        left >= pr이라면, 즉 비교할 원소가 하나도 없다면 다음 단계로<br/>\n",
    "    2.2 stack.is_empty()일 때까지 ~~1번 반복~~ stack.pop()하여 left, right update -> continue? 또는 break?로 외부 while문 반복 <br/>\n",
    "        "
   ]
  },
  {
   "cell_type": "code",
   "execution_count": 68,
   "id": "18ee2c04",
   "metadata": {
    "scrolled": true
   },
   "outputs": [
    {
     "name": "stdout",
     "output_type": "stream",
     "text": [
      "[1, 3, 7, 4, 5, 2, 6, 8, 9] 2 6 5\n",
      "[1, 3, 2, 4, 5, 7, 6, 8, 9] 3 4 5\n",
      "[1, 3, 2, 4, 5, 7, 6, 8, 9] 5 3 5\n",
      "[(6, 8)]\n",
      "before pop the stack : ([1, 3, 2, 4, 5, 7, 6, 8, 9], 0, 3, 2)\n",
      "[1, 2, 3, 4, 5, 7, 6, 8, 9] 2 1 2\n",
      "[(6, 8), (3, 3)]\n",
      "before pop the stack : ([1, 2, 3, 4, 5, 7, 6, 8, 9], 0, 1, 2)\n",
      "[1, 2, 3, 4, 5, 7, 6, 8, 9] 2 0 2\n",
      "[(6, 8), (3, 3), (3, 1)]\n",
      "before pop the stack : ([1, 2, 3, 4, 5, 7, 6, 8, 9], 0, 0, 1)\n",
      "[1, 2, 3, 4, 5, 7, 6, 8, 9] 1 -1 1\n",
      "[(6, 8), (3, 3), (3, 1), (2, 0)]\n",
      "before pop the stack : ([1, 2, 3, 4, 5, 7, 6, 8, 9], 0, -1, 1)\n",
      "[1, 2, 3, 4, 5, 7, 6, 8, 9]\n"
     ]
    }
   ],
   "source": [
    "# from collections import deque\n",
    "from typing import MutableSequence\n",
    "\n",
    "def qsort2(a: MutableSequence, left: int, right: int) -> None:\n",
    "    \"\"\"a[left] ~ a[right]를 퀵 정렬(비재귀적인 퀵 정렬)\"\"\"\n",
    "    stk = []\n",
    "    pl = left\n",
    "    pr = right\n",
    "    x = a[(right + 1) // 2]\n",
    "    while True:       \n",
    "        if pl > pr:\n",
    "            break\n",
    "        while a[pl] < x:\n",
    "            pl += 1\n",
    "        while a[pr] > x:\n",
    "            pr -= 1\n",
    "        if pl <= pr:\n",
    "            a[pl], a[pr] = a[pr], a[pl]\n",
    "            pl += 1\n",
    "            pr -= 1\n",
    "        print(a, pl, pr, x)\n",
    "        \n",
    "        if pl > pr:\n",
    "            stk.append((pl + 1, right))\n",
    "            left = left\n",
    "            right = pr\n",
    "            pl = left\n",
    "            pr = right\n",
    "            x = a[(right + 1) // 2]\n",
    "            print(stk)\n",
    "            print(f'before pop the stack : {a, left, right, x}')\n",
    "            continue\n",
    "        \n",
    "        if stk:\n",
    "            left, right = stk.pop()\n",
    "            print(f'after pop the stack : {a}')\n",
    "        \n",
    "a = [1, 8, 7, 4, 5, 2, 6, 3, 9]\n",
    "qsort2(a, 0, len(a) - 1)\n",
    "print(a)"
   ]
  },
  {
   "cell_type": "code",
   "execution_count": 77,
   "id": "f916cda4",
   "metadata": {},
   "outputs": [],
   "source": [
    "# 퀵 정렬 비재귀 구현을 위한 Stack Class\n",
    "\n",
    "from collections import deque\n",
    "\n",
    "class Stack:\n",
    "    def __init__(self, n):\n",
    "        self.capacity = n\n",
    "        self.__stk = deque([], n)\n",
    "        \n",
    "    def pop(self):\n",
    "        return self.__stk.pop()\n",
    "    \n",
    "    def push(self, data):\n",
    "        self.__stk.append(data)\n",
    "    \n",
    "    def is_empty(self):\n",
    "        if len(self.__stk) == 0:\n",
    "            return True\n",
    "        return False\n",
    "    \n",
    "    def print_all(self):\n",
    "        print(self.__stk)"
   ]
  },
  {
   "cell_type": "markdown",
   "id": "81ba64c5",
   "metadata": {},
   "source": [
    "# 🔴 비재귀 구현 다시 해보기"
   ]
  },
  {
   "cell_type": "code",
   "execution_count": 78,
   "id": "1c93d844",
   "metadata": {},
   "outputs": [
    {
     "name": "stdout",
     "output_type": "stream",
     "text": [
      "[1, 3, 2, 4, 5, 7, 6, 8, 9]\n",
      "deque([(0, 3), (5, 8)], maxlen=9)\n",
      "[1, 3, 2, 4, 5, 6, 7, 8, 9]\n",
      "deque([(0, 3), (6, 8)], maxlen=9)\n",
      "[1, 3, 2, 4, 5, 6, 7, 8, 9]\n",
      "deque([(0, 3)], maxlen=9)\n",
      "[1, 2, 3, 4, 5, 6, 7, 8, 9]\n",
      "deque([(0, 1), (2, 3)], maxlen=9)\n",
      "[1, 2, 3, 4, 5, 6, 7, 8, 9]\n",
      "deque([(0, 1)], maxlen=9)\n",
      "[1, 2, 3, 4, 5, 6, 7, 8, 9]\n",
      "deque([], maxlen=9)\n",
      "[1, 2, 3, 4, 5, 6, 7, 8, 9]\n"
     ]
    }
   ],
   "source": [
    "# 퀵 정렬 비재귀 구현\n",
    "\n",
    "def qsort(a, left, right):\n",
    "    range = Stack(right - left + 1)\n",
    "    \n",
    "    range.push((left, right))\n",
    "    \n",
    "    while not range.is_empty():\n",
    "        pl, pr = left, right = range.pop()\n",
    "        x = a[(left + right) // 2]\n",
    "        \n",
    "        while pl <= pr:\n",
    "            while a[pl] < x: pl += 1\n",
    "            while a[pr] > x: pr -= 1\n",
    "            if pl <= pr:\n",
    "                a[pl], a[pr] = a[pr], a[pl]\n",
    "                pl += 1\n",
    "                pr -= 1\n",
    "        \n",
    "        if left < pr: range.push((left, pr))\n",
    "        if pl < right: range.push((pl, right))\n",
    "        print(a)\n",
    "        range.print_all()\n",
    "            \n",
    "a = [1, 8, 7, 4, 5, 2, 6, 3, 9]\n",
    "qsort(a, 0, len(a) - 1)\n",
    "print(a)"
   ]
  },
  {
   "cell_type": "markdown",
   "id": "9119ee9b",
   "metadata": {},
   "source": [
    "### 스택의 크기 결정\n",
    "\n",
    "원소 수가 작은 배열부터 push 한다면 스택에 쌓이는 배열의 범위는 줄어든다. 해당 배열에 대한 정렬이 더욱 빨리 끝나기 때문이다. 이와 같이 어떤 것을 먼저 push할지도 알고리즘 성능에 영향을 미친다는 것을 기억하자."
   ]
  },
  {
   "cell_type": "markdown",
   "id": "d1bd6684",
   "metadata": {},
   "source": [
    "### 피벗 선택하기"
   ]
  },
  {
   "cell_type": "markdown",
   "id": "8d304667",
   "metadata": {},
   "source": [
    "피벗을 어떤 값으로 선택하느냐에 따라 성능에 차이가 난다."
   ]
  }
 ],
 "metadata": {
  "kernelspec": {
   "display_name": "Python 3 (ipykernel)",
   "language": "python",
   "name": "python3"
  },
  "language_info": {
   "codemirror_mode": {
    "name": "ipython",
    "version": 3
   },
   "file_extension": ".py",
   "mimetype": "text/x-python",
   "name": "python",
   "nbconvert_exporter": "python",
   "pygments_lexer": "ipython3",
   "version": "3.10.3"
  }
 },
 "nbformat": 4,
 "nbformat_minor": 5
}
