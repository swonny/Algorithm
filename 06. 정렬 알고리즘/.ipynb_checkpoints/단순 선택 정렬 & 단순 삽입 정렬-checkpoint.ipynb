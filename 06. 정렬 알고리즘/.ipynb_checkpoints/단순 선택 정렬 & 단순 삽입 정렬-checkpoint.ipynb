{
 "cells": [
  {
   "cell_type": "markdown",
   "id": "64162a52",
   "metadata": {},
   "source": [
    "# 단순 선택 정렬\n",
    "\n",
    "가장 작은 원소를 선택해 정렬되지 않은 영역 중 가장 작은 인덱스와 교환하는 방식의 정렬이다.<br/>\n",
    "이웃하지 않은 원소끼리 비교를 진행하므로 안정적이지 않은 정렬이다."
   ]
  },
  {
   "cell_type": "code",
   "execution_count": 7,
   "id": "154c375e",
   "metadata": {},
   "outputs": [
    {
     "name": "stdout",
     "output_type": "stream",
     "text": [
      "[1, 3, 4, 6, 7, 8, 9]\n"
     ]
    }
   ],
   "source": [
    "def selection_sort(a):\n",
    "    n = len(a)\n",
    "    for i in range(n - 1):\n",
    "        min = i\n",
    "        for j in range(i + 1, n):\n",
    "            if a[j] < a[min]:\n",
    "                min = j\n",
    "        a[i], a[min] = a[min], a[i]\n",
    "\n",
    "a = [6, 4, 8, 3, 1, 9, 7]\n",
    "selection_sort(a)\n",
    "print(a)"
   ]
  },
  {
   "cell_type": "markdown",
   "id": "4278164b",
   "metadata": {},
   "source": [
    "# 단순 삽입 정렬\n",
    "\n",
    "주목한 원소보다 더 앞쪽에서 알맞은 위치로 삽입하여 정렬하는 알고리즘이다. 카드를 한 줄로 늘어놓을 때 사용하는 방법과 비슷한 알고리즘이다.<br/>\n",
    "단순 삽입 정렬은 두 번째 원소부터 주목하여 진행한다.<br/>"
   ]
  },
  {
   "cell_type": "code",
   "execution_count": 9,
   "id": "9c1fb578",
   "metadata": {},
   "outputs": [
    {
     "name": "stdout",
     "output_type": "stream",
     "text": [
      "[1, 3, 4, 6, 7, 8, 9]\n"
     ]
    }
   ],
   "source": [
    "# 삽입 정렬\n",
    "\n",
    "def insertion_sort(a):\n",
    "    n = len(a)\n",
    "    for i in range(1, n):\n",
    "        j = i\n",
    "        tmp = a[i]\n",
    "        while j > 0 and a[j - 1] > tmp:\n",
    "            a[j] = a[j - 1]\n",
    "            j -= 1\n",
    "        a[j] = tmp\n",
    "\n",
    "a = [6, 4, 3, 7, 1, 9, 8]        \n",
    "insertion_sort(a)\n",
    "print(a)"
   ]
  },
  {
   "cell_type": "markdown",
   "id": "5b99c313",
   "metadata": {},
   "source": [
    "# 이진 삽입 정렬\n",
    "\n",
    "단순 삽입 정렬은 배열 원소 수가 많아지면 원소 삽입에 필요한 비교, 교환 비용이 커진다. 그러나 이진 검색법을 사용하여 삽 정렬을 하면 이미 정렬을 마친 배열을 제외하고 원소를 삽입해야 할 위치를 검사하므로 비용을 줄일 수 있다."
   ]
  },
  {
   "cell_type": "code",
   "execution_count": null,
   "id": "d52520e9",
   "metadata": {},
   "outputs": [],
   "source": [
    "# 이진 삽입 정렬 알고리즘 구현하기\n",
    "\n",
    "def binary_insertion_sort(a):\n",
    "    for i in range(a):\n",
    "        key = a[i]\n",
    "        pl = 0\n",
    "        pr = len(a) - 1"
   ]
  }
 ],
 "metadata": {
  "kernelspec": {
   "display_name": "Python 3 (ipykernel)",
   "language": "python",
   "name": "python3"
  },
  "language_info": {
   "codemirror_mode": {
    "name": "ipython",
    "version": 3
   },
   "file_extension": ".py",
   "mimetype": "text/x-python",
   "name": "python",
   "nbconvert_exporter": "python",
   "pygments_lexer": "ipython3",
   "version": "3.10.3"
  }
 },
 "nbformat": 4,
 "nbformat_minor": 5
}
