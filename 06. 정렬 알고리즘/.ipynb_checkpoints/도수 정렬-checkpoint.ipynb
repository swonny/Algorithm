{
 "cells": [
  {
   "cell_type": "markdown",
   "id": "6e1827e5",
   "metadata": {},
   "source": [
    "# 도수 정렬"
   ]
  },
  {
   "cell_type": "markdown",
   "id": "b61363d1",
   "metadata": {},
   "source": [
    "도수 정렬은 대소 관계를 판단하지 않고 빠르게 정렬하는 알고리즘이다. 이 배열은 데이터 비교 또는 교환 작업이 필요 없어 매우 빠른 알고리즘이다. 하지만 도수 분포표가 필요하기 때문에 최소값과 최대값을 미리 알고 있는 경우에만 적용할 수 있다.\n",
    "\n",
    "**[알고리즘]**\n",
    "1. 점수를 인덱스로 갖는 원소에 1씩 더해 도수 분포표를 생성한다.\n",
    "2. 도수 분포표를 누적하여 더해 누적 분포표를 생성한다.\n",
    "3. 작업을 위한 배열 b를 생성하여 b[f[a[i]]] = a[i]를 저장한다.<br/>\n",
    "    a[i]에 해당하는 점수를 인덱스로 갖는 f[a[i]]가 가리키는 b의 인덱스에 a[i]를 저장한다."
   ]
  },
  {
   "cell_type": "code",
   "execution_count": 1,
   "id": "ef2b6d18",
   "metadata": {},
   "outputs": [
    {
     "name": "stdout",
     "output_type": "stream",
     "text": [
      "[5, 11, 22, 32, 68, 70, 99]\n"
     ]
    }
   ],
   "source": [
    "def fsort(a, max):\n",
    "    n = len(a)\n",
    "    f = [0] * (max + 1)\n",
    "    b = [0] * n\n",
    "    \n",
    "    for i in range(n):\n",
    "        f[a[i]] += 1\n",
    "    for i in range(1, max + 1):\n",
    "        f[i] += f[i - 1]\n",
    "    for i in range(n - 1, -1, -1):\n",
    "        f[a[i]] -= 1\n",
    "        b[f[a[i]]] = a[i]\n",
    "    for i in range(n):\n",
    "        a[i] = b[i]\n",
    "\n",
    "def counting_sort(a):\n",
    "    fsort(a, max(a))\n",
    "    \n",
    "x = [22, 5, 11, 32, 99, 68, 70]\n",
    "counting_sort(x)\n",
    "print(x)"
   ]
  },
  {
   "cell_type": "code",
   "execution_count": null,
   "id": "9f4990f1",
   "metadata": {},
   "outputs": [],
   "source": []
  }
 ],
 "metadata": {
  "kernelspec": {
   "display_name": "Python 3 (ipykernel)",
   "language": "python",
   "name": "python3"
  },
  "language_info": {
   "codemirror_mode": {
    "name": "ipython",
    "version": 3
   },
   "file_extension": ".py",
   "mimetype": "text/x-python",
   "name": "python",
   "nbconvert_exporter": "python",
   "pygments_lexer": "ipython3",
   "version": "3.10.3"
  }
 },
 "nbformat": 4,
 "nbformat_minor": 5
}
