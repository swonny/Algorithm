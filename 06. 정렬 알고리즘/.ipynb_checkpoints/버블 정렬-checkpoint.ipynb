{
 "cells": [
  {
   "cell_type": "markdown",
   "id": "676b65ab",
   "metadata": {},
   "source": [
    "# 정렬 알고리즘"
   ]
  },
  {
   "cell_type": "markdown",
   "id": "c2850cf9",
   "metadata": {},
   "source": [
    "정렬 알고리즘의 안정성\n",
    "- 안정적인 정렬 : 값이 같은 원소의 순서가 정렬이 된 이후에도 원래의 순서를 유지하는 정렬 알고리즘\n",
    "- 안정적이지 않은 정렬 : 값이 같은 원소의 순서가 정렬이 된 이후에도 원래의 순서를 유지하지 않는 정렬 알고리즘\n",
    "<br/>\n",
    "<br/>\n",
    "\n",
    "내부 정렬과 외부 정렬\n",
    "- 내부 정렬 : 정렬할 모든 데이터를 하나의 배열에 저장할 수 있는 경우에 사용하는 알고리즘\n",
    "- 외부 정렬 : 정렬할 데이터가 많아서 하나의 배열에 저장할 수 없는 경우에 사용하는 알고리즘"
   ]
  },
  {
   "cell_type": "markdown",
   "id": "934fc34a",
   "metadata": {},
   "source": [
    "## 버블 정렬\n",
    "\n",
    "버블 정렬은 액체 속의 공기 방울이 가벼워서 위로 보글보글 올라오는 모습에서 착안하여 붙인 이름이다. 끝에서부터 바로 앞의 원소와 크기를 비교하여 작은 원소를 앞으로 보내 더이상 비교할 부분이 없을 때까지 비교한다."
   ]
  },
  {
   "cell_type": "markdown",
   "id": "8ebe0d64",
   "metadata": {},
   "source": [
    "**버블 정렬 알고리즘**\n",
    "1. 가장 마지막 원소를 비교 원소로 두고 앞의 원소를 비교\n",
    "2. 만약 앞의 원소가 작으면 교환, 비교 원소 인덱스 업데이트\n",
    "3. 만약 앞의 원소가 더 크면 비교 원소 인덱스 업데이트\n",
    "\n",
    "- 이중 반복문 필요\n",
    "    1. 모두 정렬될 때까지 반복 : for문 range로\n",
    "    2. 하나의 원소가 정렬될 때까지 반복 : 비교 인덱스가 i보다 클 때까지 반복"
   ]
  },
  {
   "cell_type": "code",
   "execution_count": 34,
   "id": "753f5cee",
   "metadata": {},
   "outputs": [
    {
     "name": "stdout",
     "output_type": "stream",
     "text": [
      "21\n",
      "[1, 3, 4, 6, 7, 8, 9]\n"
     ]
    }
   ],
   "source": [
    "# 버블 정렬 알고리즘 - 내가 짠 코드 (똑같다!)\n",
    "\n",
    "def bubble_sort(arr):\n",
    "    cnt = 0\n",
    "    length = len(arr)\n",
    "    for i in range(length):\n",
    "        for j in range(length - 1, i, -1):\n",
    "            cnt += 1\n",
    "            if arr[j - 1] > arr[j]:\n",
    "                arr[j], arr[j - 1] = arr[j - 1], arr[j]\n",
    "    \n",
    "    print(cnt)\n",
    "    \n",
    "a = [9, 1, 3, 4, 6, 7, 8]\n",
    "bubble_sort(a)\n",
    "print(a)"
   ]
  },
  {
   "cell_type": "code",
   "execution_count": 3,
   "id": "698fa7a1",
   "metadata": {},
   "outputs": [
    {
     "name": "stdout",
     "output_type": "stream",
     "text": [
      "[1, 2, 3, 4, 9]\n"
     ]
    }
   ],
   "source": [
    "# 버블 정렬 알고리즘\n",
    "\n",
    "def bubble_sort(arr):\n",
    "    \"\"\"버블 정렬 알고리즘\"\"\"\n",
    "    n = len(arr)\n",
    "    for i in range(n - 1):\n",
    "        for j in range(n-1, i, -1):\n",
    "            if arr[j] < arr[j - 1]:\n",
    "                arr[j], arr[j - 1] = arr[j - 1], arr[j]\n",
    "\n",
    "arr = [1, 3, 9, 2, 4]\n",
    "bubble_sort(arr)\n",
    "print(arr)"
   ]
  },
  {
   "cell_type": "code",
   "execution_count": 8,
   "id": "7d0ec69d",
   "metadata": {},
   "outputs": [
    {
     "name": "stdout",
     "output_type": "stream",
     "text": [
      "패스 1\n",
      " 6   4   3   7   1   9 + 8\n",
      " 6   4   3   7   1 - 8   9\n",
      " 6   4   3   7 + 1   8   9\n",
      " 6   4   3 + 1   7   8   9\n",
      " 6   4 + 1   3   7   8   9\n",
      " 6 + 1   4   3   7   8   9\n",
      " 1   6   4   3   7   8   9\n",
      "패스 2\n",
      " 1   6   4   3   7   8 - 9\n",
      " 1   6   4   3   7 - 8   9\n",
      " 1   6   4   3 - 7   8   9\n",
      " 1   6   4 + 3   7   8   9\n",
      " 1   6 + 3   4   7   8   9\n",
      " 1   3   6   4   7   8   9\n",
      "패스 3\n",
      " 1   3   6   4   7   8 - 9\n",
      " 1   3   6   4   7 - 8   9\n",
      " 1   3   6   4 - 7   8   9\n",
      " 1   3   6 + 4   7   8   9\n",
      " 1   3   4   6   7   8   9\n",
      "패스 4\n",
      " 1   3   4   6   7   8 - 9\n",
      " 1   3   4   6   7 - 8   9\n",
      " 1   3   4   6 - 7   8   9\n",
      " 1   3   4   6   7   8   9\n",
      "패스 5\n",
      " 1   3   4   6   7   8 - 9\n",
      " 1   3   4   6   7 - 8   9\n",
      " 1   3   4   6   7   8   9\n",
      "패스 6\n",
      " 1   3   4   6   7   8 - 9\n",
      " 1   3   4   6   7   8   9\n",
      "비교를 21번 했습니다.\n",
      "교환을 8번 했습니다.\n",
      "[1, 3, 4, 6, 7, 8, 9]\n"
     ]
    }
   ],
   "source": [
    "# 버블 정렬 알고리즘\n",
    "\n",
    "def bubble_sort(arr):\n",
    "    \"\"\"버블 정렬 (정렬 과정을 출력)\"\"\"\n",
    "    n = len(arr)\n",
    "    ccnt = 0 # 비교 횟수\n",
    "    scnt = 0 # 교환 횟수\n",
    "    for i in range(n - 1):\n",
    "        print(f'패스 {i + 1}')\n",
    "        for j in range(n-1, i, -1):\n",
    "            for m in range(0, n - 1):\n",
    "                print(f'{arr[m]:2}' + ('  ' if m != j - 1 else\n",
    "                                       ' +' if arr [j - 1] > arr[j] else ' -'),\n",
    "                                        end = '')\n",
    "            print(f'{arr[n - 1]:2}')\n",
    "            ccnt += 1\n",
    "            if arr[j] < arr[j - 1]:\n",
    "                scnt += 1\n",
    "                arr[j], arr[j - 1] = arr[j - 1], arr[j]\n",
    "        \n",
    "        for m in range(0, n - 1):\n",
    "            print(f'{arr[m]:2}', end = '  ')\n",
    "        print(f'{arr[n - 1]:2}')\n",
    "    print(f'비교를 {ccnt}번 했습니다.')\n",
    "    print(f'교환을 {scnt}번 했습니다.')\n",
    "arr = [6, 4, 3, 7, 1, 9, 8]\n",
    "bubble_sort(arr)\n",
    "print(arr)"
   ]
  },
  {
   "cell_type": "markdown",
   "id": "af960a83",
   "metadata": {},
   "source": [
    "***"
   ]
  },
  {
   "cell_type": "markdown",
   "id": "769f9136",
   "metadata": {},
   "source": [
    "**버블 정렬 알고리즘 개선**\n",
    "\n",
    "한 번 지나갔는데 모두 정렬되어 있는 배열이라면 더이상 정렬을 위해 탐색하지 않아도 된다. 따라서 만약 모든 배열이 정렬되어 있다면 한 번만 처음부터 끝까지 스캔한 이후로는 더이상 스캔할 필요가 없다."
   ]
  },
  {
   "cell_type": "code",
   "execution_count": 9,
   "id": "ffe37687",
   "metadata": {},
   "outputs": [
    {
     "name": "stdout",
     "output_type": "stream",
     "text": [
      "array : [1, 2, 3, 4, 9], cnt: 1\n",
      "[1, 2, 3, 4, 9]\n"
     ]
    }
   ],
   "source": [
    "# 버블 정렬 알고리즘 개선 - 내가 짠 코드 (똑같다!)\n",
    "\n",
    "def bubble_sort(arr):\n",
    "    lenArr = len(arr)\n",
    "    cnt = 0\n",
    "    for i in range(lenArr): # 정렬하면 마지막 원소 하나 남았을 때는 비교하지 않아도 되므로 lenArr - 1번만 비교하면 된다.\n",
    "        flag = False\n",
    "        cnt += 1\n",
    "        for j in range(lenArr - 1, i, -1):\n",
    "            if arr[j] < arr[j - 1]:\n",
    "                arr[j], arr[j - 1] = arr[j - 1], arr[j]\n",
    "                flag = True\n",
    "        if not flag:\n",
    "            break\n",
    "            \n",
    "    print(f'array : {a}, cnt: {cnt}')\n",
    "\n",
    "a = [1, 2, 3, 4, 9]\n",
    "bubble_sort(a)\n",
    "print(a)"
   ]
  },
  {
   "cell_type": "code",
   "execution_count": 10,
   "id": "17241882",
   "metadata": {},
   "outputs": [
    {
     "name": "stdout",
     "output_type": "stream",
     "text": [
      "[1, 2, 3, 4, 9]\n"
     ]
    }
   ],
   "source": [
    "# 버블 정렬 알고리즘 개선 - 정렬 완료된 배열에 대해서는 더이상 비교를 진행하지 않는다.\n",
    "\n",
    "def bubble_sort(arr):\n",
    "    \"\"\"버블 정렬 알고리즘\"\"\"\n",
    "    n = len(arr)\n",
    "    for i in range(n - 1):\n",
    "        exchange = 0\n",
    "        for j in range(n-1, i, -1):\n",
    "            if arr[j] < arr[j - 1]:\n",
    "                arr[j], arr[j - 1] = arr[j - 1], arr[j]\n",
    "                exchange += 1\n",
    "        if exchange == 0:\n",
    "            break\n",
    "\n",
    "arr = [1, 3, 9, 2, 4]\n",
    "bubble_sort(arr)\n",
    "print(arr)"
   ]
  },
  {
   "cell_type": "code",
   "execution_count": 35,
   "id": "7b3917fe",
   "metadata": {},
   "outputs": [
    {
     "name": "stdout",
     "output_type": "stream",
     "text": [
      "array : [1, 3, 4, 6, 7, 8, 9], cnt: 21\n",
      "[1, 3, 4, 6, 7, 8, 9]\n"
     ]
    }
   ],
   "source": [
    "# 버블 정렬 알고리즘 개선 2 - 내가 짠 코드\n",
    "\n",
    "def bubble_sort2(arr):\n",
    "    n = len(arr)\n",
    "    cnt = 0\n",
    "    i = 0\n",
    "    while i < n - 1:\n",
    "        last = n - 1\n",
    "        for j in range(n - 1, i, -1):\n",
    "            cnt += 1\n",
    "            if arr[j] < arr[j - 1]:\n",
    "                arr[j], arr[j - 1] = arr[j - 1], arr[j]\n",
    "                last = j\n",
    "        i = last\n",
    "    \n",
    "    print(f'array : {a}, cnt: {cnt}')\n",
    "\n",
    "a = [9, 1, 3, 4, 6, 7, 8]\n",
    "bubble_sort2(a)\n",
    "print(a)"
   ]
  },
  {
   "cell_type": "code",
   "execution_count": 37,
   "id": "46f5a381",
   "metadata": {},
   "outputs": [
    {
     "name": "stdout",
     "output_type": "stream",
     "text": [
      "27\n",
      "[1, 3, 4, 6, 7, 8, 9]\n"
     ]
    }
   ],
   "source": [
    "# 버블 정렬 알고리즘 개선2 - 정렬 완료된 배열에 대해서는 더이상 비교를 진행하지 않는다.\n",
    "\n",
    "def bubble_sort(arr):\n",
    "    \"\"\"버블 정렬 알고리즘\"\"\"\n",
    "    n = len(arr)\n",
    "    k = 0\n",
    "    cnt = 0\n",
    "    while k < n - 1:\n",
    "        last = n - 1\n",
    "        for j in range(n-1, k, -1):\n",
    "            cnt += 1\n",
    "            if arr[j] < arr[j - 1]:\n",
    "                arr[j], arr[j - 1] = arr[j - 1], arr[j]\n",
    "                last = j - 1\n",
    "        k = last\n",
    "    print(cnt)\n",
    "\n",
    "arr = [9, 1, 3, 4, 6, 7, 8]\n",
    "bubble_sort(arr)\n",
    "print(arr)"
   ]
  },
  {
   "cell_type": "markdown",
   "id": "43679fd0",
   "metadata": {},
   "source": [
    "### 셰이커 정렬"
   ]
  },
  {
   "cell_type": "markdown",
   "id": "35320414",
   "metadata": {},
   "source": [
    "홀수 패스에서는 가장 작은 원소를 맨 앞으로 이동시키고, 짝수 패스에서는 가장 큰 원소를 맨 뒤로 이동 시키는 방식\n",
    "\n",
    "이게 왜 가능할까?\n",
    "첫 번째 원소를 제외하고 모두 정렬되어 있을 때 첫 번째 원소가 가장 큰 원소라면 모든 앞의 n-1번의 패스가 지난 후에야 비로소 정렬이 된다. 따라서 셰이커 정렬을 사용한다면 앞쪽의 큰 원소를 뒤로 보내고, 뒤쪽의 작은 원소를 앞으로 보내는 과정에서 불필요한 비교를 줄일 수 있다."
   ]
  },
  {
   "cell_type": "code",
   "execution_count": 13,
   "id": "f7eb44d3",
   "metadata": {},
   "outputs": [
    {
     "name": "stdout",
     "output_type": "stream",
     "text": [
      "[1, 2, 3, 4, 9]\n"
     ]
    }
   ],
   "source": [
    "# 셰이커 정렬\n",
    "\n",
    "def shaker_sort(arr):\n",
    "    \"\"\"셰이커 정렬\"\"\"\n",
    "    left = 0\n",
    "    right = len(arr) - 1\n",
    "    last = right\n",
    "    while left < right:\n",
    "        for j in range(right, left, -1):\n",
    "            if arr[j - 1] > arr[j]:\n",
    "                arr[j - 1], arr[j] = arr[j], arr[j - 1]\n",
    "                last = j\n",
    "        left = last\n",
    "        \n",
    "        for j in range(left, right):\n",
    "            if arr[j] > arr[j + 1]:\n",
    "                arr[j], arr[j + 1] = arr[j + 1], arr[j]\n",
    "                last = j\n",
    "        right = last\n",
    "\n",
    "arr = [1, 3, 9, 2, 4]\n",
    "shaker_sort(arr)\n",
    "print(arr)        "
   ]
  },
  {
   "cell_type": "code",
   "execution_count": 42,
   "id": "a39ed926",
   "metadata": {},
   "outputs": [
    {
     "name": "stdout",
     "output_type": "stream",
     "text": [
      "comp : 3, exch : 6\n",
      "[1, 3, 4, 6, 7, 8, 9]\n"
     ]
    }
   ],
   "source": [
    "# 셰이커 정렬 - 내가 짠 코드\n",
    "\n",
    "def shaker_sort(arr):\n",
    "    n = len(arr)\n",
    "    i = 0\n",
    "    comp = 0\n",
    "    exch = 0\n",
    "    while i < n:\n",
    "        comp += 1\n",
    "        if i % 2 == 0: # 홀수 패스 (idx는 1씩 작으니까 짝, 홀수 패스가 바뀜)\n",
    "            last = n - 1\n",
    "            for j in range(n - 1, i, -1):\n",
    "                if arr[j] < arr[j - 1]:\n",
    "                    arr[j], arr[j - 1] = arr[j - 1], arr[j]\n",
    "                    last = j\n",
    "                    exch += 1\n",
    "            i = last\n",
    "        else: # 짝수 패스\n",
    "            last = i\n",
    "            for j in range(i, n - 1):\n",
    "                if arr[j] > arr[j + 1]:\n",
    "                    arr[j], arr[j + 1] = arr[j + 1], arr[j]\n",
    "                    last = j\n",
    "                    exch += 1\n",
    "            n = last\n",
    "    print(f'comp : {comp}, exch : {exch}')\n",
    "\n",
    "a = [9, 1, 3, 4, 6, 7, 8]\n",
    "shaker_sort(a)\n",
    "print(a)"
   ]
  },
  {
   "cell_type": "markdown",
   "id": "1d5429fb",
   "metadata": {},
   "source": [
    "**shaker 정렬 내가 짠 코드 개선점** <br/>\n",
    "1. 내가 짠 코드에서는 index를 i와 n으로 지정했다는 점과 책의 코드는 left와 right 변수를 지정했다는 점이 달랐다. 같은 역할을 하는 코드라면 변수명을 통해 코드를 직관적으로 알 수 있도록 하는 것이 훨씬 도움될 것이다!\n",
    "\n",
    "\n",
    "2. 만약 홀수 패스, 짝수 패스, 홀수 패스, 짝수 패스 이런 패턴이 연속적으로 반복되는 것이라면 홀수, 짝수 순서에 맞도록 코드를 배치하되 매번 비교연산자를 통해 홀수 패스인지 짝수 패스인지 비교할 필요가 없다."
   ]
  },
  {
   "cell_type": "code",
   "execution_count": 43,
   "id": "47061f29",
   "metadata": {},
   "outputs": [
    {
     "name": "stdout",
     "output_type": "stream",
     "text": [
      "[1, 3, 4, 6, 7, 8, 9]\n"
     ]
    }
   ],
   "source": [
    "# 셰이커 정렬 - 내가 짠 코드 (개선)\n",
    "\n",
    "def shaker_sort(arr):\n",
    "    right = len(arr) - 1\n",
    "    left = 0\n",
    "    while left < right: # 비교 연산자 생각 필요\n",
    "        # 홀수 패스\n",
    "        last = right\n",
    "        for j in range(right, left, -1):\n",
    "            if arr[j] < arr[j - 1]:\n",
    "                arr[j], arr[j - 1] = arr[j - 1], arr[j]\n",
    "                last = j\n",
    "        left = last\n",
    "        \n",
    "        # 짝수 패스\n",
    "        for j in range(left, right):\n",
    "            if arr[j] > arr[j + 1]:\n",
    "                arr[j], arr[j + 1] = arr[j + 1], arr[j]\n",
    "                last = j\n",
    "        right = last\n",
    "\n",
    "a = [9, 1, 3, 4, 6, 7, 8]\n",
    "shaker_sort(a)\n",
    "print(a)"
   ]
  },
  {
   "cell_type": "markdown",
   "id": "ab635ff7",
   "metadata": {},
   "source": [
    "### 파이썬 산술 연산에 사용하는 내장 함수"
   ]
  },
  {
   "cell_type": "markdown",
   "id": "0d226393",
   "metadata": {},
   "source": [
    "|함수|설명|\n",
    "|:--:|:--:|\n",
    "|abs(x)|x의 절댓값을 반환|\n",
    "|divmod(a, b)|a를 b로 나눴을 때의 몫과 나머지로 구성된 튜플을 반환|\n",
    "|float(x)|문자열 또는 수로 입력받은 x를 부동 소수점 수로 변환하여 값을 반환. x를 생략하면 0.0을 반환|\n",
    "|hex(x)|정수값 x의 16진수 문자열을 반환|\n",
    "|int(x, base)|x를 int형 정수로 변환한 값을 반환. base는 0 ~ 36의 범위에서 진수를 나타내야 하며, 생략할 경우 10진법에 해당)|\n",
    "|max(args1, args2, ...)|최댓값 반환|\n",
    "|min(args1, args2, ...)|최소값 반환|\n",
    "|oct(x)|x에 해당하는 8진수 문자열 반환|\n",
    "|pow(x, y, z)|x의 제곱인 (x\\*\\*y)를 반환. z값을 입력하면 x의 y 제곱을 z로 나누었을 때의 나머지를 반환. 같은 식인 pow(x, y) % z보다 효율적으로 계산할 수 있다.|\n",
    "|round(n, ndigits)|n의 소수부를 ndigits 자릿수가 되도록 반올림한 값을 반환. ndigits가 None이거나 생략한 경우 입력한 값에 가장 가까운 정수 반환|\n",
    "|sum(x, start)|x의 원소값을 처음부터 끝까지 순서대로 더한 총합에 start값을 더하여 반환.|"
   ]
  }
 ],
 "metadata": {
  "kernelspec": {
   "display_name": "Python 3 (ipykernel)",
   "language": "python",
   "name": "python3"
  },
  "language_info": {
   "codemirror_mode": {
    "name": "ipython",
    "version": 3
   },
   "file_extension": ".py",
   "mimetype": "text/x-python",
   "name": "python",
   "nbconvert_exporter": "python",
   "pygments_lexer": "ipython3",
   "version": "3.10.3"
  }
 },
 "nbformat": 4,
 "nbformat_minor": 5
}
