{
 "cells": [
  {
   "cell_type": "markdown",
   "id": "5d67aa69",
   "metadata": {},
   "source": [
    "# 정렬 알고리즘"
   ]
  },
  {
   "cell_type": "markdown",
   "id": "6b9b7fd5",
   "metadata": {},
   "source": [
    "정렬 알고리즘의 안정성\n",
    "- 안정적인 정렬 : 값이 같은 원소의 순서가 정렬이 된 이후에도 원래의 순서를 유지하는 정렬 알고리즘\n",
    "- 안정적이지 않은 정렬 : 값이 같은 원소의 순서가 정렬이 된 이후에도 원래의 순서를 유지하지 않는 정렬 알고리즘\n",
    "<br/>\n",
    "<br/>\n",
    "\n",
    "내부 정렬과 외부 정렬\n",
    "- 내부 정렬 : 정렬할 모든 데이터를 하나의 배열에 저장할 수 있는 경우에 사용하는 알고리즘\n",
    "- 외부 정렬 : 정렬할 데이터가 많아서 하나의 배열에 저장할 수 없는 경우에 사용하는 알고리즘"
   ]
  },
  {
   "cell_type": "markdown",
   "id": "7b7bbfed",
   "metadata": {},
   "source": [
    "## 버블 정렬\n",
    "\n",
    "버블 정렬은 액체 속의 공기 방울이 가벼워서 위로 보글보글 올라오는 모습에서 착안하여 붙인 이름이다. 끝에서부터 바로 앞의 원소와 크기를 비교하여 작은 원소를 앞으로 보내 더이상 비교할 부분이 없을 때까지 비교한다."
   ]
  },
  {
   "cell_type": "code",
   "execution_count": 3,
   "id": "187635f1",
   "metadata": {},
   "outputs": [
    {
     "name": "stdout",
     "output_type": "stream",
     "text": [
      "[1, 2, 3, 4, 9]\n"
     ]
    }
   ],
   "source": [
    "# 버블 정렬 알고리즘\n",
    "\n",
    "def bubble_sort(arr):\n",
    "    \"\"\"버블 정렬 알고리즘\"\"\"\n",
    "    n = len(arr)\n",
    "    for i in range(n - 1):\n",
    "        for j in range(n-1, i, -1):\n",
    "            if arr[j] < arr[j - 1]:\n",
    "                arr[j], arr[j - 1] = arr[j - 1], arr[j]\n",
    "\n",
    "arr = [1, 3, 9, 2, 4]\n",
    "bubble_sort(arr)\n",
    "print(arr)"
   ]
  },
  {
   "cell_type": "code",
   "execution_count": 8,
   "id": "5708726d",
   "metadata": {},
   "outputs": [
    {
     "name": "stdout",
     "output_type": "stream",
     "text": [
      "패스 1\n",
      " 6   4   3   7   1   9 + 8\n",
      " 6   4   3   7   1 - 8   9\n",
      " 6   4   3   7 + 1   8   9\n",
      " 6   4   3 + 1   7   8   9\n",
      " 6   4 + 1   3   7   8   9\n",
      " 6 + 1   4   3   7   8   9\n",
      " 1   6   4   3   7   8   9\n",
      "패스 2\n",
      " 1   6   4   3   7   8 - 9\n",
      " 1   6   4   3   7 - 8   9\n",
      " 1   6   4   3 - 7   8   9\n",
      " 1   6   4 + 3   7   8   9\n",
      " 1   6 + 3   4   7   8   9\n",
      " 1   3   6   4   7   8   9\n",
      "패스 3\n",
      " 1   3   6   4   7   8 - 9\n",
      " 1   3   6   4   7 - 8   9\n",
      " 1   3   6   4 - 7   8   9\n",
      " 1   3   6 + 4   7   8   9\n",
      " 1   3   4   6   7   8   9\n",
      "패스 4\n",
      " 1   3   4   6   7   8 - 9\n",
      " 1   3   4   6   7 - 8   9\n",
      " 1   3   4   6 - 7   8   9\n",
      " 1   3   4   6   7   8   9\n",
      "패스 5\n",
      " 1   3   4   6   7   8 - 9\n",
      " 1   3   4   6   7 - 8   9\n",
      " 1   3   4   6   7   8   9\n",
      "패스 6\n",
      " 1   3   4   6   7   8 - 9\n",
      " 1   3   4   6   7   8   9\n",
      "비교를 21번 했습니다.\n",
      "교환을 8번 했습니다.\n",
      "[1, 3, 4, 6, 7, 8, 9]\n"
     ]
    }
   ],
   "source": [
    "# 버블 정렬 알고리즘\n",
    "\n",
    "def bubble_sort(arr):\n",
    "    \"\"\"버블 정렬 (정렬 과정을 출력)\"\"\"\n",
    "    n = len(arr)\n",
    "    ccnt = 0 # 비교 횟수\n",
    "    scnt = 0 # 교환 횟수\n",
    "    for i in range(n - 1):\n",
    "        print(f'패스 {i + 1}')\n",
    "        for j in range(n-1, i, -1):\n",
    "            for m in range(0, n - 1):\n",
    "                print(f'{arr[m]:2}' + ('  ' if m != j - 1 else\n",
    "                                       ' +' if arr [j - 1] > arr[j] else ' -'),\n",
    "                                        end = '')\n",
    "            print(f'{arr[n - 1]:2}')\n",
    "            ccnt += 1\n",
    "            if arr[j] < arr[j - 1]:\n",
    "                scnt += 1\n",
    "                arr[j], arr[j - 1] = arr[j - 1], arr[j]\n",
    "        \n",
    "        for m in range(0, n - 1):\n",
    "            print(f'{arr[m]:2}', end = '  ')\n",
    "        print(f'{arr[n - 1]:2}')\n",
    "    print(f'비교를 {ccnt}번 했습니다.')\n",
    "    print(f'교환을 {scnt}번 했습니다.')\n",
    "arr = [6, 4, 3, 7, 1, 9, 8]\n",
    "bubble_sort(arr)\n",
    "print(arr)"
   ]
  },
  {
   "cell_type": "code",
   "execution_count": 10,
   "id": "893518b5",
   "metadata": {},
   "outputs": [
    {
     "name": "stdout",
     "output_type": "stream",
     "text": [
      "[1, 2, 3, 4, 9]\n"
     ]
    }
   ],
   "source": [
    "# 버블 정렬 알고리즘 개선 - 정렬 완료된 배열에 대해서는 더이상 비교를 진행하지 않는다.\n",
    "\n",
    "def bubble_sort(arr):\n",
    "    \"\"\"버블 정렬 알고리즘\"\"\"\n",
    "    n = len(arr)\n",
    "    for i in range(n - 1):\n",
    "        exchange = 0\n",
    "        for j in range(n-1, i, -1):\n",
    "            if arr[j] < arr[j - 1]:\n",
    "                arr[j], arr[j - 1] = arr[j - 1], arr[j]\n",
    "                exchange += 1\n",
    "        if exchange == 0:\n",
    "            break\n",
    "\n",
    "arr = [1, 3, 9, 2, 4]\n",
    "bubble_sort(arr)\n",
    "print(arr)"
   ]
  },
  {
   "cell_type": "code",
   "execution_count": 11,
   "id": "6c5856d8",
   "metadata": {},
   "outputs": [
    {
     "name": "stdout",
     "output_type": "stream",
     "text": [
      "[1, 2, 3, 4, 9]\n"
     ]
    }
   ],
   "source": [
    "# 버블 정렬 알고리즘 개선2 - 정렬 완료된 배열에 대해서는 더이상 비교를 진행하지 않는다.\n",
    "\n",
    "def bubble_sort(arr):\n",
    "    \"\"\"버블 정렬 알고리즘\"\"\"\n",
    "    n = len(arr)\n",
    "    k = 0\n",
    "    while k < n - 1:\n",
    "        last = n - 1\n",
    "        for j in range(n-1, i, -1):\n",
    "            if arr[j] < arr[j - 1]:\n",
    "                arr[j], arr[j - 1] = arr[j - 1], arr[j]\n",
    "                last = j - 1\n",
    "        k = last\n",
    "\n",
    "arr = [1, 3, 9, 2, 4]\n",
    "bubble_sort(arr)\n",
    "print(arr)"
   ]
  },
  {
   "cell_type": "markdown",
   "id": "0e47b4ac",
   "metadata": {},
   "source": [
    "### 셰이커 정렬"
   ]
  },
  {
   "cell_type": "code",
   "execution_count": 13,
   "id": "d9360722",
   "metadata": {},
   "outputs": [
    {
     "name": "stdout",
     "output_type": "stream",
     "text": [
      "[1, 2, 3, 4, 9]\n"
     ]
    }
   ],
   "source": [
    "# 셰이커 정렬\n",
    "\n",
    "def shaker_sort(arr):\n",
    "    \"\"\"셰이커 정렬\"\"\"\n",
    "    left = 0\n",
    "    right = len(arr) - 1\n",
    "    last = right\n",
    "    while left < right:\n",
    "        for j in range(right, left, -1):\n",
    "            if arr[j - 1] > arr[j]:\n",
    "                arr[j - 1], arr[j] = arr[j], arr[j - 1]\n",
    "                last = j\n",
    "        left = last\n",
    "        \n",
    "        for j in range(left, right):\n",
    "            if arr[j] > arr[j + 1]:\n",
    "                arr[j], arr[j + 1] = arr[j + 1], arr[j]\n",
    "                last = j\n",
    "        right = last\n",
    "\n",
    "arr = [1, 3, 9, 2, 4]\n",
    "shaker_sort(arr)\n",
    "print(arr)        "
   ]
  },
  {
   "cell_type": "markdown",
   "id": "966229aa",
   "metadata": {},
   "source": [
    "### 파이썬 산술 연산에 사용하는 내장 함수"
   ]
  },
  {
   "cell_type": "markdown",
   "id": "5a81a14b",
   "metadata": {},
   "source": [
    "|함수|설명|\n",
    "|:--:|:--:|\n",
    "|abs(x)|x의 절댓값을 반환|\n",
    "|divmod(a, b)|a를 b로 나눴을 때의 몫과 나머지로 구성된 튜플을 반환|\n",
    "|float(x)|문자열 또는 수로 입력받은 x를 부동 소수점 수로 변환하여 값을 반환. x를 생략하면 0.0을 반환|\n",
    "|hex(x)|정수값 x의 16진수 문자열을 반환|\n",
    "|int(x, base)|x를 int형 정수로 변환한 값을 반환. base는 0 ~ 36의 범위에서 진수를 나타내야 하며, 생략할 경우 10진법에 해당)|\n",
    "|max(args1, args2, ...)|최댓값 반환|\n",
    "|min(args1, args2, ...)|최소값 반환|\n",
    "|oct(x)|x에 해당하는 8진수 문자열 반환|\n",
    "|pow(x, y, z)|x의 제곱인 (x\\*\\*y)를 반환. z값을 입력하면 x의 y 제곱을 z로 나누었을 때의 나머지를 반환. 같은 식인 pow(x, y) % z보다 효율적으로 계산할 수 있다.|\n",
    "|round(n, ndigits)|n의 소수부를 ndigits 자릿수가 되도록 반올림한 값을 반환. ndigits가 None이거나 생략한 경우 입력한 값에 가장 가까운 정수 반환|\n",
    "|sum(x, start)|x의 원소값을 처음부터 끝까지 순서대로 더한 총합에 start값을 더하여 반환.|"
   ]
  },
  {
   "cell_type": "code",
   "execution_count": null,
   "id": "583ca078",
   "metadata": {},
   "outputs": [],
   "source": [
    "round(2.3998, )"
   ]
  }
 ],
 "metadata": {
  "kernelspec": {
   "display_name": "Python 3 (ipykernel)",
   "language": "python",
   "name": "python3"
  },
  "language_info": {
   "codemirror_mode": {
    "name": "ipython",
    "version": 3
   },
   "file_extension": ".py",
   "mimetype": "text/x-python",
   "name": "python",
   "nbconvert_exporter": "python",
   "pygments_lexer": "ipython3",
   "version": "3.10.3"
  }
 },
 "nbformat": 4,
 "nbformat_minor": 5
}
