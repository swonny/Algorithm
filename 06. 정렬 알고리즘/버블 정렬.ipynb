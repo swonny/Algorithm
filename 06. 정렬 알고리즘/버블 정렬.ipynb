{
 "cells": [
  {
   "cell_type": "markdown",
   "id": "676b65ab",
   "metadata": {},
   "source": [
    "# 정렬 알고리즘"
   ]
  },
  {
   "cell_type": "markdown",
   "id": "c2850cf9",
   "metadata": {},
   "source": [
    "정렬 알고리즘의 안정성\n",
    "- 안정적인 정렬 : 값이 같은 원소의 순서가 정렬이 된 이후에도 원래의 순서를 유지하는 정렬 알고리즘\n",
    "- 안정적이지 않은 정렬 : 값이 같은 원소의 순서가 정렬이 된 이후에도 원래의 순서를 유지하지 않는 정렬 알고리즘\n",
    "<br/>\n",
    "<br/>\n",
    "\n",
    "내부 정렬과 외부 정렬\n",
    "- 내부 정렬 : 정렬할 모든 데이터를 하나의 배열에 저장할 수 있는 경우에 사용하는 알고리즘\n",
    "- 외부 정렬 : 정렬할 데이터가 많아서 하나의 배열에 저장할 수 없는 경우에 사용하는 알고리즘"
   ]
  },
  {
   "cell_type": "markdown",
   "id": "934fc34a",
   "metadata": {},
   "source": [
    "## 버블 정렬\n",
    "\n",
    "버블 정렬은 액체 속의 공기 방울이 가벼워서 위로 보글보글 올라오는 모습에서 착안하여 붙인 이름이다. 끝에서부터 바로 앞의 원소와 크기를 비교하여 작은 원소를 앞으로 보내 더이상 비교할 부분이 없을 때까지 비교한다."
   ]
  },
  {
   "cell_type": "markdown",
   "id": "8ebe0d64",
   "metadata": {},
   "source": [
    "**버블 정렬 알고리즘**\n",
    "1. 가장 마지막 원소를 비교 원소로 두고 앞의 원소를 비교\n",
    "2. 만약 앞의 원소가 작으면 교환, 비교 원소 인덱스 업데이트\n",
    "3. 만약 앞의 원소가 더 크면 비교 원소 인덱스 업데이트\n",
    "\n",
    "- 이중 반복문 필요\n",
    "    1. 모두 정렬될 때까지 반복 : for문 range로\n",
    "    2. 하나의 원소가 정렬될 때까지 반복 : 비교 인덱스가 i보다 클 때까지 반복"
   ]
  },
  {
   "cell_type": "code",
   "execution_count": 9,
   "id": "753f5cee",
   "metadata": {},
   "outputs": [
    {
     "name": "stdout",
     "output_type": "stream",
     "text": [
      "[0, 1, 2, 5, 6, 9]\n"
     ]
    }
   ],
   "source": [
    "# 버블 정렬 알고리즘 - 내가 짠 코드 (똑같다!)\n",
    "\n",
    "def bubble_sort(arr):\n",
    "    length = len(arr)\n",
    "    for i in range(length):\n",
    "        for j in range(length - 1, i, -1):\n",
    "            if arr[j - 1] > arr[j]:\n",
    "                arr[j], arr[j - 1] = arr[j - 1], arr[j]\n",
    "a = [5, 6, 9, 2, 1, 0]\n",
    "bubble_sort(a)\n",
    "print(a)"
   ]
  },
  {
   "cell_type": "code",
   "execution_count": 3,
   "id": "698fa7a1",
   "metadata": {},
   "outputs": [
    {
     "name": "stdout",
     "output_type": "stream",
     "text": [
      "[1, 2, 3, 4, 9]\n"
     ]
    }
   ],
   "source": [
    "# 버블 정렬 알고리즘\n",
    "\n",
    "def bubble_sort(arr):\n",
    "    \"\"\"버블 정렬 알고리즘\"\"\"\n",
    "    n = len(arr)\n",
    "    for i in range(n - 1):\n",
    "        for j in range(n-1, i, -1):\n",
    "            if arr[j] < arr[j - 1]:\n",
    "                arr[j], arr[j - 1] = arr[j - 1], arr[j]\n",
    "\n",
    "arr = [1, 3, 9, 2, 4]\n",
    "bubble_sort(arr)\n",
    "print(arr)"
   ]
  },
  {
   "cell_type": "code",
   "execution_count": 8,
   "id": "7d0ec69d",
   "metadata": {},
   "outputs": [
    {
     "name": "stdout",
     "output_type": "stream",
     "text": [
      "패스 1\n",
      " 6   4   3   7   1   9 + 8\n",
      " 6   4   3   7   1 - 8   9\n",
      " 6   4   3   7 + 1   8   9\n",
      " 6   4   3 + 1   7   8   9\n",
      " 6   4 + 1   3   7   8   9\n",
      " 6 + 1   4   3   7   8   9\n",
      " 1   6   4   3   7   8   9\n",
      "패스 2\n",
      " 1   6   4   3   7   8 - 9\n",
      " 1   6   4   3   7 - 8   9\n",
      " 1   6   4   3 - 7   8   9\n",
      " 1   6   4 + 3   7   8   9\n",
      " 1   6 + 3   4   7   8   9\n",
      " 1   3   6   4   7   8   9\n",
      "패스 3\n",
      " 1   3   6   4   7   8 - 9\n",
      " 1   3   6   4   7 - 8   9\n",
      " 1   3   6   4 - 7   8   9\n",
      " 1   3   6 + 4   7   8   9\n",
      " 1   3   4   6   7   8   9\n",
      "패스 4\n",
      " 1   3   4   6   7   8 - 9\n",
      " 1   3   4   6   7 - 8   9\n",
      " 1   3   4   6 - 7   8   9\n",
      " 1   3   4   6   7   8   9\n",
      "패스 5\n",
      " 1   3   4   6   7   8 - 9\n",
      " 1   3   4   6   7 - 8   9\n",
      " 1   3   4   6   7   8   9\n",
      "패스 6\n",
      " 1   3   4   6   7   8 - 9\n",
      " 1   3   4   6   7   8   9\n",
      "비교를 21번 했습니다.\n",
      "교환을 8번 했습니다.\n",
      "[1, 3, 4, 6, 7, 8, 9]\n"
     ]
    }
   ],
   "source": [
    "# 버블 정렬 알고리즘\n",
    "\n",
    "def bubble_sort(arr):\n",
    "    \"\"\"버블 정렬 (정렬 과정을 출력)\"\"\"\n",
    "    n = len(arr)\n",
    "    ccnt = 0 # 비교 횟수\n",
    "    scnt = 0 # 교환 횟수\n",
    "    for i in range(n - 1):\n",
    "        print(f'패스 {i + 1}')\n",
    "        for j in range(n-1, i, -1):\n",
    "            for m in range(0, n - 1):\n",
    "                print(f'{arr[m]:2}' + ('  ' if m != j - 1 else\n",
    "                                       ' +' if arr [j - 1] > arr[j] else ' -'),\n",
    "                                        end = '')\n",
    "            print(f'{arr[n - 1]:2}')\n",
    "            ccnt += 1\n",
    "            if arr[j] < arr[j - 1]:\n",
    "                scnt += 1\n",
    "                arr[j], arr[j - 1] = arr[j - 1], arr[j]\n",
    "        \n",
    "        for m in range(0, n - 1):\n",
    "            print(f'{arr[m]:2}', end = '  ')\n",
    "        print(f'{arr[n - 1]:2}')\n",
    "    print(f'비교를 {ccnt}번 했습니다.')\n",
    "    print(f'교환을 {scnt}번 했습니다.')\n",
    "arr = [6, 4, 3, 7, 1, 9, 8]\n",
    "bubble_sort(arr)\n",
    "print(arr)"
   ]
  },
  {
   "cell_type": "code",
   "execution_count": 10,
   "id": "17241882",
   "metadata": {},
   "outputs": [
    {
     "name": "stdout",
     "output_type": "stream",
     "text": [
      "[1, 2, 3, 4, 9]\n"
     ]
    }
   ],
   "source": [
    "# 버블 정렬 알고리즘 개선 - 정렬 완료된 배열에 대해서는 더이상 비교를 진행하지 않는다.\n",
    "\n",
    "def bubble_sort(arr):\n",
    "    \"\"\"버블 정렬 알고리즘\"\"\"\n",
    "    n = len(arr)\n",
    "    for i in range(n - 1):\n",
    "        exchange = 0\n",
    "        for j in range(n-1, i, -1):\n",
    "            if arr[j] < arr[j - 1]:\n",
    "                arr[j], arr[j - 1] = arr[j - 1], arr[j]\n",
    "                exchange += 1\n",
    "        if exchange == 0:\n",
    "            break\n",
    "\n",
    "arr = [1, 3, 9, 2, 4]\n",
    "bubble_sort(arr)\n",
    "print(arr)"
   ]
  },
  {
   "cell_type": "code",
   "execution_count": 11,
   "id": "46f5a381",
   "metadata": {},
   "outputs": [
    {
     "name": "stdout",
     "output_type": "stream",
     "text": [
      "[1, 2, 3, 4, 9]\n"
     ]
    }
   ],
   "source": [
    "# 버블 정렬 알고리즘 개선2 - 정렬 완료된 배열에 대해서는 더이상 비교를 진행하지 않는다.\n",
    "\n",
    "def bubble_sort(arr):\n",
    "    \"\"\"버블 정렬 알고리즘\"\"\"\n",
    "    n = len(arr)\n",
    "    k = 0\n",
    "    while k < n - 1:\n",
    "        last = n - 1\n",
    "        for j in range(n-1, i, -1):\n",
    "            if arr[j] < arr[j - 1]:\n",
    "                arr[j], arr[j - 1] = arr[j - 1], arr[j]\n",
    "                last = j - 1\n",
    "        k = last\n",
    "\n",
    "arr = [1, 3, 9, 2, 4]\n",
    "bubble_sort(arr)\n",
    "print(arr)"
   ]
  },
  {
   "cell_type": "code",
   "execution_count": null,
   "id": "7b3917fe",
   "metadata": {},
   "outputs": [],
   "source": [
    "def bubble_sort(arr):\n",
    "    "
   ]
  },
  {
   "cell_type": "markdown",
   "id": "43679fd0",
   "metadata": {},
   "source": [
    "### 셰이커 정렬"
   ]
  },
  {
   "cell_type": "code",
   "execution_count": 13,
   "id": "f7eb44d3",
   "metadata": {},
   "outputs": [
    {
     "name": "stdout",
     "output_type": "stream",
     "text": [
      "[1, 2, 3, 4, 9]\n"
     ]
    }
   ],
   "source": [
    "# 셰이커 정렬\n",
    "\n",
    "def shaker_sort(arr):\n",
    "    \"\"\"셰이커 정렬\"\"\"\n",
    "    left = 0\n",
    "    right = len(arr) - 1\n",
    "    last = right\n",
    "    while left < right:\n",
    "        for j in range(right, left, -1):\n",
    "            if arr[j - 1] > arr[j]:\n",
    "                arr[j - 1], arr[j] = arr[j], arr[j - 1]\n",
    "                last = j\n",
    "        left = last\n",
    "        \n",
    "        for j in range(left, right):\n",
    "            if arr[j] > arr[j + 1]:\n",
    "                arr[j], arr[j + 1] = arr[j + 1], arr[j]\n",
    "                last = j\n",
    "        right = last\n",
    "\n",
    "arr = [1, 3, 9, 2, 4]\n",
    "shaker_sort(arr)\n",
    "print(arr)        "
   ]
  },
  {
   "cell_type": "markdown",
   "id": "ab635ff7",
   "metadata": {},
   "source": [
    "### 파이썬 산술 연산에 사용하는 내장 함수"
   ]
  },
  {
   "cell_type": "markdown",
   "id": "0d226393",
   "metadata": {},
   "source": [
    "|함수|설명|\n",
    "|:--:|:--:|\n",
    "|abs(x)|x의 절댓값을 반환|\n",
    "|divmod(a, b)|a를 b로 나눴을 때의 몫과 나머지로 구성된 튜플을 반환|\n",
    "|float(x)|문자열 또는 수로 입력받은 x를 부동 소수점 수로 변환하여 값을 반환. x를 생략하면 0.0을 반환|\n",
    "|hex(x)|정수값 x의 16진수 문자열을 반환|\n",
    "|int(x, base)|x를 int형 정수로 변환한 값을 반환. base는 0 ~ 36의 범위에서 진수를 나타내야 하며, 생략할 경우 10진법에 해당)|\n",
    "|max(args1, args2, ...)|최댓값 반환|\n",
    "|min(args1, args2, ...)|최소값 반환|\n",
    "|oct(x)|x에 해당하는 8진수 문자열 반환|\n",
    "|pow(x, y, z)|x의 제곱인 (x\\*\\*y)를 반환. z값을 입력하면 x의 y 제곱을 z로 나누었을 때의 나머지를 반환. 같은 식인 pow(x, y) % z보다 효율적으로 계산할 수 있다.|\n",
    "|round(n, ndigits)|n의 소수부를 ndigits 자릿수가 되도록 반올림한 값을 반환. ndigits가 None이거나 생략한 경우 입력한 값에 가장 가까운 정수 반환|\n",
    "|sum(x, start)|x의 원소값을 처음부터 끝까지 순서대로 더한 총합에 start값을 더하여 반환.|"
   ]
  },
  {
   "cell_type": "code",
   "execution_count": 21,
   "id": "4e5b3cc2",
   "metadata": {},
   "outputs": [
    {
     "ename": "TypeError",
     "evalue": "'str' object cannot be interpreted as an integer",
     "output_type": "error",
     "traceback": [
      "\u001b[0;31m---------------------------------------------------------------------------\u001b[0m",
      "\u001b[0;31mTypeError\u001b[0m                                 Traceback (most recent call last)",
      "Input \u001b[0;32mIn [21]\u001b[0m, in \u001b[0;36m<cell line: 1>\u001b[0;34m()\u001b[0m\n\u001b[0;32m----> 1\u001b[0m \u001b[38;5;28;43mround\u001b[39;49m\u001b[43m(\u001b[49m\u001b[38;5;241;43m2.3998\u001b[39;49m\u001b[43m,\u001b[49m\u001b[43m \u001b[49m\u001b[38;5;124;43mf\u001b[39;49m\u001b[38;5;124;43m'\u001b[39;49m\u001b[38;5;124;43m.2\u001b[39;49m\u001b[38;5;124;43m'\u001b[39;49m\u001b[43m)\u001b[49m\n",
      "\u001b[0;31mTypeError\u001b[0m: 'str' object cannot be interpreted as an integer"
     ]
    }
   ],
   "source": [
    "round(2.3998,)"
   ]
  },
  {
   "cell_type": "markdown",
   "id": "bfa4d510",
   "metadata": {},
   "source": [
    "# 셸 정렬"
   ]
  }
 ],
 "metadata": {
  "kernelspec": {
   "display_name": "Python 3 (ipykernel)",
   "language": "python",
   "name": "python3"
  },
  "language_info": {
   "codemirror_mode": {
    "name": "ipython",
    "version": 3
   },
   "file_extension": ".py",
   "mimetype": "text/x-python",
   "name": "python",
   "nbconvert_exporter": "python",
   "pygments_lexer": "ipython3",
   "version": "3.10.3"
  }
 },
 "nbformat": 4,
 "nbformat_minor": 5
}
