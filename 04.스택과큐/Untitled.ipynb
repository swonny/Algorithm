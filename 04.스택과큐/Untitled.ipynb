{
 "cells": [
  {
   "cell_type": "markdown",
   "id": "d1956ec9",
   "metadata": {},
   "source": [
    "# 스택"
   ]
  },
  {
   "cell_type": "markdown",
   "id": "6894f4fd",
   "metadata": {},
   "source": [
    "### 필요한 함수\n",
    "\n",
    "- Empty()\n",
    "- Full()\n",
    "- __len__()\n",
    "- __init__()\n",
    "- is_empty()\n",
    "- is_full()"
   ]
  },
  {
   "cell_type": "code",
   "execution_count": 2,
   "id": "3a5a50b1",
   "metadata": {},
   "outputs": [],
   "source": [
    "# 고정 길이 스택 클래스\n",
    "\n",
    "from typing import Any\n",
    "\n",
    "class FixedStack:\n",
    "    class Empty(Exception):\n",
    "        pass\n",
    "    \n",
    "    class Full(Exception):\n",
    "        pass\n",
    "    \n",
    "    def __init__(self, capacity: int = 256) -> None :\n",
    "        self.stk = [None] * capacity\n",
    "        self.capacity = capacity\n",
    "        self.ptr = 0\n",
    "    \n",
    "    def __len__(self) -> int:\n",
    "        return self.ptr\n",
    "    \n",
    "    def is_empty(self) -> bool:\n",
    "        return self.ptr <= 0\n",
    "    \n",
    "    def is_full(self) -> bool:\n",
    "        return self.ptr >= self.capacity\n",
    "        "
   ]
  },
  {
   "cell_type": "markdown",
   "id": "51555d70",
   "metadata": {},
   "source": [
    "### 파이썬의 예외 처리\n",
    "\n",
    "예외 처리를 수행하면 프로그램 도중 오류가 발생했을 때 프로그램이 중단되는 것을 피할 수 있다.<br/>\n",
    "예외 처리는 try문을 이용하여 다음과 같이 작성할 수 있다.\n",
    "```python\n",
    "# 스위트는 코드 한 세트를 의미\n",
    "try: 스위트 # 원래 처리\n",
    "except 예외: 스위트 작성 # 예외 포착과 처리\n",
    "else: 스위트 # 예외가 포착되지 않음\n",
    "finally: 스위트 # 마무리\n",
    "```"
   ]
  },
  {
   "cell_type": "markdown",
   "id": "6c05e725",
   "metadata": {},
   "source": [
    "### 필요한 함수 2\n",
    "\n",
    "- push() : 스택에 데이터를 추가하는 함수이다. 만약 full인 경우에는 FixedStack.Full을 통하여 예외 처리를 보낸다.\n",
    "- pop() : 스택의 데이터를 꺼내는 함수이다.\n",
    "- peek() : 스택의 맨 꼭대기를 들여다보는 함수 - 데이터의 입출력은 없으므로 ptr은 변하지 않는다."
   ]
  },
  {
   "cell_type": "code",
   "execution_count": null,
   "id": "5111113e",
   "metadata": {},
   "outputs": [],
   "source": [
    "# 고정 길이 스택 클래스\n",
    "\n",
    "from typing import Any\n",
    "\n",
    "class FixedStack:\n",
    "    class Empty(Exception):\n",
    "        pass\n",
    "    \n",
    "    class Full(Exception):\n",
    "        pass\n",
    "    \n",
    "    def __init__(self, capacity: int = 256) -> None :\n",
    "        self.stk = [None] * capacity\n",
    "        self.capacity = capacity\n",
    "        self.ptr = 0\n",
    "    \n",
    "    def __len__(self) -> int:\n",
    "        return self.ptr\n",
    "    \n",
    "    def is_empty(self) -> bool:\n",
    "        return self.ptr <= 0\n",
    "    \n",
    "    def is_full(self) -> bool:\n",
    "        return self.ptr >= self.capacity\n",
    "    \n",
    "    \"\"\"추가\"\"\"\n",
    "    def push(self, value: Any) -> None:\n",
    "        if self.is_full():\n",
    "            raise FixedStack.Full\n",
    "        self.stk[self.ptr] = value\n",
    "        ptr += 1\n",
    "    \n",
    "    def pop(self) -> Any:\n",
    "        if self.is_empty():\n",
    "            raise FixedStack.Empty\n",
    "        return self.stk[self.ptr -1]\n",
    "    \n",
    "    def clear(self) -> None:\n",
    "        se"
   ]
  }
 ],
 "metadata": {
  "kernelspec": {
   "display_name": "Python 3 (ipykernel)",
   "language": "python",
   "name": "python3"
  },
  "language_info": {
   "codemirror_mode": {
    "name": "ipython",
    "version": 3
   },
   "file_extension": ".py",
   "mimetype": "text/x-python",
   "name": "python",
   "nbconvert_exporter": "python",
   "pygments_lexer": "ipython3",
   "version": "3.10.3"
  }
 },
 "nbformat": 4,
 "nbformat_minor": 5
}
