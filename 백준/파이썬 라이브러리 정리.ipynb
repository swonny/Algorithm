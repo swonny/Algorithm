{
 "cells": [
  {
   "cell_type": "markdown",
   "id": "93f29df7",
   "metadata": {},
   "source": [
    "# 원소 개수 세기\n",
    "\n",
    "### 인자\n",
    "- 원소의 개수를 셀 리스트\n",
    "\n",
    "### 반환값 \n",
    "- 딕셔너리 items 반환\n",
    "- key : 원소값\n",
    "- value : 원소의 개수\n"
   ]
  },
  {
   "cell_type": "code",
   "execution_count": 3,
   "id": "c36881f8",
   "metadata": {},
   "outputs": [
    {
     "name": "stdout",
     "output_type": "stream",
     "text": [
      "Counter({5: 3, 1: 2, 2: 1, 3: 1, 4: 1})\n"
     ]
    }
   ],
   "source": [
    "from collections import Counter\n",
    "\n",
    "# Counter 함수 단순 사용\n",
    "a = [1, 1, 2, 3, 4, 5, 5, 5]\n",
    "print(Counter(a))"
   ]
  },
  {
   "cell_type": "markdown",
   "id": "ac49db71",
   "metadata": {},
   "source": [
    "### Counter()의 반환값.most_common(top n개)\n",
    "\n",
    "- 인자 : 가장 많은 원소 몇 개를 출력할 것인지\n",
    "- 반환값 : 튜플 리스트"
   ]
  },
  {
   "cell_type": "code",
   "execution_count": 9,
   "id": "2691ac69",
   "metadata": {},
   "outputs": [
    {
     "name": "stdout",
     "output_type": "stream",
     "text": [
      "[(5, 3)]\n",
      "3\n",
      "[(5, 3), (1, 2)]\n"
     ]
    }
   ],
   "source": [
    "from collections import Counter\n",
    "\n",
    "# Counter의 반환값으로 가장 많은 개수의 원소값 구하기\n",
    "a = [1, 1, 2, 3, 4, 5, 5, 5]\n",
    "counter = Counter(a)\n",
    "print(counter.most_common(1)) # 가장 많이 나온 원소 한 개 출력\n",
    "print(counter.most_common(1)[0][1]) # 가장 많이 나온 원소의 개수\n",
    "print(counter.most_common(2)) # 가장 많이 나온 원소 두 개 출력"
   ]
  },
  {
   "cell_type": "code",
   "execution_count": 11,
   "id": "8b8837a3",
   "metadata": {},
   "outputs": [
    {
     "data": {
      "text/plain": [
       "dict_items([(1, 2), (2, 1), (3, 1), (4, 1), (5, 3)])"
      ]
     },
     "execution_count": 11,
     "metadata": {},
     "output_type": "execute_result"
    }
   ],
   "source": [
    "counter.items() # 딕셔너리 전체 출력"
   ]
  },
  {
   "cell_type": "markdown",
   "id": "2e14aa9a",
   "metadata": {},
   "source": [
    "# 정렬\n",
    "\n",
    "### 리스트.sort()\n",
    "```python\n",
    "list.sort(reverse, key)\n",
    "```\n",
    "- 반환값 없음\n",
    "- reverse, key optional\n",
    "\n",
    "### sorted(리스트, key, reverse)\n",
    "```python\n",
    "sorted(iterable, key, reverse)\n",
    "```\n",
    "- 정렬된 이터러블 반환\n",
    "- key, reverse optional\n",
    "\n",
    "#### sorted() 함수의 인자 key \n",
    "- 필수 입력 인자인 iterable의 원소를 하나씩 key에 대입된 함수에 대입한다. 그리고 얻은 반환값을 기준으로 정렬한다.\n",
    "\n",
    "#### 딕셔너리 정렬\n",
    "- sorted() 함수를 사용하여 딕셔너리를 정렬할 수 있다."
   ]
  },
  {
   "cell_type": "code",
   "execution_count": 17,
   "id": "cdb27759",
   "metadata": {},
   "outputs": [
    {
     "name": "stdout",
     "output_type": "stream",
     "text": [
      "[(12, 23), (1, 3), (1, 5), (4, 8)]\n",
      "[(12, 23), (4, 8), (1, 5), (1, 3)]\n"
     ]
    }
   ],
   "source": [
    "def mod(x):\n",
    "    return x[1] % 10\n",
    "\n",
    "print(sorted([(12, 23), (1, 3), (4, 8), (1, 5)], key=mod))\n",
    "print(sorted([(12, 23), (1, 3), (4, 8), (1, 5)], key=lambda x: (-x[1], x[0])))"
   ]
  },
  {
   "cell_type": "markdown",
   "id": "774c7544",
   "metadata": {},
   "source": [
    "#### dictionary의 items() 함수\n",
    "- itmes() 함수는 딕셔너리의 key와 value를 tuple로 묶어 반환한다.\n",
    "- tuple을 정렬할 때는 먼저 tuple의 첫 번째 원소를 기준으로 오름차순/내림차순으로 정렬하고, 같은 값들에 한해서 두 번째 원소를 기준으로 오름차순/내림차순 정렬한다.\n",
    "\n",
    "#### 딕셔너리 정렬 2\n",
    "- 만약 key는 오름차순, value는 내림차순으로 정렬하고싶다면, value에 -를 붙이는 방법을 사용할 수 있다.\n"
   ]
  },
  {
   "cell_type": "code",
   "execution_count": 42,
   "id": "d364c622",
   "metadata": {},
   "outputs": [
    {
     "data": {
      "text/plain": [
       "[(1, 4, 0), (2, 4, 0), (2, 6, 0), (1, 2, 3), (1, 10, 4)]"
      ]
     },
     "execution_count": 42,
     "metadata": {},
     "output_type": "execute_result"
    }
   ],
   "source": [
    "a = [(1, 10, 4), (1, 2, 3), (1, 4, 0), (2, 4, 0), (2, 6, 0)]\n",
    "sorted(a, key=lambda x: (x[2], x[1], x[0]))"
   ]
  },
  {
   "cell_type": "code",
   "execution_count": 37,
   "id": "b7a0399a",
   "metadata": {},
   "outputs": [
    {
     "name": "stdout",
     "output_type": "stream",
     "text": [
      "<class 'dict_items'>\n",
      "[('a', 2), ('b', 1), ('c', 1), ('d', 2), ('e', 1), ('f', 1)]\n"
     ]
    }
   ],
   "source": [
    "from collections import Counter\n",
    "\n",
    "def r_sort(x):\n",
    "    return (x[0], -x[1])\n",
    "\n",
    "a = ['d', 'd', 'e', 'f', 'a', 'a', 'b', 'c']\n",
    "counter = Counter(a)\n",
    "a_dict = counter.items()\n",
    "print(sorted(a_dict, key=r_sort))"
   ]
  },
  {
   "cell_type": "code",
   "execution_count": 29,
   "id": "f3eadea6",
   "metadata": {},
   "outputs": [
    {
     "name": "stdout",
     "output_type": "stream",
     "text": [
      "dict_items([('d', 2), ('e', 1), ('f', 1), ('a', 2), ('b', 1), ('c', 1)])\n"
     ]
    }
   ],
   "source": [
    "from collections import Counter\n",
    "\n",
    "a = ['d', 'd', 'e', 'f', 'a', 'a', 'b', 'c']\n",
    "counter = Counter(a)\n",
    "a_dict = counter.items()\n",
    "sorted(a, key=lambda x: ())"
   ]
  },
  {
   "cell_type": "code",
   "execution_count": null,
   "id": "ce7bee3f",
   "metadata": {},
   "outputs": [],
   "source": []
  }
 ],
 "metadata": {
  "kernelspec": {
   "display_name": "Python 3 (ipykernel)",
   "language": "python",
   "name": "python3"
  },
  "language_info": {
   "codemirror_mode": {
    "name": "ipython",
    "version": 3
   },
   "file_extension": ".py",
   "mimetype": "text/x-python",
   "name": "python",
   "nbconvert_exporter": "python",
   "pygments_lexer": "ipython3",
   "version": "3.10.3"
  }
 },
 "nbformat": 4,
 "nbformat_minor": 5
}
