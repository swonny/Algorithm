{
 "cells": [
  {
   "cell_type": "markdown",
   "id": "f803a517",
   "metadata": {},
   "source": [
    "# 기본수학"
   ]
  },
  {
   "cell_type": "markdown",
   "id": "25483794",
   "metadata": {},
   "source": [
    "### 2839 설탕 배달\n",
    "\n",
    "3의 배수, 5의 배수, 5로 나누었을 때 <br/>\n",
    "1. 5로 나누기\n",
    "2. "
   ]
  },
  {
   "cell_type": "code",
   "execution_count": 9,
   "id": "00884ba7",
   "metadata": {},
   "outputs": [
    {
     "name": "stdout",
     "output_type": "stream",
     "text": [
      "18\n",
      "6\n"
     ]
    }
   ],
   "source": [
    "n = int(input())\n",
    "if n % 5 == 0:\n",
    "    print(n // 5)\n",
    "elif n % 3 == 0:\n",
    "    print(n // 3)\n",
    "elif (n % 5) % 3 == 0:\n",
    "    print((n // 5) + ((n % 5) // 3))\n",
    "else:\n",
    "    print(-1)"
   ]
  },
  {
   "cell_type": "code",
   "execution_count": 79,
   "id": "363b7191",
   "metadata": {},
   "outputs": [
    {
     "name": "stdout",
     "output_type": "stream",
     "text": [
      "1\n",
      "-1\n"
     ]
    }
   ],
   "source": [
    "n = int(input())\n",
    "cnt = 0\n",
    "while n >= 3:\n",
    "    if n % 5 == 0:\n",
    "        cnt += (n // 5)\n",
    "        n = n % 5\n",
    "    elif n % 3 == 0:\n",
    "        cnt += (n // 3)\n",
    "        n = n % 3\n",
    "    n = n - 3\n",
    "    cnt += 1\n",
    "\n",
    "print(-1 if n > 0 else cnt)"
   ]
  },
  {
   "cell_type": "markdown",
   "id": "705c9db8",
   "metadata": {},
   "source": [
    "2의 보수 : 모든 비트를 반전시킨 뒤 1을 더해 만듦\n",
    "\n",
    "2진수로 변환\n",
    "\n",
    "2의 보수와 처음 수의 다른 비트수의 개수\n",
    "\n",
    "4개 -> index -4 ~ -1까지를 1~4까지로 대입\n",
    "bin 0000 0000\n",
    "num 1010\n",
    "\n",
    "bin[-(i+1)]\n",
    "num[i]\n",
    "\n"
   ]
  },
  {
   "cell_type": "code",
   "execution_count": 136,
   "id": "394d2f28",
   "metadata": {
    "scrolled": true
   },
   "outputs": [
    {
     "name": "stdout",
     "output_type": "stream",
     "text": [
      "22\n",
      "30\n"
     ]
    }
   ],
   "source": [
    "n = int(input())\n",
    "n = bin(n)[2:]\n",
    "org = [0] * 32\n",
    "lenN = len(n)\n",
    "org[32 - lenN : ] = map(int, n)\n",
    "bit = [1] * 32\n",
    "for i in range(1, len(n) + 1):\n",
    "    bit[-i] = 0 if int(n[-i]) else 1\n",
    "for i in range(1, 33):\n",
    "    if not bit[-i]:\n",
    "        bit[-i] = 1\n",
    "        break\n",
    "    bit[-i] = 0\n",
    "cnt = 0\n",
    "for i in range(32):\n",
    "    if org[i] != bit[i]:\n",
    "        cnt += 1\n",
    "print(cnt)"
   ]
  },
  {
   "cell_type": "markdown",
   "id": "98d15085",
   "metadata": {},
   "source": [
    "### 전자레인지"
   ]
  },
  {
   "cell_type": "markdown",
   "id": "52295ce8",
   "metadata": {},
   "source": [
    "10초: 조리시간이 10초 늘어난다.\n",
    "\n",
    "1분: 조리시간이 1분(60초) 늘어난다.\n",
    "\n",
    "10분: 조리시간이 10분(600초) 늘어난다.\n",
    "\n",
    "조리시작 : \n",
    "\n",
    "    조리중 : 조리시간이 0초라면 30초로 else 그냥 시작\n",
    "    \n",
    "    조리중 아닐 때 : 30초 늘어남 (조리시작 버튼이 False인 경우)"
   ]
  },
  {
   "cell_type": "code",
   "execution_count": 150,
   "id": "76781044",
   "metadata": {},
   "outputs": [
    {
     "name": "stdout",
     "output_type": "stream",
     "text": [
      "02:00\n",
      "120 0\n"
     ]
    }
   ],
   "source": [
    "tmp = input()\n",
    "m, s = int(tmp[:2]) * 60, int(tmp[3:])\n"
   ]
  },
  {
   "cell_type": "markdown",
   "id": "25f7b674",
   "metadata": {},
   "source": [
    "질병 종류 M\n",
    "질병의 위험도 0 ~ 100 사이\n",
    "특정 개수의 빨강 파랑 알약 처방\n",
    "\n",
    "처방받은 알약의 수와 위험도가 모두 같은 서로 다른 질병이 존재할 수 있다."
   ]
  },
  {
   "cell_type": "code",
   "execution_count": null,
   "id": "0aa91437",
   "metadata": {},
   "outputs": [],
   "source": [
    "bin(0b1000001^0b1111111111111111111111111111111+0b01)"
   ]
  }
 ],
 "metadata": {
  "kernelspec": {
   "display_name": "Python 3 (ipykernel)",
   "language": "python",
   "name": "python3"
  },
  "language_info": {
   "codemirror_mode": {
    "name": "ipython",
    "version": 3
   },
   "file_extension": ".py",
   "mimetype": "text/x-python",
   "name": "python",
   "nbconvert_exporter": "python",
   "pygments_lexer": "ipython3",
   "version": "3.10.3"
  }
 },
 "nbformat": 4,
 "nbformat_minor": 5
}
