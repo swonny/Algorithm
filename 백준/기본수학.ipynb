{
 "cells": [
  {
   "cell_type": "markdown",
   "id": "f803a517",
   "metadata": {},
   "source": [
    "# 기본수학"
   ]
  },
  {
   "cell_type": "markdown",
   "id": "ee881d2e",
   "metadata": {},
   "source": [
    "### 2292 벌집\n",
    "\n",
    "- (풀이 시간) 11:59 ~ 12:29"
   ]
  },
  {
   "cell_type": "code",
   "execution_count": 48,
   "id": "584eb277",
   "metadata": {},
   "outputs": [
    {
     "name": "stdout",
     "output_type": "stream",
     "text": [
      "1\n",
      "1\n"
     ]
    }
   ],
   "source": [
    "n = int(input())\n",
    "\n",
    "start, i = 1, 0\n",
    "while True:\n",
    "    nxt = (start + (6 * i))\n",
    "    if start <= n <= nxt:\n",
    "        print(i + 1)\n",
    "        break\n",
    "    start = nxt\n",
    "    i += 1"
   ]
  },
  {
   "cell_type": "markdown",
   "id": "a8852577",
   "metadata": {},
   "source": [
    "### 1193 분수 찾기\n",
    "\n",
    "(풀이 시간) 약 30분"
   ]
  },
  {
   "cell_type": "code",
   "execution_count": 64,
   "id": "92b22b53",
   "metadata": {
    "scrolled": true
   },
   "outputs": [
    {
     "name": "stdout",
     "output_type": "stream",
     "text": [
      "5\n",
      "2/2\n"
     ]
    }
   ],
   "source": [
    "n = int(input())\n",
    "\n",
    "cnt = 0\n",
    "for i in range(10000000):\n",
    "    num = n - cnt # 몇 번째인지\n",
    "    cnt += i\n",
    "    if n <= cnt:\n",
    "        if i % 2 == 0:\n",
    "            print(f'{num}/{1 +(i - num)}')\n",
    "        else:\n",
    "            print(f'{1 +(i - num)}/{num}')\n",
    "        break"
   ]
  },
  {
   "cell_type": "code",
   "execution_count": null,
   "id": "566d70fb",
   "metadata": {},
   "outputs": [],
   "source": [
    "# 다른 사람이 제출한 코드\n",
    "\n",
    "N=int(input())\n",
    "L=1\n",
    "while N>L:\n",
    "    N-=L\n",
    "    L+=1\n",
    "    \n",
    "if L%2!=0:\n",
    "    print(\"%d%s%d\" %((L-N+1), '/', N))\n",
    "else:\n",
    "    print(\"%d%s%d\" %(N, '/', (L-N+1)))\n"
   ]
  },
  {
   "cell_type": "markdown",
   "id": "c6d7fff2",
   "metadata": {},
   "source": [
    "### 2869 달팽이는 올라가고싶다"
   ]
  },
  {
   "cell_type": "code",
   "execution_count": 102,
   "id": "6af429cd",
   "metadata": {},
   "outputs": [
    {
     "data": {
      "text/plain": [
       "10000000"
      ]
     },
     "execution_count": 102,
     "metadata": {},
     "output_type": "execute_result"
    }
   ],
   "source": [
    "(10000000 * 100) - (10000000 * 99)"
   ]
  },
  {
   "cell_type": "markdown",
   "id": "1dc0335f",
   "metadata": {},
   "source": [
    "### 2839 설탕 배달"
   ]
  },
  {
   "cell_type": "markdown",
   "id": "d4096094",
   "metadata": {},
   "source": [
    "첫째 줄에 N이 주어진다. (3 ≤ N ≤ 5000)\n",
    "\n",
    "시간 제한 1초 | 메모리 제한 128MB\n",
    "\n",
    "N킬로그램의 설탕 봉지를 3킬로와 5킬로로 나눠서 배달한다. 이때 가장 적은 개수의 설탕 봉지 개수를 구하라\n"
   ]
  },
  {
   "cell_type": "code",
   "execution_count": 99,
   "id": "0d98ec27",
   "metadata": {},
   "outputs": [
    {
     "name": "stdout",
     "output_type": "stream",
     "text": [
      "11\n",
      "3\n"
     ]
    }
   ],
   "source": [
    "n = int(input())\n",
    "\n",
    "five = n // 5\n",
    "three = n // 3\n",
    "\n",
    "res = -1\n",
    "for i in range(five, -1, -1):\n",
    "    for j in range(three + 1):\n",
    "        tmp = (5*i) + (3*j)\n",
    "        if tmp == n:\n",
    "            res = i + j\n",
    "            break\n",
    "    if res != -1:\n",
    "        break\n",
    "print(res)"
   ]
  },
  {
   "cell_type": "markdown",
   "id": "a368022e",
   "metadata": {},
   "source": [
    "어려운 이유는 5의 배수인지부터 확인하는 것과 3의 배수인지부터 확인하는 것에 따라 결과가 달라질 수 있기 때문이다.\n",
    "예를 들어 18은 먼저 5로 나눈 나머지를 구하고, 그 나머지가 3의 배수인지 확인하면 최적의 개수가 된다. 하지만 11은 5로 먼저 나머지를 구하면 최적의 개수를 구할 수 없다.\n",
    "\n",
    "하지만 여기서 n은 5000까지이고, 3씩 뺀다고 해도 약 1300번 정도의 연산이 수행되므로, 파이썬이 1초에 연산할 수 있는 양보다 훨씬 적다! 일일이 해보자.\n",
    "\n",
    "1. 먼저 5의 배수 -> 3의 배수 순서로\n",
    "2. 3의 배수 -> 5의 배수로 확인해보기\n",
    "\n",
    "5kg 주머니는 (n // 5)개 이상 나올 수 없고, 3kg 주머니는 (n // 3)개 이상 나올 수 없다. 따라서 5를 (n//5)개부터 0개까지, 3을 0개부터 (n//3)개까지 조합 중 n과 일치하는 결과가 나오는 조합을 찾으면 된다."
   ]
  },
  {
   "cell_type": "markdown",
   "id": "2775a111",
   "metadata": {},
   "source": [
    "### 2775 부녀회장이 될테야"
   ]
  },
  {
   "cell_type": "code",
   "execution_count": null,
   "id": "0d5f72a9",
   "metadata": {},
   "outputs": [],
   "source": [
    "from sys import stdin\n",
    "\n",
    "t = int(stdin.readline().strip())\n",
    "\n",
    "for _ in range(t):\n",
    "    k = int(stdin.readline().strip()) # 층\n",
    "    n = int(stdin.readline().strip()) # 호\n",
    "    num = list(range(1, n + 1))\n",
    "    for _ in range(k):\n",
    "        for j in range(1, n):\n",
    "            num[j] = num[j - 1] + num[j]\n",
    "    print(num[-1])"
   ]
  },
  {
   "cell_type": "markdown",
   "id": "25eac0bc",
   "metadata": {},
   "source": [
    "### 10250 ACM 호텔"
   ]
  },
  {
   "cell_type": "code",
   "execution_count": null,
   "id": "1d2a7032",
   "metadata": {},
   "outputs": [],
   "source": [
    "from sys import stdin\n",
    "\n",
    "t = int(input())\n",
    "\n",
    "for _ in range(t):\n",
    "    h, w, n = map(int, stdin.readline().strip().split())\n",
    "    remainder = n % h\n",
    "    if remainder:\n",
    "        tmp = '0' + str((n // h) + 1)\n",
    "        print(str(remainder) + tmp[-2:])\n",
    "    else:\n",
    "        tmp = '0' + str(n // h)\n",
    "        print(str(h) + tmp[-2:])"
   ]
  },
  {
   "cell_type": "code",
   "execution_count": null,
   "id": "3e77a351",
   "metadata": {},
   "outputs": [],
   "source": [
    "# 다른 사람 코드\n",
    "\n",
    "import sys\n",
    "\n",
    "T = int(sys.stdin.readline())\n",
    "\n",
    "for t in range(T):\n",
    "    h, w, n = map(int, sys.stdin.readline().split())\n",
    "    print(\"%d%02d\" % ((n-1)%h+1, (n-1)//h+1))"
   ]
  }
 ],
 "metadata": {
  "kernelspec": {
   "display_name": "Python 3 (ipykernel)",
   "language": "python",
   "name": "python3"
  },
  "language_info": {
   "codemirror_mode": {
    "name": "ipython",
    "version": 3
   },
   "file_extension": ".py",
   "mimetype": "text/x-python",
   "name": "python",
   "nbconvert_exporter": "python",
   "pygments_lexer": "ipython3",
   "version": "3.10.3"
  },
  "vscode": {
   "interpreter": {
    "hash": "aee8b7b246df8f9039afb4144a1f6fd8d2ca17a180786b69acc140d282b71a49"
   }
  }
 },
 "nbformat": 4,
 "nbformat_minor": 5
}
