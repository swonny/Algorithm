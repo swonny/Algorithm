{
 "cells": [
  {
   "cell_type": "markdown",
   "id": "ce44ae0f",
   "metadata": {},
   "source": [
    "## 모의테스트"
   ]
  },
  {
   "cell_type": "code",
   "execution_count": 34,
   "id": "be2a7dae",
   "metadata": {},
   "outputs": [
    {
     "name": "stdout",
     "output_type": "stream",
     "text": [
      "4 6\n",
      "3\n",
      "5\n",
      "2\n",
      "1\n",
      "4\n"
     ]
    }
   ],
   "source": [
    "N, S = map(int, input().split())\n",
    "L = []\n",
    "cnt = 0\n",
    "for _ in range(N):\n",
    "    tmp = int(input())\n",
    "    if tmp < S:\n",
    "       L.append(tmp)\n",
    "    \n",
    "L.sort()\n",
    "N = len(L)\n",
    "for i in range(N - 1):\n",
    "    for j in range(i + 1, N):\n",
    "        if L[i] + L[j] > S:\n",
    "            break\n",
    "        cnt += 1\n",
    "            \n",
    "print(cnt)            "
   ]
  },
  {
   "cell_type": "code",
   "execution_count": 41,
   "id": "6b6184b4",
   "metadata": {},
   "outputs": [
    {
     "name": "stdout",
     "output_type": "stream",
     "text": [
      "4 6\n",
      "3\n",
      "5\n",
      "2\n",
      "1\n",
      "4\n"
     ]
    }
   ],
   "source": [
    "from sys import stdin\n",
    "\n",
    "N, S = map(int, read.split())\n",
    "L = [map(int, stdin.readline()) for _ in range(N)]\n",
    "cnt = 0\n",
    "    \n",
    "L.sort()\n",
    "N = len(L)\n",
    "for i in range(N - 1):\n",
    "    tmp = S - L[i]\n",
    "    if tmp >= 0:\n",
    "        for j in range(i + 1, N):\n",
    "            if L[j] > tmp:\n",
    "                break\n",
    "            cnt += 1\n",
    "            \n",
    "print(cnt)"
   ]
  },
  {
   "cell_type": "markdown",
   "id": "5b010005",
   "metadata": {},
   "source": [
    "### 행운의 수"
   ]
  },
  {
   "cell_type": "markdown",
   "id": "4d3cddef",
   "metadata": {},
   "source": [
    "각 수열 중 하나의 수만 골라서 각 자리가 5나 8로만 이루어진 수의 개수를 구하라.\n",
    "\n",
    "1. 집합으로 (중복 없애기)\n",
    "\n",
    "백의 자리수인 경우\n",
    "555\n",
    "558\n",
    "588\n",
    "888\n",
    "855\n",
    "885"
   ]
  }
 ],
 "metadata": {
  "kernelspec": {
   "display_name": "Python 3 (ipykernel)",
   "language": "python",
   "name": "python3"
  },
  "language_info": {
   "codemirror_mode": {
    "name": "ipython",
    "version": 3
   },
   "file_extension": ".py",
   "mimetype": "text/x-python",
   "name": "python",
   "nbconvert_exporter": "python",
   "pygments_lexer": "ipython3",
   "version": "3.10.3"
  }
 },
 "nbformat": 4,
 "nbformat_minor": 5
}
