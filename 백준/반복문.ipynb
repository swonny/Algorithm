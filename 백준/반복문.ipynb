{
 "cells": [
  {
   "cell_type": "markdown",
   "id": "629f8684",
   "metadata": {},
   "source": [
    "### 25304 영수증"
   ]
  },
  {
   "cell_type": "code",
   "execution_count": 1,
   "id": "3296d5c8",
   "metadata": {},
   "outputs": [
    {
     "name": "stdout",
     "output_type": "stream",
     "text": [
      "260000\n",
      "4\n",
      "20000 5\n",
      "30000 2\n",
      "10000 6\n",
      "5000 8\n",
      "Yes\n"
     ]
    }
   ],
   "source": [
    "X = int(input())\n",
    "N = int(input())\n",
    "sum = 0\n",
    "for _ in range(N):\n",
    "    p, c = map(int, input().split())\n",
    "    sum += p * c\n",
    "\n",
    "print('Yes' if sum == X else 'No')"
   ]
  },
  {
   "cell_type": "markdown",
   "id": "437328e7",
   "metadata": {},
   "source": [
    "### 1110 더하기 사이클"
   ]
  },
  {
   "cell_type": "code",
   "execution_count": 2,
   "id": "4a7f7bf7",
   "metadata": {},
   "outputs": [
    {
     "name": "stdout",
     "output_type": "stream",
     "text": [
      "26\n",
      "4\n"
     ]
    }
   ],
   "source": [
    "N = (input()+'0')[:2]\n",
    "tmp = N[1]\n",
    "n = N[1] + str((int(N[0]) + int(N[1])) % 10)\n",
    "cnt = 1\n",
    "while n != N:\n",
    "    if n == -1: n = N\n",
    "    cnt += 1\n",
    "    tmp = n[1]\n",
    "    n = n[1] + str((int(n[0]) + int(n[1])) % 10)\n",
    "\n",
    "print(cnt)"
   ]
  },
  {
   "cell_type": "code",
   "execution_count": null,
   "id": "3df9d0c7",
   "metadata": {},
   "outputs": [],
   "source": [
    "# 더하기 사이클 개선\n",
    "\n",
    "N = int(input())\n",
    "tmp = N[1]\n",
    "n = -1\n",
    "cnt = 0\n",
    "while n != N:\n",
    "    if n == -1: n = N\n",
    "    cnt += 1\n",
    "    n = f'{n // 10}' + f'{n % 10}'\n",
    "\n",
    "print(cnt)"
   ]
  }
 ],
 "metadata": {
  "kernelspec": {
   "display_name": "Python 3 (ipykernel)",
   "language": "python",
   "name": "python3"
  },
  "language_info": {
   "codemirror_mode": {
    "name": "ipython",
    "version": 3
   },
   "file_extension": ".py",
   "mimetype": "text/x-python",
   "name": "python",
   "nbconvert_exporter": "python",
   "pygments_lexer": "ipython3",
   "version": "3.10.3"
  }
 },
 "nbformat": 4,
 "nbformat_minor": 5
}
