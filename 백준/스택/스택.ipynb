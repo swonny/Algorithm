{
 "cells": [
  {
   "cell_type": "markdown",
   "id": "60be6271",
   "metadata": {},
   "source": [
    "# 단계별 문제 - 스택"
   ]
  },
  {
   "cell_type": "markdown",
   "id": "9b0ac541",
   "metadata": {},
   "source": [
    "### 10826"
   ]
  },
  {
   "cell_type": "code",
   "execution_count": 2,
   "id": "911666ef",
   "metadata": {},
   "outputs": [
    {
     "ename": "KeyboardInterrupt",
     "evalue": "Interrupted by user",
     "output_type": "error",
     "traceback": [
      "\u001b[0;31m---------------------------------------------------------------------------\u001b[0m",
      "\u001b[0;31mKeyboardInterrupt\u001b[0m                         Traceback (most recent call last)",
      "\u001b[1;32m/Users/choeseung-won/algorithm/백준/스택/스택.ipynb Cell 3'\u001b[0m in \u001b[0;36m<cell line: 7>\u001b[0;34m()\u001b[0m\n\u001b[1;32m      <a href='vscode-notebook-cell:/Users/choeseung-won/algorithm/%EB%B0%B1%EC%A4%80/%EC%8A%A4%ED%83%9D/%EC%8A%A4%ED%83%9D.ipynb#ch0000002?line=5'>6</a>\u001b[0m n \u001b[39m=\u001b[39m \u001b[39mint\u001b[39m(\u001b[39minput\u001b[39m())\n\u001b[1;32m      <a href='vscode-notebook-cell:/Users/choeseung-won/algorithm/%EB%B0%B1%EC%A4%80/%EC%8A%A4%ED%83%9D/%EC%8A%A4%ED%83%9D.ipynb#ch0000002?line=6'>7</a>\u001b[0m \u001b[39mfor\u001b[39;00m _ \u001b[39min\u001b[39;00m \u001b[39mrange\u001b[39m(n):\n\u001b[0;32m----> <a href='vscode-notebook-cell:/Users/choeseung-won/algorithm/%EB%B0%B1%EC%A4%80/%EC%8A%A4%ED%83%9D/%EC%8A%A4%ED%83%9D.ipynb#ch0000002?line=7'>8</a>\u001b[0m     tmp \u001b[39m=\u001b[39m \u001b[39minput\u001b[39;49m()\n\u001b[1;32m      <a href='vscode-notebook-cell:/Users/choeseung-won/algorithm/%EB%B0%B1%EC%A4%80/%EC%8A%A4%ED%83%9D/%EC%8A%A4%ED%83%9D.ipynb#ch0000002?line=8'>9</a>\u001b[0m     \u001b[39mtry\u001b[39;00m:\n\u001b[1;32m     <a href='vscode-notebook-cell:/Users/choeseung-won/algorithm/%EB%B0%B1%EC%A4%80/%EC%8A%A4%ED%83%9D/%EC%8A%A4%ED%83%9D.ipynb#ch0000002?line=9'>10</a>\u001b[0m         command, num \u001b[39m=\u001b[39m tmp\u001b[39m.\u001b[39msplit()\n",
      "File \u001b[0;32m/Library/Frameworks/Python.framework/Versions/3.10/lib/python3.10/site-packages/ipykernel/kernelbase.py:1177\u001b[0m, in \u001b[0;36mKernel.raw_input\u001b[0;34m(self, prompt)\u001b[0m\n\u001b[1;32m   1173\u001b[0m \u001b[39mif\u001b[39;00m \u001b[39mnot\u001b[39;00m \u001b[39mself\u001b[39m\u001b[39m.\u001b[39m_allow_stdin:\n\u001b[1;32m   1174\u001b[0m     \u001b[39mraise\u001b[39;00m StdinNotImplementedError(\n\u001b[1;32m   1175\u001b[0m         \u001b[39m\"\u001b[39m\u001b[39mraw_input was called, but this frontend does not support input requests.\u001b[39m\u001b[39m\"\u001b[39m\n\u001b[1;32m   1176\u001b[0m     )\n\u001b[0;32m-> 1177\u001b[0m \u001b[39mreturn\u001b[39;00m \u001b[39mself\u001b[39;49m\u001b[39m.\u001b[39;49m_input_request(\n\u001b[1;32m   1178\u001b[0m     \u001b[39mstr\u001b[39;49m(prompt),\n\u001b[1;32m   1179\u001b[0m     \u001b[39mself\u001b[39;49m\u001b[39m.\u001b[39;49m_parent_ident[\u001b[39m\"\u001b[39;49m\u001b[39mshell\u001b[39;49m\u001b[39m\"\u001b[39;49m],\n\u001b[1;32m   1180\u001b[0m     \u001b[39mself\u001b[39;49m\u001b[39m.\u001b[39;49mget_parent(\u001b[39m\"\u001b[39;49m\u001b[39mshell\u001b[39;49m\u001b[39m\"\u001b[39;49m),\n\u001b[1;32m   1181\u001b[0m     password\u001b[39m=\u001b[39;49m\u001b[39mFalse\u001b[39;49;00m,\n\u001b[1;32m   1182\u001b[0m )\n",
      "File \u001b[0;32m/Library/Frameworks/Python.framework/Versions/3.10/lib/python3.10/site-packages/ipykernel/kernelbase.py:1219\u001b[0m, in \u001b[0;36mKernel._input_request\u001b[0;34m(self, prompt, ident, parent, password)\u001b[0m\n\u001b[1;32m   1216\u001b[0m             \u001b[39mbreak\u001b[39;00m\n\u001b[1;32m   1217\u001b[0m \u001b[39mexcept\u001b[39;00m \u001b[39mKeyboardInterrupt\u001b[39;00m:\n\u001b[1;32m   1218\u001b[0m     \u001b[39m# re-raise KeyboardInterrupt, to truncate traceback\u001b[39;00m\n\u001b[0;32m-> 1219\u001b[0m     \u001b[39mraise\u001b[39;00m \u001b[39mKeyboardInterrupt\u001b[39;00m(\u001b[39m\"\u001b[39m\u001b[39mInterrupted by user\u001b[39m\u001b[39m\"\u001b[39m) \u001b[39mfrom\u001b[39;00m \u001b[39mNone\u001b[39m\n\u001b[1;32m   1220\u001b[0m \u001b[39mexcept\u001b[39;00m \u001b[39mException\u001b[39;00m:\n\u001b[1;32m   1221\u001b[0m     \u001b[39mself\u001b[39m\u001b[39m.\u001b[39mlog\u001b[39m.\u001b[39mwarning(\u001b[39m\"\u001b[39m\u001b[39mInvalid Message:\u001b[39m\u001b[39m\"\u001b[39m, exc_info\u001b[39m=\u001b[39m\u001b[39mTrue\u001b[39;00m)\n",
      "\u001b[0;31mKeyboardInterrupt\u001b[0m: Interrupted by user"
     ]
    }
   ],
   "source": [
    "# 스택 without deque\n",
    "from collections import deque\n",
    "    \n",
    "stk = deque([])\n",
    "\n",
    "n = int(input())\n",
    "for _ in range(n):\n",
    "    tmp = input()\n",
    "    try:\n",
    "        command, num = tmp.split()\n",
    "        num = int(num)\n",
    "    except ValueError:\n",
    "        command = tmp    \n",
    "    \n",
    "    if command == 'push':\n",
    "        stk.append(num)\n",
    "    \n",
    "    elif command == 'pop':\n",
    "        try:\n",
    "            print(stk.pop())\n",
    "        except IndexError:\n",
    "            print(-1)\n",
    "            \n",
    "    elif command == 'size':\n",
    "        print(len(stk))\n",
    "    \n",
    "    elif command == 'empty':\n",
    "        print(0 if stk else 1)\n",
    "        \n",
    "    elif command == 'top':\n",
    "        try:\n",
    "            print(stk[-1])\n",
    "        except IndexError:\n",
    "            print(-1)\n",
    "\n",
    "    \n",
    "    "
   ]
  },
  {
   "cell_type": "code",
   "execution_count": null,
   "id": "46760949",
   "metadata": {},
   "outputs": [],
   "source": []
  },
  {
   "cell_type": "code",
   "execution_count": null,
   "id": "6ad51e38",
   "metadata": {},
   "outputs": [],
   "source": []
  }
 ],
 "metadata": {
  "kernelspec": {
   "display_name": "Python 3.10.3 64-bit",
   "language": "python",
   "name": "python3"
  },
  "language_info": {
   "codemirror_mode": {
    "name": "ipython",
    "version": 3
   },
   "file_extension": ".py",
   "mimetype": "text/x-python",
   "name": "python",
   "nbconvert_exporter": "python",
   "pygments_lexer": "ipython3",
   "version": "3.10.3"
  },
  "vscode": {
   "interpreter": {
    "hash": "aee8b7b246df8f9039afb4144a1f6fd8d2ca17a180786b69acc140d282b71a49"
   }
  }
 },
 "nbformat": 4,
 "nbformat_minor": 5
}
