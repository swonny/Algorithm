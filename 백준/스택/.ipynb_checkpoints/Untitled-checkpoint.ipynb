{
 "cells": [
  {
   "cell_type": "markdown",
   "id": "3f379a4b",
   "metadata": {},
   "source": [
    "# 단계별 문제 - 스택"
   ]
  },
  {
   "cell_type": "markdown",
   "id": "a39176cb",
   "metadata": {},
   "source": [
    "### 10826"
   ]
  },
  {
   "cell_type": "code",
   "execution_count": 33,
   "id": "aac2a5af",
   "metadata": {},
   "outputs": [
    {
     "name": "stdout",
     "output_type": "stream",
     "text": [
      "10\n",
      "push 3\n",
      "pop\n",
      "3\n",
      "pop\n",
      "-1\n",
      "top\n",
      "-1\n",
      "empty\n",
      "1\n",
      "size\n",
      "0\n",
      "push 1\n",
      "size\n",
      "1\n",
      "top\n",
      "1\n",
      "pop\n",
      "1\n"
     ]
    }
   ],
   "source": [
    "# 스택 without deque\n",
    "from collections import deque\n",
    "    \n",
    "stk = deque([])\n",
    "\n",
    "n = int(input())\n",
    "for _ in range(n):\n",
    "    tmp = input()\n",
    "    try:\n",
    "        command, num = tmp.split()\n",
    "        num = int(num)\n",
    "    except ValueError:\n",
    "        command = tmp    \n",
    "    \n",
    "    if command == 'push':\n",
    "        stk.append(num)\n",
    "    \n",
    "    elif command == 'pop':\n",
    "        try:\n",
    "            print(stk.pop())\n",
    "        except IndexError:\n",
    "            print(-1)\n",
    "            \n",
    "    elif command == 'size':\n",
    "        print(len(stk))\n",
    "    \n",
    "    elif command == 'empty':\n",
    "        print(0 if stk else 1)\n",
    "        \n",
    "    elif command == 'top':\n",
    "        try:\n",
    "            print(stk[-1])\n",
    "        except IndexError:\n",
    "            print(-1)\n",
    "\n",
    "    \n",
    "    "
   ]
  },
  {
   "cell_type": "code",
   "execution_count": 98,
   "id": "49216274",
   "metadata": {
    "scrolled": true
   },
   "outputs": [
    {
     "name": "stdout",
     "output_type": "stream",
     "text": [
      "14\n",
      "push 1\n",
      "push 2\n",
      "top\n",
      "2\n",
      "size\n",
      "2\n",
      "empty\n",
      "0\n",
      "pop\n",
      "2\n",
      "pop\n",
      "1\n",
      "pop\n",
      "-1\n",
      "size\n",
      "0\n",
      "empty\n",
      "1\n",
      "pop\n",
      "-1\n",
      "push 3\n",
      "empty\n",
      "0\n",
      "top\n",
      "3\n"
     ]
    }
   ],
   "source": [
    "class Stack:\n",
    "    def __init__(self):\n",
    "        self.stk = []\n",
    "        self.ptr = 0\n",
    "    \n",
    "    def push(self, value):\n",
    "        self.stk.append(value)\n",
    "        self.ptr += 1\n",
    "        \n",
    "    def empty(self):\n",
    "        if self.ptr <= 0:\n",
    "            return 1\n",
    "        return 0\n",
    "    \n",
    "    def pop(self):\n",
    "        if self.empty() == 1:\n",
    "            return -1\n",
    "        self.ptr -= 1\n",
    "        return self.stk.pop()\n",
    "    \n",
    "    def size(self):\n",
    "        return self.ptr\n",
    "    \n",
    "    def top(self):\n",
    "        if self.empty() == 1:\n",
    "            return -1\n",
    "        return self.stk[self.ptr - 1]   \n",
    "\n",
    "n = int(input())\n",
    "stk = Stack()\n",
    "for _ in range(n):\n",
    "    tmp = input()\n",
    "    try:\n",
    "        command, num = tmp.split()\n",
    "    except ValueError:\n",
    "        command = tmp  \n",
    "    \n",
    "    if command == 'push':\n",
    "        stk.push(num)\n",
    "    \n",
    "    elif command == 'pop':\n",
    "        print(stk.pop())\n",
    "            \n",
    "    elif command == 'size':\n",
    "        print(stk.size())\n",
    "    \n",
    "    elif command == 'empty':\n",
    "        print(stk.empty())\n",
    "        \n",
    "    elif command == 'top':\n",
    "        print(stk.top())"
   ]
  },
  {
   "cell_type": "code",
   "execution_count": 118,
   "id": "c3e08c41",
   "metadata": {},
   "outputs": [
    {
     "name": "stdout",
     "output_type": "stream",
     "text": [
      "\n"
     ]
    }
   ],
   "source": [
    "from collections import deque\n",
    "import sys\n",
    "\n",
    "stk = deque([])\n",
    "n = sys.stdin.readline().rstrip()\n",
    "print(n)\n",
    "\n",
    "for _ in range(n):\n",
    "    command = sys.stdin.readline().rstrip()\n",
    "    print(command)\n",
    "    \n",
    "    try:\n",
    "        command, num = tmp.split()\n",
    "    except ValueError:\n",
    "        command = tmp  \n",
    "    \n",
    "    if command == 'push':\n",
    "        stk.append(num)\n",
    "    \n",
    "    elif command == 'pop':\n",
    "        try:\n",
    "            print(stk.pop())\n",
    "        except IndexError:\n",
    "            print(-1)\n",
    "            \n",
    "    elif command == 'size':\n",
    "        print(len(stk))\n",
    "    \n",
    "    elif command == 'empty':\n",
    "        print(1 if len(stk) == 0 else 0)\n",
    "        \n",
    "    elif command == 'top':\n",
    "        try:\n",
    "            print(stk[len(stk) - 1])\n",
    "        except IndexError:\n",
    "            print(-1)"
   ]
  },
  {
   "cell_type": "code",
   "execution_count": 120,
   "id": "75c02dab",
   "metadata": {},
   "outputs": [
    {
     "ename": "ValueError",
     "evalue": "invalid literal for int() with base 10: ''",
     "output_type": "error",
     "traceback": [
      "\u001b[0;31m---------------------------------------------------------------------------\u001b[0m",
      "\u001b[0;31mValueError\u001b[0m                                Traceback (most recent call last)",
      "Input \u001b[0;32mIn [120]\u001b[0m, in \u001b[0;36m<cell line: 2>\u001b[0;34m()\u001b[0m\n\u001b[1;32m      1\u001b[0m \u001b[38;5;28;01mimport\u001b[39;00m \u001b[38;5;21;01msys\u001b[39;00m\n\u001b[0;32m----> 2\u001b[0m N \u001b[38;5;241m=\u001b[39m \u001b[38;5;28;43mint\u001b[39;49m\u001b[43m(\u001b[49m\u001b[43msys\u001b[49m\u001b[38;5;241;43m.\u001b[39;49m\u001b[43mstdin\u001b[49m\u001b[38;5;241;43m.\u001b[39;49m\u001b[43mreadline\u001b[49m\u001b[43m(\u001b[49m\u001b[43m)\u001b[49m\u001b[43m)\u001b[49m\n\u001b[1;32m      4\u001b[0m \u001b[38;5;28;01mfor\u001b[39;00m i \u001b[38;5;129;01min\u001b[39;00m \u001b[38;5;28mrange\u001b[39m(N):\n\u001b[1;32m      5\u001b[0m     \u001b[38;5;28mprint\u001b[39m(\u001b[38;5;28msum\u001b[39m(\u001b[38;5;28mmap\u001b[39m(\u001b[38;5;28mint\u001b[39m, sys\u001b[38;5;241m.\u001b[39mstdin\u001b[38;5;241m.\u001b[39mreadline()\u001b[38;5;241m.\u001b[39msplit())))\n",
      "\u001b[0;31mValueError\u001b[0m: invalid literal for int() with base 10: ''"
     ]
    }
   ],
   "source": [
    "import sys\n",
    "N = int(sys.stdin.readline())\n",
    "\n",
    "for i in range(N):\n",
    "    print(sum(map(int, sys.stdin.readline().split())))"
   ]
  },
  {
   "cell_type": "code",
   "execution_count": null,
   "id": "9494ef2b",
   "metadata": {},
   "outputs": [],
   "source": [
    "# 스택 성공 코드\n",
    "# input() -> stdin.readline()으로 변경 후 시간 초과 해결\n",
    "\n",
    "from collections import deque\n",
    "from sys import stdin\n",
    "\n",
    "stk = deque([])\n",
    "n = int(stdin.readline().rstrip())\n",
    "\n",
    "for _ in range(n):\n",
    "    tmp = stdin.readline().rstrip()\n",
    "    try:\n",
    "        command, num = tmp.split()\n",
    "    except ValueError:\n",
    "        command = tmp  \n",
    "    \n",
    "    if command == 'push':\n",
    "        stk.append(num)\n",
    "    \n",
    "    elif command == 'pop':\n",
    "        try:\n",
    "            print(stk.pop())\n",
    "        except IndexError:\n",
    "            print(-1)\n",
    "            \n",
    "    elif command == 'size':\n",
    "        print(len(stk))\n",
    "    \n",
    "    elif command == 'empty':\n",
    "        print(1 if len(stk) == 0 else 0)\n",
    "        \n",
    "    elif command == 'top':\n",
    "        try:\n",
    "            print(stk[len(stk) - 1])\n",
    "        except IndexError:\n",
    "            print(-1)"
   ]
  },
  {
   "cell_type": "code",
   "execution_count": 121,
   "id": "09be1ddb",
   "metadata": {},
   "outputs": [],
   "source": [
    "# 1등 코드\n",
    "# 배열의 반대 인덱스를 잘 활용하자\n",
    "\n",
    "import sys\n",
    "stack = []\n",
    "orders = sys.stdin.read().splitlines()\n",
    "for order in orders:\n",
    "    if 'push' in order:\n",
    "        stack.append(order.split()[1])\n",
    "    elif 'pop' in order:\n",
    "        print(stack.pop()) if stack else print(-1)\n",
    "    elif 'size' in order:\n",
    "        print(len(stack))\n",
    "    elif 'empty' in order:\n",
    "        print(0) if stack else print(1)\n",
    "    elif 'top' in order:\n",
    "        print(stack[-1]) if stack else print(-1)"
   ]
  },
  {
   "cell_type": "markdown",
   "id": "69148cc9",
   "metadata": {},
   "source": [
    "### 10773 제로\n",
    "\n",
    "1. 0이면 pop(), 0이 아니면 push()"
   ]
  },
  {
   "cell_type": "code",
   "execution_count": 123,
   "id": "45290bc1",
   "metadata": {},
   "outputs": [
    {
     "ename": "KeyboardInterrupt",
     "evalue": "Interrupted by user",
     "output_type": "error",
     "traceback": [
      "\u001b[0;31m---------------------------------------------------------------------------\u001b[0m",
      "\u001b[0;31mKeyboardInterrupt\u001b[0m                         Traceback (most recent call last)",
      "Input \u001b[0;32mIn [123]\u001b[0m, in \u001b[0;36m<cell line: 3>\u001b[0;34m()\u001b[0m\n\u001b[1;32m      1\u001b[0m \u001b[38;5;28;01mfrom\u001b[39;00m \u001b[38;5;21;01msys\u001b[39;00m \u001b[38;5;28;01mimport\u001b[39;00m stdin\n\u001b[0;32m----> 3\u001b[0m n \u001b[38;5;241m=\u001b[39m \u001b[38;5;28mint\u001b[39m(\u001b[38;5;28;43minput\u001b[39;49m\u001b[43m(\u001b[49m\u001b[43m)\u001b[49m)\n\u001b[1;32m      4\u001b[0m stk \u001b[38;5;241m=\u001b[39m []\n\u001b[1;32m      5\u001b[0m \u001b[38;5;28;01mfor\u001b[39;00m _ \u001b[38;5;129;01min\u001b[39;00m \u001b[38;5;28mrange\u001b[39m(n):\n",
      "File \u001b[0;32m/Library/Frameworks/Python.framework/Versions/3.10/lib/python3.10/site-packages/ipykernel/kernelbase.py:1177\u001b[0m, in \u001b[0;36mKernel.raw_input\u001b[0;34m(self, prompt)\u001b[0m\n\u001b[1;32m   1173\u001b[0m \u001b[38;5;28;01mif\u001b[39;00m \u001b[38;5;129;01mnot\u001b[39;00m \u001b[38;5;28mself\u001b[39m\u001b[38;5;241m.\u001b[39m_allow_stdin:\n\u001b[1;32m   1174\u001b[0m     \u001b[38;5;28;01mraise\u001b[39;00m StdinNotImplementedError(\n\u001b[1;32m   1175\u001b[0m         \u001b[38;5;124m\"\u001b[39m\u001b[38;5;124mraw_input was called, but this frontend does not support input requests.\u001b[39m\u001b[38;5;124m\"\u001b[39m\n\u001b[1;32m   1176\u001b[0m     )\n\u001b[0;32m-> 1177\u001b[0m \u001b[38;5;28;01mreturn\u001b[39;00m \u001b[38;5;28;43mself\u001b[39;49m\u001b[38;5;241;43m.\u001b[39;49m\u001b[43m_input_request\u001b[49m\u001b[43m(\u001b[49m\n\u001b[1;32m   1178\u001b[0m \u001b[43m    \u001b[49m\u001b[38;5;28;43mstr\u001b[39;49m\u001b[43m(\u001b[49m\u001b[43mprompt\u001b[49m\u001b[43m)\u001b[49m\u001b[43m,\u001b[49m\n\u001b[1;32m   1179\u001b[0m \u001b[43m    \u001b[49m\u001b[38;5;28;43mself\u001b[39;49m\u001b[38;5;241;43m.\u001b[39;49m\u001b[43m_parent_ident\u001b[49m\u001b[43m[\u001b[49m\u001b[38;5;124;43m\"\u001b[39;49m\u001b[38;5;124;43mshell\u001b[39;49m\u001b[38;5;124;43m\"\u001b[39;49m\u001b[43m]\u001b[49m\u001b[43m,\u001b[49m\n\u001b[1;32m   1180\u001b[0m \u001b[43m    \u001b[49m\u001b[38;5;28;43mself\u001b[39;49m\u001b[38;5;241;43m.\u001b[39;49m\u001b[43mget_parent\u001b[49m\u001b[43m(\u001b[49m\u001b[38;5;124;43m\"\u001b[39;49m\u001b[38;5;124;43mshell\u001b[39;49m\u001b[38;5;124;43m\"\u001b[39;49m\u001b[43m)\u001b[49m\u001b[43m,\u001b[49m\n\u001b[1;32m   1181\u001b[0m \u001b[43m    \u001b[49m\u001b[43mpassword\u001b[49m\u001b[38;5;241;43m=\u001b[39;49m\u001b[38;5;28;43;01mFalse\u001b[39;49;00m\u001b[43m,\u001b[49m\n\u001b[1;32m   1182\u001b[0m \u001b[43m\u001b[49m\u001b[43m)\u001b[49m\n",
      "File \u001b[0;32m/Library/Frameworks/Python.framework/Versions/3.10/lib/python3.10/site-packages/ipykernel/kernelbase.py:1219\u001b[0m, in \u001b[0;36mKernel._input_request\u001b[0;34m(self, prompt, ident, parent, password)\u001b[0m\n\u001b[1;32m   1216\u001b[0m             \u001b[38;5;28;01mbreak\u001b[39;00m\n\u001b[1;32m   1217\u001b[0m \u001b[38;5;28;01mexcept\u001b[39;00m \u001b[38;5;167;01mKeyboardInterrupt\u001b[39;00m:\n\u001b[1;32m   1218\u001b[0m     \u001b[38;5;66;03m# re-raise KeyboardInterrupt, to truncate traceback\u001b[39;00m\n\u001b[0;32m-> 1219\u001b[0m     \u001b[38;5;28;01mraise\u001b[39;00m \u001b[38;5;167;01mKeyboardInterrupt\u001b[39;00m(\u001b[38;5;124m\"\u001b[39m\u001b[38;5;124mInterrupted by user\u001b[39m\u001b[38;5;124m\"\u001b[39m) \u001b[38;5;28;01mfrom\u001b[39;00m \u001b[38;5;28mNone\u001b[39m\n\u001b[1;32m   1220\u001b[0m \u001b[38;5;28;01mexcept\u001b[39;00m \u001b[38;5;167;01mException\u001b[39;00m:\n\u001b[1;32m   1221\u001b[0m     \u001b[38;5;28mself\u001b[39m\u001b[38;5;241m.\u001b[39mlog\u001b[38;5;241m.\u001b[39mwarning(\u001b[38;5;124m\"\u001b[39m\u001b[38;5;124mInvalid Message:\u001b[39m\u001b[38;5;124m\"\u001b[39m, exc_info\u001b[38;5;241m=\u001b[39m\u001b[38;5;28;01mTrue\u001b[39;00m)\n",
      "\u001b[0;31mKeyboardInterrupt\u001b[0m: Interrupted by user"
     ]
    }
   ],
   "source": [
    "from sys import stdin\n",
    "\n",
    "n = int(input())\n",
    "stk = []\n",
    "for _ in range(n):\n",
    "    num = int(stdin.readline())\n",
    "    if num == 0:\n",
    "        stk.pop()\n",
    "    else:\n",
    "        stk.append(num)\n",
    "\n",
    "print(sum(stk))"
   ]
  },
  {
   "cell_type": "markdown",
   "id": "3e8d7912",
   "metadata": {},
   "source": [
    "### 9012 괄호\n",
    "\n",
    "- '('이면 push\n",
    "- ')'이면 pop\n",
    "- 마지막까지 완료했는데 스택이 비어있지 않으면 NO\n",
    "\n",
    "**print가 여러 상황에 따라 달라지는 문제는 함수로 풀면 더 효율적일 것 같다**"
   ]
  },
  {
   "cell_type": "code",
   "execution_count": null,
   "id": "948d894d",
   "metadata": {},
   "outputs": [],
   "source": [
    "from sys import stdin\n",
    "\n",
    "n = int(input())\n",
    "stk = []\n",
    "\n",
    "for _ in range(n):\n",
    "    stk = []\n",
    "    p = list(map(str, stdin.readline().rstrip()))\n",
    "    for pa in p:\n",
    "        if pa == '(':\n",
    "            stk.append('(')\n",
    "        else:\n",
    "            try:\n",
    "                stk.pop()\n",
    "            except IndexError:\n",
    "                print('NO')\n",
    "                break\n",
    "    else: \n",
    "        print('YES') if len(stk) == 0 else print('NO')"
   ]
  },
  {
   "cell_type": "markdown",
   "id": "9d8f08f6",
   "metadata": {},
   "source": [
    "  "
   ]
  },
  {
   "cell_type": "markdown",
   "id": "e25f8be8",
   "metadata": {},
   "source": [
    "### 4949 균형잡힌세상\n",
    "\n",
    "[메모]\n",
    "- c in 'string' 사용 가능"
   ]
  },
  {
   "cell_type": "code",
   "execution_count": null,
   "id": "dc52652d",
   "metadata": {},
   "outputs": [],
   "source": [
    "from sys import stdin\n",
    "\n",
    "def isBal(string):\n",
    "    stk = []\n",
    "    for e in string:\n",
    "        if e == '(' or e == '[':\n",
    "            stk.append(e)\n",
    "        elif e == ')':\n",
    "            if len(stk) == 0 or stk.pop() == '[':\n",
    "                return 'no'\n",
    "        elif e == ']':\n",
    "            if len(stk) == 0 or stk.pop() == '(':\n",
    "                return 'no'\n",
    "    if len(stk): return 'no'\n",
    "    return 'yes'\n",
    "\n",
    "while True:\n",
    "    string = str(stdin.readline().rstrip())\n",
    "    if string == '.':\n",
    "        break\n",
    "    else:\n",
    "        print(isBal(string))"
   ]
  },
  {
   "cell_type": "code",
   "execution_count": 124,
   "id": "f350ceae",
   "metadata": {},
   "outputs": [
    {
     "ename": "IndexError",
     "evalue": "pop from empty list",
     "output_type": "error",
     "traceback": [
      "\u001b[0;31m---------------------------------------------------------------------------\u001b[0m",
      "\u001b[0;31mIndexError\u001b[0m                                Traceback (most recent call last)",
      "Input \u001b[0;32mIn [124]\u001b[0m, in \u001b[0;36m<cell line: 18>\u001b[0;34m()\u001b[0m\n\u001b[1;32m     15\u001b[0m     \u001b[38;5;28;01mreturn\u001b[39;00m \u001b[38;5;129;01mnot\u001b[39;00m stack\n\u001b[1;32m     17\u001b[0m strings \u001b[38;5;241m=\u001b[39m stdin\u001b[38;5;241m.\u001b[39mreadlines()\n\u001b[0;32m---> 18\u001b[0m \u001b[43mstrings\u001b[49m\u001b[38;5;241;43m.\u001b[39;49m\u001b[43mpop\u001b[49m\u001b[43m(\u001b[49m\u001b[43m)\u001b[49m\n\u001b[1;32m     19\u001b[0m \u001b[38;5;28;01mfor\u001b[39;00m string \u001b[38;5;129;01min\u001b[39;00m strings:\n\u001b[1;32m     20\u001b[0m     stdout\u001b[38;5;241m.\u001b[39mwrite(\u001b[38;5;124m\"\u001b[39m\u001b[38;5;124myes\u001b[39m\u001b[38;5;130;01m\\n\u001b[39;00m\u001b[38;5;124m\"\u001b[39m \u001b[38;5;28;01mif\u001b[39;00m isvalid(string) \u001b[38;5;28;01melse\u001b[39;00m \u001b[38;5;124m\"\u001b[39m\u001b[38;5;124mno\u001b[39m\u001b[38;5;130;01m\\n\u001b[39;00m\u001b[38;5;124m\"\u001b[39m)\n",
      "\u001b[0;31mIndexError\u001b[0m: pop from empty list"
     ]
    }
   ],
   "source": [
    "# 1등 코드\n",
    "from sys import stdin, stdout\n",
    "\n",
    "def isvalid(s):\n",
    "    stack = []\n",
    "    for c in s:\n",
    "        if c in '([':\n",
    "            stack.append(c)\n",
    "        elif c == ')':\n",
    "            if not stack or stack.pop() != '(':\n",
    "                return False\n",
    "        elif c == ']':\n",
    "            if not stack or stack.pop() != '[':\n",
    "                return False\n",
    "    return not stack\n",
    "\n",
    "strings = stdin.readlines()\n",
    "strings.pop()\n",
    "for string in strings:\n",
    "    stdout.write(\"yes\\n\" if isvalid(string) else \"no\\n\")"
   ]
  },
  {
   "cell_type": "markdown",
   "id": "afe37872",
   "metadata": {},
   "source": [
    "### "
   ]
  },
  {
   "cell_type": "code",
   "execution_count": null,
   "id": "5322984c",
   "metadata": {},
   "outputs": [],
   "source": []
  }
 ],
 "metadata": {
  "kernelspec": {
   "display_name": "Python 3 (ipykernel)",
   "language": "python",
   "name": "python3"
  },
  "language_info": {
   "codemirror_mode": {
    "name": "ipython",
    "version": 3
   },
   "file_extension": ".py",
   "mimetype": "text/x-python",
   "name": "python",
   "nbconvert_exporter": "python",
   "pygments_lexer": "ipython3",
   "version": "3.10.3"
  }
 },
 "nbformat": 4,
 "nbformat_minor": 5
}
