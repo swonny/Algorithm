{
 "cells": [
  {
   "cell_type": "markdown",
   "id": "fe26d3e6",
   "metadata": {},
   "source": [
    "### 1480 오븐 시계"
   ]
  },
  {
   "cell_type": "code",
   "execution_count": 1,
   "id": "4bbbe02d",
   "metadata": {},
   "outputs": [
    {
     "name": "stdout",
     "output_type": "stream",
     "text": [
      "14 30\n",
      "20\n",
      "14 50\n"
     ]
    }
   ],
   "source": [
    "A, B= map(int, input().split())\n",
    "C = int(input())\n",
    "\n",
    "t = (A * 60 + B) + C\n",
    "print((t // 60) % 24, t % 60)"
   ]
  },
  {
   "cell_type": "markdown",
   "id": "220b2713",
   "metadata": {},
   "source": [
    "### 2480 주사위 세 개"
   ]
  },
  {
   "cell_type": "code",
   "execution_count": 2,
   "id": "be150f09",
   "metadata": {},
   "outputs": [
    {
     "name": "stdout",
     "output_type": "stream",
     "text": [
      "1 2 3\n",
      "300\n"
     ]
    }
   ],
   "source": [
    "a, b, c = map(int, input().split())\n",
    "\n",
    "if a == b == c:\n",
    "    print(10000 + a * 1000)\n",
    "else:\n",
    "    if a == b or a == c:\n",
    "        print(1000 + a * 100)\n",
    "    elif b == c:\n",
    "        print(1000 + b * 100)\n",
    "    else:\n",
    "        print(max(a, b, c) * 100)"
   ]
  },
  {
   "cell_type": "code",
   "execution_count": null,
   "id": "57e9a232",
   "metadata": {},
   "outputs": [],
   "source": []
  }
 ],
 "metadata": {
  "kernelspec": {
   "display_name": "Python 3 (ipykernel)",
   "language": "python",
   "name": "python3"
  },
  "language_info": {
   "codemirror_mode": {
    "name": "ipython",
    "version": 3
   },
   "file_extension": ".py",
   "mimetype": "text/x-python",
   "name": "python",
   "nbconvert_exporter": "python",
   "pygments_lexer": "ipython3",
   "version": "3.10.3"
  }
 },
 "nbformat": 4,
 "nbformat_minor": 5
}
