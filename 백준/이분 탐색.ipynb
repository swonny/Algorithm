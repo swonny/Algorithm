{
 "cells": [
  {
   "cell_type": "code",
   "execution_count": 21,
   "id": "ece716a7",
   "metadata": {
    "scrolled": true
   },
   "outputs": [
    {
     "name": "stdout",
     "output_type": "stream",
     "text": [
      "3\n",
      "1 2 3\n",
      "3\n",
      "1 2 3\n",
      "1 3 2\n",
      "1 3 2\n",
      "1 3 2\n",
      "1 3\n"
     ]
    }
   ],
   "source": [
    "# 1920 수 찾기\n",
    "\n",
    "def getInput():\n",
    "    n = int(input())\n",
    "    arr = [None]\n",
    "    tmp = list(map(int, input().split()))\n",
    "    tmp.sort()\n",
    "    arr = arr + tmp\n",
    "    \n",
    "    return arr\n",
    "\n",
    "A = getInput()\n",
    "arr = getInput()\n",
    "count = 0\n",
    "\n",
    "for a in A[1:]:\n",
    "    pl = 1\n",
    "    pr = len(arr) - 1\n",
    "    pc = (pr + pl) // 2\n",
    "    while pl < pr:\n",
    "        print(pl, pr, pc)\n",
    "        if arr[pc] == a:\n",
    "            count += 1\n",
    "            break\n",
    "        elif a < arr[pc]:\n",
    "            pr = pc - 1\n",
    "        elif a > arr[pc]:\n",
    "            pl = pc + 1\n",
    "\n",
    "print(count, len(A) - 1)       "
   ]
  },
  {
   "cell_type": "code",
   "execution_count": null,
   "id": "170b99dd",
   "metadata": {},
   "outputs": [],
   "source": []
  }
 ],
 "metadata": {
  "kernelspec": {
   "display_name": "Python 3 (ipykernel)",
   "language": "python",
   "name": "python3"
  },
  "language_info": {
   "codemirror_mode": {
    "name": "ipython",
    "version": 3
   },
   "file_extension": ".py",
   "mimetype": "text/x-python",
   "name": "python",
   "nbconvert_exporter": "python",
   "pygments_lexer": "ipython3",
   "version": "3.10.3"
  }
 },
 "nbformat": 4,
 "nbformat_minor": 5
}
