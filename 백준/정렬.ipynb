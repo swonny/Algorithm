{
 "cells": [
  {
   "cell_type": "markdown",
   "id": "fe8503c5",
   "metadata": {},
   "source": [
    "### 2751 수 정렬하기"
   ]
  },
  {
   "cell_type": "code",
   "execution_count": 40,
   "id": "f10d171c",
   "metadata": {},
   "outputs": [
    {
     "name": "stdout",
     "output_type": "stream",
     "text": [
      "5\n",
      "-1\n",
      "-2\n",
      "-3\n",
      "-2\n",
      "-1\n",
      "-2\n",
      "-2\n",
      "rIdx : 0, i : 4\n",
      "[-1, -1, -2, -2, -3] [-3, -2, -2, -1, -1]\n",
      "rIdx : 0, i : 3\n",
      "[-1, -1, -2, -2, -3] [-3, -2, -2, -1, -1]\n",
      "rIdx : 2, i : 2\n",
      "[-1, -1, -2, -2, -3] [-3, -2, -2, -1, -1]\n",
      "rIdx : 2, i : 1\n",
      "[-1, -1, -2, -2, -3] [-3, -2, -2, -1, -1]\n",
      "rIdx : 4, i : 0\n",
      "[-1, -1, -2, -2, -3] [-3, -2, -2, -1, -1]\n",
      "2\n"
     ]
    }
   ],
   "source": [
    "n = int(input())\n",
    "num = sorted([int(input()) for _ in range(n)])\n",
    "print(round(sum(num)/len(num))) # 평균\n",
    "print(num[n//2]) # 중앙값\n",
    "# 최빈값\n",
    "def mode():\n",
    "    rnum = num[::-1]\n",
    "    biggest = 0\n",
    "    cnt = 0\n",
    "    for j in range(n):\n",
    "        i = n - 1 - j\n",
    "        rIdx = rnum.index(num[i])\n",
    "        print(f'rIdx : {rIdx}, i : {i}')\n",
    "        if i != (n - 1 - rIdx):\n",
    "            tmp = i - (n - 1 - j)\n",
    "            if tmp > cnt:\n",
    "                cnt = tmp\n",
    "            elif tmp < cnt:\n",
    "                rnum.remove(rnum[j])\n",
    "        print(rnum, num)\n",
    "#             cnt = cnt if cnt >= tmp else tmp\n",
    "#             biggest = biggest if biggest >\n",
    "\n",
    "mode()\n",
    "print(max(num) - min(num)) # 범위"
   ]
  },
  {
   "cell_type": "code",
   "execution_count": 41,
   "id": "4499f669",
   "metadata": {},
   "outputs": [
    {
     "name": "stdout",
     "output_type": "stream",
     "text": [
      "5\n",
      "-1\n",
      "-2\n",
      "-3\n",
      "-2\n",
      "-1\n",
      "rIdx : 0, i : 4\n",
      "[-1, -1, -2, -2, -3] [-3, -2, -2, -1, -1]\n",
      "rIdx : 0, i : 3\n",
      "[-1, -1, -2, -2, -3] [-3, -2, -2, -1, -1]\n",
      "rIdx : 2, i : 2\n",
      "[-1, -1, -2, -2, -3] [-3, -2, -2, -1, -1]\n",
      "rIdx : 2, i : 1\n",
      "[-1, -1, -2, -2, -3] [-3, -2, -2, -1, -1]\n",
      "rIdx : 4, i : 0\n",
      "[-1, -1, -2, -2, -3] [-3, -2, -2, -1, -1]\n"
     ]
    }
   ],
   "source": [
    "n = int(input())\n",
    "num = sorted([int(input()) for _ in range(n)])\n",
    "# 최빈값\n",
    "def mode():\n",
    "    rnum = num[::-1]\n",
    "    biggest = 0\n",
    "    cnt = 0\n",
    "    for j in range(n):\n",
    "        i = n - 1 - j\n",
    "        rIdx = rnum.index(num[i])\n",
    "        print(f'rIdx : {rIdx}, i : {i}')\n",
    "        if i != (n - 1 - rIdx):\n",
    "            tmp = i - (n - 1 - j)\n",
    "            if tmp > cnt:\n",
    "                cnt = tmp\n",
    "            elif tmp < cnt:\n",
    "                rnum.remove(rnum[j])\n",
    "        print(rnum, num)\n",
    "#             cnt = cnt if cnt >= tmp else tmp\n",
    "#             biggest = biggest if biggest >\n",
    "\n",
    "mode()"
   ]
  },
  {
   "cell_type": "code",
   "execution_count": 52,
   "id": "6f8fe609",
   "metadata": {
    "scrolled": true
   },
   "outputs": [
    {
     "name": "stdout",
     "output_type": "stream",
     "text": [
      "5\n",
      "-1\n",
      "-2\n",
      "-3\n",
      "-2\n",
      "-1\n",
      "[-3, -2, -2, -1, -1]\n",
      "1 -2\n",
      "[-2]\n",
      "[-2]\n",
      "2 -1\n",
      "[-1]\n",
      "[-1]\n"
     ]
    }
   ],
   "source": [
    "n = int(input())\n",
    "num = sorted([int(input()) for _ in range(n)])\n",
    "print(num)\n",
    "def mode():\n",
    "    stk = []\n",
    "    cnt = 0\n",
    "    prev = num[0]\n",
    "    tmp = 1\n",
    "    for i in range(1, n):\n",
    "        if prev == num[i]:\n",
    "            tmp += 1\n",
    "        else:\n",
    "            print(tmp, num[i])\n",
    "            if tmp > cnt:\n",
    "                cnt = tmp\n",
    "                tmp = 1\n",
    "                while stk:\n",
    "                    stk.pop()\n",
    "                stk.append(num[i])\n",
    "            elif tmp == cnt:\n",
    "                stk.append(num[i])\n",
    "        prev = num[i]\n",
    "        print(stk)\n",
    "            \n",
    "#     print(stk[0] if len(stk) < 1 else stk[])\n",
    "mode()"
   ]
  },
  {
   "cell_type": "code",
   "execution_count": 60,
   "id": "e8f29b82",
   "metadata": {},
   "outputs": [
    {
     "name": "stdout",
     "output_type": "stream",
     "text": [
      "5\n",
      "1\n",
      "1\n",
      "2\n",
      "2\n",
      "3\n"
     ]
    },
    {
     "data": {
      "text/plain": [
       "2"
      ]
     },
     "execution_count": 60,
     "metadata": {},
     "output_type": "execute_result"
    }
   ],
   "source": [
    "from collections import Counter\n",
    "\n",
    "n = int(input())\n",
    "num = sorted([int(input()) for _ in range(n)])\n",
    "tmp = Counter(num)\n",
    "tmp.most_common(2)[1][0]"
   ]
  },
  {
   "cell_type": "code",
   "execution_count": 71,
   "id": "2de39ec0",
   "metadata": {},
   "outputs": [
    {
     "ename": "ValueError",
     "evalue": "invalid literal for int() with base 10: ''",
     "output_type": "error",
     "traceback": [
      "\u001b[0;31m---------------------------------------------------------------------------\u001b[0m",
      "\u001b[0;31mValueError\u001b[0m                                Traceback (most recent call last)",
      "Input \u001b[0;32mIn [71]\u001b[0m, in \u001b[0;36m<cell line: 5>\u001b[0;34m()\u001b[0m\n\u001b[1;32m      2\u001b[0m \u001b[38;5;28;01mfrom\u001b[39;00m \u001b[38;5;21;01msys\u001b[39;00m \u001b[38;5;28;01mimport\u001b[39;00m stdin\n\u001b[1;32m      4\u001b[0m \u001b[38;5;28minput\u001b[39m \u001b[38;5;241m=\u001b[39m stdin\u001b[38;5;241m.\u001b[39mreadline\n\u001b[0;32m----> 5\u001b[0m n \u001b[38;5;241m=\u001b[39m \u001b[38;5;28;43mint\u001b[39;49m\u001b[43m(\u001b[49m\u001b[38;5;28;43minput\u001b[39;49m\u001b[43m(\u001b[49m\u001b[43m)\u001b[49m\u001b[43m)\u001b[49m\n\u001b[1;32m      6\u001b[0m num \u001b[38;5;241m=\u001b[39m \u001b[38;5;28msorted\u001b[39m([\u001b[38;5;28mint\u001b[39m(\u001b[38;5;28minput\u001b[39m()) \u001b[38;5;28;01mfor\u001b[39;00m _ \u001b[38;5;129;01min\u001b[39;00m \u001b[38;5;28mrange\u001b[39m(n)])\n\u001b[1;32m      8\u001b[0m \u001b[38;5;66;03m# print(round(sum(num)/len(num))) # 평균\u001b[39;00m\n\u001b[1;32m      9\u001b[0m \u001b[38;5;66;03m# print(num[n//2]) # 중앙값\u001b[39;00m\n",
      "\u001b[0;31mValueError\u001b[0m: invalid literal for int() with base 10: ''"
     ]
    }
   ],
   "source": [
    "from collections import Counter\n",
    "from sys import stdin\n",
    "\n",
    "input = stdin.readline\n",
    "n = int(input())\n",
    "num = sorted([int(input()) for _ in range(n)])\n",
    "\n",
    "# print(round(sum(num)/len(num))) # 평균\n",
    "# print(num[n//2]) # 중앙값\n",
    "tmp = Counter(num)\n",
    "print(tmp.items())\n",
    "print(tmp.most_common(2)[1][0])\n",
    "\n",
    "# print(max(num) - min(num)) # 범위"
   ]
  },
  {
   "cell_type": "code",
   "execution_count": 65,
   "id": "fbb7fa16",
   "metadata": {},
   "outputs": [],
   "source": [
    "sorted?"
   ]
  },
  {
   "cell_type": "code",
   "execution_count": 69,
   "id": "51688c48",
   "metadata": {},
   "outputs": [
    {
     "data": {
      "text/plain": [
       "[(1, 3), (1, 5), (4, 8), (12, 23)]"
      ]
     },
     "execution_count": 69,
     "metadata": {},
     "output_type": "execute_result"
    }
   ],
   "source": [
    "def mod(x):\n",
    "    return x % 10\n",
    "\n",
    "def sign(x):\n",
    "    \n",
    "\n",
    "sorted([(12, 23), (1, 3), (4, 8), (1, 5)], key=mod)\n",
    "sorted([(12, 23), (1, 3), (4, 8), (1, 5)], key=lambda x: (x[0], -x[1]))\n"
   ]
  },
  {
   "cell_type": "code",
   "execution_count": null,
   "id": "5be60e79",
   "metadata": {},
   "outputs": [],
   "source": []
  }
 ],
 "metadata": {
  "kernelspec": {
   "display_name": "Python 3 (ipykernel)",
   "language": "python",
   "name": "python3"
  },
  "language_info": {
   "codemirror_mode": {
    "name": "ipython",
    "version": 3
   },
   "file_extension": ".py",
   "mimetype": "text/x-python",
   "name": "python",
   "nbconvert_exporter": "python",
   "pygments_lexer": "ipython3",
   "version": "3.10.3"
  }
 },
 "nbformat": 4,
 "nbformat_minor": 5
}
