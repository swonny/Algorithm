{
 "cells": [
  {
   "cell_type": "markdown",
   "id": "f73cfc17",
   "metadata": {},
   "source": [
    "# 그리디"
   ]
  },
  {
   "cell_type": "markdown",
   "id": "dc608f93",
   "metadata": {},
   "source": [
    "### 동전0"
   ]
  },
  {
   "cell_type": "code",
   "execution_count": 5,
   "id": "caf35387",
   "metadata": {},
   "outputs": [
    {
     "name": "stdout",
     "output_type": "stream",
     "text": [
      "1\n"
     ]
    },
    {
     "ename": "ValueError",
     "evalue": "not enough values to unpack (expected 2, got 1)",
     "output_type": "error",
     "traceback": [
      "\u001b[0;31m---------------------------------------------------------------------------\u001b[0m",
      "\u001b[0;31mValueError\u001b[0m                                Traceback (most recent call last)",
      "Input \u001b[0;32mIn [5]\u001b[0m, in \u001b[0;36m<cell line: 1>\u001b[0;34m()\u001b[0m\n\u001b[0;32m----> 1\u001b[0m n, k \u001b[38;5;241m=\u001b[39m \u001b[38;5;28mmap\u001b[39m(\u001b[38;5;28mint\u001b[39m, \u001b[38;5;28minput\u001b[39m())\n\u001b[1;32m      2\u001b[0m coins \u001b[38;5;241m=\u001b[39m [\u001b[38;5;28mint\u001b[39m(\u001b[38;5;28minput\u001b[39m()) \u001b[38;5;28;01mfor\u001b[39;00m _ \u001b[38;5;129;01min\u001b[39;00m \u001b[38;5;28mrange\u001b[39m(n)]\n\u001b[1;32m      3\u001b[0m coins \u001b[38;5;241m=\u001b[39m coins[::\u001b[38;5;241m-\u001b[39m\u001b[38;5;241m1\u001b[39m]\n",
      "\u001b[0;31mValueError\u001b[0m: not enough values to unpack (expected 2, got 1)"
     ]
    }
   ],
   "source": [
    "n, k = map(int, input())\n",
    "coins = [int(input()) for _ in range(n)]\n",
    "coins = coins[::-1]\n",
    "count = 0\n",
    "for coin in coins:\n",
    "    if coin > k:\n",
    "        continue\n",
    "    count += (k // coin)\n",
    "    k %=coin\n",
    "    \n",
    "print(count)"
   ]
  },
  {
   "cell_type": "markdown",
   "id": "5062ab84",
   "metadata": {},
   "source": [
    "### 11399 ATM"
   ]
  },
  {
   "cell_type": "markdown",
   "id": "0870c3ec",
   "metadata": {},
   "source": [
    " P1 = 3, P2 = 1, P3 = 4 P4 = 3, P5 = 2 \n",
    " [1, 2, 3, 4, 5] \n",
    " \n",
    " [2, 5, 1, 4, 3] \n",
    " \n",
    " 1 = 1\n",
    " 1 + 2 = 3\n",
    " 1 + 2 + 3 = 6\n",
    " 1 + 2 + 3 + 3 = 9\n",
    " 1 + 2 + 3 + 3 + 4 = 13\n",
    " \n",
    " 최소값이 되려면, 작은 수부터 돈을 인출하면 됨\n",
    " \n",
    " 1 2 3 4 5"
   ]
  },
  {
   "cell_type": "code",
   "execution_count": 17,
   "id": "cc626327",
   "metadata": {},
   "outputs": [
    {
     "name": "stdout",
     "output_type": "stream",
     "text": [
      "5\n",
      "3 1 4 3 2\n",
      "32\n"
     ]
    }
   ],
   "source": [
    "n = int(input())\n",
    "waitings = list(map(int, input().split()))\n",
    "waitings.sort()\n",
    "\n",
    "tmp = 0\n",
    "total = 0\n",
    "for waiting in waitings:\n",
    "    tmp += waiting\n",
    "    total += tmp\n",
    "print(total)"
   ]
  },
  {
   "cell_type": "markdown",
   "id": "45a51410",
   "metadata": {},
   "source": [
    "### 회의실 배정"
   ]
  },
  {
   "cell_type": "markdown",
   "id": "e2d4f187",
   "metadata": {},
   "source": [
    "회의 시간이 가장 작은 회의들 중 시간 내에 사용 가능한 개수 세기\n",
    "\n",
    "겹치지 않으면서 최대로 사용하기\n",
    "\n",
    "1. 시작 시간 기준으로 sorting, \n",
    "2. 첫 번째 원소를 임의의 사용 회의로 지정 후 s, e 범위 내에 있으면서 더 적은 회의 시간을 만날 때 바꾸기, 이때 개수는 카운트하지 않음\n",
    "3. 만약 s가 e 이상인 경우에는 s, e 바꾸고 개수 세기."
   ]
  },
  {
   "cell_type": "code",
   "execution_count": 19,
   "id": "e4618547",
   "metadata": {},
   "outputs": [
    {
     "name": "stdout",
     "output_type": "stream",
     "text": [
      "1\n",
      "1\n"
     ]
    },
    {
     "ename": "IndexError",
     "evalue": "tuple index out of range",
     "output_type": "error",
     "traceback": [
      "\u001b[0;31m---------------------------------------------------------------------------\u001b[0m",
      "\u001b[0;31mIndexError\u001b[0m                                Traceback (most recent call last)",
      "Input \u001b[0;32mIn [19]\u001b[0m, in \u001b[0;36m<cell line: 5>\u001b[0;34m()\u001b[0m\n\u001b[1;32m      2\u001b[0m meetings \u001b[38;5;241m=\u001b[39m [\u001b[38;5;28mtuple\u001b[39m(\u001b[38;5;28mmap\u001b[39m(\u001b[38;5;28mint\u001b[39m, \u001b[38;5;28minput\u001b[39m()\u001b[38;5;241m.\u001b[39msplit())) \u001b[38;5;28;01mfor\u001b[39;00m _ \u001b[38;5;129;01min\u001b[39;00m \u001b[38;5;28mrange\u001b[39m(n)]\n\u001b[1;32m      3\u001b[0m meetings \u001b[38;5;241m=\u001b[39m \u001b[38;5;28msorted\u001b[39m(meetings)\n\u001b[0;32m----> 5\u001b[0m s, e, t \u001b[38;5;241m=\u001b[39m meetings[\u001b[38;5;241m0\u001b[39m][\u001b[38;5;241m0\u001b[39m], \u001b[43mmeetings\u001b[49m\u001b[43m[\u001b[49m\u001b[38;5;241;43m0\u001b[39;49m\u001b[43m]\u001b[49m\u001b[43m[\u001b[49m\u001b[38;5;241;43m1\u001b[39;49m\u001b[43m]\u001b[49m, meetings[\u001b[38;5;241m0\u001b[39m][\u001b[38;5;241m1\u001b[39m] \u001b[38;5;241m-\u001b[39m meetings[\u001b[38;5;241m0\u001b[39m][\u001b[38;5;241m0\u001b[39m]\n\u001b[1;32m      6\u001b[0m count \u001b[38;5;241m=\u001b[39m \u001b[38;5;241m0\u001b[39m\n\u001b[1;32m      7\u001b[0m \u001b[38;5;28;01mfor\u001b[39;00m meeting \u001b[38;5;129;01min\u001b[39;00m meetings:\n",
      "\u001b[0;31mIndexError\u001b[0m: tuple index out of range"
     ]
    }
   ],
   "source": [
    "n = int(input())\n",
    "meetings = [tuple(map(int, input().split())) for _ in range(n)]\n",
    "meetings = sorted(meetings)\n",
    "\n",
    "s, e, t = meetings[0][0], meetings[0][1], meetings[0][1] - meetings[0][0]\n",
    "count = 0\n",
    "for meeting in meetings:\n",
    "    if meeting[0] >= s and meeting[1] <= e and meeting[1] - meeting[0] < t:\n",
    "        s = meeting[0]\n",
    "        e = meeting[1]\n",
    "        t = meeting[1] - meeting[0]\n",
    "    elif meeting[0] > e:\n",
    "        s = meeting[0]\n",
    "        e = meeting[1]\n",
    "        t = meeting[1] - meeting[0]\n",
    "        count += 1\n",
    "        \n",
    "print(count)"
   ]
  },
  {
   "cell_type": "code",
   "execution_count": null,
   "id": "5ef7b5fb",
   "metadata": {},
   "outputs": [],
   "source": []
  }
 ],
 "metadata": {
  "kernelspec": {
   "display_name": "Python 3 (ipykernel)",
   "language": "python",
   "name": "python3"
  },
  "language_info": {
   "codemirror_mode": {
    "name": "ipython",
    "version": 3
   },
   "file_extension": ".py",
   "mimetype": "text/x-python",
   "name": "python",
   "nbconvert_exporter": "python",
   "pygments_lexer": "ipython3",
   "version": "3.10.3"
  }
 },
 "nbformat": 4,
 "nbformat_minor": 5
}
