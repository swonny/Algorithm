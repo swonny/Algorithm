{
 "cells": [
  {
   "cell_type": "markdown",
   "id": "74b46e85",
   "metadata": {},
   "source": [
    "# 문자열"
   ]
  },
  {
   "cell_type": "markdown",
   "id": "cda60f09",
   "metadata": {},
   "source": [
    "### 5622 다이얼"
   ]
  },
  {
   "cell_type": "code",
   "execution_count": 2,
   "id": "63db45bc",
   "metadata": {},
   "outputs": [
    {
     "name": "stdout",
     "output_type": "stream",
     "text": [
      "UNUCIC\n",
      "36\n"
     ]
    }
   ],
   "source": [
    "alp = ['ABC', 'DEF', 'GHI', 'JKL', 'MNO', 'PQRS', 'TUV', 'WXYZ']\n",
    "n = input()\n",
    "cnt = 0\n",
    "for i in range(len(n)):\n",
    "    for j in alp:\n",
    "        if n[i] in j:\n",
    "            cnt += alp.index(j) + 3\n",
    "\n",
    "print(cnt)"
   ]
  },
  {
   "cell_type": "markdown",
   "id": "d3437607",
   "metadata": {},
   "source": [
    "### 11720 숫자의 합"
   ]
  },
  {
   "cell_type": "code",
   "execution_count": 9,
   "id": "a5681d21",
   "metadata": {},
   "outputs": [
    {
     "name": "stdout",
     "output_type": "stream",
     "text": [
      "11\n",
      "10987654321\n",
      "46\n"
     ]
    }
   ],
   "source": [
    "N = int(input())\n",
    "n = list(map(int, input()))\n",
    "print(sum(n))"
   ]
  },
  {
   "cell_type": "markdown",
   "id": "97ee5c41",
   "metadata": {},
   "source": [
    "### 10809 알파벳 찾기"
   ]
  },
  {
   "cell_type": "code",
   "execution_count": 11,
   "id": "84ab4262",
   "metadata": {},
   "outputs": [
    {
     "name": "stdout",
     "output_type": "stream",
     "text": [
      "baekjoon\n",
      "1 0 -1 -1 2 -1 -1 -1 -1 4 3 -1 -1 7 5 -1 -1 -1 -1 -1 -1 -1 -1 -1 -1 -1 "
     ]
    }
   ],
   "source": [
    "s = input()\n",
    "alp = 'abcdefghijklmnopqrstuvwxyz'\n",
    "for a in alp:\n",
    "    print(s.find(a), end=' ')"
   ]
  },
  {
   "cell_type": "markdown",
   "id": "5fea3899",
   "metadata": {},
   "source": [
    "### 2941 크로아티아어 알파벳"
   ]
  },
  {
   "cell_type": "markdown",
   "id": "10d7e0d4",
   "metadata": {},
   "source": [
    "1. 이중루프 돌려야함 (문자열 처음부터 끝까지 & 크로아티아 알파벳 처음부터 끝까지)\n",
    "2. 중간에 삭제하고 개수를 세면 앞,뒤가 합쳐져 새로운 문자를 만듦 따라서 문자열 스캔시 개수도 세야함\n",
    "3. 같은 거 발견했을 때 인덱스 조정 필요"
   ]
  },
  {
   "cell_type": "code",
   "execution_count": 178,
   "id": "5936109e",
   "metadata": {},
   "outputs": [
    {
     "name": "stdout",
     "output_type": "stream",
     "text": [
      "dz=ak\n",
      "3\n"
     ]
    }
   ],
   "source": [
    "cro = ['c=', 'c-', 'dz=', 'd-', 'lj', 'nj', 's=', 'z=']\n",
    "string = input()\n",
    "i = 0\n",
    "cnt = 0\n",
    "\n",
    "while i < len(string):\n",
    "    flag = True\n",
    "    for c in cro:\n",
    "        if string[i:].find(c) == 0:\n",
    "            i += len(c)\n",
    "            cnt += 1\n",
    "            flag = False\n",
    "            break\n",
    "    if flag:\n",
    "        i += 1\n",
    "        cnt += 1\n",
    "    \n",
    "print(cnt)"
   ]
  },
  {
   "cell_type": "code",
   "execution_count": 193,
   "id": "b3a0fe7d",
   "metadata": {
    "scrolled": true
   },
   "outputs": [
    {
     "name": "stdout",
     "output_type": "stream",
     "text": [
      "dz=ak\n",
      "3\n"
     ]
    }
   ],
   "source": [
    "cro = ['c=', 'c-', 'dz=', 'd-', 'lj', 'nj', 's=', 'z=']\n",
    "string = input()\n",
    "\n",
    "for c in cro:\n",
    "    string = string.replace(c, '*')\n",
    "\n",
    "print(len(string))"
   ]
  },
  {
   "cell_type": "markdown",
   "id": "3755988e",
   "metadata": {},
   "source": [
    "### 1316 그룹단어체커"
   ]
  },
  {
   "cell_type": "markdown",
   "id": "4425258d",
   "metadata": {},
   "source": [
    "단어가 연속해서 있거나, 하나만 있으면 ok.\n",
    "\n",
    "1. 알파벳 개수를 count\n",
    "2. 현재 인덱스 + count 에 해당하는 인덱스부터 1번 알파벳 find() 결과가 0보다 작으면 break\n",
    "    아니면 count += 1\n",
    "\n",
    "1. 처음 알파벳이 나오면 new에 삽입\n",
    "\n",
    "prev 알파벳을 저장, & idx를 하나씩 올리면서 찾아, 만약 prev와 다른 알파벳이 나오면 s.find(prev) 음수가 아니면 break\n",
    "음수이면 cnt += 1"
   ]
  },
  {
   "cell_type": "code",
   "execution_count": 220,
   "id": "a93df24a",
   "metadata": {},
   "outputs": [
    {
     "name": "stdout",
     "output_type": "stream",
     "text": [
      "4\n",
      "hello\n",
      "bye\n",
      "llll\n",
      "youo\n",
      "3\n"
     ]
    }
   ],
   "source": [
    "n = int(input())\n",
    "strings = [input() for _ in range(n)]\n",
    "cnt = 0\n",
    "for s in strings:\n",
    "    prev = s[0]\n",
    "    i = 1\n",
    "    flag = False\n",
    "    while i < len(s):\n",
    "        if prev != s[i]:\n",
    "            if s[i:].find(prev) >= 0:\n",
    "                flag = True\n",
    "                break\n",
    "            else:\n",
    "                prev = s[i]\n",
    "        i += 1\n",
    "    if not flag:\n",
    "        cnt += 1\n",
    "\n",
    "print(cnt)"
   ]
  },
  {
   "cell_type": "code",
   "execution_count": null,
   "id": "a7c86c24",
   "metadata": {},
   "outputs": [],
   "source": [
    "n = int(input())\n",
    "cnt = 0\n",
    "for _ in range(n):\n",
    "    s = input()\n",
    "    prev = s[0]\n",
    "    flag = False\n",
    "    for i in range(len(s)):\n",
    "        if prev != s[i]:\n",
    "            if s.find(prev, i) >= 0:\n",
    "                flag = True\n",
    "                break\n",
    "            else:\n",
    "                prev = s[i]\n",
    "        i += 1\n",
    "    if not flag:\n",
    "        cnt += 1\n",
    "\n",
    "print(cnt)"
   ]
  },
  {
   "cell_type": "markdown",
   "id": "14775021",
   "metadata": {},
   "source": [
    "나는 이전의 문자와 비교하여 이전의 문자와 다를 경우 이후의 문자열보다 뒤에있는 문자 중 이전의 문자와 같은 문자가 있으면 break\n",
    "\n",
    "여기서는 sorted를 사용하여 만약 정렬한 문자열이 정렬하기 전 문자열과 같으면 count++ 했다.... "
   ]
  },
  {
   "cell_type": "code",
   "execution_count": null,
   "id": "8043dd40",
   "metadata": {},
   "outputs": [],
   "source": []
  }
 ],
 "metadata": {
  "kernelspec": {
   "display_name": "Python 3 (ipykernel)",
   "language": "python",
   "name": "python3"
  },
  "language_info": {
   "codemirror_mode": {
    "name": "ipython",
    "version": 3
   },
   "file_extension": ".py",
   "mimetype": "text/x-python",
   "name": "python",
   "nbconvert_exporter": "python",
   "pygments_lexer": "ipython3",
   "version": "3.10.3"
  }
 },
 "nbformat": 4,
 "nbformat_minor": 5
}
