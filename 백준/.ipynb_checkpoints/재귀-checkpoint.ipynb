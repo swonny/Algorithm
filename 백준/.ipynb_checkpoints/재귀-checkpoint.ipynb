{
 "cells": [
  {
   "cell_type": "markdown",
   "id": "1a19f357",
   "metadata": {},
   "source": [
    "# 재귀"
   ]
  },
  {
   "cell_type": "markdown",
   "id": "b6b7f50f",
   "metadata": {},
   "source": [
    "### 17478 재귀함수가 뭔가요?"
   ]
  },
  {
   "cell_type": "code",
   "execution_count": 31,
   "id": "95b1c398",
   "metadata": {
    "scrolled": true
   },
   "outputs": [
    {
     "name": "stdout",
     "output_type": "stream",
     "text": [
      "2\n",
      "어느 한 컴퓨터공학과 학생이 유명한 교수님을 찾아가 물었다.\n",
      "\"재귀함수가 뭔가요?\"\n",
      "\"잘 들어보게. 옛날옛날 한 산 꼭대기에 이세상 모든 지식을 통달한 선인이 있었어.\n",
      "마을 사람들은 모두 그 선인에게 수많은 질문을 했고, 모두 지혜롭게 대답해 주었지.\n",
      "그의 답은 대부분 옳았다고 하네. 그런데 어느 날, 그 선인에게 한 선비가 찾아와서 물었어.\"\n",
      "____\"재귀함수가 뭔가요?\"\n",
      "____\"잘 들어보게. 옛날옛날 한 산 꼭대기에 이세상 모든 지식을 통달한 선인이 있었어.\n",
      "____마을 사람들은 모두 그 선인에게 수많은 질문을 했고, 모두 지혜롭게 대답해 주었지.\n",
      "____그의 답은 대부분 옳았다고 하네. 그런데 어느 날, 그 선인에게 한 선비가 찾아와서 물었어.\"\n",
      "________\"재귀함수가 뭔가요?\"\n",
      "________\"재귀함수는 자기 자신을 호출하는 함수라네\"\n",
      "________라고 답변하였지.\n",
      "____라고 답변하였지.\n",
      "라고 답변하였지.\n"
     ]
    }
   ],
   "source": [
    "n = int(input())\n",
    "\n",
    "def recur(n, underbar):\n",
    "    underStr = '____'*underbar\n",
    "    print(underStr + '\"재귀함수가 뭔가요?\"')\n",
    "    if n < 1:\n",
    "        print(underStr + '\"재귀함수는 자기 자신을 호출하는 함수라네\"')\n",
    "        print(underStr + '라고 답변하였지.')\n",
    "        return\n",
    "    print(underStr + '\"잘 들어보게. 옛날옛날 한 산 꼭대기에 이세상 모든 지식을 통달한 선인이 있었어.')\n",
    "    print(underStr + '마을 사람들은 모두 그 선인에게 수많은 질문을 했고, 모두 지혜롭게 대답해 주었지.')\n",
    "    print(underStr + '그의 답은 대부분 옳았다고 하네. 그런데 어느 날, 그 선인에게 한 선비가 찾아와서 물었어.\"')\n",
    "    recur(n-1, underbar + 1)\n",
    "    print(underStr + '라고 답변하였지.')\n",
    "    \n",
    "\n",
    "print('어느 한 컴퓨터공학과 학생이 유명한 교수님을 찾아가 물었다.')\n",
    "recur(n, 0)"
   ]
  },
  {
   "cell_type": "markdown",
   "id": "09f52f2a",
   "metadata": {},
   "source": [
    "### 11729 하노이 탑 이동 순서"
   ]
  },
  {
   "cell_type": "code",
   "execution_count": 32,
   "id": "40422e4a",
   "metadata": {
    "scrolled": true
   },
   "outputs": [
    {
     "name": "stdout",
     "output_type": "stream",
     "text": [
      "3\n",
      "7\n",
      "1 3\n",
      "1 2\n",
      "3 2\n",
      "1 3\n",
      "2 1\n",
      "2 3\n",
      "1 3\n",
      "\n"
     ]
    }
   ],
   "source": [
    "n = int(input())\n",
    "res = []\n",
    "cnt = [0]\n",
    "\n",
    "def hanoi(n, s, d, cnt, res):\n",
    "    cnt[0] += 1\n",
    "    if n > 1:\n",
    "        hanoi(n-1, s, 6 - s - d, cnt, res)\n",
    "        \n",
    "    res.append(f'{s} {d}\\n')\n",
    "    \n",
    "    if n > 1:\n",
    "        hanoi(n-1, 6 - s - d, d, cnt, res)\n",
    "\n",
    "hanoi(n, 1, 3, cnt, res)\n",
    "print(''.join(map(str, cnt)))\n",
    "print(''.join(res))"
   ]
  },
  {
   "cell_type": "markdown",
   "id": "987f1e88",
   "metadata": {},
   "source": [
    "### 10872 팩토리얼"
   ]
  },
  {
   "cell_type": "code",
   "execution_count": 141,
   "id": "22b309a1",
   "metadata": {
    "scrolled": true
   },
   "outputs": [
    {
     "name": "stdout",
     "output_type": "stream",
     "text": [
      "5\n",
      "120\n"
     ]
    }
   ],
   "source": [
    "n = int(input())\n",
    "res = 1\n",
    "\n",
    "for n in range(1, n+1):\n",
    "    res = res * n\n",
    "\n",
    "print(res)"
   ]
  },
  {
   "cell_type": "markdown",
   "id": "07bdac9b",
   "metadata": {},
   "source": [
    "### 10870 피보나치 수 5"
   ]
  },
  {
   "cell_type": "code",
   "execution_count": 194,
   "id": "3f3721a5",
   "metadata": {},
   "outputs": [
    {
     "name": "stdout",
     "output_type": "stream",
     "text": [
      "1\n",
      "1\n"
     ]
    }
   ],
   "source": [
    "n = int(input())\n",
    "n1 = 0\n",
    "n2 = 1\n",
    "\n",
    "for _ in range(n-1):\n",
    "    tmp = n2\n",
    "    n2 = n1 + n2\n",
    "    n1 = tmp\n",
    "    \n",
    "print(0 if n == 0 else n2)"
   ]
  },
  {
   "cell_type": "code",
   "execution_count": 207,
   "id": "3183f618",
   "metadata": {},
   "outputs": [
    {
     "name": "stdout",
     "output_type": "stream",
     "text": [
      "5\n",
      "5\n"
     ]
    }
   ],
   "source": [
    "# 10870 피보나치 수 5 - 개선\n",
    "\n",
    "def fibo(n):\n",
    "    if n < 2:\n",
    "        return n\n",
    "    n1 = 0\n",
    "    n2 = 1\n",
    "\n",
    "    for _ in range(n-1):\n",
    "        n1, n2 = n2, n1 + n2\n",
    "    return n2\n",
    "\n",
    "print(fibo(int(input())))"
   ]
  },
  {
   "cell_type": "markdown",
   "id": "a94feef0",
   "metadata": {},
   "source": [
    "### 2447 별찍기 - 10"
   ]
  },
  {
   "cell_type": "code",
   "execution_count": 80,
   "id": "b54f8991",
   "metadata": {
    "scrolled": true
   },
   "outputs": [
    {
     "name": "stdout",
     "output_type": "stream",
     "text": [
      "9\n"
     ]
    },
    {
     "data": {
      "text/plain": [
       "'***\\n* *\\n***\\n'"
      ]
     },
     "execution_count": 80,
     "metadata": {},
     "output_type": "execute_result"
    }
   ],
   "source": [
    "N = int(input())\n",
    "\n",
    "def recur(n):\n",
    "    if n == 3:\n",
    "        pattern = '***\\n* *\\n***\\n'\n",
    "        return pattern\n",
    "    newPattern = recur(n / 3)\n",
    "    pattern = newPattern * 3 + '\\n' + newPattern + '' + newPattern + '\\n' + newPattern * 3 + '\\n'\n",
    "    print(pattern)\n",
    "\n",
    "recur(n)"
   ]
  },
  {
   "cell_type": "code",
   "execution_count": 429,
   "id": "e276a646",
   "metadata": {
    "scrolled": true
   },
   "outputs": [
    {
     "name": "stdout",
     "output_type": "stream",
     "text": [
      "3\n"
     ]
    },
    {
     "ename": "TypeError",
     "evalue": "can only concatenate str (not \"list\") to str",
     "output_type": "error",
     "traceback": [
      "\u001b[0;31m---------------------------------------------------------------------------\u001b[0m",
      "\u001b[0;31mTypeError\u001b[0m                                 Traceback (most recent call last)",
      "Input \u001b[0;32mIn [429]\u001b[0m, in \u001b[0;36m<cell line: 24>\u001b[0;34m()\u001b[0m\n\u001b[1;32m     21\u001b[0m \u001b[38;5;66;03m#     return ''.join(pattern)\u001b[39;00m\n\u001b[1;32m     23\u001b[0m N \u001b[38;5;241m=\u001b[39m \u001b[38;5;28mint\u001b[39m(\u001b[38;5;28minput\u001b[39m())\n\u001b[0;32m---> 24\u001b[0m stars \u001b[38;5;241m=\u001b[39m \u001b[43mrecur\u001b[49m\u001b[43m(\u001b[49m\u001b[43mN\u001b[49m\u001b[43m)\u001b[49m\n",
      "Input \u001b[0;32mIn [429]\u001b[0m, in \u001b[0;36mrecur\u001b[0;34m(n)\u001b[0m\n\u001b[1;32m     15\u001b[0m blank \u001b[38;5;241m=\u001b[39m \u001b[38;5;124m'\u001b[39m\u001b[38;5;130;01m\\n\u001b[39;00m\u001b[38;5;124m'\u001b[39m\u001b[38;5;241m.\u001b[39mjoin(blank)\n\u001b[1;32m     16\u001b[0m enter \u001b[38;5;241m=\u001b[39m [\u001b[38;5;124m'\u001b[39m\u001b[38;5;130;01m\\n\u001b[39;00m\u001b[38;5;124m'\u001b[39m]\n\u001b[0;32m---> 18\u001b[0m pattern \u001b[38;5;241m=\u001b[39m \u001b[43mnewPattern\u001b[49m\u001b[43m \u001b[49m\u001b[38;5;241;43m*\u001b[39;49m\u001b[43m \u001b[49m\u001b[38;5;241;43m3\u001b[39;49m\u001b[43m \u001b[49m\u001b[38;5;241;43m+\u001b[39;49m\u001b[43m \u001b[49m\u001b[43menter\u001b[49m \u001b[38;5;241m+\u001b[39m newPattern \u001b[38;5;241m+\u001b[39m blank \u001b[38;5;241m+\u001b[39m newPattern \u001b[38;5;241m+\u001b[39m enter \u001b[38;5;241m+\u001b[39m newPattern \u001b[38;5;241m*\u001b[39m \u001b[38;5;241m3\u001b[39m\n\u001b[1;32m     19\u001b[0m \u001b[38;5;28mprint\u001b[39m(pattern)\n",
      "\u001b[0;31mTypeError\u001b[0m: can only concatenate str (not \"list\") to str"
     ]
    }
   ],
   "source": [
    "from copy import deepcopy\n",
    "\n",
    "def recur(n):\n",
    "    if n == 1:\n",
    "        stars = '*'\n",
    "        \n",
    "        return stars\n",
    "    \n",
    "    newPattern = recur(n // 3)\n",
    "    newPattern = deepcopy(newPattern)\n",
    "#     if n // 3 == 0:\n",
    "#         blank = ' '\n",
    "#     else:\n",
    "    blank = ['b' * (n //3)]*(n //3)\n",
    "    blank = '\\n'.join(blank)\n",
    "    enter = ['\\n']\n",
    "\n",
    "    pattern = newPattern * 3 + enter + newPattern + blank + newPattern + enter + newPattern * 3\n",
    "    print(pattern)\n",
    "    \n",
    "#     return ''.join(pattern)\n",
    "\n",
    "N = int(input())\n",
    "stars = recur(N)\n",
    "# print(stars)\n",
    "# print(''.join(stars[0]), '\\n', ''.join(stars[1]), '\\n', ''.join(stars[2]))"
   ]
  },
  {
   "cell_type": "code",
   "execution_count": 717,
   "id": "f9c7fda3",
   "metadata": {},
   "outputs": [
    {
     "name": "stdout",
     "output_type": "stream",
     "text": [
      "*********\n",
      "* ** ** *\n",
      "*********\n",
      "***   ***\n",
      "* *   * *\n",
      "***   ***\n",
      "*********\n",
      "* ** ** *\n",
      "*********\n"
     ]
    }
   ],
   "source": [
    "# 별 출력 성공 코드\n",
    "\n",
    "from copy import deepcopy\n",
    "\n",
    "star = ['*']\n",
    "n = 3\n",
    "b = [' ' * (n//3)]*(n//3)\n",
    "\n",
    "\n",
    "blank = [' ' * (9//3)]\n",
    "\n",
    "\n",
    "stars = [star * 3] + [star + b + star] + [star * 3]\n",
    "\n",
    "newPattern = deepcopy(stars)\n",
    "newPattern[0] = newPattern[0] + blank + newPattern[0]\n",
    "newPattern[1] = newPattern[1] + blank + newPattern[1]\n",
    "newPattern[2] = newPattern[2] + blank + newPattern[2]\n",
    "\n",
    "firstRow = deepcopy(stars[0])\n",
    "secondRow = deepcopy(stars[1])\n",
    "newP = []\n",
    "newP.append(firstRow * 3)\n",
    "newP.append(secondRow * 3)\n",
    "newP.append(firstRow * 3)\n",
    "res = []\n",
    "res.append(newP)\n",
    "res.append(newPattern)\n",
    "res.append(newP)\n",
    "\n",
    "for j in range(len(res)):\n",
    "    for i in range(len(res[j])):\n",
    "        print(''.join(res[j][i]), end='\\n')\n",
    "    \n"
   ]
  },
  {
   "cell_type": "code",
   "execution_count": 731,
   "id": "696dbdad",
   "metadata": {},
   "outputs": [
    {
     "name": "stdout",
     "output_type": "stream",
     "text": [
      "3\n",
      "***\n",
      "***\n",
      "***\n",
      "*\n",
      " \n",
      "*\n",
      "***\n",
      "***\n",
      "***\n",
      "[['***', ['*', '*', '*'], '***'], ['*', ' ', '*'], ['***', ['*', '*', '*'], '***']]\n"
     ]
    }
   ],
   "source": [
    "from copy import deepcopy\n",
    "\n",
    "def recur(n):\n",
    "    if n == 1:\n",
    "        star = ['*']\n",
    "        return star\n",
    "    \n",
    "    stars = recur(n // 3)\n",
    "\n",
    "    # 새로운 직사각형을 둘러싸는 첫 번째, 두 번째 줄\n",
    "    firstRow = deepcopy(stars[0])\n",
    "    secondRow = deepcopy(stars[1]) if len(stars) > 1 else deepcopy(stars)\n",
    "        \n",
    "    newP = []\n",
    "    newP.append(firstRow * 3)\n",
    "#     newP.append(secondRow * 3)\n",
    "    newP.append(firstRow * 3)\n",
    "    \n",
    "    # blank를 포함하는 row\n",
    "    blank = [' ' * (n//3)]\n",
    "\n",
    "    newPattern = deepcopy(stars)\n",
    "    if len(newPattern) > 1:\n",
    "        newPattern[0] = newPattern[0] + blank + newPattern[0]\n",
    "        newPattern[1] = newPattern[1] + blank + newPattern[1]\n",
    "        newPattern[2] = newPattern[2] + blank + newPattern[2]\n",
    "    else:\n",
    "        newPattern = newPattern + blank + newPattern\n",
    "\n",
    "    res = []\n",
    "    res.append(newP)\n",
    "    res.append(newPattern)\n",
    "    res.append(newP)\n",
    "    \n",
    "    for j in range(len(res)):\n",
    "        for i in range(len(res[j])):\n",
    "            print(''.join(res[j][i]), end='\\n')\n",
    "    return res\n",
    "    \n",
    "\n",
    "N = int(input())\n",
    "stars = recur(N)\n",
    "\n",
    "print(stars)"
   ]
  },
  {
   "cell_type": "code",
   "execution_count": 739,
   "id": "718afdf0",
   "metadata": {
    "scrolled": false
   },
   "outputs": [
    {
     "name": "stdout",
     "output_type": "stream",
     "text": [
      "27\n",
      "***************************\n",
      "* ** ** ** ** ** ** ** ** *\n",
      "***************************\n",
      "***   ******   ******   ***\n",
      "* *   * ** *   * ** *   * *\n",
      "***   ******   ******   ***\n",
      "***************************\n",
      "* ** ** ** ** ** ** ** ** *\n",
      "***************************\n",
      "*********         *********\n",
      "* ** ** *         * ** ** *\n",
      "*********         *********\n",
      "***   ***         ***   ***\n",
      "* *   * *         * *   * *\n",
      "***   ***         ***   ***\n",
      "*********         *********\n",
      "* ** ** *         * ** ** *\n",
      "*********         *********\n",
      "***************************\n",
      "* ** ** ** ** ** ** ** ** *\n",
      "***************************\n",
      "***   ******   ******   ***\n",
      "* *   * ** *   * ** *   * *\n",
      "***   ******   ******   ***\n",
      "***************************\n",
      "* ** ** ** ** ** ** ** ** *\n",
      "***************************\n"
     ]
    }
   ],
   "source": [
    "from copy import deepcopy\n",
    "\n",
    "def recur(n):\n",
    "    if n == 1:\n",
    "        star = ['*']\n",
    "        return star\n",
    "    \n",
    "    stars = recur(n // 3)\n",
    "    L = []\n",
    "    for star in stars:\n",
    "        L.append(star * 3)\n",
    "    for star in stars:\n",
    "        L.append(star + ' '*(n//3) + star)\n",
    "    for star in stars:\n",
    "        L.append(star * 3)\n",
    "    \n",
    "    return L\n",
    "    \n",
    "\n",
    "N = int(input())\n",
    "stars = recur(N)\n",
    "\n",
    "for i in range(len(stars)):\n",
    "    for j in range(len(stars[i])):\n",
    "        print(''.join(stars[i][j]), end='')\n",
    "    print()"
   ]
  }
 ],
 "metadata": {
  "kernelspec": {
   "display_name": "Python 3 (ipykernel)",
   "language": "python",
   "name": "python3"
  },
  "language_info": {
   "codemirror_mode": {
    "name": "ipython",
    "version": 3
   },
   "file_extension": ".py",
   "mimetype": "text/x-python",
   "name": "python",
   "nbconvert_exporter": "python",
   "pygments_lexer": "ipython3",
   "version": "3.10.3"
  }
 },
 "nbformat": 4,
 "nbformat_minor": 5
}
