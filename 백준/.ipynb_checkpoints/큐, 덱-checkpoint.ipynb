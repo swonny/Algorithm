{
 "cells": [
  {
   "cell_type": "markdown",
   "id": "66e56173",
   "metadata": {},
   "source": [
    "# 큐, 덱"
   ]
  },
  {
   "cell_type": "markdown",
   "id": "b353e919",
   "metadata": {},
   "source": [
    "### 18258 큐2"
   ]
  },
  {
   "cell_type": "code",
   "execution_count": 12,
   "id": "119a7f86",
   "metadata": {},
   "outputs": [
    {
     "name": "stdout",
     "output_type": "stream",
     "text": [
      "\n"
     ]
    }
   ],
   "source": [
    "from collections import deque\n",
    "from sys import stdin\n",
    "\n",
    "queue = deque([])\n",
    "\n",
    "N = stdin.readline().rstrip()\n",
    "\n",
    "for _ in range(int(N)):\n",
    "    tmp = stdin.readline().rstrip()\n",
    "    try:\n",
    "        com, val = tmp.split()\n",
    "    except ValueError:\n",
    "        com = tmp\n",
    "\n",
    "    if com == 'push':\n",
    "        queue.append(val)\n",
    "    \n",
    "    elif com == 'pop':\n",
    "        try:\n",
    "            print(queue.popleft())\n",
    "        except IndexError:\n",
    "            print(-1)\n",
    "    \n",
    "    elif com == 'size':\n",
    "        print(len(queue))\n",
    "    \n",
    "    elif com == 'empty':\n",
    "        if not queue:\n",
    "            print(1)\n",
    "            continue\n",
    "        print(0)\n",
    "    \n",
    "    elif com == 'front':\n",
    "        if not queue:\n",
    "            print(-1)\n",
    "            continue\n",
    "        print(queue[0])\n",
    "    \n",
    "    elif com == 'back':\n",
    "        if not queue:\n",
    "            print(-1)\n",
    "            continue\n",
    "        print(queue[len(queue) - 1])\n",
    "        "
   ]
  },
  {
   "cell_type": "markdown",
   "id": "1e47a2d5",
   "metadata": {},
   "source": [
    "### 2164 카드 2"
   ]
  },
  {
   "cell_type": "code",
   "execution_count": 14,
   "id": "3b448eef",
   "metadata": {},
   "outputs": [
    {
     "name": "stdout",
     "output_type": "stream",
     "text": [
      "6\n",
      "4\n"
     ]
    }
   ],
   "source": [
    "from collections import deque\n",
    "\n",
    "N = int(input())\n",
    "queue = deque([x for x in range(1, N + 1)])\n",
    "\n",
    "while len(queue) > 1:\n",
    "    queue.popleft()\n",
    "    tmp = queue.popleft()\n",
    "    queue.append(tmp)\n",
    "    \n",
    "print(queue[0])"
   ]
  },
  {
   "cell_type": "markdown",
   "id": "da44039b",
   "metadata": {},
   "source": [
    "### 11866 요세푸스 문제 0"
   ]
  },
  {
   "cell_type": "code",
   "execution_count": 15,
   "id": "0a3a1670",
   "metadata": {},
   "outputs": [
    {
     "name": "stdout",
     "output_type": "stream",
     "text": [
      "7 3\n",
      "<3, 6, 2, 7, 5, 1, 4>\n"
     ]
    }
   ],
   "source": [
    "from collections import deque\n",
    "\n",
    "N, k = map(int, (input().split()))\n",
    "\n",
    "L = deque([x for x in range(1, N+1)])\n",
    "y = []\n",
    "cnt = 0\n",
    "\n",
    "while L:\n",
    "    if cnt == k-1:\n",
    "        y.append(L.popleft())\n",
    "        cnt = 0\n",
    "        continue\n",
    "    L.append(L.popleft())\n",
    "    cnt += 1\n",
    "\n",
    "print('<'+', '.join(map(str, y))+'>')"
   ]
  },
  {
   "cell_type": "markdown",
   "id": "90021f09",
   "metadata": {},
   "source": [
    "### 1966 프린터 큐"
   ]
  },
  {
   "cell_type": "markdown",
   "id": "52c8601e",
   "metadata": {},
   "source": [
    "* 로직\n",
    "\n",
    "1. 리스트 a : 입력받는 우선순위 리스트\n",
    "2. 리스트 idx : 0 ~ n-1까지를 원소로 갖는 인덱스 배열\n",
    "\n",
    "만약 a[idx[0]] == max(a): idx ++, q.append(idx)\n",
    "else: idx.append(idx)"
   ]
  },
  {
   "cell_type": "code",
   "execution_count": null,
   "id": "47581674",
   "metadata": {},
   "outputs": [],
   "source": [
    "from sys import stdin\n",
    "\n",
    "t = int(input())\n",
    "for _ in range(t):\n",
    "    N, m = map(int, stdin.readline().rstrip().split())\n",
    "    a = list(map(int, stdin.readline().rstrip().split()))\n",
    "    idx = [x for x in range(N)]\n",
    "    queue = []\n",
    "    while idx:\n",
    "        tmp = idx.pop(0)\n",
    "        maxNum = max(a)\n",
    "        if a[tmp] == maxNum:\n",
    "            queue.append(tmp)\n",
    "            a[tmp] = -1\n",
    "            continue\n",
    "        idx.append(tmp)\n",
    "    print(queue.index(m) + 1)"
   ]
  },
  {
   "cell_type": "markdown",
   "id": "dfb9b2ee",
   "metadata": {},
   "source": [
    "### 10866 덱"
   ]
  },
  {
   "cell_type": "code",
   "execution_count": 23,
   "id": "0c30987e",
   "metadata": {},
   "outputs": [
    {
     "ename": "ValueError",
     "evalue": "invalid literal for int() with base 10: ''",
     "output_type": "error",
     "traceback": [
      "\u001b[0;31m---------------------------------------------------------------------------\u001b[0m",
      "\u001b[0;31mValueError\u001b[0m                                Traceback (most recent call last)",
      "Input \u001b[0;32mIn [23]\u001b[0m, in \u001b[0;36m<cell line: 8>\u001b[0;34m()\u001b[0m\n\u001b[1;32m      4\u001b[0m queue \u001b[38;5;241m=\u001b[39m deque([])\n\u001b[1;32m      6\u001b[0m N \u001b[38;5;241m=\u001b[39m stdin\u001b[38;5;241m.\u001b[39mreadline()\u001b[38;5;241m.\u001b[39mrstrip()\n\u001b[0;32m----> 8\u001b[0m \u001b[38;5;28;01mfor\u001b[39;00m _ \u001b[38;5;129;01min\u001b[39;00m \u001b[38;5;28mrange\u001b[39m(\u001b[38;5;28;43mint\u001b[39;49m\u001b[43m(\u001b[49m\u001b[43mN\u001b[49m\u001b[43m)\u001b[49m):\n\u001b[1;32m      9\u001b[0m     tmp \u001b[38;5;241m=\u001b[39m stdin\u001b[38;5;241m.\u001b[39mreadline()\u001b[38;5;241m.\u001b[39mrstrip()\n\u001b[1;32m     10\u001b[0m     \u001b[38;5;28;01mtry\u001b[39;00m:\n",
      "\u001b[0;31mValueError\u001b[0m: invalid literal for int() with base 10: ''"
     ]
    }
   ],
   "source": [
    "from collections import deque\n",
    "from sys import stdin\n",
    "\n",
    "queue = deque([])\n",
    "\n",
    "N = stdin.readline().rstrip()\n",
    "\n",
    "for _ in range(int(N)):\n",
    "    tmp = stdin.readline().rstrip()\n",
    "    try:\n",
    "        com, val = tmp.split()\n",
    "    except ValueError:\n",
    "        com = tmp\n",
    "    \n",
    "    if com == 'push_front':\n",
    "        queue.appendleft(val)\n",
    "        \n",
    "    elif com == 'push_back':\n",
    "        queue.append(val)\n",
    "    \n",
    "    elif com == 'pop_front':\n",
    "        try:\n",
    "            print(queue.popleft())\n",
    "        except IndexError:\n",
    "            print(-1)\n",
    "            \n",
    "    elif com == 'pop_back':\n",
    "        try:\n",
    "            print(queue.pop())\n",
    "        except IndexError:\n",
    "            print(-1)\n",
    "    \n",
    "    elif com == 'size':\n",
    "        print(len(queue))\n",
    "    \n",
    "    elif com == 'empty':\n",
    "        if not queue:\n",
    "            print(1)\n",
    "            continue\n",
    "        print(0)\n",
    "    \n",
    "    elif com == 'front':\n",
    "        if not queue:\n",
    "            print(-1)\n",
    "            continue\n",
    "        print(queue[0])\n",
    "    \n",
    "    elif com == 'back':\n",
    "        if not queue:\n",
    "            print(-1)\n",
    "            continue\n",
    "        print(queue[len(queue) - 1])"
   ]
  },
  {
   "cell_type": "code",
   "execution_count": null,
   "id": "f76e17d4",
   "metadata": {},
   "outputs": [],
   "source": []
  }
 ],
 "metadata": {
  "kernelspec": {
   "display_name": "Python 3 (ipykernel)",
   "language": "python",
   "name": "python3"
  },
  "language_info": {
   "codemirror_mode": {
    "name": "ipython",
    "version": 3
   },
   "file_extension": ".py",
   "mimetype": "text/x-python",
   "name": "python",
   "nbconvert_exporter": "python",
   "pygments_lexer": "ipython3",
   "version": "3.10.3"
  }
 },
 "nbformat": 4,
 "nbformat_minor": 5
}
