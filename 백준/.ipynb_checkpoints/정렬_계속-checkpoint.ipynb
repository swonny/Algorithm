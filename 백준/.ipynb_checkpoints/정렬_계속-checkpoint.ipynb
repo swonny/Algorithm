{
 "cells": [
  {
   "cell_type": "markdown",
   "id": "a48e5326",
   "metadata": {},
   "source": [
    "# 정렬 (계속)"
   ]
  },
  {
   "cell_type": "markdown",
   "id": "67baf16d",
   "metadata": {},
   "source": [
    "### 1427 소트 인사이트"
   ]
  },
  {
   "cell_type": "code",
   "execution_count": 6,
   "id": "3fc81dfb",
   "metadata": {},
   "outputs": [
    {
     "name": "stdout",
     "output_type": "stream",
     "text": [
      "500613009\n",
      "965310000\n"
     ]
    }
   ],
   "source": [
    "N = list(map(int, input()))\n",
    "print(''.join(map(str, sorted(N, reverse=True))))"
   ]
  },
  {
   "cell_type": "markdown",
   "id": "7d8c23ca",
   "metadata": {},
   "source": [
    "### 18870 좌표 압축"
   ]
  },
  {
   "cell_type": "markdown",
   "id": "a5df7e45",
   "metadata": {},
   "source": [
    "자기 자신보다 작은 원소의 개수 세기 (중복해서 세지 않음)\n"
   ]
  },
  {
   "cell_type": "code",
   "execution_count": 34,
   "id": "e6c7f989",
   "metadata": {},
   "outputs": [
    {
     "name": "stdout",
     "output_type": "stream",
     "text": [
      "6\n",
      "1000 999 1000 999 1000 999\n",
      "1 0 1 0 1 0 "
     ]
    }
   ],
   "source": [
    "n = int(input())\n",
    "x = list(map(int, input().split()))\n",
    "setX = sorted(set(x))\n",
    "dictX = dict()\n",
    "for i in range(len(setX)):\n",
    "    dictX[setX[i]] = i\n",
    "for t in x:\n",
    "    print(dictX[t], end=' ')"
   ]
  },
  {
   "cell_type": "code",
   "execution_count": 35,
   "id": "d0b0eed0",
   "metadata": {},
   "outputs": [
    {
     "name": "stdout",
     "output_type": "stream",
     "text": [
      "0 999\n",
      "1 1000\n"
     ]
    }
   ],
   "source": [
    "for i, j in enumerate(setX):\n",
    "    dictX[j] = i"
   ]
  },
  {
   "cell_type": "code",
   "execution_count": 36,
   "id": "61a19467",
   "metadata": {},
   "outputs": [
    {
     "name": "stdout",
     "output_type": "stream",
     "text": [
      "5\n",
      "1 1 1 2 3 4\n",
      "0 0 0 1 2 3 "
     ]
    }
   ],
   "source": [
    "n = int(input())\n",
    "x = list(map(int, input().split()))\n",
    "setX = sorted(set(x))\n",
    "dictX = {j : i for i, j in enumerate(setX)}\n",
    "for t in x:\n",
    "    print(dictX[t], end=' ')"
   ]
  },
  {
   "cell_type": "markdown",
   "id": "4b0b7b7c",
   "metadata": {},
   "source": [
    "### 11650 좌표 정렬하기"
   ]
  },
  {
   "cell_type": "code",
   "execution_count": null,
   "id": "fa4e408e",
   "metadata": {},
   "outputs": [],
   "source": [
    "from sys import stdin\n",
    "\n",
    "n = int(input())\n",
    "x = []\n",
    "for i in range(n):\n",
    "    tmp = tuple(map(int, stdin.readline().split()))\n",
    "    x.append(tmp)\n",
    "x = sorted(x)\n",
    "for t in x:\n",
    "    print(f'{t[0]} {t[1]}')"
   ]
  },
  {
   "cell_type": "markdown",
   "id": "349e9ab1",
   "metadata": {},
   "source": [
    "### 11651 좌표 정렬하기2"
   ]
  },
  {
   "cell_type": "code",
   "execution_count": null,
   "id": "e6e78b60",
   "metadata": {},
   "outputs": [],
   "source": [
    "from sys import stdin\n",
    "\n",
    "n = int(input())\n",
    "x = [tuple(map(int, stdin.readline().split())) for i in range(n)]\n",
    "x = sorted(x, key=lambda x: (x[1], x[0]))\n",
    "for t in x:\n",
    "    print(f'{t[0]} {t[1]}')"
   ]
  },
  {
   "cell_type": "markdown",
   "id": "0c152ac9",
   "metadata": {},
   "source": [
    "### 1181 단어 정렬"
   ]
  },
  {
   "cell_type": "code",
   "execution_count": null,
   "id": "210da50e",
   "metadata": {},
   "outputs": [],
   "source": [
    "from sys import stdin\n",
    "\n",
    "n = int(input())\n",
    "words = set([stdin.readline().rstrip() for _ in range(n)])\n",
    "sWords = sorted(words, key=lambda x: (len(x), x))\n",
    "print('\\n'.join(sWords))"
   ]
  },
  {
   "cell_type": "markdown",
   "id": "3518123d",
   "metadata": {},
   "source": [
    "### 10814 나이순 정렬"
   ]
  },
  {
   "cell_type": "code",
   "execution_count": null,
   "id": "6edef5d7",
   "metadata": {},
   "outputs": [],
   "source": [
    "from sys import stdin\n",
    "\n",
    "n = int(input())\n",
    "users = [stdin.readline().split()+[i] for i in range(n)]\n",
    "# users = [(int(age), name, i) for i, (age, name) in enumerate(users)]\n",
    "users = sorted(users, key=lambda x: (x[0], x[2]))\n",
    "\n",
    "for i in range(n):\n",
    "    print(f'{users[i][0]} {users[i][1]}')"
   ]
  },
  {
   "cell_type": "markdown",
   "id": "7dd247b1",
   "metadata": {},
   "source": [
    "### 10989 수 정렬하기3 (메모리 관련 이슈 해결 필요)"
   ]
  },
  {
   "cell_type": "code",
   "execution_count": 65,
   "id": "9b69452b",
   "metadata": {
    "scrolled": true
   },
   "outputs": [
    {
     "name": "stdout",
     "output_type": "stream",
     "text": [
      "10\n",
      "5\n",
      "2\n",
      "3\n",
      "1\n",
      "4\n",
      "2\n",
      "3\n",
      "5\n",
      "1\n",
      "7\n",
      "1\n",
      "1\n",
      "2\n",
      "2\n",
      "3\n",
      "3\n",
      "4\n",
      "5\n",
      "5\n",
      "7\n"
     ]
    }
   ],
   "source": [
    "from sys import stdin\n",
    "\n",
    "input = stdin.readline\n",
    "n = int(input())\n",
    "num = dict()\n",
    "for _ in range(n):\n",
    "    key = int(input())\n",
    "    if key in num:\n",
    "        num[key] += 1\n",
    "    else:\n",
    "        num[key] = 1\n",
    "num = sorted(num.items())\n",
    "for (n, c) in num:\n",
    "    print((str(n) + '\\n') * c, end='')"
   ]
  },
  {
   "cell_type": "code",
   "execution_count": null,
   "id": "669b5f84",
   "metadata": {},
   "outputs": [],
   "source": [
    "2\n",
    "3\n",
    "1\n",
    "4\n",
    "2\n",
    "3\n",
    "5\n",
    "1\n",
    "7"
   ]
  },
  {
   "cell_type": "markdown",
   "id": "b14b1c3b",
   "metadata": {},
   "source": [
    "# 25305 커트라인"
   ]
  },
  {
   "cell_type": "code",
   "execution_count": 44,
   "id": "bf10b298",
   "metadata": {},
   "outputs": [
    {
     "name": "stdout",
     "output_type": "stream",
     "text": [
      "5 2\n",
      "100 76 85 93 98\n",
      "98\n"
     ]
    }
   ],
   "source": [
    "n, c = map(int, input().split())\n",
    "score = list(map(int, input().split()))\n",
    "score = sorted(score, reverse=True)\n",
    "print(score[c - 1])"
   ]
  }
 ],
 "metadata": {
  "kernelspec": {
   "display_name": "Python 3 (ipykernel)",
   "language": "python",
   "name": "python3"
  },
  "language_info": {
   "codemirror_mode": {
    "name": "ipython",
    "version": 3
   },
   "file_extension": ".py",
   "mimetype": "text/x-python",
   "name": "python",
   "nbconvert_exporter": "python",
   "pygments_lexer": "ipython3",
   "version": "3.10.3"
  }
 },
 "nbformat": 4,
 "nbformat_minor": 5
}
