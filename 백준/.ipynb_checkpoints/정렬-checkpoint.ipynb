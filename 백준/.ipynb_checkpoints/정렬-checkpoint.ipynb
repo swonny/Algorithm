{
 "cells": [
  {
   "cell_type": "markdown",
   "id": "5faa75fe",
   "metadata": {},
   "source": [
    "### 2751 수 정렬하기"
   ]
  },
  {
   "cell_type": "code",
   "execution_count": 40,
   "id": "10ee4c04",
   "metadata": {},
   "outputs": [
    {
     "name": "stdout",
     "output_type": "stream",
     "text": [
      "5\n",
      "-1\n",
      "-2\n",
      "-3\n",
      "-2\n",
      "-1\n",
      "-2\n",
      "-2\n",
      "rIdx : 0, i : 4\n",
      "[-1, -1, -2, -2, -3] [-3, -2, -2, -1, -1]\n",
      "rIdx : 0, i : 3\n",
      "[-1, -1, -2, -2, -3] [-3, -2, -2, -1, -1]\n",
      "rIdx : 2, i : 2\n",
      "[-1, -1, -2, -2, -3] [-3, -2, -2, -1, -1]\n",
      "rIdx : 2, i : 1\n",
      "[-1, -1, -2, -2, -3] [-3, -2, -2, -1, -1]\n",
      "rIdx : 4, i : 0\n",
      "[-1, -1, -2, -2, -3] [-3, -2, -2, -1, -1]\n",
      "2\n"
     ]
    }
   ],
   "source": [
    "n = int(input())\n",
    "num = sorted([int(input()) for _ in range(n)])\n",
    "print(round(sum(num)/len(num))) # 평균\n",
    "print(num[n//2]) # 중앙값\n",
    "# 최빈값\n",
    "def mode():\n",
    "    rnum = num[::-1]\n",
    "    biggest = 0\n",
    "    cnt = 0\n",
    "    for j in range(n):\n",
    "        i = n - 1 - j\n",
    "        rIdx = rnum.index(num[i])\n",
    "        print(f'rIdx : {rIdx}, i : {i}')\n",
    "        if i != (n - 1 - rIdx):\n",
    "            tmp = i - (n - 1 - j)\n",
    "            if tmp > cnt:\n",
    "                cnt = tmp\n",
    "            elif tmp < cnt:\n",
    "                rnum.remove(rnum[j])\n",
    "        print(rnum, num)\n",
    "#             cnt = cnt if cnt >= tmp else tmp\n",
    "#             biggest = biggest if biggest >\n",
    "\n",
    "mode()\n",
    "print(max(num) - min(num)) # 범위"
   ]
  },
  {
   "cell_type": "code",
   "execution_count": 52,
   "id": "dc24f642",
   "metadata": {
    "scrolled": true
   },
   "outputs": [
    {
     "name": "stdout",
     "output_type": "stream",
     "text": [
      "5\n",
      "-1\n",
      "-2\n",
      "-3\n",
      "-2\n",
      "-1\n",
      "[-3, -2, -2, -1, -1]\n",
      "1 -2\n",
      "[-2]\n",
      "[-2]\n",
      "2 -1\n",
      "[-1]\n",
      "[-1]\n"
     ]
    }
   ],
   "source": [
    "n = int(input())\n",
    "num = sorted([int(input()) for _ in range(n)])\n",
    "print(num)\n",
    "def mode():\n",
    "    stk = []\n",
    "    cnt = 0\n",
    "    prev = num[0]\n",
    "    tmp = 1\n",
    "    for i in range(1, n):\n",
    "        if prev == num[i]:\n",
    "            tmp += 1\n",
    "        else:\n",
    "            print(tmp, num[i])\n",
    "            if tmp > cnt:\n",
    "                cnt = tmp\n",
    "                tmp = 1\n",
    "                while stk:\n",
    "                    stk.pop()\n",
    "                stk.append(num[i])\n",
    "            elif tmp == cnt:\n",
    "                stk.append(num[i])\n",
    "        prev = num[i]\n",
    "        print(stk)\n",
    "            \n",
    "#     print(stk[0] if len(stk) < 1 else stk[])\n",
    "mode()"
   ]
  },
  {
   "cell_type": "code",
   "execution_count": 65,
   "id": "689f3609",
   "metadata": {},
   "outputs": [],
   "source": [
    "sorted?"
   ]
  },
  {
   "cell_type": "code",
   "execution_count": null,
   "id": "7587ba75",
   "metadata": {},
   "outputs": [],
   "source": [
    "# 성공코드 (주피터 실행 안됨)\n",
    "\n",
    "from collections import Counter\n",
    "from sys import stdin\n",
    "\n",
    "input = stdin.readline\n",
    "n = int(input())\n",
    "num = sorted([int(input()) for _ in range(n)])\n",
    "\n",
    "print(round(sum(num)/len(num))) # 평균\n",
    "print(num[n//2]) # 중앙값\n",
    "tmp = Counter(num)\n",
    "tmp = tmp.items()\n",
    "tmp = sorted(tmp, key=lambda x: (-x[1], x[0]))\n",
    "if n == 1 or tmp[0][1] > tmp[1][1]:\n",
    "    print(tmp[0][0])\n",
    "else:\n",
    "    print(tmp[1][0])\n",
    "print(max(num) - min(num)) # 범위"
   ]
  },
  {
   "cell_type": "markdown",
   "id": "24cbfce8",
   "metadata": {},
   "source": [
    "### 1427 소트인사이트"
   ]
  },
  {
   "cell_type": "code",
   "execution_count": 76,
   "id": "42148132",
   "metadata": {},
   "outputs": [
    {
     "name": "stdout",
     "output_type": "stream",
     "text": [
      "<map object at 0x1120e2530>\n"
     ]
    }
   ],
   "source": [
    "N = map(int, input())\n",
    "print(N)"
   ]
  },
  {
   "cell_type": "code",
   "execution_count": null,
   "id": "e957e492",
   "metadata": {},
   "outputs": [],
   "source": []
  }
 ],
 "metadata": {
  "kernelspec": {
   "display_name": "Python 3 (ipykernel)",
   "language": "python",
   "name": "python3"
  },
  "language_info": {
   "codemirror_mode": {
    "name": "ipython",
    "version": 3
   },
   "file_extension": ".py",
   "mimetype": "text/x-python",
   "name": "python",
   "nbconvert_exporter": "python",
   "pygments_lexer": "ipython3",
   "version": "3.10.3"
  }
 },
 "nbformat": 4,
 "nbformat_minor": 5
}
