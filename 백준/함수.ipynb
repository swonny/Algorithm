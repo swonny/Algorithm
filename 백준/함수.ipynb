{
 "cells": [
  {
   "cell_type": "markdown",
   "id": "00819d0f",
   "metadata": {},
   "source": [
    "### 15596 정수 N개의 합"
   ]
  },
  {
   "cell_type": "code",
   "execution_count": 1,
   "id": "6288f8d0",
   "metadata": {},
   "outputs": [],
   "source": [
    "def solve(a: list) -> int:\n",
    "    return sum(a)"
   ]
  },
  {
   "cell_type": "markdown",
   "id": "ca3fcab0",
   "metadata": {},
   "source": [
    "\n",
    "210\n",
    "222\n",
    "234\n",
    "246\n",
    "258\n",
    "\n",
    "321\n",
    "333\n",
    "345\n",
    "357\n",
    "369\n"
   ]
  },
  {
   "cell_type": "markdown",
   "id": "8ae0e18b",
   "metadata": {},
   "source": [
    "### 1065 한 수\n",
    "\n",
    "한수 : 어떤 정수 x의 각 자리가 등차수열을 이루는 수\n",
    "1 ~ N 사이의 값 중 한 수의 개수 출력\n",
    "\n",
    "10의 자리수까지는 모두 한수\n",
    "\n",
    "111\n",
    "123\n",
    "135\n",
    "147\n",
    "159\n",
    "\n",
    "999\n",
    "987\n",
    "975\n",
    "963\n",
    "951\n",
    "\n",
    "1111\n",
    "1234\n",
    "1357\n",
    "1468\n",
    "1579\n",
    "\n",
    "\n",
    "\n",
    "1 ~ N까지의 수 중 한수\n",
    "\n",
    "100의 자리수부터 \n",
    "\n",
    "\n",
    "5개씩만 존재? 왜?"
   ]
  },
  {
   "cell_type": "code",
   "execution_count": null,
   "id": "e60a7cfe",
   "metadata": {},
   "outputs": [],
   "source": [
    "def self_number(N):\n",
    "    if N < 100:\n",
    "        return N\n",
    "    cnt = 99\n",
    "    \n",
    "    "
   ]
  },
  {
   "cell_type": "markdown",
   "id": "3df5ce6c",
   "metadata": {},
   "source": [
    "### 4673 셀프 넘버"
   ]
  },
  {
   "cell_type": "markdown",
   "id": "2f18cfc4",
   "metadata": {},
   "source": []
  }
 ],
 "metadata": {
  "kernelspec": {
   "display_name": "Python 3 (ipykernel)",
   "language": "python",
   "name": "python3"
  },
  "language_info": {
   "codemirror_mode": {
    "name": "ipython",
    "version": 3
   },
   "file_extension": ".py",
   "mimetype": "text/x-python",
   "name": "python",
   "nbconvert_exporter": "python",
   "pygments_lexer": "ipython3",
   "version": "3.10.3"
  }
 },
 "nbformat": 4,
 "nbformat_minor": 5
}
