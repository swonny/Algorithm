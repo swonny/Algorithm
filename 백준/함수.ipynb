{
 "cells": [
  {
   "cell_type": "markdown",
   "id": "00819d0f",
   "metadata": {},
   "source": [
    "### 15596 정수 N개의 합"
   ]
  },
  {
   "cell_type": "code",
   "execution_count": null,
   "id": "6288f8d0",
   "metadata": {},
   "outputs": [],
   "source": [
    "def solve(a: list) -> int:\n",
    "    return sum(a)\n",
    "    "
   ]
  }
 ],
 "metadata": {
  "kernelspec": {
   "display_name": "Python 3 (ipykernel)",
   "language": "python",
   "name": "python3"
  },
  "language_info": {
   "codemirror_mode": {
    "name": "ipython",
    "version": 3
   },
   "file_extension": ".py",
   "mimetype": "text/x-python",
   "name": "python",
   "nbconvert_exporter": "python",
   "pygments_lexer": "ipython3",
   "version": "3.10.3"
  }
 },
 "nbformat": 4,
 "nbformat_minor": 5
}
