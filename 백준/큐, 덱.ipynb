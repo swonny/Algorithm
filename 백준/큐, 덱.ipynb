{
 "cells": [
  {
   "cell_type": "markdown",
   "id": "07a10b8d",
   "metadata": {},
   "source": [
    "새롭게 알게된 것\n",
    "\n",
    "```python\n",
    "# 양 끝을 input단에서 없애는 방법\n",
    "t = list(map(int,stdin.readline().rstrip()[1:-1].split(',')))\n",
    "```"
   ]
  },
  {
   "cell_type": "markdown",
   "id": "66e56173",
   "metadata": {},
   "source": [
    "# 큐, 덱"
   ]
  },
  {
   "cell_type": "markdown",
   "id": "b353e919",
   "metadata": {},
   "source": [
    "### 18258 큐2"
   ]
  },
  {
   "cell_type": "code",
   "execution_count": 12,
   "id": "119a7f86",
   "metadata": {},
   "outputs": [
    {
     "name": "stdout",
     "output_type": "stream",
     "text": [
      "\n"
     ]
    }
   ],
   "source": [
    "from collections import deque\n",
    "from sys import stdin\n",
    "\n",
    "queue = deque([])\n",
    "\n",
    "N = stdin.readline().rstrip()\n",
    "\n",
    "for _ in range(int(N)):\n",
    "    tmp = stdin.readline().rstrip()\n",
    "    try:\n",
    "        com, val = tmp.split()\n",
    "    except ValueError:\n",
    "        com = tmp\n",
    "\n",
    "    if com == 'push':\n",
    "        queue.append(val)\n",
    "    \n",
    "    elif com == 'pop':\n",
    "        try:\n",
    "            print(queue.popleft())\n",
    "        except IndexError:\n",
    "            print(-1)\n",
    "    \n",
    "    elif com == 'size':\n",
    "        print(len(queue))\n",
    "    \n",
    "    elif com == 'empty':\n",
    "        if not queue:\n",
    "            print(1)\n",
    "            continue\n",
    "        print(0)\n",
    "    \n",
    "    elif com == 'front':\n",
    "        if not queue:\n",
    "            print(-1)\n",
    "            continue\n",
    "        print(queue[0])\n",
    "    \n",
    "    elif com == 'back':\n",
    "        if not queue:\n",
    "            print(-1)\n",
    "            continue\n",
    "        print(queue[len(queue) - 1])\n",
    "        "
   ]
  },
  {
   "cell_type": "markdown",
   "id": "1e47a2d5",
   "metadata": {},
   "source": [
    "### 2164 카드 2"
   ]
  },
  {
   "cell_type": "code",
   "execution_count": 14,
   "id": "3b448eef",
   "metadata": {},
   "outputs": [
    {
     "name": "stdout",
     "output_type": "stream",
     "text": [
      "6\n",
      "4\n"
     ]
    }
   ],
   "source": [
    "from collections import deque\n",
    "\n",
    "N = int(input())\n",
    "queue = deque([x for x in range(1, N + 1)])\n",
    "\n",
    "while len(queue) > 1:\n",
    "    queue.popleft()\n",
    "    tmp = queue.popleft()\n",
    "    queue.append(tmp)\n",
    "    \n",
    "print(queue[0])"
   ]
  },
  {
   "cell_type": "markdown",
   "id": "da44039b",
   "metadata": {},
   "source": [
    "### 11866 요세푸스 문제 0"
   ]
  },
  {
   "cell_type": "code",
   "execution_count": 15,
   "id": "0a3a1670",
   "metadata": {},
   "outputs": [
    {
     "name": "stdout",
     "output_type": "stream",
     "text": [
      "7 3\n",
      "<3, 6, 2, 7, 5, 1, 4>\n"
     ]
    }
   ],
   "source": [
    "from collections import deque\n",
    "\n",
    "N, k = map(int, (input().split()))\n",
    "\n",
    "L = deque([x for x in range(1, N+1)])\n",
    "y = []\n",
    "cnt = 0\n",
    "\n",
    "while L:\n",
    "    if cnt == k-1:\n",
    "        y.append(L.popleft())\n",
    "        cnt = 0\n",
    "        continue\n",
    "    L.append(L.popleft())\n",
    "    cnt += 1\n",
    "\n",
    "print('<'+', '.join(map(str, y))+'>')"
   ]
  },
  {
   "cell_type": "markdown",
   "id": "90021f09",
   "metadata": {},
   "source": [
    "### 1966 프린터 큐"
   ]
  },
  {
   "cell_type": "markdown",
   "id": "52c8601e",
   "metadata": {},
   "source": [
    "* 로직\n",
    "\n",
    "1. 리스트 a : 입력받는 우선순위 리스트\n",
    "2. 리스트 idx : 0 ~ n-1까지를 원소로 갖는 인덱스 배열\n",
    "\n",
    "만약 a[idx[0]] == max(a): idx ++, q.append(idx)\n",
    "else: idx.append(idx)"
   ]
  },
  {
   "cell_type": "code",
   "execution_count": null,
   "id": "47581674",
   "metadata": {},
   "outputs": [],
   "source": [
    "from sys import stdin\n",
    "\n",
    "t = int(input())\n",
    "for _ in range(t):\n",
    "    N, m = map(int, stdin.readline().rstrip().split())\n",
    "    a = list(map(int, stdin.readline().rstrip().split()))\n",
    "    idx = [x for x in range(N)]\n",
    "    queue = []\n",
    "    while idx:\n",
    "        tmp = idx.pop(0)\n",
    "        maxNum = max(a)\n",
    "        if a[tmp] == maxNum:\n",
    "            queue.append(tmp)\n",
    "            a[tmp] = -1\n",
    "            continue\n",
    "        idx.append(tmp)\n",
    "    print(queue.index(m) + 1)"
   ]
  },
  {
   "cell_type": "markdown",
   "id": "dfb9b2ee",
   "metadata": {},
   "source": [
    "### 10866 덱"
   ]
  },
  {
   "cell_type": "code",
   "execution_count": 23,
   "id": "0c30987e",
   "metadata": {},
   "outputs": [
    {
     "ename": "ValueError",
     "evalue": "invalid literal for int() with base 10: ''",
     "output_type": "error",
     "traceback": [
      "\u001b[0;31m---------------------------------------------------------------------------\u001b[0m",
      "\u001b[0;31mValueError\u001b[0m                                Traceback (most recent call last)",
      "Input \u001b[0;32mIn [23]\u001b[0m, in \u001b[0;36m<cell line: 8>\u001b[0;34m()\u001b[0m\n\u001b[1;32m      4\u001b[0m queue \u001b[38;5;241m=\u001b[39m deque([])\n\u001b[1;32m      6\u001b[0m N \u001b[38;5;241m=\u001b[39m stdin\u001b[38;5;241m.\u001b[39mreadline()\u001b[38;5;241m.\u001b[39mrstrip()\n\u001b[0;32m----> 8\u001b[0m \u001b[38;5;28;01mfor\u001b[39;00m _ \u001b[38;5;129;01min\u001b[39;00m \u001b[38;5;28mrange\u001b[39m(\u001b[38;5;28;43mint\u001b[39;49m\u001b[43m(\u001b[49m\u001b[43mN\u001b[49m\u001b[43m)\u001b[49m):\n\u001b[1;32m      9\u001b[0m     tmp \u001b[38;5;241m=\u001b[39m stdin\u001b[38;5;241m.\u001b[39mreadline()\u001b[38;5;241m.\u001b[39mrstrip()\n\u001b[1;32m     10\u001b[0m     \u001b[38;5;28;01mtry\u001b[39;00m:\n",
      "\u001b[0;31mValueError\u001b[0m: invalid literal for int() with base 10: ''"
     ]
    }
   ],
   "source": [
    "from collections import deque\n",
    "from sys import stdin\n",
    "\n",
    "queue = deque([])\n",
    "\n",
    "N = stdin.readline().rstrip()\n",
    "\n",
    "for _ in range(int(N)):\n",
    "    tmp = stdin.readline().rstrip()\n",
    "    try:\n",
    "        com, val = tmp.split()\n",
    "    except ValueError:\n",
    "        com = tmp\n",
    "    \n",
    "    if com == 'push_front':\n",
    "        queue.appendleft(val)\n",
    "        \n",
    "    elif com == 'push_back':\n",
    "        queue.append(val)\n",
    "    \n",
    "    elif com == 'pop_front':\n",
    "        try:\n",
    "            print(queue.popleft())\n",
    "        except IndexError:\n",
    "            print(-1)\n",
    "            \n",
    "    elif com == 'pop_back':\n",
    "        try:\n",
    "            print(queue.pop())\n",
    "        except IndexError:\n",
    "            print(-1)\n",
    "    \n",
    "    elif com == 'size':\n",
    "        print(len(queue))\n",
    "    \n",
    "    elif com == 'empty':\n",
    "        if not queue:\n",
    "            print(1)\n",
    "            continue\n",
    "        print(0)\n",
    "    \n",
    "    elif com == 'front':\n",
    "        if not queue:\n",
    "            print(-1)\n",
    "            continue\n",
    "        print(queue[0])\n",
    "    \n",
    "    elif com == 'back':\n",
    "        if not queue:\n",
    "            print(-1)\n",
    "            continue\n",
    "        print(queue[len(queue) - 1])"
   ]
  },
  {
   "cell_type": "markdown",
   "id": "288a6a32",
   "metadata": {},
   "source": [
    "### 5430 AC"
   ]
  },
  {
   "cell_type": "markdown",
   "id": "90eb5352",
   "metadata": {},
   "source": [
    "알고리즘\n",
    "\n",
    "- R이 연속해서 두 번 있으면 원래대로 되돌려 놓은 것과 같다. 따라서 'RR' 문자열을 삭제하였다.\n",
    "    - <span style='background-color: pink'>\n",
    "    시간초과가 났던 이유!<br/>\n",
    "    문자열을 찾는 시간 복잡도가 최소 $O(n^2)$이기 때문이다.\n",
    "</span>\n",
    "- 남은 R을 기준으로 split하여 각 원소에는 D가 n개 포함되어 있도록 리스트화 하였다. 이 리스트로 for문을 돌리면 한 번 for문이 돌 때마다 reverse를 한 번씩 해줘야 함을 의미하고, D 개수만큼 popleft()하면 된다는 것을 의미한다.\n",
    "- 즉, 배열의 앞 원소 n개를 삭제하면 남는 인덱스는 D의 개수만큼이므로 ```arr[n:]```와 같이 슬라이스하면 된다."
   ]
  },
  {
   "cell_type": "code",
   "execution_count": null,
   "id": "d5bb6267",
   "metadata": {},
   "outputs": [],
   "source": [
    "# 시간 초과\n",
    "\n",
    "from sys import stdin\n",
    "from collections import deque\n",
    " \n",
    "t = int(stdin.readline().rstrip())\n",
    "for _ in range(t):\n",
    "    p = stdin.readline().rstrip().replace('RR', '') # RR이면 그대로니까 삭제\n",
    "    p = p.split('R') # R로 나눠서 reverse 시점으로 나누기\n",
    "    n = int(stdin.readline().rstrip())\n",
    "    arr = list(stdin.readline().rstrip())\n",
    "    arr = arr[1:-1]\n",
    "    try:\n",
    "        arr = list(map(int, ''.join(arr).split(',')))\n",
    "    except ValueError:\n",
    "        print('error')\n",
    "        continue\n",
    "\n",
    "    pLen = len(p)\n",
    "    for i in range(pLen):\n",
    "        willDelete = len(p[i])\n",
    "        if willDelete > n:\n",
    "            arr = 'error'\n",
    "            break\n",
    "        arr = arr[willDelete:]\n",
    "        if i == pLen - 1 and p[i] != '':\n",
    "            break\n",
    "        arr = arr[::-1]\n",
    "    \n",
    "    if arr == 'error':\n",
    "        print(arr)\n",
    "    else:\n",
    "        print('[', end='')\n",
    "        print(','.join(map(str, arr)), end='')\n",
    "        print(']')"
   ]
  },
  {
   "cell_type": "markdown",
   "id": "9387c2e5",
   "metadata": {},
   "source": [
    "개선 알고리즘\n",
    "\n",
    "- reverse를 하는 함수라고 해서 실제로 reverse를 해야하는 것은 아니다! 배열의 앞 뒤를 바꿔 생각할 수만 있다면 그렇게 하면 된다.\n",
    "- eval() 함수를 사용할 수 있다."
   ]
  },
  {
   "cell_type": "code",
   "execution_count": 1,
   "id": "03f54a72",
   "metadata": {},
   "outputs": [
    {
     "ename": "ValueError",
     "evalue": "invalid literal for int() with base 10: ''",
     "output_type": "error",
     "traceback": [
      "\u001b[0;31m---------------------------------------------------------------------------\u001b[0m",
      "\u001b[0;31mValueError\u001b[0m                                Traceback (most recent call last)",
      "Input \u001b[0;32mIn [1]\u001b[0m, in \u001b[0;36m<cell line: 6>\u001b[0;34m()\u001b[0m\n\u001b[1;32m      3\u001b[0m \u001b[38;5;28;01mfrom\u001b[39;00m \u001b[38;5;21;01msys\u001b[39;00m \u001b[38;5;28;01mimport\u001b[39;00m stdin\n\u001b[1;32m      4\u001b[0m \u001b[38;5;28;01mfrom\u001b[39;00m \u001b[38;5;21;01mcollections\u001b[39;00m \u001b[38;5;28;01mimport\u001b[39;00m deque\n\u001b[0;32m----> 6\u001b[0m t \u001b[38;5;241m=\u001b[39m \u001b[38;5;28;43mint\u001b[39;49m\u001b[43m(\u001b[49m\u001b[43mstdin\u001b[49m\u001b[38;5;241;43m.\u001b[39;49m\u001b[43mreadline\u001b[49m\u001b[43m(\u001b[49m\u001b[43m)\u001b[49m\u001b[38;5;241;43m.\u001b[39;49m\u001b[43mrstrip\u001b[49m\u001b[43m(\u001b[49m\u001b[43m)\u001b[49m\u001b[43m)\u001b[49m\n\u001b[1;32m      7\u001b[0m \u001b[38;5;28;01mfor\u001b[39;00m _ \u001b[38;5;129;01min\u001b[39;00m \u001b[38;5;28mrange\u001b[39m(t):\n\u001b[1;32m      8\u001b[0m     p \u001b[38;5;241m=\u001b[39m stdin\u001b[38;5;241m.\u001b[39mreadline()\u001b[38;5;241m.\u001b[39mrstrip()\n",
      "\u001b[0;31mValueError\u001b[0m: invalid literal for int() with base 10: ''"
     ]
    }
   ],
   "source": [
    "# 성공\n",
    "\n",
    "from sys import stdin\n",
    "from collections import deque\n",
    " \n",
    "t = int(stdin.readline().rstrip())\n",
    "for _ in range(t):\n",
    "    p = stdin.readline().rstrip()\n",
    "    n = int(stdin.readline().rstrip())\n",
    "    arr = list(stdin.readline().rstrip())\n",
    "    arr = deque(arr[1:-1])\n",
    "    if arr:\n",
    "        arr = deque(list(map(int, ''.join(arr).split(','))))\n",
    "\n",
    "    flag = 0\n",
    "    for comm in p:\n",
    "        if comm == 'R':\n",
    "            flag = 0 if flag else 1\n",
    "        else:\n",
    "            try:\n",
    "                if flag:\n",
    "                    arr.pop()\n",
    "                else:\n",
    "                    arr.popleft()\n",
    "            except IndexError:\n",
    "                arr = 'error'\n",
    "                break\n",
    "    \n",
    "    if arr == 'error':\n",
    "        print(arr)\n",
    "    else:\n",
    "        if flag:\n",
    "            arr.reverse()\n",
    "        print('[' + ','.join(map(str, arr)) + ']')"
   ]
  },
  {
   "cell_type": "markdown",
   "id": "7a0a581e",
   "metadata": {},
   "source": [
    "### 1021 회전하는 큐"
   ]
  },
  {
   "cell_type": "markdown",
   "id": "262129eb",
   "metadata": {},
   "source": [
    "배열의 개수, 뽑으려고 하는 원소 개수\n",
    "\n",
    "뽑으려는 원소 위치 (1부터 시작)\n",
    "\n",
    "오른쪽으로 몇 번 이동했는지, 왼쪽으로 몇 번 이동했는지"
   ]
  },
  {
   "cell_type": "code",
   "execution_count": 3,
   "id": "7fa7c728",
   "metadata": {},
   "outputs": [
    {
     "name": "stdout",
     "output_type": "stream",
     "text": [
      "1 3\n",
      "1 3\n"
     ]
    }
   ],
   "source": [
    "N,M = map(int, input().split())\n"
   ]
  },
  {
   "cell_type": "code",
   "execution_count": null,
   "id": "b8419328",
   "metadata": {},
   "outputs": [],
   "source": []
  }
 ],
 "metadata": {
  "kernelspec": {
   "display_name": "Python 3 (ipykernel)",
   "language": "python",
   "name": "python3"
  },
  "language_info": {
   "codemirror_mode": {
    "name": "ipython",
    "version": 3
   },
   "file_extension": ".py",
   "mimetype": "text/x-python",
   "name": "python",
   "nbconvert_exporter": "python",
   "pygments_lexer": "ipython3",
   "version": "3.10.3"
  },
  "vscode": {
   "interpreter": {
    "hash": "aee8b7b246df8f9039afb4144a1f6fd8d2ca17a180786b69acc140d282b71a49"
   }
  }
 },
 "nbformat": 4,
 "nbformat_minor": 5
}
