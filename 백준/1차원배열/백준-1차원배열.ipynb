{
 "cells": [
  {
   "cell_type": "markdown",
   "id": "2420ed7b",
   "metadata": {},
   "source": [
    "# 1차원 배열"
   ]
  },
  {
   "cell_type": "markdown",
   "id": "2a38e472",
   "metadata": {},
   "source": [
    "### 10818 최소, 최대"
   ]
  },
  {
   "cell_type": "code",
   "execution_count": 26,
   "id": "07890533",
   "metadata": {},
   "outputs": [
    {
     "name": "stdout",
     "output_type": "stream",
     "text": [
      "3\n",
      "1 2 3\n",
      "1 3\n"
     ]
    }
   ],
   "source": [
    "n = int(input())\n",
    "a = list(map(int, input().split(' ')))\n",
    "\n",
    "print(min(a), max(a))\n",
    "\n",
    "# 다른 코드 참고\n",
    "# import sys\n",
    "\n",
    "# _, *A = map(int, sys.stdin.buffer.read().split())\n",
    "# print(min(A), max(A))"
   ]
  },
  {
   "cell_type": "markdown",
   "id": "017e6fa6",
   "metadata": {},
   "source": [
    "### map() 함수\n",
    "map() 함수는 이터러블 객체의 요소들에 모두 특정함수를 적용한 값을 반환하는 함수이다. 이 map() 함수에 list() 함수를 씌우면, 변환된 요소를 리스트로 만들어준다.<br/>\n",
    "```a = list(map(str, range(10))```와 같이 나타낼 수 있다.\n",
    "\n",
    "- map()이 반환하는 객체는 이터레이터이므로 언패킹이 가능하다. 따라서 다음과 같이 나타낼 수 있다.\n",
    "```python\n",
    "a, b = map(int, input().split())\n",
    "```"
   ]
  },
  {
   "cell_type": "markdown",
   "id": "2c29d28c",
   "metadata": {},
   "source": [
    "### 2562 최댓값"
   ]
  },
  {
   "cell_type": "code",
   "execution_count": 32,
   "id": "54e87973",
   "metadata": {
    "scrolled": true
   },
   "outputs": [
    {
     "name": "stdout",
     "output_type": "stream",
     "text": [
      "1\n",
      "2\n",
      "3\n",
      "4\n",
      "5\n",
      "6\n",
      "7\n",
      "8\n",
      "9\n",
      "9\n",
      "9\n"
     ]
    }
   ],
   "source": [
    "a = [int(input()) for _ in range(9)]\n",
    "print(max(a))\n",
    "print(a.index(max(a))+1)"
   ]
  },
  {
   "cell_type": "markdown",
   "id": "bdf13bf9",
   "metadata": {},
   "source": [
    "### 2577 숫자의 개수"
   ]
  },
  {
   "cell_type": "code",
   "execution_count": 38,
   "id": "5546ba9a",
   "metadata": {
    "scrolled": true
   },
   "outputs": [
    {
     "name": "stdout",
     "output_type": "stream",
     "text": [
      "123\n",
      "143\n",
      "124\n",
      "2\n",
      "1\n",
      "1\n",
      "0\n",
      "0\n",
      "1\n",
      "0\n",
      "1\n",
      "0\n"
     ]
    }
   ],
   "source": [
    "a = [int(input()) for _ in range(3)]\n",
    "res = list(map(int, str(a[0]*a[1]*a[2])))\n",
    "\n",
    "for i in range(0, 10):\n",
    "    print(res.count(i))"
   ]
  },
  {
   "cell_type": "markdown",
   "id": "754b94bd",
   "metadata": {},
   "source": [
    "### 3052 나머지"
   ]
  },
  {
   "cell_type": "code",
   "execution_count": 45,
   "id": "d2582f1e",
   "metadata": {
    "scrolled": false
   },
   "outputs": [
    {
     "name": "stdout",
     "output_type": "stream",
     "text": [
      "1\n",
      "2\n",
      "3\n",
      "4\n",
      "5\n",
      "6\n",
      "7\n",
      "8\n",
      "9\n",
      "10\n",
      "10\n"
     ]
    }
   ],
   "source": [
    "a = [int(input()) % 42 for _ in range(10)]\n",
    "\n",
    "print(len(set(a)))"
   ]
  },
  {
   "cell_type": "markdown",
   "id": "7e3146e8",
   "metadata": {},
   "source": [
    "### 1546 평균"
   ]
  },
  {
   "cell_type": "code",
   "execution_count": 51,
   "id": "c2deaf5e",
   "metadata": {},
   "outputs": [
    {
     "name": "stdout",
     "output_type": "stream",
     "text": [
      "4\n",
      "10 20 0 100\n",
      "32.5\n"
     ]
    }
   ],
   "source": [
    "n = int(input())\n",
    "sc = list(map(int, input().split()))\n",
    "mS = max(sc)\n",
    "\n",
    "res = [(n/mS*100) for n in sc]\n",
    "print(sum(res)/n)"
   ]
  },
  {
   "cell_type": "markdown",
   "id": "b3e7930a",
   "metadata": {},
   "source": [
    "### 8958 OX퀴즈"
   ]
  },
  {
   "cell_type": "code",
   "execution_count": 116,
   "id": "7b6d9033",
   "metadata": {
    "scrolled": true
   },
   "outputs": [
    {
     "name": "stdout",
     "output_type": "stream",
     "text": [
      "0\n"
     ]
    }
   ],
   "source": [
    "t = int(input())\n",
    "sum = 0\n",
    "res = 0\n",
    "for _ in range(t):\n",
    "    a = list(input())\n",
    "    for idx,v in enumerate(a):\n",
    "        if v == 'O':\n",
    "            sum += 1\n",
    "            res += sum\n",
    "        else:\n",
    "            sum = 0\n",
    "    print(res)\n",
    "    sum = 0\n",
    "    res = 0\n",
    "\n",
    "del sum # sum은 예약어이므로 사용하지 말자"
   ]
  },
  {
   "cell_type": "markdown",
   "id": "cc4db37f",
   "metadata": {},
   "source": [
    "### 4344 평균"
   ]
  },
  {
   "cell_type": "code",
   "execution_count": 29,
   "id": "f62a3825",
   "metadata": {},
   "outputs": [
    {
     "name": "stdout",
     "output_type": "stream",
     "text": [
      "1\n",
      "1 100\n",
      "0.000%\n"
     ]
    }
   ],
   "source": [
    "t = int(input())\n",
    "\n",
    "for _ in range(t):\n",
    "    sc = list(map(int, input().split()))\n",
    "    avg = sum(sc[1:len(sc)])/(len(sc)-1)\n",
    "    print(avg)\n",
    "    res = [n for n in sc if n > avg]\n",
    "    print(format(len(res)/(len(sc)-1)*100, '.3f'), end='%\\n')"
   ]
  },
  {
   "cell_type": "code",
   "execution_count": null,
   "id": "05cfc60a",
   "metadata": {},
   "outputs": [],
   "source": []
  }
 ],
 "metadata": {
  "kernelspec": {
   "display_name": "Python 3 (ipykernel)",
   "language": "python",
   "name": "python3"
  },
  "language_info": {
   "codemirror_mode": {
    "name": "ipython",
    "version": 3
   },
   "file_extension": ".py",
   "mimetype": "text/x-python",
   "name": "python",
   "nbconvert_exporter": "python",
   "pygments_lexer": "ipython3",
   "version": "3.10.3"
  }
 },
 "nbformat": 4,
 "nbformat_minor": 5
}
